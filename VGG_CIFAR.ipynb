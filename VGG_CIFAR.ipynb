{
  "nbformat": 4,
  "nbformat_minor": 0,
  "metadata": {
    "kernelspec": {
      "display_name": "Python 3",
      "language": "python",
      "name": "python3"
    },
    "language_info": {
      "codemirror_mode": {
        "name": "ipython",
        "version": 3
      },
      "file_extension": ".py",
      "mimetype": "text/x-python",
      "name": "python",
      "nbconvert_exporter": "python",
      "pygments_lexer": "ipython3",
      "version": "3.8.6"
    },
    "colab": {
      "name": "VGG_CIFAR.ipynb",
      "provenance": [],
      "collapsed_sections": [],
      "toc_visible": true
    }
  },
  "cells": [
    {
      "cell_type": "code",
      "metadata": {
        "id": "H1RyMkFIotUy"
      },
      "source": [
        "import torch\n",
        "import torch.nn as nn\n",
        "import torch.optim as optim\n",
        "\n",
        "import torchvision.transforms as transforms\n",
        "import torchvision.datasets as datasets\n",
        "\n",
        "import random\n",
        "import time\n",
        "\n",
        "import matplotlib.pyplot as plt\n",
        "import numpy as np"
      ],
      "execution_count": null,
      "outputs": []
    },
    {
      "cell_type": "code",
      "metadata": {
        "id": "qSFsbmA1otU8"
      },
      "source": [
        "SEED = 1234\n",
        "\n",
        "random.seed(SEED)\n",
        "np.random.seed(SEED)\n",
        "torch.manual_seed(SEED)\n",
        "torch.cuda.manual_seed(SEED)\n",
        "torch.backends.cudnn.deterministic = True"
      ],
      "execution_count": null,
      "outputs": []
    },
    {
      "cell_type": "code",
      "metadata": {
        "id": "WXpyiHQeotU9",
        "outputId": "d1b0842c-758d-4076-e9a9-846eb7f7ecf8"
      },
      "source": [
        "#Downloading the CIFAR 10 dataset \n",
        "train_data = datasets.CIFAR10(root = 'data', \n",
        "                              train = True, \n",
        "                              download = True)\n",
        "#Calculating means and standard deviations for train_data\n",
        "means = np.array(train_data.data).mean(axis = (0,1,2)) / 255\n",
        "stds = np.array(train_data.data).std(axis = (0,1,2)) / 255\n",
        "\n",
        "print(f'Calculated means: {means}')\n",
        "print(f'Calculated stds: {stds}')"
      ],
      "execution_count": null,
      "outputs": [
        {
          "output_type": "stream",
          "text": [
            "Files already downloaded and verified\n",
            "Calculated means: [0.49139968 0.48215841 0.44653091]\n",
            "Calculated stds: [0.24703223 0.24348513 0.26158784]\n"
          ],
          "name": "stdout"
        }
      ]
    },
    {
      "cell_type": "code",
      "metadata": {
        "id": "JHN-FWUXotU-"
      },
      "source": [
        "#Using torchvisions.transforms for common image transformations \n",
        "transform = transforms.Compose([transforms.Resize((50)),\n",
        "                                transforms.ToTensor(),\n",
        "                                transforms.Normalize((0.5,),(0.5,))])"
      ],
      "execution_count": null,
      "outputs": []
    },
    {
      "cell_type": "code",
      "metadata": {
        "id": "-1RwJJ9XotU_",
        "outputId": "515069ea-7a2c-4c9c-9292-f2537ba1ffe9"
      },
      "source": [
        "# applying the transformations on train and test data\n",
        "train_data = datasets.CIFAR10('data', \n",
        "                              train = True, \n",
        "                              download = True, \n",
        "                              transform = transform)\n",
        "\n",
        "test_data = datasets.CIFAR10('data', \n",
        "                             train = False, \n",
        "                             download = True, \n",
        "                             transform = transform)"
      ],
      "execution_count": null,
      "outputs": [
        {
          "output_type": "stream",
          "text": [
            "Files already downloaded and verified\n",
            "Files already downloaded and verified\n"
          ],
          "name": "stdout"
        }
      ]
    },
    {
      "cell_type": "code",
      "metadata": {
        "id": "zg5BEccDotU_"
      },
      "source": [
        "#splitting into train and validation data\n",
        "n_train_examples = int(len(train_data)*0.9)\n",
        "n_valid_examples = len(train_data) - n_train_examples\n",
        "\n",
        "data_train, valid_data = torch.utils.data.random_split(train_data, \n",
        "                                                       [n_train_examples, n_valid_examples])"
      ],
      "execution_count": null,
      "outputs": []
    },
    {
      "cell_type": "code",
      "metadata": {
        "id": "cCuT5Ft3otVA",
        "outputId": "9789efe6-9d1a-4a54-e5db-b90ef1cf3717"
      },
      "source": [
        "print(f'Number of training examples: {len(train_data)}')\n",
        "print(f'Number of validation examples: {len(valid_data)}')\n",
        "print(f'Number of testing examples: {len(test_data)}')"
      ],
      "execution_count": null,
      "outputs": [
        {
          "output_type": "stream",
          "text": [
            "Number of training examples: 50000\n",
            "Number of validation examples: 5000\n",
            "Number of testing examples: 10000\n"
          ],
          "name": "stdout"
        }
      ]
    },
    {
      "cell_type": "code",
      "metadata": {
        "id": "gAy1_IHdotVA"
      },
      "source": [
        "BATCH_SIZE = 64\n",
        "\n",
        "#dataloader to access images in the dataset\n",
        "train_iterator = torch.utils.data.DataLoader(data_train, \n",
        "                                             shuffle = True, \n",
        "                                             batch_size = BATCH_SIZE)\n",
        "\n",
        "valid_iterator = torch.utils.data.DataLoader(valid_data, \n",
        "                                             batch_size = BATCH_SIZE)\n",
        "\n",
        "test_iterator = torch.utils.data.DataLoader(test_data, \n",
        "                                            batch_size = BATCH_SIZE)"
      ],
      "execution_count": null,
      "outputs": []
    },
    {
      "cell_type": "code",
      "metadata": {
        "id": "RCWzqY1IotVB"
      },
      "source": [
        "class VGGBlock(nn.Module):\n",
        "    def __init__(self, in_channels, out_channels, batch_norm):\n",
        "        super().__init__()\n",
        "        \n",
        "        modules = []\n",
        "        modules.append(nn.Conv2d(in_channels, out_channels, kernel_size=3, padding=1))\n",
        "        if batch_norm:\n",
        "            modules.append(nn.BatchNorm2d(out_channels))\n",
        "        modules.append(nn.ReLU(inplace=True))\n",
        "    \n",
        "        self.block = nn.Sequential(*modules)\n",
        "    \n",
        "    def forward(self, x):\n",
        "        return self.block(x)"
      ],
      "execution_count": null,
      "outputs": []
    },
    {
      "cell_type": "code",
      "metadata": {
        "id": "6uqoAFUuotVB"
      },
      "source": [
        "class VGG11(nn.Module):\n",
        "    def __init__(self, output_dim, block, pool, batch_norm):\n",
        "        super().__init__()\n",
        "        \n",
        "        self.features = nn.Sequential(\n",
        "            block(3, 64, batch_norm), #in_channels, out_channels\n",
        "            pool(2, 2), #kernel_size, stride\n",
        "            block(64, 128, batch_norm),\n",
        "            pool(2, 2),\n",
        "            block(128, 256, batch_norm),\n",
        "            block(256, 256, batch_norm),\n",
        "            pool(2, 2),\n",
        "            block(256, 512, batch_norm),\n",
        "            block(512, 512, batch_norm),\n",
        "            pool(2, 2),\n",
        "            block(512, 512, batch_norm),\n",
        "            block(512, 512, batch_norm),\n",
        "            pool(2, 2),\n",
        "        )\n",
        "        \n",
        "        self.classifier = nn.Linear(512, output_dim)\n",
        "\n",
        "    def forward(self, x):\n",
        "        x = self.features(x)\n",
        "        x = x.view(x.shape[0], -1)\n",
        "        x = self.classifier(x)\n",
        "        return x"
      ],
      "execution_count": null,
      "outputs": []
    },
    {
      "cell_type": "code",
      "metadata": {
        "id": "OjZ3KMcVotVC"
      },
      "source": [
        "class VGG16(nn.Module):\n",
        "    def __init__(self, output_dim, block, pool, batch_norm):\n",
        "        super().__init__()\n",
        "        \n",
        "        self.features = nn.Sequential(\n",
        "            block(3, 64, batch_norm),\n",
        "            block(64, 64, batch_norm),\n",
        "            pool(2, 2),\n",
        "            block(64, 128, batch_norm),\n",
        "            block(128, 128, batch_norm),\n",
        "            pool(2, 2),\n",
        "            block(128, 256, batch_norm),\n",
        "            block(256, 256, batch_norm),\n",
        "            block(256, 256, batch_norm),\n",
        "            pool(2, 2),\n",
        "            block(256, 512, batch_norm),\n",
        "            block(512, 512, batch_norm),\n",
        "            block(512, 512, batch_norm),\n",
        "            pool(2, 2),\n",
        "            block(512, 512, batch_norm),\n",
        "            block(512, 512, batch_norm),\n",
        "            block(512, 512, batch_norm),\n",
        "            pool(2, 2),\n",
        "        )\n",
        "        \n",
        "        self.classifier = nn.Linear(512, output_dim)\n",
        "\n",
        "    def forward(self, x):\n",
        "        x = self.features(x)\n",
        "        x = x.view(x.shape[0], -1)\n",
        "        x = self.classifier(x)\n",
        "        return x"
      ],
      "execution_count": null,
      "outputs": []
    },
    {
      "cell_type": "code",
      "metadata": {
        "id": "d9fdWgxzotVD"
      },
      "source": [
        "class VGG19(nn.Module):\n",
        "    def __init__(self, output_dim, block, pool, batch_norm):\n",
        "        super().__init__()\n",
        "        \n",
        "        self.features = nn.Sequential(\n",
        "            block(3, 64, batch_norm),\n",
        "            block(64, 64, batch_norm),\n",
        "            pool(2, 2),\n",
        "            block(64, 128, batch_norm),\n",
        "            block(128, 128, batch_norm),\n",
        "            pool(2, 2),\n",
        "            block(128, 256, batch_norm),\n",
        "            block(256, 256, batch_norm),\n",
        "            block(256, 256, batch_norm),\n",
        "            block(256, 256, batch_norm),\n",
        "            pool(2, 2),\n",
        "            block(256, 512, batch_norm),\n",
        "            block(512, 512, batch_norm),\n",
        "            block(512, 512, batch_norm),\n",
        "            block(512, 512, batch_norm),\n",
        "            pool(2, 2),\n",
        "            block(512, 512, batch_norm),\n",
        "            block(512, 512, batch_norm),\n",
        "            block(512, 512, batch_norm),\n",
        "            block(512, 512, batch_norm),\n",
        "            pool(2, 2),\n",
        "        )\n",
        "        \n",
        "        self.classifier = nn.Linear(512, output_dim)\n",
        "\n",
        "    def forward(self, x):\n",
        "        x = self.features(x)\n",
        "        x = x.view(x.shape[0], -1)\n",
        "        x = self.classifier(x)\n",
        "        return x"
      ],
      "execution_count": null,
      "outputs": []
    },
    {
      "cell_type": "code",
      "metadata": {
        "id": "XsToEfP6otVD"
      },
      "source": [
        "OUTPUT_DIM = 10\n",
        "BATCH_NORM = True\n",
        "\n",
        "vgg11_model = VGG11(OUTPUT_DIM, VGGBlock, nn.MaxPool2d, BATCH_NORM) \n",
        "vgg16_model = VGG16(OUTPUT_DIM, VGGBlock, nn.MaxPool2d, BATCH_NORM) \n",
        "vgg19_model = VGG19(OUTPUT_DIM, VGGBlock, nn.MaxPool2d, BATCH_NORM) "
      ],
      "execution_count": null,
      "outputs": []
    },
    {
      "cell_type": "code",
      "metadata": {
        "id": "4w-pnApXotVE",
        "outputId": "2eebe1dd-97d7-4956-a331-9cfaa6a943e2"
      },
      "source": [
        "def count_parameters(model):\n",
        "    return sum(p.numel() for p in model.parameters() if p.requires_grad)\n",
        "\n",
        "print(f'VGG11 has {count_parameters(vgg11_model):,} trainable parameters')\n"
      ],
      "execution_count": null,
      "outputs": [
        {
          "output_type": "stream",
          "text": [
            "VGG11 has 9,231,114 trainable parameters\n"
          ],
          "name": "stdout"
        }
      ]
    },
    {
      "cell_type": "markdown",
      "metadata": {
        "id": "Y9l3eDDipIzz"
      },
      "source": [
        "##  VGG 11"
      ]
    },
    {
      "cell_type": "code",
      "metadata": {
        "id": "YMNvWugKotVE"
      },
      "source": [
        "#defining the model\n",
        "model = VGG11(OUTPUT_DIM, VGGBlock, nn.MaxPool2d, BATCH_NORM) "
      ],
      "execution_count": null,
      "outputs": []
    },
    {
      "cell_type": "code",
      "metadata": {
        "id": "jE865K2potVE",
        "outputId": "3389e853-0678-446b-9a80-6c1d72c8e733"
      },
      "source": [
        "model"
      ],
      "execution_count": null,
      "outputs": [
        {
          "output_type": "execute_result",
          "data": {
            "text/plain": [
              "VGG11(\n",
              "  (features): Sequential(\n",
              "    (0): VGGBlock(\n",
              "      (block): Sequential(\n",
              "        (0): Conv2d(3, 64, kernel_size=(3, 3), stride=(1, 1), padding=(1, 1))\n",
              "        (1): BatchNorm2d(64, eps=1e-05, momentum=0.1, affine=True, track_running_stats=True)\n",
              "        (2): ReLU(inplace=True)\n",
              "      )\n",
              "    )\n",
              "    (1): MaxPool2d(kernel_size=2, stride=2, padding=0, dilation=1, ceil_mode=False)\n",
              "    (2): VGGBlock(\n",
              "      (block): Sequential(\n",
              "        (0): Conv2d(64, 128, kernel_size=(3, 3), stride=(1, 1), padding=(1, 1))\n",
              "        (1): BatchNorm2d(128, eps=1e-05, momentum=0.1, affine=True, track_running_stats=True)\n",
              "        (2): ReLU(inplace=True)\n",
              "      )\n",
              "    )\n",
              "    (3): MaxPool2d(kernel_size=2, stride=2, padding=0, dilation=1, ceil_mode=False)\n",
              "    (4): VGGBlock(\n",
              "      (block): Sequential(\n",
              "        (0): Conv2d(128, 256, kernel_size=(3, 3), stride=(1, 1), padding=(1, 1))\n",
              "        (1): BatchNorm2d(256, eps=1e-05, momentum=0.1, affine=True, track_running_stats=True)\n",
              "        (2): ReLU(inplace=True)\n",
              "      )\n",
              "    )\n",
              "    (5): VGGBlock(\n",
              "      (block): Sequential(\n",
              "        (0): Conv2d(256, 256, kernel_size=(3, 3), stride=(1, 1), padding=(1, 1))\n",
              "        (1): BatchNorm2d(256, eps=1e-05, momentum=0.1, affine=True, track_running_stats=True)\n",
              "        (2): ReLU(inplace=True)\n",
              "      )\n",
              "    )\n",
              "    (6): MaxPool2d(kernel_size=2, stride=2, padding=0, dilation=1, ceil_mode=False)\n",
              "    (7): VGGBlock(\n",
              "      (block): Sequential(\n",
              "        (0): Conv2d(256, 512, kernel_size=(3, 3), stride=(1, 1), padding=(1, 1))\n",
              "        (1): BatchNorm2d(512, eps=1e-05, momentum=0.1, affine=True, track_running_stats=True)\n",
              "        (2): ReLU(inplace=True)\n",
              "      )\n",
              "    )\n",
              "    (8): VGGBlock(\n",
              "      (block): Sequential(\n",
              "        (0): Conv2d(512, 512, kernel_size=(3, 3), stride=(1, 1), padding=(1, 1))\n",
              "        (1): BatchNorm2d(512, eps=1e-05, momentum=0.1, affine=True, track_running_stats=True)\n",
              "        (2): ReLU(inplace=True)\n",
              "      )\n",
              "    )\n",
              "    (9): MaxPool2d(kernel_size=2, stride=2, padding=0, dilation=1, ceil_mode=False)\n",
              "    (10): VGGBlock(\n",
              "      (block): Sequential(\n",
              "        (0): Conv2d(512, 512, kernel_size=(3, 3), stride=(1, 1), padding=(1, 1))\n",
              "        (1): BatchNorm2d(512, eps=1e-05, momentum=0.1, affine=True, track_running_stats=True)\n",
              "        (2): ReLU(inplace=True)\n",
              "      )\n",
              "    )\n",
              "    (11): VGGBlock(\n",
              "      (block): Sequential(\n",
              "        (0): Conv2d(512, 512, kernel_size=(3, 3), stride=(1, 1), padding=(1, 1))\n",
              "        (1): BatchNorm2d(512, eps=1e-05, momentum=0.1, affine=True, track_running_stats=True)\n",
              "        (2): ReLU(inplace=True)\n",
              "      )\n",
              "    )\n",
              "    (12): MaxPool2d(kernel_size=2, stride=2, padding=0, dilation=1, ceil_mode=False)\n",
              "  )\n",
              "  (classifier): Linear(in_features=512, out_features=10, bias=True)\n",
              ")"
            ]
          },
          "metadata": {
            "tags": []
          },
          "execution_count": 16
        }
      ]
    },
    {
      "cell_type": "code",
      "metadata": {
        "id": "5wBcceaWotVF"
      },
      "source": [
        "#initialising adam optimzer with  low learning rate\n",
        "optimizer = optim.Adam(model.parameters())"
      ],
      "execution_count": null,
      "outputs": []
    },
    {
      "cell_type": "code",
      "metadata": {
        "id": "9ih1-LJBotVF"
      },
      "source": [
        "#using cross entropy as loss function\n",
        "criterion = nn.CrossEntropyLoss()"
      ],
      "execution_count": null,
      "outputs": []
    },
    {
      "cell_type": "code",
      "metadata": {
        "id": "iV1iKvDLotVF"
      },
      "source": [
        "device = torch.device('cuda' if torch.cuda.is_available() else 'cpu')"
      ],
      "execution_count": null,
      "outputs": []
    },
    {
      "cell_type": "code",
      "metadata": {
        "id": "hQu5TpNOotVG"
      },
      "source": [
        "#placing the model and loss function on device\n",
        "model = model.to(device)\n",
        "criterion = criterion.to(device)"
      ],
      "execution_count": null,
      "outputs": []
    },
    {
      "cell_type": "code",
      "metadata": {
        "id": "gvt0V6irotVG"
      },
      "source": [
        "# calculating accuracy\n",
        "def calculate_accuracy(fx, y):\n",
        "    preds = fx.argmax(1, keepdim=True)\n",
        "    correct = preds.eq(y.view_as(preds)).sum()\n",
        "    acc = correct.float()/preds.shape[0]\n",
        "    return acc"
      ],
      "execution_count": null,
      "outputs": []
    },
    {
      "cell_type": "code",
      "metadata": {
        "id": "ToZXRC4UotVG"
      },
      "source": [
        "def train(model, iterator, optimizer, criterion, device):\n",
        "    \n",
        "    epoch_loss = 0\n",
        "    epoch_acc = 0\n",
        "      #training the model\n",
        "    model.train()\n",
        "    \n",
        "    for (x, y) in iterator:\n",
        "        #x has batch of images\n",
        "      # y has labels for the batch of images\n",
        "      # moving x and y to device\n",
        "        x = x.to(device)\n",
        "        y = y.to(device)\n",
        "        #setting the gradients of all parameters to zero\n",
        "\n",
        "        optimizer.zero_grad()\n",
        "                \n",
        "        fx = model(x)\n",
        "         #caclulating loss\n",
        "        loss = criterion(fx, y)\n",
        "         #accuracy is computed\n",
        "        acc = calculate_accuracy(fx, y)\n",
        "         # back propogating the loss\n",
        "        loss.backward()\n",
        "           #updating the optimizer\n",
        "        optimizer.step()\n",
        "        \n",
        "        epoch_loss += loss.item()\n",
        "        epoch_acc += acc.item()\n",
        "        \n",
        "    return epoch_loss / len(iterator), epoch_acc / len(iterator)"
      ],
      "execution_count": null,
      "outputs": []
    },
    {
      "cell_type": "code",
      "metadata": {
        "id": "DHA2S2v_otVG"
      },
      "source": [
        "def evaluate(model, iterator, criterion, device):\n",
        "    \n",
        "    epoch_loss = 0\n",
        "    epoch_acc = 0\n",
        "    \n",
        "    model.eval()\n",
        "    \n",
        "    with torch.no_grad():\n",
        "       #x has batch of images\n",
        "      # y has labels for the batch of images\n",
        "        # moving x and y to device\n",
        "        for (x, y) in iterator:\n",
        "\n",
        "            x = x.to(device)\n",
        "            y = y.to(device)\n",
        "\n",
        "            fx = model(x)\n",
        "            #caclulating loss\n",
        "            loss = criterion(fx, y)\n",
        "             #accuracy is computed\n",
        "            acc = calculate_accuracy(fx, y)\n",
        "\n",
        "            epoch_loss += loss.item()\n",
        "            epoch_acc += acc.item()\n",
        "        \n",
        "    return epoch_loss / len(iterator), epoch_acc / len(iterator)"
      ],
      "execution_count": null,
      "outputs": []
    },
    {
      "cell_type": "code",
      "metadata": {
        "id": "mGxF0AYcotVH"
      },
      "source": [
        "def epoch_time(start_time, end_time):\n",
        "    elapsed_time = end_time - start_time\n",
        "    elapsed_mins = int(elapsed_time / 60)\n",
        "    elapsed_secs = int(elapsed_time - (elapsed_mins * 60))\n",
        "    return elapsed_mins, elapsed_secs"
      ],
      "execution_count": null,
      "outputs": []
    },
    {
      "cell_type": "code",
      "metadata": {
        "id": "ctNQV1geotVH"
      },
      "source": [
        "#creating empty lists for storing loss and accuracy values while training\n",
        "train_losses = []\n",
        "valid_losses = []\n",
        "train_accuracy = []\n",
        "valid_accuracy = []"
      ],
      "execution_count": null,
      "outputs": []
    },
    {
      "cell_type": "code",
      "metadata": {
        "id": "ziUwwZKDotVH",
        "outputId": "9e7d5dd6-6276-401f-ded3-7cc433d62b49"
      },
      "source": [
        "EPOCHS = 50\n",
        "\n",
        "\n",
        "\n",
        "best_valid_loss = float('inf')\n",
        "\n",
        "for epoch in range(EPOCHS):\n",
        "    \n",
        "    start_time = time.time()\n",
        "    \n",
        "    train_loss, train_acc = train(model, train_iterator, optimizer, criterion, device)\n",
        "    valid_loss, valid_acc = evaluate(model, valid_iterator, criterion, device)\n",
        "    \n",
        "    if valid_loss < best_valid_loss:\n",
        "        best_valid_loss = valid_loss\n",
        "        torch.save(model.state_dict(), 'tut5-model.pt')\n",
        "    \n",
        "    end_time = time.time()\n",
        "    # storing the loss for each epoch\n",
        "    train_losses.append(train_loss)\n",
        "    valid_losses.append(valid_loss)\n",
        "    # storing the accuracy for each epoch\n",
        "    train_accuracy.append(train_acc)\n",
        "    valid_accuracy.append(valid_acc)\n",
        "\n",
        "    epoch_mins, epoch_secs = epoch_time(start_time, end_time)\n",
        "    \n",
        "    t = time.localtime()\n",
        "\n",
        "    timestamp = time.strftime('%Y-%m-%d %H:%M:%S', t)\n",
        "    print(timestamp)\n",
        "    print(f'Epoch: {epoch+1:02} | Epoch Time: {epoch_mins}m {epoch_secs}s')\n",
        "    print(f'\\tTrain Loss: {train_loss:.3f} | Train Acc: {train_acc*100:.2f}%')\n",
        "    print(f'\\t Val. Loss: {valid_loss:.3f} |  Val. Acc: {valid_acc*100:.2f}%')"
      ],
      "execution_count": null,
      "outputs": [
        {
          "output_type": "stream",
          "text": [
            "2021-05-14 22:09:00\n",
            "Epoch: 01 | Epoch Time: 0m 34s\n",
            "\tTrain Loss: 1.343 | Train Acc: 51.16%\n",
            "\t Val. Loss: 1.165 |  Val. Acc: 60.28%\n",
            "2021-05-14 22:09:34\n",
            "Epoch: 02 | Epoch Time: 0m 34s\n",
            "\tTrain Loss: 0.839 | Train Acc: 70.59%\n",
            "\t Val. Loss: 0.836 |  Val. Acc: 71.32%\n",
            "2021-05-14 22:10:09\n",
            "Epoch: 03 | Epoch Time: 0m 35s\n",
            "\tTrain Loss: 0.639 | Train Acc: 77.71%\n",
            "\t Val. Loss: 0.737 |  Val. Acc: 73.77%\n",
            "2021-05-14 22:10:44\n",
            "Epoch: 04 | Epoch Time: 0m 34s\n",
            "\tTrain Loss: 0.520 | Train Acc: 81.85%\n",
            "\t Val. Loss: 0.647 |  Val. Acc: 78.20%\n",
            "2021-05-14 22:11:18\n",
            "Epoch: 05 | Epoch Time: 0m 34s\n",
            "\tTrain Loss: 0.410 | Train Acc: 85.59%\n",
            "\t Val. Loss: 0.597 |  Val. Acc: 81.09%\n",
            "2021-05-14 22:11:52\n",
            "Epoch: 06 | Epoch Time: 0m 34s\n",
            "\tTrain Loss: 0.324 | Train Acc: 88.71%\n",
            "\t Val. Loss: 0.642 |  Val. Acc: 78.96%\n",
            "2021-05-14 22:12:26\n",
            "Epoch: 07 | Epoch Time: 0m 33s\n",
            "\tTrain Loss: 0.245 | Train Acc: 91.41%\n",
            "\t Val. Loss: 0.737 |  Val. Acc: 79.00%\n",
            "2021-05-14 22:13:02\n",
            "Epoch: 08 | Epoch Time: 0m 35s\n",
            "\tTrain Loss: 0.183 | Train Acc: 93.66%\n",
            "\t Val. Loss: 0.593 |  Val. Acc: 83.07%\n",
            "2021-05-14 22:13:36\n",
            "Epoch: 09 | Epoch Time: 0m 33s\n",
            "\tTrain Loss: 0.134 | Train Acc: 95.33%\n",
            "\t Val. Loss: 0.704 |  Val. Acc: 80.81%\n",
            "2021-05-14 22:14:10\n",
            "Epoch: 10 | Epoch Time: 0m 34s\n",
            "\tTrain Loss: 0.110 | Train Acc: 96.01%\n",
            "\t Val. Loss: 0.766 |  Val. Acc: 81.37%\n",
            "2021-05-14 22:14:44\n",
            "Epoch: 11 | Epoch Time: 0m 33s\n",
            "\tTrain Loss: 0.086 | Train Acc: 96.97%\n",
            "\t Val. Loss: 0.674 |  Val. Acc: 83.25%\n",
            "2021-05-14 22:15:18\n",
            "Epoch: 12 | Epoch Time: 0m 34s\n",
            "\tTrain Loss: 0.073 | Train Acc: 97.43%\n",
            "\t Val. Loss: 1.398 |  Val. Acc: 73.28%\n",
            "2021-05-14 22:15:52\n",
            "Epoch: 13 | Epoch Time: 0m 34s\n",
            "\tTrain Loss: 0.071 | Train Acc: 97.46%\n",
            "\t Val. Loss: 0.776 |  Val. Acc: 83.33%\n",
            "2021-05-14 22:16:27\n",
            "Epoch: 14 | Epoch Time: 0m 34s\n",
            "\tTrain Loss: 0.054 | Train Acc: 98.10%\n",
            "\t Val. Loss: 0.766 |  Val. Acc: 82.50%\n",
            "2021-05-14 22:17:00\n",
            "Epoch: 15 | Epoch Time: 0m 33s\n",
            "\tTrain Loss: 0.055 | Train Acc: 98.15%\n",
            "\t Val. Loss: 0.743 |  Val. Acc: 83.82%\n",
            "2021-05-14 22:17:34\n",
            "Epoch: 16 | Epoch Time: 0m 33s\n",
            "\tTrain Loss: 0.047 | Train Acc: 98.36%\n",
            "\t Val. Loss: 0.926 |  Val. Acc: 81.84%\n",
            "2021-05-14 22:18:09\n",
            "Epoch: 17 | Epoch Time: 0m 34s\n",
            "\tTrain Loss: 0.049 | Train Acc: 98.29%\n",
            "\t Val. Loss: 0.833 |  Val. Acc: 83.54%\n",
            "2021-05-14 22:18:43\n",
            "Epoch: 18 | Epoch Time: 0m 34s\n",
            "\tTrain Loss: 0.037 | Train Acc: 98.75%\n",
            "\t Val. Loss: 0.858 |  Val. Acc: 82.61%\n",
            "2021-05-14 22:19:17\n",
            "Epoch: 19 | Epoch Time: 0m 33s\n",
            "\tTrain Loss: 0.042 | Train Acc: 98.57%\n",
            "\t Val. Loss: 0.802 |  Val. Acc: 83.90%\n",
            "2021-05-14 22:19:50\n",
            "Epoch: 20 | Epoch Time: 0m 33s\n",
            "\tTrain Loss: 0.035 | Train Acc: 98.84%\n",
            "\t Val. Loss: 0.851 |  Val. Acc: 83.56%\n",
            "2021-05-14 22:20:24\n",
            "Epoch: 21 | Epoch Time: 0m 33s\n",
            "\tTrain Loss: 0.036 | Train Acc: 98.78%\n",
            "\t Val. Loss: 0.781 |  Val. Acc: 84.28%\n",
            "2021-05-14 22:20:58\n",
            "Epoch: 22 | Epoch Time: 0m 34s\n",
            "\tTrain Loss: 0.034 | Train Acc: 98.85%\n",
            "\t Val. Loss: 0.796 |  Val. Acc: 84.36%\n",
            "2021-05-14 22:21:32\n",
            "Epoch: 23 | Epoch Time: 0m 34s\n",
            "\tTrain Loss: 0.029 | Train Acc: 98.99%\n",
            "\t Val. Loss: 0.769 |  Val. Acc: 84.77%\n",
            "2021-05-14 22:22:07\n",
            "Epoch: 24 | Epoch Time: 0m 34s\n",
            "\tTrain Loss: 0.023 | Train Acc: 99.25%\n",
            "\t Val. Loss: 0.983 |  Val. Acc: 82.89%\n",
            "2021-05-14 22:22:41\n",
            "Epoch: 25 | Epoch Time: 0m 33s\n",
            "\tTrain Loss: 0.032 | Train Acc: 99.00%\n",
            "\t Val. Loss: 0.945 |  Val. Acc: 82.59%\n",
            "2021-05-14 22:23:14\n",
            "Epoch: 26 | Epoch Time: 0m 33s\n",
            "\tTrain Loss: 0.030 | Train Acc: 98.98%\n",
            "\t Val. Loss: 0.935 |  Val. Acc: 83.74%\n",
            "2021-05-14 22:23:48\n",
            "Epoch: 27 | Epoch Time: 0m 33s\n",
            "\tTrain Loss: 0.018 | Train Acc: 99.41%\n",
            "\t Val. Loss: 0.867 |  Val. Acc: 85.17%\n",
            "2021-05-14 22:24:22\n",
            "Epoch: 28 | Epoch Time: 0m 34s\n",
            "\tTrain Loss: 0.026 | Train Acc: 99.15%\n",
            "\t Val. Loss: 0.914 |  Val. Acc: 83.15%\n",
            "2021-05-14 22:24:56\n",
            "Epoch: 29 | Epoch Time: 0m 33s\n",
            "\tTrain Loss: 0.024 | Train Acc: 99.18%\n",
            "\t Val. Loss: 0.832 |  Val. Acc: 84.32%\n",
            "2021-05-14 22:25:30\n",
            "Epoch: 30 | Epoch Time: 0m 33s\n",
            "\tTrain Loss: 0.016 | Train Acc: 99.47%\n",
            "\t Val. Loss: 0.970 |  Val. Acc: 83.47%\n",
            "2021-05-14 22:26:03\n",
            "Epoch: 31 | Epoch Time: 0m 33s\n",
            "\tTrain Loss: 0.023 | Train Acc: 99.20%\n",
            "\t Val. Loss: 0.972 |  Val. Acc: 82.89%\n",
            "2021-05-14 22:26:38\n",
            "Epoch: 32 | Epoch Time: 0m 34s\n",
            "\tTrain Loss: 0.024 | Train Acc: 99.21%\n",
            "\t Val. Loss: 0.859 |  Val. Acc: 84.08%\n",
            "2021-05-14 22:27:12\n",
            "Epoch: 33 | Epoch Time: 0m 33s\n",
            "\tTrain Loss: 0.020 | Train Acc: 99.36%\n",
            "\t Val. Loss: 0.857 |  Val. Acc: 84.85%\n",
            "2021-05-14 22:27:47\n",
            "Epoch: 34 | Epoch Time: 0m 34s\n",
            "\tTrain Loss: 0.020 | Train Acc: 99.35%\n",
            "\t Val. Loss: 0.845 |  Val. Acc: 84.26%\n",
            "2021-05-14 22:28:20\n",
            "Epoch: 35 | Epoch Time: 0m 33s\n",
            "\tTrain Loss: 0.014 | Train Acc: 99.51%\n",
            "\t Val. Loss: 0.964 |  Val. Acc: 82.89%\n",
            "2021-05-14 22:28:55\n",
            "Epoch: 36 | Epoch Time: 0m 34s\n",
            "\tTrain Loss: 0.023 | Train Acc: 99.23%\n",
            "\t Val. Loss: 0.927 |  Val. Acc: 83.86%\n",
            "2021-05-14 22:29:29\n",
            "Epoch: 37 | Epoch Time: 0m 33s\n",
            "\tTrain Loss: 0.017 | Train Acc: 99.45%\n",
            "\t Val. Loss: 0.912 |  Val. Acc: 84.71%\n",
            "2021-05-14 22:30:02\n",
            "Epoch: 38 | Epoch Time: 0m 33s\n",
            "\tTrain Loss: 0.018 | Train Acc: 99.44%\n",
            "\t Val. Loss: 0.905 |  Val. Acc: 84.87%\n",
            "2021-05-14 22:30:36\n",
            "Epoch: 39 | Epoch Time: 0m 33s\n",
            "\tTrain Loss: 0.021 | Train Acc: 99.30%\n",
            "\t Val. Loss: 0.862 |  Val. Acc: 85.30%\n",
            "2021-05-14 22:31:10\n",
            "Epoch: 40 | Epoch Time: 0m 34s\n",
            "\tTrain Loss: 0.010 | Train Acc: 99.66%\n",
            "\t Val. Loss: 0.878 |  Val. Acc: 84.89%\n",
            "2021-05-14 22:31:44\n",
            "Epoch: 41 | Epoch Time: 0m 34s\n",
            "\tTrain Loss: 0.018 | Train Acc: 99.41%\n",
            "\t Val. Loss: 0.859 |  Val. Acc: 84.91%\n",
            "2021-05-14 22:32:19\n",
            "Epoch: 42 | Epoch Time: 0m 34s\n",
            "\tTrain Loss: 0.016 | Train Acc: 99.45%\n",
            "\t Val. Loss: 0.960 |  Val. Acc: 83.58%\n",
            "2021-05-14 22:32:52\n",
            "Epoch: 43 | Epoch Time: 0m 33s\n",
            "\tTrain Loss: 0.015 | Train Acc: 99.46%\n",
            "\t Val. Loss: 0.848 |  Val. Acc: 85.23%\n",
            "2021-05-14 22:33:26\n",
            "Epoch: 44 | Epoch Time: 0m 34s\n",
            "\tTrain Loss: 0.009 | Train Acc: 99.70%\n",
            "\t Val. Loss: 0.931 |  Val. Acc: 84.67%\n",
            "2021-05-14 22:34:00\n",
            "Epoch: 45 | Epoch Time: 0m 33s\n",
            "\tTrain Loss: 0.014 | Train Acc: 99.55%\n",
            "\t Val. Loss: 0.952 |  Val. Acc: 85.03%\n",
            "2021-05-14 22:34:36\n",
            "Epoch: 46 | Epoch Time: 0m 35s\n",
            "\tTrain Loss: 0.012 | Train Acc: 99.55%\n",
            "\t Val. Loss: 0.986 |  Val. Acc: 84.99%\n",
            "2021-05-14 22:35:09\n",
            "Epoch: 47 | Epoch Time: 0m 33s\n",
            "\tTrain Loss: 0.016 | Train Acc: 99.48%\n",
            "\t Val. Loss: 0.916 |  Val. Acc: 84.77%\n",
            "2021-05-14 22:35:43\n",
            "Epoch: 48 | Epoch Time: 0m 34s\n",
            "\tTrain Loss: 0.016 | Train Acc: 99.55%\n",
            "\t Val. Loss: 1.046 |  Val. Acc: 84.12%\n",
            "2021-05-14 22:36:17\n",
            "Epoch: 49 | Epoch Time: 0m 33s\n",
            "\tTrain Loss: 0.015 | Train Acc: 99.50%\n",
            "\t Val. Loss: 0.871 |  Val. Acc: 85.38%\n",
            "2021-05-14 22:36:52\n",
            "Epoch: 50 | Epoch Time: 0m 34s\n",
            "\tTrain Loss: 0.008 | Train Acc: 99.76%\n",
            "\t Val. Loss: 0.955 |  Val. Acc: 84.45%\n"
          ],
          "name": "stdout"
        }
      ]
    },
    {
      "cell_type": "code",
      "metadata": {
        "id": "Hkk0o9eQotVI",
        "outputId": "9eec2a74-5133-4779-8bc2-d6e4ab0deb9b"
      },
      "source": [
        "model.load_state_dict(torch.load('tut5-model.pt'))\n",
        "\n",
        "test_loss, test_acc = evaluate(model, test_iterator, criterion, device)\n",
        "\n",
        "print(f'Test Loss: {test_loss:.3f} | Test Acc: {test_acc*100:.2f}%')"
      ],
      "execution_count": null,
      "outputs": [
        {
          "output_type": "stream",
          "text": [
            "Test Loss: 0.598 | Test Acc: 82.60%\n"
          ],
          "name": "stdout"
        }
      ]
    },
    {
      "cell_type": "code",
      "metadata": {
        "id": "xvEIPsjIotVI",
        "outputId": "7f27bb04-8662-46a2-e6ff-4d4edee8fe8b"
      },
      "source": [
        "#plotting the loss\n",
        "plt.figure(figsize=(7, 7))\n",
        "plt.plot(train_losses, color='green', label='train loss')\n",
        "plt.plot(valid_losses, color='red', label='Test loss')\n",
        "plt.legend()\n",
        "plt.show()"
      ],
      "execution_count": null,
      "outputs": [
        {
          "output_type": "display_data",
          "data": {
            "image/png": "[encoded data removed]",
            "text/plain": [
              "<Figure size 504x504 with 1 Axes>"
            ]
          },
          "metadata": {
            "tags": [],
            "needs_background": "light"
          }
        }
      ]
    },
    {
      "cell_type": "code",
      "metadata": {
        "id": "HSXEhpBwotVI",
        "outputId": "b97bb3af-8e91-4ade-eda8-86dcffdfba37"
      },
      "source": [
        "#plotting the accuracy\n",
        "plt.figure(figsize=(7, 7))\n",
        "plt.plot(train_accuracy, color='green', label='Train Accuracy')\n",
        "plt.plot(valid_accuracy, color='red', label='Test Accuracy')\n",
        "plt.legend()\n",
        "plt.show()"
      ],
      "execution_count": null,
      "outputs": [
        {
          "output_type": "display_data",
          "data": {
            "image/png": "[encoded data removed]",
            "text/plain": [
              "<Figure size 504x504 with 1 Axes>"
            ]
          },
          "metadata": {
            "tags": [],
            "needs_background": "light"
          }
        }
      ]
    },
    {
      "cell_type": "markdown",
      "metadata": {
        "id": "ABHWNohPpN7q"
      },
      "source": [
        "## VGG 16"
      ]
    },
    {
      "cell_type": "code",
      "metadata": {
        "id": "Y3_nQvxqotVJ"
      },
      "source": [
        "model_2 = VGG16(OUTPUT_DIM, VGGBlock, nn.MaxPool2d, BATCH_NORM) "
      ],
      "execution_count": null,
      "outputs": []
    },
    {
      "cell_type": "code",
      "metadata": {
        "id": "FjcI6mkwotVJ",
        "outputId": "666f42fa-ce38-45ab-9532-d87ded1abeda"
      },
      "source": [
        "print(f'VGG16 has {count_parameters(vgg16_model):,} trainable parameters')"
      ],
      "execution_count": null,
      "outputs": [
        {
          "output_type": "stream",
          "text": [
            "VGG16 has 14,728,266 trainable parameters\n"
          ],
          "name": "stdout"
        }
      ]
    },
    {
      "cell_type": "code",
      "metadata": {
        "id": "jZ-frrGuotVJ",
        "outputId": "c4dca30c-856a-4e98-ee43-4132180e57a7"
      },
      "source": [
        "model_2"
      ],
      "execution_count": null,
      "outputs": [
        {
          "output_type": "execute_result",
          "data": {
            "text/plain": [
              "VGG16(\n",
              "  (features): Sequential(\n",
              "    (0): VGGBlock(\n",
              "      (block): Sequential(\n",
              "        (0): Conv2d(3, 64, kernel_size=(3, 3), stride=(1, 1), padding=(1, 1))\n",
              "        (1): BatchNorm2d(64, eps=1e-05, momentum=0.1, affine=True, track_running_stats=True)\n",
              "        (2): ReLU(inplace=True)\n",
              "      )\n",
              "    )\n",
              "    (1): VGGBlock(\n",
              "      (block): Sequential(\n",
              "        (0): Conv2d(64, 64, kernel_size=(3, 3), stride=(1, 1), padding=(1, 1))\n",
              "        (1): BatchNorm2d(64, eps=1e-05, momentum=0.1, affine=True, track_running_stats=True)\n",
              "        (2): ReLU(inplace=True)\n",
              "      )\n",
              "    )\n",
              "    (2): MaxPool2d(kernel_size=2, stride=2, padding=0, dilation=1, ceil_mode=False)\n",
              "    (3): VGGBlock(\n",
              "      (block): Sequential(\n",
              "        (0): Conv2d(64, 128, kernel_size=(3, 3), stride=(1, 1), padding=(1, 1))\n",
              "        (1): BatchNorm2d(128, eps=1e-05, momentum=0.1, affine=True, track_running_stats=True)\n",
              "        (2): ReLU(inplace=True)\n",
              "      )\n",
              "    )\n",
              "    (4): VGGBlock(\n",
              "      (block): Sequential(\n",
              "        (0): Conv2d(128, 128, kernel_size=(3, 3), stride=(1, 1), padding=(1, 1))\n",
              "        (1): BatchNorm2d(128, eps=1e-05, momentum=0.1, affine=True, track_running_stats=True)\n",
              "        (2): ReLU(inplace=True)\n",
              "      )\n",
              "    )\n",
              "    (5): MaxPool2d(kernel_size=2, stride=2, padding=0, dilation=1, ceil_mode=False)\n",
              "    (6): VGGBlock(\n",
              "      (block): Sequential(\n",
              "        (0): Conv2d(128, 256, kernel_size=(3, 3), stride=(1, 1), padding=(1, 1))\n",
              "        (1): BatchNorm2d(256, eps=1e-05, momentum=0.1, affine=True, track_running_stats=True)\n",
              "        (2): ReLU(inplace=True)\n",
              "      )\n",
              "    )\n",
              "    (7): VGGBlock(\n",
              "      (block): Sequential(\n",
              "        (0): Conv2d(256, 256, kernel_size=(3, 3), stride=(1, 1), padding=(1, 1))\n",
              "        (1): BatchNorm2d(256, eps=1e-05, momentum=0.1, affine=True, track_running_stats=True)\n",
              "        (2): ReLU(inplace=True)\n",
              "      )\n",
              "    )\n",
              "    (8): VGGBlock(\n",
              "      (block): Sequential(\n",
              "        (0): Conv2d(256, 256, kernel_size=(3, 3), stride=(1, 1), padding=(1, 1))\n",
              "        (1): BatchNorm2d(256, eps=1e-05, momentum=0.1, affine=True, track_running_stats=True)\n",
              "        (2): ReLU(inplace=True)\n",
              "      )\n",
              "    )\n",
              "    (9): MaxPool2d(kernel_size=2, stride=2, padding=0, dilation=1, ceil_mode=False)\n",
              "    (10): VGGBlock(\n",
              "      (block): Sequential(\n",
              "        (0): Conv2d(256, 512, kernel_size=(3, 3), stride=(1, 1), padding=(1, 1))\n",
              "        (1): BatchNorm2d(512, eps=1e-05, momentum=0.1, affine=True, track_running_stats=True)\n",
              "        (2): ReLU(inplace=True)\n",
              "      )\n",
              "    )\n",
              "    (11): VGGBlock(\n",
              "      (block): Sequential(\n",
              "        (0): Conv2d(512, 512, kernel_size=(3, 3), stride=(1, 1), padding=(1, 1))\n",
              "        (1): BatchNorm2d(512, eps=1e-05, momentum=0.1, affine=True, track_running_stats=True)\n",
              "        (2): ReLU(inplace=True)\n",
              "      )\n",
              "    )\n",
              "    (12): VGGBlock(\n",
              "      (block): Sequential(\n",
              "        (0): Conv2d(512, 512, kernel_size=(3, 3), stride=(1, 1), padding=(1, 1))\n",
              "        (1): BatchNorm2d(512, eps=1e-05, momentum=0.1, affine=True, track_running_stats=True)\n",
              "        (2): ReLU(inplace=True)\n",
              "      )\n",
              "    )\n",
              "    (13): MaxPool2d(kernel_size=2, stride=2, padding=0, dilation=1, ceil_mode=False)\n",
              "    (14): VGGBlock(\n",
              "      (block): Sequential(\n",
              "        (0): Conv2d(512, 512, kernel_size=(3, 3), stride=(1, 1), padding=(1, 1))\n",
              "        (1): BatchNorm2d(512, eps=1e-05, momentum=0.1, affine=True, track_running_stats=True)\n",
              "        (2): ReLU(inplace=True)\n",
              "      )\n",
              "    )\n",
              "    (15): VGGBlock(\n",
              "      (block): Sequential(\n",
              "        (0): Conv2d(512, 512, kernel_size=(3, 3), stride=(1, 1), padding=(1, 1))\n",
              "        (1): BatchNorm2d(512, eps=1e-05, momentum=0.1, affine=True, track_running_stats=True)\n",
              "        (2): ReLU(inplace=True)\n",
              "      )\n",
              "    )\n",
              "    (16): VGGBlock(\n",
              "      (block): Sequential(\n",
              "        (0): Conv2d(512, 512, kernel_size=(3, 3), stride=(1, 1), padding=(1, 1))\n",
              "        (1): BatchNorm2d(512, eps=1e-05, momentum=0.1, affine=True, track_running_stats=True)\n",
              "        (2): ReLU(inplace=True)\n",
              "      )\n",
              "    )\n",
              "    (17): MaxPool2d(kernel_size=2, stride=2, padding=0, dilation=1, ceil_mode=False)\n",
              "  )\n",
              "  (classifier): Linear(in_features=512, out_features=10, bias=True)\n",
              ")"
            ]
          },
          "metadata": {
            "tags": []
          },
          "execution_count": 26
        }
      ]
    },
    {
      "cell_type": "code",
      "metadata": {
        "id": "JrdVyAV2otVJ"
      },
      "source": [
        "optimizer = optim.Adam(model_2.parameters())"
      ],
      "execution_count": null,
      "outputs": []
    },
    {
      "cell_type": "code",
      "metadata": {
        "id": "k4HJ41J9otVK"
      },
      "source": [
        "criterion = nn.CrossEntropyLoss()"
      ],
      "execution_count": null,
      "outputs": []
    },
    {
      "cell_type": "code",
      "metadata": {
        "id": "4VzmzVUzotVK"
      },
      "source": [
        "model_2 = model_2.to(device)\n",
        "criterion = criterion.to(device)"
      ],
      "execution_count": null,
      "outputs": []
    },
    {
      "cell_type": "code",
      "metadata": {
        "id": "JEEfIWyUotVK"
      },
      "source": [
        "def calculate_accuracy(fx, y):\n",
        "    preds = fx.argmax(1, keepdim=True)\n",
        "    correct = preds.eq(y.view_as(preds)).sum()\n",
        "    acc = correct.float()/preds.shape[0]\n",
        "    return acc"
      ],
      "execution_count": null,
      "outputs": []
    },
    {
      "cell_type": "code",
      "metadata": {
        "id": "X_8szIRmotVK"
      },
      "source": [
        "def train(model_2, iterator, optimizer, criterion, device):\n",
        "    \n",
        "    epoch_loss = 0\n",
        "    epoch_acc = 0\n",
        "    \n",
        "    model_2.train()\n",
        "    \n",
        "    for (x, y) in iterator:\n",
        "        \n",
        "        x = x.to(device)\n",
        "        y = y.to(device)\n",
        "        \n",
        "        optimizer.zero_grad()\n",
        "                \n",
        "        fx = model_2(x)\n",
        "        \n",
        "        loss = criterion(fx, y)\n",
        "        \n",
        "        acc = calculate_accuracy(fx, y)\n",
        "        \n",
        "        loss.backward()\n",
        "        \n",
        "        optimizer.step()\n",
        "        \n",
        "        epoch_loss += loss.item()\n",
        "        epoch_acc += acc.item()\n",
        "        \n",
        "    return epoch_loss / len(iterator), epoch_acc / len(iterator)"
      ],
      "execution_count": null,
      "outputs": []
    },
    {
      "cell_type": "code",
      "metadata": {
        "id": "zarDrxc9otVL"
      },
      "source": [
        "def evaluate(model_2, iterator, criterion, device):\n",
        "    \n",
        "    epoch_loss = 0\n",
        "    epoch_acc = 0\n",
        "    \n",
        "    model_2.eval()\n",
        "    \n",
        "    with torch.no_grad():\n",
        "        for (x, y) in iterator:\n",
        "\n",
        "            x = x.to(device)\n",
        "            y = y.to(device)\n",
        "\n",
        "            fx = model_2(x)\n",
        "\n",
        "            loss = criterion(fx, y)\n",
        "\n",
        "            acc = calculate_accuracy(fx, y)\n",
        "\n",
        "            epoch_loss += loss.item()\n",
        "            epoch_acc += acc.item()\n",
        "        \n",
        "    return epoch_loss / len(iterator), epoch_acc / len(iterator)"
      ],
      "execution_count": null,
      "outputs": []
    },
    {
      "cell_type": "code",
      "metadata": {
        "id": "kLF4Q5qPotVL"
      },
      "source": [
        "train_losses2 = []\n",
        "valid_losses2 = []\n",
        "train_accuracy2 = []\n",
        "valid_accuracy2 = []"
      ],
      "execution_count": null,
      "outputs": []
    },
    {
      "cell_type": "code",
      "metadata": {
        "id": "2mmz-CxiotVL",
        "outputId": "6a32bd75-6860-46c9-bd32-d60447551b7f"
      },
      "source": [
        "EPOCHS = 50\n",
        "\n",
        "\n",
        "\n",
        "best_valid_loss = float('inf')\n",
        "\n",
        "for epoch in range(EPOCHS):\n",
        "    \n",
        "    start_time = time.time()\n",
        "    \n",
        "    train_loss, train_acc = train(model_2, train_iterator, optimizer, criterion, device)\n",
        "    valid_loss, valid_acc = evaluate(model_2, valid_iterator, criterion, device)\n",
        "    \n",
        "    if valid_loss < best_valid_loss:\n",
        "        best_valid_loss = valid_loss\n",
        "        torch.save(model_2.state_dict(), 'tut5-model_2.pt')\n",
        "    \n",
        "    end_time = time.time()\n",
        "    \n",
        "    train_losses2.append(train_loss)\n",
        "    valid_losses2.append(valid_loss)\n",
        "    \n",
        "    train_accuracy2.append(train_acc)\n",
        "    valid_accuracy2.append(valid_acc)\n",
        "\n",
        "    epoch_mins, epoch_secs = epoch_time(start_time, end_time)\n",
        "    \n",
        "    t = time.localtime()\n",
        "\n",
        "    timestamp = time.strftime('%Y-%m-%d %H:%M:%S', t)\n",
        "\n",
        "    print(timestamp)\n",
        "    print(f'Epoch: {epoch+1:02} | Epoch Time: {epoch_mins}m {epoch_secs}s')\n",
        "    print(f'\\tTrain Loss: {train_loss:.3f} | Train Acc: {train_acc*100:.2f}%')\n",
        "    print(f'\\t Val. Loss: {valid_loss:.3f} |  Val. Acc: {valid_acc*100:.2f}%')"
      ],
      "execution_count": null,
      "outputs": [
        {
          "output_type": "stream",
          "text": [
            "2021-05-14 22:37:42\n",
            "Epoch: 01 | Epoch Time: 0m 45s\n",
            "\tTrain Loss: 1.758 | Train Acc: 33.67%\n",
            "\t Val. Loss: 1.537 |  Val. Acc: 43.81%\n",
            "2021-05-14 22:38:27\n",
            "Epoch: 02 | Epoch Time: 0m 44s\n",
            "\tTrain Loss: 1.176 | Train Acc: 57.31%\n",
            "\t Val. Loss: 1.049 |  Val. Acc: 62.90%\n",
            "2021-05-14 22:39:12\n",
            "Epoch: 03 | Epoch Time: 0m 44s\n",
            "\tTrain Loss: 0.907 | Train Acc: 67.80%\n",
            "\t Val. Loss: 0.867 |  Val. Acc: 69.94%\n",
            "2021-05-14 22:39:57\n",
            "Epoch: 04 | Epoch Time: 0m 45s\n",
            "\tTrain Loss: 0.742 | Train Acc: 74.18%\n",
            "\t Val. Loss: 0.753 |  Val. Acc: 74.25%\n",
            "2021-05-14 22:40:42\n",
            "Epoch: 05 | Epoch Time: 0m 45s\n",
            "\tTrain Loss: 0.623 | Train Acc: 78.68%\n",
            "\t Val. Loss: 0.737 |  Val. Acc: 75.73%\n",
            "2021-05-14 22:41:27\n",
            "Epoch: 06 | Epoch Time: 0m 44s\n",
            "\tTrain Loss: 0.536 | Train Acc: 81.61%\n",
            "\t Val. Loss: 0.622 |  Val. Acc: 79.37%\n",
            "2021-05-14 22:42:12\n",
            "Epoch: 07 | Epoch Time: 0m 45s\n",
            "\tTrain Loss: 0.453 | Train Acc: 84.39%\n",
            "\t Val. Loss: 0.535 |  Val. Acc: 82.00%\n",
            "2021-05-14 22:42:56\n",
            "Epoch: 08 | Epoch Time: 0m 43s\n",
            "\tTrain Loss: 0.389 | Train Acc: 86.63%\n",
            "\t Val. Loss: 0.634 |  Val. Acc: 80.36%\n",
            "2021-05-14 22:43:39\n",
            "Epoch: 09 | Epoch Time: 0m 43s\n",
            "\tTrain Loss: 0.327 | Train Acc: 88.79%\n",
            "\t Val. Loss: 0.612 |  Val. Acc: 80.58%\n",
            "2021-05-14 22:44:23\n",
            "Epoch: 10 | Epoch Time: 0m 43s\n",
            "\tTrain Loss: 0.285 | Train Acc: 90.09%\n",
            "\t Val. Loss: 0.543 |  Val. Acc: 82.75%\n",
            "2021-05-14 22:45:08\n",
            "Epoch: 11 | Epoch Time: 0m 44s\n",
            "\tTrain Loss: 0.228 | Train Acc: 92.13%\n",
            "\t Val. Loss: 0.519 |  Val. Acc: 84.87%\n",
            "2021-05-14 22:45:51\n",
            "Epoch: 12 | Epoch Time: 0m 42s\n",
            "\tTrain Loss: 0.193 | Train Acc: 93.38%\n",
            "\t Val. Loss: 0.699 |  Val. Acc: 80.50%\n",
            "2021-05-14 22:46:33\n",
            "Epoch: 13 | Epoch Time: 0m 42s\n",
            "\tTrain Loss: 0.155 | Train Acc: 94.67%\n",
            "\t Val. Loss: 0.587 |  Val. Acc: 83.78%\n",
            "2021-05-14 22:47:16\n",
            "Epoch: 14 | Epoch Time: 0m 43s\n",
            "\tTrain Loss: 0.126 | Train Acc: 95.68%\n",
            "\t Val. Loss: 0.613 |  Val. Acc: 83.76%\n",
            "2021-05-14 22:47:59\n",
            "Epoch: 15 | Epoch Time: 0m 43s\n",
            "\tTrain Loss: 0.113 | Train Acc: 96.07%\n",
            "\t Val. Loss: 0.594 |  Val. Acc: 84.57%\n",
            "2021-05-14 22:48:42\n",
            "Epoch: 16 | Epoch Time: 0m 42s\n",
            "\tTrain Loss: 0.093 | Train Acc: 96.85%\n",
            "\t Val. Loss: 0.616 |  Val. Acc: 84.93%\n",
            "2021-05-14 22:49:25\n",
            "Epoch: 17 | Epoch Time: 0m 42s\n",
            "\tTrain Loss: 0.080 | Train Acc: 97.27%\n",
            "\t Val. Loss: 0.632 |  Val. Acc: 85.27%\n",
            "2021-05-14 22:50:07\n",
            "Epoch: 18 | Epoch Time: 0m 42s\n",
            "\tTrain Loss: 0.074 | Train Acc: 97.46%\n",
            "\t Val. Loss: 0.644 |  Val. Acc: 84.65%\n",
            "2021-05-14 22:50:50\n",
            "Epoch: 19 | Epoch Time: 0m 42s\n",
            "\tTrain Loss: 0.072 | Train Acc: 97.57%\n",
            "\t Val. Loss: 0.722 |  Val. Acc: 84.38%\n",
            "2021-05-14 22:51:33\n",
            "Epoch: 20 | Epoch Time: 0m 42s\n",
            "\tTrain Loss: 0.066 | Train Acc: 97.72%\n",
            "\t Val. Loss: 0.631 |  Val. Acc: 86.14%\n",
            "2021-05-14 22:52:16\n",
            "Epoch: 21 | Epoch Time: 0m 43s\n",
            "\tTrain Loss: 0.064 | Train Acc: 97.85%\n",
            "\t Val. Loss: 0.626 |  Val. Acc: 85.28%\n",
            "2021-05-14 22:52:59\n",
            "Epoch: 22 | Epoch Time: 0m 43s\n",
            "\tTrain Loss: 0.050 | Train Acc: 98.28%\n",
            "\t Val. Loss: 0.697 |  Val. Acc: 84.53%\n",
            "2021-05-14 22:53:43\n",
            "Epoch: 23 | Epoch Time: 0m 43s\n",
            "\tTrain Loss: 0.045 | Train Acc: 98.48%\n",
            "\t Val. Loss: 0.704 |  Val. Acc: 84.85%\n",
            "2021-05-14 22:54:26\n",
            "Epoch: 24 | Epoch Time: 0m 42s\n",
            "\tTrain Loss: 0.043 | Train Acc: 98.58%\n",
            "\t Val. Loss: 0.732 |  Val. Acc: 84.69%\n",
            "2021-05-14 22:55:09\n",
            "Epoch: 25 | Epoch Time: 0m 42s\n",
            "\tTrain Loss: 0.044 | Train Acc: 98.56%\n",
            "\t Val. Loss: 0.842 |  Val. Acc: 84.00%\n",
            "2021-05-14 22:55:52\n",
            "Epoch: 26 | Epoch Time: 0m 43s\n",
            "\tTrain Loss: 0.046 | Train Acc: 98.43%\n",
            "\t Val. Loss: 0.688 |  Val. Acc: 85.94%\n",
            "2021-05-14 22:56:35\n",
            "Epoch: 27 | Epoch Time: 0m 42s\n",
            "\tTrain Loss: 0.037 | Train Acc: 98.73%\n",
            "\t Val. Loss: 0.747 |  Val. Acc: 86.02%\n",
            "2021-05-14 22:57:18\n",
            "Epoch: 28 | Epoch Time: 0m 43s\n",
            "\tTrain Loss: 0.038 | Train Acc: 98.66%\n",
            "\t Val. Loss: 0.750 |  Val. Acc: 84.67%\n",
            "2021-05-14 22:58:01\n",
            "Epoch: 29 | Epoch Time: 0m 43s\n",
            "\tTrain Loss: 0.029 | Train Acc: 99.07%\n",
            "\t Val. Loss: 0.708 |  Val. Acc: 85.86%\n",
            "2021-05-14 22:58:44\n",
            "Epoch: 30 | Epoch Time: 0m 43s\n",
            "\tTrain Loss: 0.035 | Train Acc: 98.78%\n",
            "\t Val. Loss: 0.780 |  Val. Acc: 85.78%\n",
            "2021-05-14 22:59:27\n",
            "Epoch: 31 | Epoch Time: 0m 42s\n",
            "\tTrain Loss: 0.032 | Train Acc: 98.95%\n",
            "\t Val. Loss: 0.780 |  Val. Acc: 85.48%\n",
            "2021-05-14 23:00:09\n",
            "Epoch: 32 | Epoch Time: 0m 42s\n",
            "\tTrain Loss: 0.034 | Train Acc: 98.84%\n",
            "\t Val. Loss: 0.705 |  Val. Acc: 85.74%\n",
            "2021-05-14 23:00:52\n",
            "Epoch: 33 | Epoch Time: 0m 42s\n",
            "\tTrain Loss: 0.034 | Train Acc: 98.84%\n",
            "\t Val. Loss: 0.749 |  Val. Acc: 85.09%\n",
            "2021-05-14 23:01:35\n",
            "Epoch: 34 | Epoch Time: 0m 43s\n",
            "\tTrain Loss: 0.028 | Train Acc: 99.05%\n",
            "\t Val. Loss: 0.769 |  Val. Acc: 85.70%\n",
            "2021-05-14 23:02:18\n",
            "Epoch: 35 | Epoch Time: 0m 43s\n",
            "\tTrain Loss: 0.026 | Train Acc: 99.16%\n",
            "\t Val. Loss: 0.741 |  Val. Acc: 85.40%\n",
            "2021-05-14 23:03:02\n",
            "Epoch: 36 | Epoch Time: 0m 43s\n",
            "\tTrain Loss: 0.026 | Train Acc: 99.18%\n",
            "\t Val. Loss: 0.772 |  Val. Acc: 85.21%\n",
            "2021-05-14 23:03:46\n",
            "Epoch: 37 | Epoch Time: 0m 43s\n",
            "\tTrain Loss: 0.024 | Train Acc: 99.23%\n",
            "\t Val. Loss: 0.731 |  Val. Acc: 85.98%\n",
            "2021-05-14 23:04:29\n",
            "Epoch: 38 | Epoch Time: 0m 43s\n",
            "\tTrain Loss: 0.024 | Train Acc: 99.24%\n",
            "\t Val. Loss: 0.720 |  Val. Acc: 85.98%\n",
            "2021-05-14 23:05:11\n",
            "Epoch: 39 | Epoch Time: 0m 42s\n",
            "\tTrain Loss: 0.023 | Train Acc: 99.25%\n",
            "\t Val. Loss: 0.779 |  Val. Acc: 85.34%\n",
            "2021-05-14 23:05:54\n",
            "Epoch: 40 | Epoch Time: 0m 42s\n",
            "\tTrain Loss: 0.035 | Train Acc: 98.90%\n",
            "\t Val. Loss: 0.770 |  Val. Acc: 85.34%\n",
            "2021-05-14 23:06:37\n",
            "Epoch: 41 | Epoch Time: 0m 42s\n",
            "\tTrain Loss: 0.016 | Train Acc: 99.47%\n",
            "\t Val. Loss: 0.779 |  Val. Acc: 85.70%\n",
            "2021-05-14 23:07:19\n",
            "Epoch: 42 | Epoch Time: 0m 42s\n",
            "\tTrain Loss: 0.024 | Train Acc: 99.33%\n",
            "\t Val. Loss: 0.892 |  Val. Acc: 85.25%\n",
            "2021-05-14 23:08:02\n",
            "Epoch: 43 | Epoch Time: 0m 42s\n",
            "\tTrain Loss: 0.035 | Train Acc: 98.97%\n",
            "\t Val. Loss: 0.712 |  Val. Acc: 86.57%\n",
            "2021-05-14 23:08:45\n",
            "Epoch: 44 | Epoch Time: 0m 43s\n",
            "\tTrain Loss: 0.015 | Train Acc: 99.52%\n",
            "\t Val. Loss: 0.813 |  Val. Acc: 85.17%\n",
            "2021-05-14 23:09:29\n",
            "Epoch: 45 | Epoch Time: 0m 43s\n",
            "\tTrain Loss: 0.019 | Train Acc: 99.39%\n",
            "\t Val. Loss: 0.753 |  Val. Acc: 85.72%\n",
            "2021-05-14 23:10:12\n",
            "Epoch: 46 | Epoch Time: 0m 43s\n",
            "\tTrain Loss: 0.024 | Train Acc: 99.22%\n",
            "\t Val. Loss: 0.771 |  Val. Acc: 85.44%\n",
            "2021-05-14 23:10:55\n",
            "Epoch: 47 | Epoch Time: 0m 43s\n",
            "\tTrain Loss: 0.014 | Train Acc: 99.57%\n",
            "\t Val. Loss: 0.804 |  Val. Acc: 85.74%\n",
            "2021-05-14 23:11:39\n",
            "Epoch: 48 | Epoch Time: 0m 43s\n",
            "\tTrain Loss: 0.018 | Train Acc: 99.39%\n",
            "\t Val. Loss: 0.729 |  Val. Acc: 86.83%\n",
            "2021-05-14 23:12:22\n",
            "Epoch: 49 | Epoch Time: 0m 43s\n",
            "\tTrain Loss: 0.019 | Train Acc: 99.39%\n",
            "\t Val. Loss: 0.758 |  Val. Acc: 86.49%\n",
            "2021-05-14 23:13:05\n",
            "Epoch: 50 | Epoch Time: 0m 43s\n",
            "\tTrain Loss: 0.019 | Train Acc: 99.41%\n",
            "\t Val. Loss: 0.720 |  Val. Acc: 86.31%\n"
          ],
          "name": "stdout"
        }
      ]
    },
    {
      "cell_type": "code",
      "metadata": {
        "id": "j_Y6vZS5otVM",
        "outputId": "be3b059b-af0c-413a-e72f-2882723be406"
      },
      "source": [
        "model_2.load_state_dict(torch.load('tut5-model_2.pt'))\n",
        "\n",
        "test_loss, test_acc = evaluate(model_2, test_iterator, criterion, device)\n",
        "\n",
        "print(f'Test Loss: {test_loss:.3f} | Test Acc: {test_acc*100:.2f}%')"
      ],
      "execution_count": null,
      "outputs": [
        {
          "output_type": "stream",
          "text": [
            "Test Loss: 0.524 | Test Acc: 83.06%\n"
          ],
          "name": "stdout"
        }
      ]
    },
    {
      "cell_type": "code",
      "metadata": {
        "id": "KXLoDki3otVN",
        "outputId": "173f5932-48ed-4f30-e33b-ae8adc4fcf49"
      },
      "source": [
        "\n",
        "plt.figure(figsize=(7, 7))\n",
        "plt.plot(train_losses2, color='green', label='train loss')\n",
        "plt.plot(valid_losses2, color='red', label='Test loss')\n",
        "plt.legend()\n",
        "plt.show()"
      ],
      "execution_count": null,
      "outputs": [
        {
          "output_type": "display_data",
          "data": {
            "image/png": "[encoded data removed]",
            "text/plain": [
              "<Figure size 504x504 with 1 Axes>"
            ]
          },
          "metadata": {
            "tags": [],
            "needs_background": "light"
          }
        }
      ]
    },
    {
      "cell_type": "code",
      "metadata": {
        "id": "dKVQu7CRotVN",
        "outputId": "b33d1aea-78e3-418e-d4ec-6cb8a86bb447"
      },
      "source": [
        "\n",
        "plt.figure(figsize=(7, 7))\n",
        "plt.plot(train_accuracy2, color='green', label='Train Accuracy')\n",
        "plt.plot(valid_accuracy2, color='red', label='Test Accuracy')\n",
        "plt.legend()\n",
        "plt.show()"
      ],
      "execution_count": null,
      "outputs": [
        {
          "output_type": "display_data",
          "data": {
            "image/png": "[encoded data removed]",
            "text/plain": [
              "<Figure size 504x504 with 1 Axes>"
            ]
          },
          "metadata": {
            "tags": [],
            "needs_background": "light"
          }
        }
      ]
    },
    {
      "cell_type": "markdown",
      "metadata": {
        "id": "ebu-qJKHpRwq"
      },
      "source": [
        "## VGG 19 "
      ]
    },
    {
      "cell_type": "code",
      "metadata": {
        "id": "3TkShKVxotVO"
      },
      "source": [
        "model_3 = VGG19(OUTPUT_DIM, VGGBlock, nn.MaxPool2d, BATCH_NORM) \n",
        "\n"
      ],
      "execution_count": null,
      "outputs": []
    },
    {
      "cell_type": "code",
      "metadata": {
        "id": "uaMO_k6EotVO",
        "outputId": "46d780a8-40bd-4e2f-cefe-64c067823c4c"
      },
      "source": [
        "\n",
        "print(f'VGG19 has {count_parameters(vgg19_model):,} trainable parameters')"
      ],
      "execution_count": null,
      "outputs": [
        {
          "output_type": "stream",
          "text": [
            "VGG19 has 20,040,522 trainable parameters\n"
          ],
          "name": "stdout"
        }
      ]
    },
    {
      "cell_type": "code",
      "metadata": {
        "id": "tJl8aVjeotVO",
        "outputId": "153b30aa-7e06-494d-edec-757ba1c2df8e"
      },
      "source": [
        "model_3"
      ],
      "execution_count": null,
      "outputs": [
        {
          "output_type": "execute_result",
          "data": {
            "text/plain": [
              "VGG19(\n",
              "  (features): Sequential(\n",
              "    (0): VGGBlock(\n",
              "      (block): Sequential(\n",
              "        (0): Conv2d(3, 64, kernel_size=(3, 3), stride=(1, 1), padding=(1, 1))\n",
              "        (1): BatchNorm2d(64, eps=1e-05, momentum=0.1, affine=True, track_running_stats=True)\n",
              "        (2): ReLU(inplace=True)\n",
              "      )\n",
              "    )\n",
              "    (1): VGGBlock(\n",
              "      (block): Sequential(\n",
              "        (0): Conv2d(64, 64, kernel_size=(3, 3), stride=(1, 1), padding=(1, 1))\n",
              "        (1): BatchNorm2d(64, eps=1e-05, momentum=0.1, affine=True, track_running_stats=True)\n",
              "        (2): ReLU(inplace=True)\n",
              "      )\n",
              "    )\n",
              "    (2): MaxPool2d(kernel_size=2, stride=2, padding=0, dilation=1, ceil_mode=False)\n",
              "    (3): VGGBlock(\n",
              "      (block): Sequential(\n",
              "        (0): Conv2d(64, 128, kernel_size=(3, 3), stride=(1, 1), padding=(1, 1))\n",
              "        (1): BatchNorm2d(128, eps=1e-05, momentum=0.1, affine=True, track_running_stats=True)\n",
              "        (2): ReLU(inplace=True)\n",
              "      )\n",
              "    )\n",
              "    (4): VGGBlock(\n",
              "      (block): Sequential(\n",
              "        (0): Conv2d(128, 128, kernel_size=(3, 3), stride=(1, 1), padding=(1, 1))\n",
              "        (1): BatchNorm2d(128, eps=1e-05, momentum=0.1, affine=True, track_running_stats=True)\n",
              "        (2): ReLU(inplace=True)\n",
              "      )\n",
              "    )\n",
              "    (5): MaxPool2d(kernel_size=2, stride=2, padding=0, dilation=1, ceil_mode=False)\n",
              "    (6): VGGBlock(\n",
              "      (block): Sequential(\n",
              "        (0): Conv2d(128, 256, kernel_size=(3, 3), stride=(1, 1), padding=(1, 1))\n",
              "        (1): BatchNorm2d(256, eps=1e-05, momentum=0.1, affine=True, track_running_stats=True)\n",
              "        (2): ReLU(inplace=True)\n",
              "      )\n",
              "    )\n",
              "    (7): VGGBlock(\n",
              "      (block): Sequential(\n",
              "        (0): Conv2d(256, 256, kernel_size=(3, 3), stride=(1, 1), padding=(1, 1))\n",
              "        (1): BatchNorm2d(256, eps=1e-05, momentum=0.1, affine=True, track_running_stats=True)\n",
              "        (2): ReLU(inplace=True)\n",
              "      )\n",
              "    )\n",
              "    (8): VGGBlock(\n",
              "      (block): Sequential(\n",
              "        (0): Conv2d(256, 256, kernel_size=(3, 3), stride=(1, 1), padding=(1, 1))\n",
              "        (1): BatchNorm2d(256, eps=1e-05, momentum=0.1, affine=True, track_running_stats=True)\n",
              "        (2): ReLU(inplace=True)\n",
              "      )\n",
              "    )\n",
              "    (9): VGGBlock(\n",
              "      (block): Sequential(\n",
              "        (0): Conv2d(256, 256, kernel_size=(3, 3), stride=(1, 1), padding=(1, 1))\n",
              "        (1): BatchNorm2d(256, eps=1e-05, momentum=0.1, affine=True, track_running_stats=True)\n",
              "        (2): ReLU(inplace=True)\n",
              "      )\n",
              "    )\n",
              "    (10): MaxPool2d(kernel_size=2, stride=2, padding=0, dilation=1, ceil_mode=False)\n",
              "    (11): VGGBlock(\n",
              "      (block): Sequential(\n",
              "        (0): Conv2d(256, 512, kernel_size=(3, 3), stride=(1, 1), padding=(1, 1))\n",
              "        (1): BatchNorm2d(512, eps=1e-05, momentum=0.1, affine=True, track_running_stats=True)\n",
              "        (2): ReLU(inplace=True)\n",
              "      )\n",
              "    )\n",
              "    (12): VGGBlock(\n",
              "      (block): Sequential(\n",
              "        (0): Conv2d(512, 512, kernel_size=(3, 3), stride=(1, 1), padding=(1, 1))\n",
              "        (1): BatchNorm2d(512, eps=1e-05, momentum=0.1, affine=True, track_running_stats=True)\n",
              "        (2): ReLU(inplace=True)\n",
              "      )\n",
              "    )\n",
              "    (13): VGGBlock(\n",
              "      (block): Sequential(\n",
              "        (0): Conv2d(512, 512, kernel_size=(3, 3), stride=(1, 1), padding=(1, 1))\n",
              "        (1): BatchNorm2d(512, eps=1e-05, momentum=0.1, affine=True, track_running_stats=True)\n",
              "        (2): ReLU(inplace=True)\n",
              "      )\n",
              "    )\n",
              "    (14): VGGBlock(\n",
              "      (block): Sequential(\n",
              "        (0): Conv2d(512, 512, kernel_size=(3, 3), stride=(1, 1), padding=(1, 1))\n",
              "        (1): BatchNorm2d(512, eps=1e-05, momentum=0.1, affine=True, track_running_stats=True)\n",
              "        (2): ReLU(inplace=True)\n",
              "      )\n",
              "    )\n",
              "    (15): MaxPool2d(kernel_size=2, stride=2, padding=0, dilation=1, ceil_mode=False)\n",
              "    (16): VGGBlock(\n",
              "      (block): Sequential(\n",
              "        (0): Conv2d(512, 512, kernel_size=(3, 3), stride=(1, 1), padding=(1, 1))\n",
              "        (1): BatchNorm2d(512, eps=1e-05, momentum=0.1, affine=True, track_running_stats=True)\n",
              "        (2): ReLU(inplace=True)\n",
              "      )\n",
              "    )\n",
              "    (17): VGGBlock(\n",
              "      (block): Sequential(\n",
              "        (0): Conv2d(512, 512, kernel_size=(3, 3), stride=(1, 1), padding=(1, 1))\n",
              "        (1): BatchNorm2d(512, eps=1e-05, momentum=0.1, affine=True, track_running_stats=True)\n",
              "        (2): ReLU(inplace=True)\n",
              "      )\n",
              "    )\n",
              "    (18): VGGBlock(\n",
              "      (block): Sequential(\n",
              "        (0): Conv2d(512, 512, kernel_size=(3, 3), stride=(1, 1), padding=(1, 1))\n",
              "        (1): BatchNorm2d(512, eps=1e-05, momentum=0.1, affine=True, track_running_stats=True)\n",
              "        (2): ReLU(inplace=True)\n",
              "      )\n",
              "    )\n",
              "    (19): VGGBlock(\n",
              "      (block): Sequential(\n",
              "        (0): Conv2d(512, 512, kernel_size=(3, 3), stride=(1, 1), padding=(1, 1))\n",
              "        (1): BatchNorm2d(512, eps=1e-05, momentum=0.1, affine=True, track_running_stats=True)\n",
              "        (2): ReLU(inplace=True)\n",
              "      )\n",
              "    )\n",
              "    (20): MaxPool2d(kernel_size=2, stride=2, padding=0, dilation=1, ceil_mode=False)\n",
              "  )\n",
              "  (classifier): Linear(in_features=512, out_features=10, bias=True)\n",
              ")"
            ]
          },
          "metadata": {
            "tags": []
          },
          "execution_count": 40
        }
      ]
    },
    {
      "cell_type": "code",
      "metadata": {
        "id": "aprHEjQtotVP"
      },
      "source": [
        "optimizer = optim.Adam(model_3.parameters())\n",
        "\n"
      ],
      "execution_count": null,
      "outputs": []
    },
    {
      "cell_type": "code",
      "metadata": {
        "id": "52JcimqRotVP"
      },
      "source": [
        "criterion = nn.CrossEntropyLoss()\n"
      ],
      "execution_count": null,
      "outputs": []
    },
    {
      "cell_type": "code",
      "metadata": {
        "id": "AMWJiVAiotVP"
      },
      "source": [
        "model_3 = model_3.to(device)\n",
        "criterion = criterion.to(device)"
      ],
      "execution_count": null,
      "outputs": []
    },
    {
      "cell_type": "code",
      "metadata": {
        "id": "f1bRfZNOotVQ"
      },
      "source": [
        "def calculate_accuracy(fx, y):\n",
        "    preds = fx.argmax(1, keepdim=True)\n",
        "    correct = preds.eq(y.view_as(preds)).sum()\n",
        "    acc = correct.float()/preds.shape[0]\n",
        "    return acc"
      ],
      "execution_count": null,
      "outputs": []
    },
    {
      "cell_type": "code",
      "metadata": {
        "id": "RB8k62HootVQ"
      },
      "source": [
        "def train(model_3, iterator, optimizer, criterion, device):\n",
        "    \n",
        "    epoch_loss = 0\n",
        "    epoch_acc = 0\n",
        "    \n",
        "    model_3.train()\n",
        "    \n",
        "    for (x, y) in iterator:\n",
        "        \n",
        "        x = x.to(device)\n",
        "        y = y.to(device)\n",
        "        \n",
        "        optimizer.zero_grad()\n",
        "                \n",
        "        fx = model_3(x)\n",
        "        \n",
        "        loss = criterion(fx, y)\n",
        "        \n",
        "        acc = calculate_accuracy(fx, y)\n",
        "        \n",
        "        loss.backward()\n",
        "        \n",
        "        optimizer.step()\n",
        "        \n",
        "        epoch_loss += loss.item()\n",
        "        epoch_acc += acc.item()\n",
        "        \n",
        "    return epoch_loss / len(iterator), epoch_acc / len(iterator)\n"
      ],
      "execution_count": null,
      "outputs": []
    },
    {
      "cell_type": "code",
      "metadata": {
        "id": "4ocPmsq0otVQ"
      },
      "source": [
        "def evaluate(model_3, iterator, criterion, device):\n",
        "    \n",
        "    epoch_loss = 0\n",
        "    epoch_acc = 0\n",
        "    \n",
        "    model_3.eval()\n",
        "    \n",
        "    with torch.no_grad():\n",
        "        for (x, y) in iterator:\n",
        "\n",
        "            x = x.to(device)\n",
        "            y = y.to(device)\n",
        "\n",
        "            fx = model_3(x)\n",
        "\n",
        "            loss = criterion(fx, y)\n",
        "\n",
        "            acc = calculate_accuracy(fx, y)\n",
        "\n",
        "            epoch_loss += loss.item()\n",
        "            epoch_acc += acc.item()\n",
        "        \n",
        "    return epoch_loss / len(iterator), epoch_acc / len(iterator)"
      ],
      "execution_count": null,
      "outputs": []
    },
    {
      "cell_type": "code",
      "metadata": {
        "id": "ZV9Q8-iGotVR"
      },
      "source": [
        "\n",
        "train_losses3 = []\n",
        "valid_losses3 = []\n",
        "train_accuracy3 = []\n",
        "valid_accuracy3 = []\n"
      ],
      "execution_count": null,
      "outputs": []
    },
    {
      "cell_type": "code",
      "metadata": {
        "id": "RtRHxD9motVR",
        "outputId": "000114bf-037f-4057-f18f-13619c7e76c3"
      },
      "source": [
        "EPOCHS = 50\n",
        "\n",
        "best_valid_loss = float('inf')\n",
        "\n",
        "\n",
        "for epoch in range(EPOCHS):\n",
        "    \n",
        "    start_time = time.time()\n",
        "    \n",
        "    train_loss, train_acc = train(model_3, train_iterator, optimizer, criterion, device)\n",
        "    valid_loss, valid_acc = evaluate(model_3, valid_iterator, criterion, device)\n",
        "    \n",
        "    if valid_loss < best_valid_loss:\n",
        "        best_valid_loss = valid_loss\n",
        "        torch.save(model_3.state_dict(), 'tut5-model_3.pt')\n",
        "    \n",
        "    end_time = time.time()\n",
        "    \n",
        "    train_losses3.append(train_loss)\n",
        "    valid_losses3.append(valid_loss)\n",
        "    \n",
        "    train_accuracy3.append(train_acc)\n",
        "    valid_accuracy3.append(valid_acc)\n",
        "\n",
        "    epoch_mins, epoch_secs = epoch_time(start_time, end_time)\n",
        "    \n",
        "    t = time.localtime()\n",
        "\n",
        "    timestamp = time.strftime('%Y-%m-%d %H:%M:%S', t)\n",
        "    print(timestamp)\n",
        "    print(f'Epoch: {epoch+1:02} | Epoch Time: {epoch_mins}m {epoch_secs}s')\n",
        "    print(f'\\tTrain Loss: {train_loss:.3f} | Train Acc: {train_acc*100:.2f}%')\n",
        "    print(f'\\t Val. Loss: {valid_loss:.3f} |  Val. Acc: {valid_acc*100:.2f}%')"
      ],
      "execution_count": null,
      "outputs": [
        {
          "output_type": "stream",
          "text": [
            "2021-05-14 23:14:02\n",
            "Epoch: 01 | Epoch Time: 0m 54s\n",
            "\tTrain Loss: 1.799 | Train Acc: 30.53%\n",
            "\t Val. Loss: 1.823 |  Val. Acc: 36.79%\n",
            "2021-05-14 23:14:57\n",
            "Epoch: 02 | Epoch Time: 0m 54s\n",
            "\tTrain Loss: 1.289 | Train Acc: 52.59%\n",
            "\t Val. Loss: 1.074 |  Val. Acc: 61.61%\n",
            "2021-05-14 23:15:51\n",
            "Epoch: 03 | Epoch Time: 0m 54s\n",
            "\tTrain Loss: 0.997 | Train Acc: 64.44%\n",
            "\t Val. Loss: 0.980 |  Val. Acc: 65.35%\n",
            "2021-05-14 23:16:46\n",
            "Epoch: 04 | Epoch Time: 0m 54s\n",
            "\tTrain Loss: 0.845 | Train Acc: 70.25%\n",
            "\t Val. Loss: 0.794 |  Val. Acc: 71.50%\n",
            "2021-05-14 23:17:41\n",
            "Epoch: 05 | Epoch Time: 0m 54s\n",
            "\tTrain Loss: 0.725 | Train Acc: 74.93%\n",
            "\t Val. Loss: 0.794 |  Val. Acc: 73.99%\n",
            "2021-05-14 23:18:35\n",
            "Epoch: 06 | Epoch Time: 0m 54s\n",
            "\tTrain Loss: 0.630 | Train Acc: 78.45%\n",
            "\t Val. Loss: 0.791 |  Val. Acc: 73.71%\n",
            "2021-05-14 23:19:30\n",
            "Epoch: 07 | Epoch Time: 0m 54s\n",
            "\tTrain Loss: 0.555 | Train Acc: 81.25%\n",
            "\t Val. Loss: 0.594 |  Val. Acc: 80.34%\n",
            "2021-05-14 23:20:23\n",
            "Epoch: 08 | Epoch Time: 0m 52s\n",
            "\tTrain Loss: 0.485 | Train Acc: 83.75%\n",
            "\t Val. Loss: 0.627 |  Val. Acc: 79.11%\n",
            "2021-05-14 23:21:17\n",
            "Epoch: 09 | Epoch Time: 0m 54s\n",
            "\tTrain Loss: 0.426 | Train Acc: 85.63%\n",
            "\t Val. Loss: 0.551 |  Val. Acc: 81.98%\n",
            "2021-05-14 23:22:11\n",
            "Epoch: 10 | Epoch Time: 0m 54s\n",
            "\tTrain Loss: 0.360 | Train Acc: 87.70%\n",
            "\t Val. Loss: 0.542 |  Val. Acc: 82.22%\n",
            "2021-05-14 23:23:07\n",
            "Epoch: 11 | Epoch Time: 0m 55s\n",
            "\tTrain Loss: 0.320 | Train Acc: 89.16%\n",
            "\t Val. Loss: 0.521 |  Val. Acc: 82.91%\n",
            "2021-05-14 23:23:59\n",
            "Epoch: 12 | Epoch Time: 0m 52s\n",
            "\tTrain Loss: 0.277 | Train Acc: 90.71%\n",
            "\t Val. Loss: 0.581 |  Val. Acc: 83.17%\n",
            "2021-05-14 23:24:52\n",
            "Epoch: 13 | Epoch Time: 0m 52s\n",
            "\tTrain Loss: 0.236 | Train Acc: 92.27%\n",
            "\t Val. Loss: 0.631 |  Val. Acc: 81.72%\n",
            "2021-05-14 23:25:45\n",
            "Epoch: 14 | Epoch Time: 0m 52s\n",
            "\tTrain Loss: 0.198 | Train Acc: 93.35%\n",
            "\t Val. Loss: 0.640 |  Val. Acc: 81.70%\n",
            "2021-05-14 23:26:37\n",
            "Epoch: 15 | Epoch Time: 0m 52s\n",
            "\tTrain Loss: 0.184 | Train Acc: 93.93%\n",
            "\t Val. Loss: 0.684 |  Val. Acc: 80.81%\n",
            "2021-05-14 23:27:30\n",
            "Epoch: 16 | Epoch Time: 0m 52s\n",
            "\tTrain Loss: 0.153 | Train Acc: 94.84%\n",
            "\t Val. Loss: 0.636 |  Val. Acc: 82.75%\n",
            "2021-05-14 23:28:22\n",
            "Epoch: 17 | Epoch Time: 0m 52s\n",
            "\tTrain Loss: 0.130 | Train Acc: 95.65%\n",
            "\t Val. Loss: 0.590 |  Val. Acc: 84.08%\n",
            "2021-05-14 23:29:14\n",
            "Epoch: 18 | Epoch Time: 0m 52s\n",
            "\tTrain Loss: 0.116 | Train Acc: 96.05%\n",
            "\t Val. Loss: 0.667 |  Val. Acc: 83.07%\n",
            "2021-05-14 23:30:07\n",
            "Epoch: 19 | Epoch Time: 0m 52s\n",
            "\tTrain Loss: 0.103 | Train Acc: 96.61%\n",
            "\t Val. Loss: 0.596 |  Val. Acc: 84.91%\n",
            "2021-05-14 23:31:00\n",
            "Epoch: 20 | Epoch Time: 0m 52s\n",
            "\tTrain Loss: 0.089 | Train Acc: 97.08%\n",
            "\t Val. Loss: 0.604 |  Val. Acc: 84.61%\n",
            "2021-05-14 23:31:52\n",
            "Epoch: 21 | Epoch Time: 0m 52s\n",
            "\tTrain Loss: 0.090 | Train Acc: 97.00%\n",
            "\t Val. Loss: 0.626 |  Val. Acc: 84.93%\n",
            "2021-05-14 23:32:44\n",
            "Epoch: 22 | Epoch Time: 0m 52s\n",
            "\tTrain Loss: 0.081 | Train Acc: 97.29%\n",
            "\t Val. Loss: 0.630 |  Val. Acc: 84.49%\n",
            "2021-05-14 23:33:36\n",
            "Epoch: 23 | Epoch Time: 0m 52s\n",
            "\tTrain Loss: 0.068 | Train Acc: 97.74%\n",
            "\t Val. Loss: 0.661 |  Val. Acc: 84.63%\n",
            "2021-05-14 23:34:29\n",
            "Epoch: 24 | Epoch Time: 0m 52s\n",
            "\tTrain Loss: 0.058 | Train Acc: 98.07%\n",
            "\t Val. Loss: 0.689 |  Val. Acc: 84.73%\n",
            "2021-05-14 23:35:21\n",
            "Epoch: 25 | Epoch Time: 0m 52s\n",
            "\tTrain Loss: 0.062 | Train Acc: 97.95%\n",
            "\t Val. Loss: 0.744 |  Val. Acc: 83.78%\n",
            "2021-05-14 23:36:13\n",
            "Epoch: 26 | Epoch Time: 0m 52s\n",
            "\tTrain Loss: 0.053 | Train Acc: 98.22%\n",
            "\t Val. Loss: 0.722 |  Val. Acc: 84.08%\n",
            "2021-05-14 23:37:05\n",
            "Epoch: 27 | Epoch Time: 0m 51s\n",
            "\tTrain Loss: 0.057 | Train Acc: 98.06%\n",
            "\t Val. Loss: 0.617 |  Val. Acc: 86.21%\n",
            "2021-05-14 23:37:57\n",
            "Epoch: 28 | Epoch Time: 0m 51s\n",
            "\tTrain Loss: 0.049 | Train Acc: 98.39%\n",
            "\t Val. Loss: 0.656 |  Val. Acc: 85.68%\n",
            "2021-05-14 23:38:50\n",
            "Epoch: 29 | Epoch Time: 0m 52s\n",
            "\tTrain Loss: 0.049 | Train Acc: 98.37%\n",
            "\t Val. Loss: 0.733 |  Val. Acc: 84.89%\n",
            "2021-05-14 23:39:42\n",
            "Epoch: 30 | Epoch Time: 0m 52s\n",
            "\tTrain Loss: 0.043 | Train Acc: 98.58%\n",
            "\t Val. Loss: 0.684 |  Val. Acc: 85.62%\n",
            "2021-05-14 23:40:34\n",
            "Epoch: 31 | Epoch Time: 0m 52s\n",
            "\tTrain Loss: 0.051 | Train Acc: 98.29%\n",
            "\t Val. Loss: 0.699 |  Val. Acc: 85.19%\n",
            "2021-05-14 23:41:26\n",
            "Epoch: 32 | Epoch Time: 0m 52s\n",
            "\tTrain Loss: 0.037 | Train Acc: 98.83%\n",
            "\t Val. Loss: 0.731 |  Val. Acc: 85.23%\n",
            "2021-05-14 23:42:18\n",
            "Epoch: 33 | Epoch Time: 0m 51s\n",
            "\tTrain Loss: 0.039 | Train Acc: 98.69%\n",
            "\t Val. Loss: 0.654 |  Val. Acc: 85.62%\n",
            "2021-05-14 23:43:11\n",
            "Epoch: 34 | Epoch Time: 0m 52s\n",
            "\tTrain Loss: 0.037 | Train Acc: 98.76%\n",
            "\t Val. Loss: 0.647 |  Val. Acc: 85.66%\n",
            "2021-05-14 23:44:03\n",
            "Epoch: 35 | Epoch Time: 0m 52s\n",
            "\tTrain Loss: 0.035 | Train Acc: 98.83%\n",
            "\t Val. Loss: 0.669 |  Val. Acc: 86.08%\n",
            "2021-05-14 23:44:55\n",
            "Epoch: 36 | Epoch Time: 0m 52s\n",
            "\tTrain Loss: 0.034 | Train Acc: 98.86%\n",
            "\t Val. Loss: 0.703 |  Val. Acc: 85.50%\n",
            "2021-05-14 23:45:47\n",
            "Epoch: 37 | Epoch Time: 0m 51s\n",
            "\tTrain Loss: 0.032 | Train Acc: 98.91%\n",
            "\t Val. Loss: 0.705 |  Val. Acc: 85.05%\n",
            "2021-05-14 23:46:39\n",
            "Epoch: 38 | Epoch Time: 0m 51s\n",
            "\tTrain Loss: 0.032 | Train Acc: 98.96%\n",
            "\t Val. Loss: 0.664 |  Val. Acc: 85.46%\n",
            "2021-05-14 23:47:30\n",
            "Epoch: 39 | Epoch Time: 0m 51s\n",
            "\tTrain Loss: 0.034 | Train Acc: 98.91%\n",
            "\t Val. Loss: 0.651 |  Val. Acc: 86.69%\n",
            "2021-05-14 23:48:22\n",
            "Epoch: 40 | Epoch Time: 0m 51s\n",
            "\tTrain Loss: 0.028 | Train Acc: 99.10%\n",
            "\t Val. Loss: 0.730 |  Val. Acc: 86.12%\n",
            "2021-05-14 23:49:14\n",
            "Epoch: 41 | Epoch Time: 0m 51s\n",
            "\tTrain Loss: 0.028 | Train Acc: 99.11%\n",
            "\t Val. Loss: 0.691 |  Val. Acc: 86.17%\n",
            "2021-05-14 23:50:06\n",
            "Epoch: 42 | Epoch Time: 0m 52s\n",
            "\tTrain Loss: 0.038 | Train Acc: 98.80%\n",
            "\t Val. Loss: 0.674 |  Val. Acc: 86.27%\n",
            "2021-05-14 23:50:58\n",
            "Epoch: 43 | Epoch Time: 0m 51s\n",
            "\tTrain Loss: 0.026 | Train Acc: 99.25%\n",
            "\t Val. Loss: 0.735 |  Val. Acc: 85.68%\n",
            "2021-05-14 23:51:50\n",
            "Epoch: 44 | Epoch Time: 0m 51s\n",
            "\tTrain Loss: 0.029 | Train Acc: 99.13%\n",
            "\t Val. Loss: 0.735 |  Val. Acc: 85.58%\n",
            "2021-05-14 23:52:41\n",
            "Epoch: 45 | Epoch Time: 0m 51s\n",
            "\tTrain Loss: 0.024 | Train Acc: 99.24%\n",
            "\t Val. Loss: 0.808 |  Val. Acc: 85.17%\n",
            "2021-05-14 23:53:33\n",
            "Epoch: 46 | Epoch Time: 0m 51s\n",
            "\tTrain Loss: 0.022 | Train Acc: 99.27%\n",
            "\t Val. Loss: 0.714 |  Val. Acc: 86.35%\n",
            "2021-05-14 23:54:25\n",
            "Epoch: 47 | Epoch Time: 0m 52s\n",
            "\tTrain Loss: 0.023 | Train Acc: 99.23%\n",
            "\t Val. Loss: 0.947 |  Val. Acc: 84.28%\n",
            "2021-05-14 23:55:17\n",
            "Epoch: 48 | Epoch Time: 0m 51s\n",
            "\tTrain Loss: 0.026 | Train Acc: 99.17%\n",
            "\t Val. Loss: 0.745 |  Val. Acc: 85.46%\n",
            "2021-05-14 23:56:09\n",
            "Epoch: 49 | Epoch Time: 0m 51s\n",
            "\tTrain Loss: 0.021 | Train Acc: 99.34%\n",
            "\t Val. Loss: 0.736 |  Val. Acc: 86.12%\n",
            "2021-05-14 23:57:01\n",
            "Epoch: 50 | Epoch Time: 0m 51s\n",
            "\tTrain Loss: 0.022 | Train Acc: 99.28%\n",
            "\t Val. Loss: 0.813 |  Val. Acc: 86.12%\n"
          ],
          "name": "stdout"
        }
      ]
    },
    {
      "cell_type": "code",
      "metadata": {
        "id": "nThlrQGMotVS",
        "outputId": "9b5b6491-6815-4195-9a09-cf800062eabd"
      },
      "source": [
        "model_3.load_state_dict(torch.load('tut5-model_3.pt'))\n",
        "\n",
        "test_loss, test_acc = evaluate(model_3, test_iterator, criterion, device)\n",
        "\n",
        "print(f'Test Loss: {test_loss:.3f} | Test Acc: {test_acc*100:.2f}%')"
      ],
      "execution_count": null,
      "outputs": [
        {
          "output_type": "stream",
          "text": [
            "Test Loss: 0.542 | Test Acc: 83.01%\n"
          ],
          "name": "stdout"
        }
      ]
    },
    {
      "cell_type": "code",
      "metadata": {
        "id": "WBKkJCVqotVS",
        "outputId": "610ea52c-b9e2-4a70-eb6a-170ea88d3a69"
      },
      "source": [
        "\n",
        "plt.figure(figsize=(7, 7))\n",
        "plt.plot(train_losses3, color='green', label='train loss')\n",
        "plt.plot(valid_losses3, color='red', label='Test loss')\n",
        "plt.legend()\n",
        "plt.show()\n",
        "\n",
        "\n"
      ],
      "execution_count": null,
      "outputs": [
        {
          "output_type": "display_data",
          "data": {
            "image/png": "[encoded data removed]",
            "text/plain": [
              "<Figure size 504x504 with 1 Axes>"
            ]
          },
          "metadata": {
            "tags": [],
            "needs_background": "light"
          }
        }
      ]
    },
    {
      "cell_type": "code",
      "metadata": {
        "id": "x5RUjGPfotVS",
        "outputId": "8a687c07-dddf-4317-b9d1-83f8ded67bda"
      },
      "source": [
        "plt.figure(figsize=(7, 7))\n",
        "plt.plot(train_accuracy3, color='green', label='Train Accuracy')\n",
        "plt.plot(valid_accuracy3, color='red', label='Test Accuracy')\n",
        "plt.legend()\n",
        "plt.show()"
      ],
      "execution_count": null,
      "outputs": [
        {
          "output_type": "display_data",
          "data": {
            "image/png": "[encoded data removed]",
            "text/plain": [
              "<Figure size 504x504 with 1 Axes>"
            ]
          },
          "metadata": {
            "tags": [],
            "needs_background": "light"
          }
        }
      ]
    },
    {
      "cell_type": "code",
      "metadata": {
        "id": "XFKOKG4AotVT"
      },
      "source": [
        ""
      ],
      "execution_count": null,
      "outputs": []
    }
  ]
}