{
  "nbformat": 4,
  "nbformat_minor": 0,
  "metadata": {
    "colab": {
      "name": "VGG_MNIST.ipynb",
      "provenance": [],
      "collapsed_sections": [],
      "toc_visible": true
    },
    "kernelspec": {
      "display_name": "Python 3",
      "language": "python",
      "name": "python3"
    },
    "language_info": {
      "codemirror_mode": {
        "name": "ipython",
        "version": 3
      },
      "file_extension": ".py",
      "mimetype": "text/x-python",
      "name": "python",
      "nbconvert_exporter": "python",
      "pygments_lexer": "ipython3",
      "version": "3.8.6"
    }
  },
  "cells": [
    {
      "cell_type": "code",
      "metadata": {
        "id": "pKtxRfTHPC45"
      },
      "source": [
        "import torch\n",
        "import torch.nn as nn\n",
        "import torch.optim as optim\n",
        "\n",
        "import torchvision.transforms as transforms\n",
        "import torchvision.datasets as datasets\n",
        "\n",
        "import random\n",
        "import time\n",
        "import matplotlib.pyplot as plt\n",
        "import numpy as np"
      ],
      "execution_count": null,
      "outputs": []
    },
    {
      "cell_type": "code",
      "metadata": {
        "id": "_xcaoKEyPC5A"
      },
      "source": [
        "SEED = 1234\n",
        "\n",
        "random.seed(SEED)\n",
        "np.random.seed(SEED)\n",
        "torch.manual_seed(SEED)\n",
        "torch.cuda.manual_seed(SEED)\n",
        "torch.backends.cudnn.deterministic = True"
      ],
      "execution_count": null,
      "outputs": []
    },
    {
      "cell_type": "code",
      "metadata": {
        "colab": {
          "base_uri": "https://localhost:8080/"
        },
        "id": "X0oedGpuPC5B",
        "outputId": "dfd5b218-acbb-48f4-e039-78db3d4313ad"
      },
      "source": [
        "#Downloading the MNIST dataset \n",
        "train_data = datasets.MNIST(root='./data',train=True,  download=True)\n",
        "#Calculating means and standard deviations for train_data\n",
        "means = np.array(train_data.data).mean(axis = (0,1,2)) / 255\n",
        "stds = np.array(train_data.data).std(axis = (0,1,2)) / 255\n",
        "\n",
        "print(f'Calculated means: {means}')\n",
        "print(f'Calculated stds: {stds}')"
      ],
      "execution_count": null,
      "outputs": [
        {
          "output_type": "stream",
          "text": [
            "Calculated means: 0.1306604762738429\n",
            "Calculated stds: 0.30810780385646264\n"
          ],
          "name": "stdout"
        }
      ]
    },
    {
      "cell_type": "code",
      "metadata": {
        "id": "BMtVxJOekHp6"
      },
      "source": [
        "#Using torchvisions.transforms for common image transformations\n",
        "transform = transforms.Compose([transforms.Resize((50)),\n",
        "                                transforms.ToTensor(),\n",
        "                                transforms.Normalize((0.5,),(0.5,))])"
      ],
      "execution_count": null,
      "outputs": []
    },
    {
      "cell_type": "code",
      "metadata": {
        "id": "jIp4yFNVPC5D"
      },
      "source": [
        "# applying the transformations on train and test data\n",
        "train_data = datasets.MNIST(root='./data',train=True,  download=True, \n",
        "                              transform = transform)\n",
        "\n",
        "test_data = datasets.MNIST(root='./data',train=False,  download=True, \n",
        "                             transform = transform)"
      ],
      "execution_count": null,
      "outputs": []
    },
    {
      "cell_type": "code",
      "metadata": {
        "id": "0ltasgagPC5D"
      },
      "source": [
        "#splitting into train and validation data\n",
        "n_train_examples = int(len(train_data)*0.9)\n",
        "n_valid_examples = len(train_data) - n_train_examples\n",
        "\n",
        "data_train, valid_data = torch.utils.data.random_split(train_data, \n",
        "                                                       [n_train_examples, n_valid_examples])"
      ],
      "execution_count": null,
      "outputs": []
    },
    {
      "cell_type": "code",
      "metadata": {
        "colab": {
          "base_uri": "https://localhost:8080/"
        },
        "id": "B0gzd4WXPC5E",
        "outputId": "b0b0d5cf-128e-48be-c618-8134a5732dfa"
      },
      "source": [
        "print(f'Number of training examples: {len(data_train)}')\n",
        "print(f'Number of validation examples: {len(valid_data)}')\n",
        "print(f'Number of testing examples: {len(test_data)}')"
      ],
      "execution_count": null,
      "outputs": [
        {
          "output_type": "stream",
          "text": [
            "Number of training examples: 54000\n",
            "Number of validation examples: 6000\n",
            "Number of testing examples: 10000\n"
          ],
          "name": "stdout"
        }
      ]
    },
    {
      "cell_type": "code",
      "metadata": {
        "id": "319uNMXZPC5E"
      },
      "source": [
        "BATCH_SIZE = 64\n",
        "#dataloader to access images in the dataset\n",
        "train_iterator = torch.utils.data.DataLoader(data_train, \n",
        "                                             shuffle = True, \n",
        "                                             batch_size = BATCH_SIZE)\n",
        "\n",
        "valid_iterator = torch.utils.data.DataLoader(valid_data, \n",
        "                                             batch_size = BATCH_SIZE)\n",
        "\n",
        "test_iterator = torch.utils.data.DataLoader(test_data, \n",
        "                                            batch_size = BATCH_SIZE)"
      ],
      "execution_count": null,
      "outputs": []
    },
    {
      "cell_type": "code",
      "metadata": {
        "id": "Pn8YJy4HNaLB",
        "outputId": "ff02e730-a197-46c0-f059-16a95b8c98ed"
      },
      "source": [
        "next(iter(train_iterator))"
      ],
      "execution_count": null,
      "outputs": [
        {
          "output_type": "execute_result",
          "data": {
            "text/plain": [
              "[tensor([[[[-1., -1., -1.,  ..., -1., -1., -1.],\n",
              "           [-1., -1., -1.,  ..., -1., -1., -1.],\n",
              "           [-1., -1., -1.,  ..., -1., -1., -1.],\n",
              "           ...,\n",
              "           [-1., -1., -1.,  ..., -1., -1., -1.],\n",
              "           [-1., -1., -1.,  ..., -1., -1., -1.],\n",
              "           [-1., -1., -1.,  ..., -1., -1., -1.]]],\n",
              " \n",
              " \n",
              "         [[[-1., -1., -1.,  ..., -1., -1., -1.],\n",
              "           [-1., -1., -1.,  ..., -1., -1., -1.],\n",
              "           [-1., -1., -1.,  ..., -1., -1., -1.],\n",
              "           ...,\n",
              "           [-1., -1., -1.,  ..., -1., -1., -1.],\n",
              "           [-1., -1., -1.,  ..., -1., -1., -1.],\n",
              "           [-1., -1., -1.,  ..., -1., -1., -1.]]],\n",
              " \n",
              " \n",
              "         [[[-1., -1., -1.,  ..., -1., -1., -1.],\n",
              "           [-1., -1., -1.,  ..., -1., -1., -1.],\n",
              "           [-1., -1., -1.,  ..., -1., -1., -1.],\n",
              "           ...,\n",
              "           [-1., -1., -1.,  ..., -1., -1., -1.],\n",
              "           [-1., -1., -1.,  ..., -1., -1., -1.],\n",
              "           [-1., -1., -1.,  ..., -1., -1., -1.]]],\n",
              " \n",
              " \n",
              "         ...,\n",
              " \n",
              " \n",
              "         [[[-1., -1., -1.,  ..., -1., -1., -1.],\n",
              "           [-1., -1., -1.,  ..., -1., -1., -1.],\n",
              "           [-1., -1., -1.,  ..., -1., -1., -1.],\n",
              "           ...,\n",
              "           [-1., -1., -1.,  ..., -1., -1., -1.],\n",
              "           [-1., -1., -1.,  ..., -1., -1., -1.],\n",
              "           [-1., -1., -1.,  ..., -1., -1., -1.]]],\n",
              " \n",
              " \n",
              "         [[[-1., -1., -1.,  ..., -1., -1., -1.],\n",
              "           [-1., -1., -1.,  ..., -1., -1., -1.],\n",
              "           [-1., -1., -1.,  ..., -1., -1., -1.],\n",
              "           ...,\n",
              "           [-1., -1., -1.,  ..., -1., -1., -1.],\n",
              "           [-1., -1., -1.,  ..., -1., -1., -1.],\n",
              "           [-1., -1., -1.,  ..., -1., -1., -1.]]],\n",
              " \n",
              " \n",
              "         [[[-1., -1., -1.,  ..., -1., -1., -1.],\n",
              "           [-1., -1., -1.,  ..., -1., -1., -1.],\n",
              "           [-1., -1., -1.,  ..., -1., -1., -1.],\n",
              "           ...,\n",
              "           [-1., -1., -1.,  ..., -1., -1., -1.],\n",
              "           [-1., -1., -1.,  ..., -1., -1., -1.],\n",
              "           [-1., -1., -1.,  ..., -1., -1., -1.]]]]),\n",
              " tensor([8, 5, 9, 6, 1, 3, 3, 3, 0, 8, 0, 1, 7, 9, 1, 3, 1, 1, 4, 6, 9, 8, 3, 7,\n",
              "         1, 0, 1, 8, 6, 7, 6, 2, 6, 4, 6, 2, 8, 8, 0, 7, 6, 5, 2, 8, 3, 8, 1, 0,\n",
              "         3, 8, 2, 1, 7, 1, 4, 1, 6, 8, 7, 5, 7, 4, 1, 8])]"
            ]
          },
          "metadata": {
            "tags": []
          },
          "execution_count": 9
        }
      ]
    },
    {
      "cell_type": "code",
      "metadata": {
        "id": "7R4h8tR3PC5E"
      },
      "source": [
        "class VGGBlock(nn.Module):\n",
        "    def __init__(self, in_channels, out_channels, batch_norm):\n",
        "        super().__init__()\n",
        "        \n",
        "        modules = []\n",
        "        modules.append(nn.Conv2d(in_channels, out_channels, kernel_size=3, padding=1))\n",
        "        if batch_norm:\n",
        "            modules.append(nn.BatchNorm2d(out_channels))\n",
        "        modules.append(nn.ReLU(inplace=True))\n",
        "    \n",
        "        self.block = nn.Sequential(*modules)\n",
        "    \n",
        "    def forward(self, x):\n",
        "        return self.block(x)"
      ],
      "execution_count": null,
      "outputs": []
    },
    {
      "cell_type": "code",
      "metadata": {
        "id": "LYq_xNgTPC5F"
      },
      "source": [
        "class VGG11(nn.Module):\n",
        "    def __init__(self, output_dim, block, pool, batch_norm):\n",
        "        super().__init__()\n",
        "        \n",
        "        self.features = nn.Sequential(\n",
        "            block(1, 64, batch_norm), #in_channels, out_channels\n",
        "            pool(2, 2), #kernel_size, stride\n",
        "            block(64, 128, batch_norm),\n",
        "            pool(2, 2),\n",
        "            block(128, 256, batch_norm),\n",
        "            block(256, 256, batch_norm),\n",
        "            pool(2, 2),\n",
        "            block(256, 512, batch_norm),\n",
        "            block(512, 512, batch_norm),\n",
        "            pool(2, 2),\n",
        "            block(512, 512, batch_norm),\n",
        "            block(512, 512, batch_norm),\n",
        "            pool(2, 2),\n",
        "        )\n",
        "        \n",
        "        self.classifier = nn.Linear(512, output_dim)\n",
        "\n",
        "    def forward(self, x):\n",
        "        x = self.features(x)\n",
        "        x = x.view(x.shape[0], -1)\n",
        "        x = self.classifier(x)\n",
        "        return x"
      ],
      "execution_count": null,
      "outputs": []
    },
    {
      "cell_type": "code",
      "metadata": {
        "id": "4bNyZ2BbPC5G"
      },
      "source": [
        "class VGG16(nn.Module):\n",
        "    def __init__(self, output_dim, block, pool, batch_norm):\n",
        "        super().__init__()\n",
        "        \n",
        "        self.features = nn.Sequential(\n",
        "            block(1, 64, batch_norm),\n",
        "            block(64, 64, batch_norm),\n",
        "            pool(2, 2),\n",
        "            block(64, 128, batch_norm),\n",
        "            block(128, 128, batch_norm),\n",
        "            pool(2, 2),\n",
        "            block(128, 256, batch_norm),\n",
        "            block(256, 256, batch_norm),\n",
        "            block(256, 256, batch_norm),\n",
        "            pool(2, 2),\n",
        "            block(256, 512, batch_norm),\n",
        "            block(512, 512, batch_norm),\n",
        "            block(512, 512, batch_norm),\n",
        "            pool(2, 2),\n",
        "            block(512, 512, batch_norm),\n",
        "            block(512, 512, batch_norm),\n",
        "            block(512, 512, batch_norm),\n",
        "            pool(2, 2),\n",
        "        )\n",
        "        \n",
        "        self.classifier = nn.Linear(512, output_dim)\n",
        "\n",
        "    def forward(self, x):\n",
        "        x = self.features(x)\n",
        "        x = x.view(x.shape[0], -1)\n",
        "        x = self.classifier(x)\n",
        "        return x"
      ],
      "execution_count": null,
      "outputs": []
    },
    {
      "cell_type": "code",
      "metadata": {
        "id": "bm0vA9IbPC5H"
      },
      "source": [
        "class VGG19(nn.Module):\n",
        "    def __init__(self, output_dim, block, pool, batch_norm):\n",
        "        super().__init__()\n",
        "        \n",
        "        self.features = nn.Sequential(\n",
        "            block(1, 64, batch_norm),\n",
        "            block(64, 64, batch_norm),\n",
        "            pool(2, 2),\n",
        "            block(64, 128, batch_norm),\n",
        "            block(128, 128, batch_norm),\n",
        "            pool(2, 2),\n",
        "            block(128, 256, batch_norm),\n",
        "            block(256, 256, batch_norm),\n",
        "            block(256, 256, batch_norm),\n",
        "            block(256, 256, batch_norm),\n",
        "            pool(2, 2),\n",
        "            block(256, 512, batch_norm),\n",
        "            block(512, 512, batch_norm),\n",
        "            block(512, 512, batch_norm),\n",
        "            block(512, 512, batch_norm),\n",
        "            pool(2, 2),\n",
        "            block(512, 512, batch_norm),\n",
        "            block(512, 512, batch_norm),\n",
        "            block(512, 512, batch_norm),\n",
        "            block(512, 512, batch_norm),\n",
        "            pool(2, 2),\n",
        "        )\n",
        "        \n",
        "        self.classifier = nn.Linear(512, output_dim)\n",
        "\n",
        "    def forward(self, x):\n",
        "        x = self.features(x)\n",
        "        x = x.view(x.shape[0], -1)\n",
        "        x = self.classifier(x)\n",
        "        return x"
      ],
      "execution_count": null,
      "outputs": []
    },
    {
      "cell_type": "code",
      "metadata": {
        "id": "l79tQpdbPC5H"
      },
      "source": [
        "OUTPUT_DIM = 10\n",
        "BATCH_NORM = True\n",
        "\n",
        "vgg11_model = VGG11(OUTPUT_DIM, VGGBlock, nn.MaxPool2d, BATCH_NORM) \n",
        "vgg16_model = VGG16(OUTPUT_DIM, VGGBlock, nn.MaxPool2d, BATCH_NORM) \n",
        "vgg19_model = VGG19(OUTPUT_DIM, VGGBlock, nn.MaxPool2d, BATCH_NORM) "
      ],
      "execution_count": null,
      "outputs": []
    },
    {
      "cell_type": "code",
      "metadata": {
        "colab": {
          "base_uri": "https://localhost:8080/"
        },
        "id": "xqLBrcaaPC5H",
        "outputId": "3810c0a5-e69c-47fb-912b-38baccd1770f"
      },
      "source": [
        "def count_parameters(model):\n",
        "    return sum(p.numel() for p in model.parameters() if p.requires_grad)\n",
        "\n",
        "print(f'VGG11 has {count_parameters(vgg11_model):,} trainable parameters')\n",
        "\n"
      ],
      "execution_count": null,
      "outputs": [
        {
          "output_type": "stream",
          "text": [
            "VGG11 has 9,229,962 trainable parameters\n"
          ],
          "name": "stdout"
        }
      ]
    },
    {
      "cell_type": "markdown",
      "metadata": {
        "id": "AAI1lELFNeWT"
      },
      "source": [
        "## VGG 11\n"
      ]
    },
    {
      "cell_type": "code",
      "metadata": {
        "id": "tsz7lylGPC5I"
      },
      "source": [
        "#defining the model\n",
        "model = VGG11(OUTPUT_DIM, VGGBlock, nn.MaxPool2d, BATCH_NORM) "
      ],
      "execution_count": null,
      "outputs": []
    },
    {
      "cell_type": "code",
      "metadata": {
        "colab": {
          "base_uri": "https://localhost:8080/"
        },
        "id": "-r3a0e_YPC5I",
        "outputId": "8e9aa950-1b9a-4390-fe1a-b34d88ddd4d9"
      },
      "source": [
        "model"
      ],
      "execution_count": null,
      "outputs": [
        {
          "output_type": "execute_result",
          "data": {
            "text/plain": [
              "VGG11(\n",
              "  (features): Sequential(\n",
              "    (0): VGGBlock(\n",
              "      (block): Sequential(\n",
              "        (0): Conv2d(1, 64, kernel_size=(3, 3), stride=(1, 1), padding=(1, 1))\n",
              "        (1): BatchNorm2d(64, eps=1e-05, momentum=0.1, affine=True, track_running_stats=True)\n",
              "        (2): ReLU(inplace=True)\n",
              "      )\n",
              "    )\n",
              "    (1): MaxPool2d(kernel_size=2, stride=2, padding=0, dilation=1, ceil_mode=False)\n",
              "    (2): VGGBlock(\n",
              "      (block): Sequential(\n",
              "        (0): Conv2d(64, 128, kernel_size=(3, 3), stride=(1, 1), padding=(1, 1))\n",
              "        (1): BatchNorm2d(128, eps=1e-05, momentum=0.1, affine=True, track_running_stats=True)\n",
              "        (2): ReLU(inplace=True)\n",
              "      )\n",
              "    )\n",
              "    (3): MaxPool2d(kernel_size=2, stride=2, padding=0, dilation=1, ceil_mode=False)\n",
              "    (4): VGGBlock(\n",
              "      (block): Sequential(\n",
              "        (0): Conv2d(128, 256, kernel_size=(3, 3), stride=(1, 1), padding=(1, 1))\n",
              "        (1): BatchNorm2d(256, eps=1e-05, momentum=0.1, affine=True, track_running_stats=True)\n",
              "        (2): ReLU(inplace=True)\n",
              "      )\n",
              "    )\n",
              "    (5): VGGBlock(\n",
              "      (block): Sequential(\n",
              "        (0): Conv2d(256, 256, kernel_size=(3, 3), stride=(1, 1), padding=(1, 1))\n",
              "        (1): BatchNorm2d(256, eps=1e-05, momentum=0.1, affine=True, track_running_stats=True)\n",
              "        (2): ReLU(inplace=True)\n",
              "      )\n",
              "    )\n",
              "    (6): MaxPool2d(kernel_size=2, stride=2, padding=0, dilation=1, ceil_mode=False)\n",
              "    (7): VGGBlock(\n",
              "      (block): Sequential(\n",
              "        (0): Conv2d(256, 512, kernel_size=(3, 3), stride=(1, 1), padding=(1, 1))\n",
              "        (1): BatchNorm2d(512, eps=1e-05, momentum=0.1, affine=True, track_running_stats=True)\n",
              "        (2): ReLU(inplace=True)\n",
              "      )\n",
              "    )\n",
              "    (8): VGGBlock(\n",
              "      (block): Sequential(\n",
              "        (0): Conv2d(512, 512, kernel_size=(3, 3), stride=(1, 1), padding=(1, 1))\n",
              "        (1): BatchNorm2d(512, eps=1e-05, momentum=0.1, affine=True, track_running_stats=True)\n",
              "        (2): ReLU(inplace=True)\n",
              "      )\n",
              "    )\n",
              "    (9): MaxPool2d(kernel_size=2, stride=2, padding=0, dilation=1, ceil_mode=False)\n",
              "    (10): VGGBlock(\n",
              "      (block): Sequential(\n",
              "        (0): Conv2d(512, 512, kernel_size=(3, 3), stride=(1, 1), padding=(1, 1))\n",
              "        (1): BatchNorm2d(512, eps=1e-05, momentum=0.1, affine=True, track_running_stats=True)\n",
              "        (2): ReLU(inplace=True)\n",
              "      )\n",
              "    )\n",
              "    (11): VGGBlock(\n",
              "      (block): Sequential(\n",
              "        (0): Conv2d(512, 512, kernel_size=(3, 3), stride=(1, 1), padding=(1, 1))\n",
              "        (1): BatchNorm2d(512, eps=1e-05, momentum=0.1, affine=True, track_running_stats=True)\n",
              "        (2): ReLU(inplace=True)\n",
              "      )\n",
              "    )\n",
              "    (12): MaxPool2d(kernel_size=2, stride=2, padding=0, dilation=1, ceil_mode=False)\n",
              "  )\n",
              "  (classifier): Linear(in_features=512, out_features=10, bias=True)\n",
              ")"
            ]
          },
          "metadata": {
            "tags": []
          },
          "execution_count": 17
        }
      ]
    },
    {
      "cell_type": "code",
      "metadata": {
        "id": "KG0oWP2NPC5J"
      },
      "source": [
        "#initialising adam optimzer with  low learning rate\n",
        "optimizer = optim.Adam(model.parameters())"
      ],
      "execution_count": null,
      "outputs": []
    },
    {
      "cell_type": "code",
      "metadata": {
        "id": "J08OTZetPC5J"
      },
      "source": [
        "#using cross entropy as loss function\n",
        "criterion = nn.CrossEntropyLoss()"
      ],
      "execution_count": null,
      "outputs": []
    },
    {
      "cell_type": "code",
      "metadata": {
        "id": "neqvg1s5PC5J"
      },
      "source": [
        "device = torch.device('cuda' if torch.cuda.is_available() else 'cpu')"
      ],
      "execution_count": null,
      "outputs": []
    },
    {
      "cell_type": "code",
      "metadata": {
        "id": "QLbUVa-qPC5J"
      },
      "source": [
        "#placing the model and loss function on device\n",
        "model = model.to(device)\n",
        "criterion = criterion.to(device)"
      ],
      "execution_count": null,
      "outputs": []
    },
    {
      "cell_type": "code",
      "metadata": {
        "id": "LNTcDYY-PC5J"
      },
      "source": [
        "# calculating accuracy\n",
        "def calculate_accuracy(fx, y):\n",
        "    preds = fx.argmax(1, keepdim=True)\n",
        "    correct = preds.eq(y.view_as(preds)).sum()\n",
        "    acc = correct.float()/preds.shape[0]\n",
        "    return acc"
      ],
      "execution_count": null,
      "outputs": []
    },
    {
      "cell_type": "code",
      "metadata": {
        "id": "Dx09tOmbPC5K"
      },
      "source": [
        "def train_model(model, iterator, optimizer, criterion, device):\n",
        "    \n",
        "    epoch_loss = 0\n",
        "    epoch_acc = 0\n",
        "    \n",
        "    model.train()\n",
        "     #training the model\n",
        "\n",
        "    \n",
        "    for (x, y) in iterator:\n",
        "         #x has batch of images\n",
        "      # y has labels for the batch of images\n",
        "        \n",
        "        x = x.to(device)\n",
        "       # moving x and y to device\n",
        "        y = y.to(device)\n",
        "        #setting the gradients of all parameters to zero\n",
        "\n",
        "        optimizer.zero_grad()\n",
        "        \n",
        "        fx = model(x)\n",
        "         #caclulating loss\n",
        "\n",
        "        loss = criterion(fx, y)\n",
        "        #accuracy is computed\n",
        "        acc = calculate_accuracy(fx, y)\n",
        "        # back propogating the loss\n",
        "        loss.backward()\n",
        "        #updating the optimizer\n",
        "        optimizer.step()\n",
        "        \n",
        "        epoch_loss += loss.item()\n",
        "        epoch_acc += acc.item()\n",
        "        \n",
        "    return epoch_loss / len(iterator), epoch_acc / len(iterator)"
      ],
      "execution_count": null,
      "outputs": []
    },
    {
      "cell_type": "code",
      "metadata": {
        "id": "Ce2nsFASPC5K"
      },
      "source": [
        "def evaluate(model, iterator, criterion, device):\n",
        "    \n",
        "    epoch_loss = 0\n",
        "    epoch_acc = 0\n",
        "    \n",
        "    model.eval()\n",
        "    \n",
        "    with torch.no_grad():\n",
        "        for (x, y) in iterator:\n",
        "          #x has batch of images\n",
        "      # y has labels for the batch of images\n",
        "        # moving x and y to device\n",
        "\n",
        "            x = x.to(device)\n",
        "            y = y.to(device)\n",
        "\n",
        "            fx = model(x)\n",
        "            #caclulating loss\n",
        "            loss = criterion(fx, y)\n",
        "             #accuracy is computed\n",
        "            acc = calculate_accuracy(fx, y)\n",
        "\n",
        "            epoch_loss += loss.item()\n",
        "            epoch_acc += acc.item()\n",
        "        \n",
        "    return epoch_loss / len(iterator), epoch_acc / len(iterator)"
      ],
      "execution_count": null,
      "outputs": []
    },
    {
      "cell_type": "code",
      "metadata": {
        "id": "0HT4JL9OPC5K"
      },
      "source": [
        "def epoch_time(start_time, end_time):\n",
        "    elapsed_time = end_time - start_time\n",
        "    elapsed_mins = int(elapsed_time / 60)\n",
        "    elapsed_secs = int(elapsed_time - (elapsed_mins * 60))\n",
        "    return elapsed_mins, elapsed_secs"
      ],
      "execution_count": null,
      "outputs": []
    },
    {
      "cell_type": "code",
      "metadata": {
        "id": "ZT7hBXIDNaLI"
      },
      "source": [
        "#creating empty lists for storing loss and accuracy values while training\n",
        "train_losses = []\n",
        "valid_losses = []\n",
        "train_accuracy = []\n",
        "valid_accuracy = []"
      ],
      "execution_count": null,
      "outputs": []
    },
    {
      "cell_type": "code",
      "metadata": {
        "id": "CQZB_-tlozBv",
        "outputId": "dd6109f8-d1b7-4999-d450-2d848c053932"
      },
      "source": [
        "\n",
        "EPOCHS = 50\n",
        "\n",
        "best_valid_loss = float('inf')\n",
        "\n",
        "\n",
        "for epoch in range(EPOCHS):\n",
        "    \n",
        "    start_time = time.time()\n",
        "    \n",
        "    train_loss, train_acc = train_model(model, train_iterator, optimizer, criterion, device)\n",
        "    \n",
        "    valid_loss, valid_acc = evaluate(model, valid_iterator, criterion, device)\n",
        "    \n",
        "    if valid_loss < best_valid_loss:\n",
        "        best_valid_loss = valid_loss\n",
        "        torch.save(model.state_dict(), 'tut5-model.pt')\n",
        "    \n",
        "    end_time = time.time()\n",
        "    # storing the loss for each epoch\n",
        "    train_losses.append(train_loss)\n",
        "    valid_losses.append(valid_loss)\n",
        "    # storing the accuracy for each epoch\n",
        "    train_accuracy.append(train_acc)\n",
        "    valid_accuracy.append(valid_acc)\n",
        "    \n",
        "    \n",
        "    epoch_mins, epoch_secs = epoch_time(start_time, end_time)\n",
        "    \n",
        "    t = time.localtime()\n",
        "\n",
        "    timestamp = time.strftime('%Y-%m-%d %H:%M:%S', t)\n",
        "    print(timestamp)\n",
        "    print(f'Epoch: {epoch+1:02} | Epoch Time: {epoch_mins}m {epoch_secs}s')\n",
        "    print(f'\\tTrain Loss: {train_loss:.3f} | Train Acc: {train_acc*100:.2f}%')\n",
        "    print(f'\\t Val. Loss: {valid_loss:.3f} |  Val. Acc: {valid_acc*100:.2f}%')"
      ],
      "execution_count": null,
      "outputs": [
        {
          "output_type": "stream",
          "text": [
            "2021-05-15 00:28:16\n",
            "Epoch: 01 | Epoch Time: 0m 34s\n",
            "\tTrain Loss: 0.113 | Train Acc: 96.67%\n",
            "\t Val. Loss: 0.080 |  Val. Acc: 97.69%\n",
            "2021-05-15 00:28:51\n",
            "Epoch: 02 | Epoch Time: 0m 34s\n",
            "\tTrain Loss: 0.041 | Train Acc: 98.71%\n",
            "\t Val. Loss: 0.049 |  Val. Acc: 98.62%\n",
            "2021-05-15 00:29:25\n",
            "Epoch: 03 | Epoch Time: 0m 33s\n",
            "\tTrain Loss: 0.034 | Train Acc: 98.97%\n",
            "\t Val. Loss: 0.044 |  Val. Acc: 98.76%\n",
            "2021-05-15 00:29:59\n",
            "Epoch: 04 | Epoch Time: 0m 34s\n",
            "\tTrain Loss: 0.027 | Train Acc: 99.11%\n",
            "\t Val. Loss: 0.036 |  Val. Acc: 99.08%\n",
            "2021-05-15 00:30:32\n",
            "Epoch: 05 | Epoch Time: 0m 33s\n",
            "\tTrain Loss: 0.023 | Train Acc: 99.28%\n",
            "\t Val. Loss: 0.044 |  Val. Acc: 98.88%\n",
            "2021-05-15 00:31:07\n",
            "Epoch: 06 | Epoch Time: 0m 34s\n",
            "\tTrain Loss: 0.021 | Train Acc: 99.34%\n",
            "\t Val. Loss: 0.041 |  Val. Acc: 98.87%\n",
            "2021-05-15 00:31:41\n",
            "Epoch: 07 | Epoch Time: 0m 33s\n",
            "\tTrain Loss: 0.019 | Train Acc: 99.38%\n",
            "\t Val. Loss: 0.037 |  Val. Acc: 98.96%\n",
            "2021-05-15 00:32:16\n",
            "Epoch: 08 | Epoch Time: 0m 35s\n",
            "\tTrain Loss: 0.017 | Train Acc: 99.44%\n",
            "\t Val. Loss: 0.036 |  Val. Acc: 99.23%\n",
            "2021-05-15 00:32:50\n",
            "Epoch: 09 | Epoch Time: 0m 33s\n",
            "\tTrain Loss: 0.013 | Train Acc: 99.58%\n",
            "\t Val. Loss: 0.038 |  Val. Acc: 99.05%\n",
            "2021-05-15 00:33:23\n",
            "Epoch: 10 | Epoch Time: 0m 33s\n",
            "\tTrain Loss: 0.014 | Train Acc: 99.57%\n",
            "\t Val. Loss: 0.042 |  Val. Acc: 98.92%\n",
            "2021-05-15 00:33:57\n",
            "Epoch: 11 | Epoch Time: 0m 34s\n",
            "\tTrain Loss: 0.011 | Train Acc: 99.65%\n",
            "\t Val. Loss: 0.037 |  Val. Acc: 99.12%\n",
            "2021-05-15 00:34:31\n",
            "Epoch: 12 | Epoch Time: 0m 33s\n",
            "\tTrain Loss: 0.009 | Train Acc: 99.71%\n",
            "\t Val. Loss: 0.038 |  Val. Acc: 99.08%\n",
            "2021-05-15 00:35:06\n",
            "Epoch: 13 | Epoch Time: 0m 35s\n",
            "\tTrain Loss: 0.012 | Train Acc: 99.62%\n",
            "\t Val. Loss: 0.031 |  Val. Acc: 99.34%\n",
            "2021-05-15 00:35:40\n",
            "Epoch: 14 | Epoch Time: 0m 33s\n",
            "\tTrain Loss: 0.007 | Train Acc: 99.76%\n",
            "\t Val. Loss: 0.045 |  Val. Acc: 99.13%\n",
            "2021-05-15 00:36:13\n",
            "Epoch: 15 | Epoch Time: 0m 33s\n",
            "\tTrain Loss: 0.006 | Train Acc: 99.79%\n",
            "\t Val. Loss: 0.050 |  Val. Acc: 99.04%\n",
            "2021-05-15 00:36:48\n",
            "Epoch: 16 | Epoch Time: 0m 34s\n",
            "\tTrain Loss: 0.008 | Train Acc: 99.73%\n",
            "\t Val. Loss: 0.034 |  Val. Acc: 99.45%\n",
            "2021-05-15 00:37:22\n",
            "Epoch: 17 | Epoch Time: 0m 34s\n",
            "\tTrain Loss: 0.006 | Train Acc: 99.82%\n",
            "\t Val. Loss: 0.034 |  Val. Acc: 99.26%\n",
            "2021-05-15 00:37:55\n",
            "Epoch: 18 | Epoch Time: 0m 33s\n",
            "\tTrain Loss: 0.007 | Train Acc: 99.78%\n",
            "\t Val. Loss: 0.049 |  Val. Acc: 99.16%\n",
            "2021-05-15 00:38:29\n",
            "Epoch: 19 | Epoch Time: 0m 34s\n",
            "\tTrain Loss: 0.004 | Train Acc: 99.86%\n",
            "\t Val. Loss: 0.039 |  Val. Acc: 99.28%\n",
            "2021-05-15 00:39:03\n",
            "Epoch: 20 | Epoch Time: 0m 34s\n",
            "\tTrain Loss: 0.005 | Train Acc: 99.86%\n",
            "\t Val. Loss: 0.041 |  Val. Acc: 99.29%\n",
            "2021-05-15 00:39:37\n",
            "Epoch: 21 | Epoch Time: 0m 34s\n",
            "\tTrain Loss: 0.006 | Train Acc: 99.83%\n",
            "\t Val. Loss: 0.031 |  Val. Acc: 99.38%\n",
            "2021-05-15 00:40:12\n",
            "Epoch: 22 | Epoch Time: 0m 34s\n",
            "\tTrain Loss: 0.005 | Train Acc: 99.84%\n",
            "\t Val. Loss: 0.037 |  Val. Acc: 99.23%\n",
            "2021-05-15 00:40:46\n",
            "Epoch: 23 | Epoch Time: 0m 34s\n",
            "\tTrain Loss: 0.003 | Train Acc: 99.91%\n",
            "\t Val. Loss: 0.035 |  Val. Acc: 99.30%\n",
            "2021-05-15 00:41:20\n",
            "Epoch: 24 | Epoch Time: 0m 34s\n",
            "\tTrain Loss: 0.004 | Train Acc: 99.89%\n",
            "\t Val. Loss: 0.035 |  Val. Acc: 99.39%\n",
            "2021-05-15 00:41:55\n",
            "Epoch: 25 | Epoch Time: 0m 34s\n",
            "\tTrain Loss: 0.002 | Train Acc: 99.94%\n",
            "\t Val. Loss: 0.038 |  Val. Acc: 99.37%\n",
            "2021-05-15 00:42:29\n",
            "Epoch: 26 | Epoch Time: 0m 34s\n",
            "\tTrain Loss: 0.001 | Train Acc: 99.99%\n",
            "\t Val. Loss: 0.042 |  Val. Acc: 99.38%\n",
            "2021-05-15 00:43:03\n",
            "Epoch: 27 | Epoch Time: 0m 34s\n",
            "\tTrain Loss: 0.007 | Train Acc: 99.81%\n",
            "\t Val. Loss: 0.041 |  Val. Acc: 99.40%\n",
            "2021-05-15 00:43:36\n",
            "Epoch: 28 | Epoch Time: 0m 33s\n",
            "\tTrain Loss: 0.003 | Train Acc: 99.93%\n",
            "\t Val. Loss: 0.033 |  Val. Acc: 99.53%\n",
            "2021-05-15 00:44:10\n",
            "Epoch: 29 | Epoch Time: 0m 33s\n",
            "\tTrain Loss: 0.003 | Train Acc: 99.90%\n",
            "\t Val. Loss: 0.044 |  Val. Acc: 99.32%\n",
            "2021-05-15 00:44:44\n",
            "Epoch: 30 | Epoch Time: 0m 34s\n",
            "\tTrain Loss: 0.003 | Train Acc: 99.92%\n",
            "\t Val. Loss: 0.045 |  Val. Acc: 99.30%\n",
            "2021-05-15 00:45:18\n",
            "Epoch: 31 | Epoch Time: 0m 33s\n",
            "\tTrain Loss: 0.003 | Train Acc: 99.91%\n",
            "\t Val. Loss: 0.041 |  Val. Acc: 99.33%\n",
            "2021-05-15 00:45:52\n",
            "Epoch: 32 | Epoch Time: 0m 33s\n",
            "\tTrain Loss: 0.002 | Train Acc: 99.94%\n",
            "\t Val. Loss: 0.041 |  Val. Acc: 99.37%\n",
            "2021-05-15 00:46:26\n",
            "Epoch: 33 | Epoch Time: 0m 33s\n",
            "\tTrain Loss: 0.004 | Train Acc: 99.90%\n",
            "\t Val. Loss: 0.046 |  Val. Acc: 99.28%\n",
            "2021-05-15 00:46:59\n",
            "Epoch: 34 | Epoch Time: 0m 33s\n",
            "\tTrain Loss: 0.003 | Train Acc: 99.93%\n",
            "\t Val. Loss: 0.040 |  Val. Acc: 99.26%\n",
            "2021-05-15 00:47:33\n",
            "Epoch: 35 | Epoch Time: 0m 34s\n",
            "\tTrain Loss: 0.002 | Train Acc: 99.92%\n",
            "\t Val. Loss: 0.047 |  Val. Acc: 99.30%\n",
            "2021-05-15 00:48:07\n",
            "Epoch: 36 | Epoch Time: 0m 33s\n",
            "\tTrain Loss: 0.002 | Train Acc: 99.94%\n",
            "\t Val. Loss: 0.039 |  Val. Acc: 99.42%\n",
            "2021-05-15 00:48:41\n",
            "Epoch: 37 | Epoch Time: 0m 33s\n",
            "\tTrain Loss: 0.003 | Train Acc: 99.92%\n",
            "\t Val. Loss: 0.038 |  Val. Acc: 99.47%\n",
            "2021-05-15 00:49:15\n",
            "Epoch: 38 | Epoch Time: 0m 34s\n",
            "\tTrain Loss: 0.002 | Train Acc: 99.94%\n",
            "\t Val. Loss: 0.041 |  Val. Acc: 99.37%\n",
            "2021-05-15 00:49:49\n",
            "Epoch: 39 | Epoch Time: 0m 33s\n",
            "\tTrain Loss: 0.003 | Train Acc: 99.92%\n",
            "\t Val. Loss: 0.042 |  Val. Acc: 99.29%\n",
            "2021-05-15 00:50:24\n",
            "Epoch: 40 | Epoch Time: 0m 35s\n",
            "\tTrain Loss: 0.001 | Train Acc: 99.96%\n",
            "\t Val. Loss: 0.035 |  Val. Acc: 99.42%\n",
            "2021-05-15 00:50:58\n",
            "Epoch: 41 | Epoch Time: 0m 34s\n",
            "\tTrain Loss: 0.002 | Train Acc: 99.93%\n",
            "\t Val. Loss: 0.045 |  Val. Acc: 99.33%\n",
            "2021-05-15 00:51:32\n",
            "Epoch: 42 | Epoch Time: 0m 33s\n",
            "\tTrain Loss: 0.002 | Train Acc: 99.92%\n",
            "\t Val. Loss: 0.050 |  Val. Acc: 99.29%\n",
            "2021-05-15 00:52:06\n",
            "Epoch: 43 | Epoch Time: 0m 34s\n",
            "\tTrain Loss: 0.002 | Train Acc: 99.94%\n",
            "\t Val. Loss: 0.059 |  Val. Acc: 99.16%\n",
            "2021-05-15 00:52:40\n",
            "Epoch: 44 | Epoch Time: 0m 34s\n",
            "\tTrain Loss: 0.003 | Train Acc: 99.93%\n",
            "\t Val. Loss: 0.047 |  Val. Acc: 99.26%\n",
            "2021-05-15 00:53:15\n",
            "Epoch: 45 | Epoch Time: 0m 34s\n",
            "\tTrain Loss: 0.001 | Train Acc: 99.96%\n",
            "\t Val. Loss: 0.042 |  Val. Acc: 99.37%\n",
            "2021-05-15 00:53:49\n",
            "Epoch: 46 | Epoch Time: 0m 33s\n",
            "\tTrain Loss: 0.001 | Train Acc: 99.96%\n",
            "\t Val. Loss: 0.051 |  Val. Acc: 99.27%\n",
            "2021-05-15 00:54:22\n",
            "Epoch: 47 | Epoch Time: 0m 33s\n",
            "\tTrain Loss: 0.001 | Train Acc: 99.98%\n",
            "\t Val. Loss: 0.049 |  Val. Acc: 99.27%\n",
            "2021-05-15 00:54:57\n",
            "Epoch: 48 | Epoch Time: 0m 34s\n",
            "\tTrain Loss: 0.002 | Train Acc: 99.92%\n",
            "\t Val. Loss: 0.041 |  Val. Acc: 99.35%\n",
            "2021-05-15 00:55:31\n",
            "Epoch: 49 | Epoch Time: 0m 33s\n",
            "\tTrain Loss: 0.002 | Train Acc: 99.96%\n",
            "\t Val. Loss: 0.057 |  Val. Acc: 99.17%\n",
            "2021-05-15 00:56:04\n",
            "Epoch: 50 | Epoch Time: 0m 33s\n",
            "\tTrain Loss: 0.002 | Train Acc: 99.94%\n",
            "\t Val. Loss: 0.043 |  Val. Acc: 99.47%\n"
          ],
          "name": "stdout"
        }
      ]
    },
    {
      "cell_type": "code",
      "metadata": {
        "colab": {
          "base_uri": "https://localhost:8080/"
        },
        "id": "r7ReWznhPC5L",
        "outputId": "7e90517f-4e87-4b4a-cc67-c6c0826840c9"
      },
      "source": [
        "model.load_state_dict(torch.load('tut5-model.pt'))\n",
        "\n",
        "test_loss, test_acc = evaluate(model, test_iterator, criterion, device)\n",
        "\n",
        "print(f'Test Loss: {test_loss:.3f} | Test Acc: {test_acc*100:.2f}%')"
      ],
      "execution_count": null,
      "outputs": [
        {
          "output_type": "stream",
          "text": [
            "Test Loss: 0.025 | Test Acc: 99.35%\n"
          ],
          "name": "stdout"
        }
      ]
    },
    {
      "cell_type": "code",
      "metadata": {
        "id": "Qmh2rllSZbHl",
        "outputId": "b43cff33-1cac-42a4-feb2-203034446be1"
      },
      "source": [
        "#plotting the loss\n",
        "plt.figure(figsize=(7, 7))\n",
        "plt.plot(train_losses, color='green', label='train loss')\n",
        "plt.plot(valid_losses, color='red', label='Testing loss')\n",
        "plt.legend()\n",
        "plt.show()"
      ],
      "execution_count": null,
      "outputs": [
        {
          "output_type": "display_data",
          "data": {
            "image/png": "[encoded data removed]",
            "text/plain": [
              "<Figure size 504x504 with 1 Axes>"
            ]
          },
          "metadata": {
            "tags": [],
            "needs_background": "light"
          }
        }
      ]
    },
    {
      "cell_type": "code",
      "metadata": {
        "id": "5mkrrDrjNaLJ",
        "outputId": "db9519f0-be80-4fc5-d363-9ba040b6cca8"
      },
      "source": [
        "#plotting the accuracy\n",
        "plt.figure(figsize=(7, 7))\n",
        "plt.plot(train_accuracy, color='green', label='Train Accuracy')\n",
        "plt.plot(valid_accuracy, color='red', label='Test Accuracy')\n",
        "plt.legend()\n",
        "plt.show()"
      ],
      "execution_count": null,
      "outputs": [
        {
          "output_type": "display_data",
          "data": {
            "image/png": "[encoded data removed]",
            "text/plain": [
              "<Figure size 504x504 with 1 Axes>"
            ]
          },
          "metadata": {
            "tags": [],
            "needs_background": "light"
          }
        }
      ]
    },
    {
      "cell_type": "markdown",
      "metadata": {
        "id": "S0Epu25Qhzx0"
      },
      "source": [
        "## VGG 16"
      ]
    },
    {
      "cell_type": "code",
      "metadata": {
        "id": "uOa-igGKh1oB"
      },
      "source": [
        "  #defining the model\n",
        "model_2 = VGG16(OUTPUT_DIM, VGGBlock, nn.MaxPool2d, BATCH_NORM) "
      ],
      "execution_count": null,
      "outputs": []
    },
    {
      "cell_type": "code",
      "metadata": {
        "id": "assx9KHMNaLK",
        "outputId": "c964ef42-8376-4119-da20-88c8aa2f325d"
      },
      "source": [
        "print(f'VGG16 has {count_parameters(vgg16_model):,} trainable parameters')"
      ],
      "execution_count": null,
      "outputs": [
        {
          "output_type": "stream",
          "text": [
            "VGG16 has 14,727,114 trainable parameters\n"
          ],
          "name": "stdout"
        }
      ]
    },
    {
      "cell_type": "code",
      "metadata": {
        "colab": {
          "base_uri": "https://localhost:8080/"
        },
        "id": "aEoXYgG9h1oC",
        "outputId": "e9a87390-38f7-42e3-ac29-1110b4727d21"
      },
      "source": [
        "model_2"
      ],
      "execution_count": null,
      "outputs": [
        {
          "output_type": "execute_result",
          "data": {
            "text/plain": [
              "VGG16(\n",
              "  (features): Sequential(\n",
              "    (0): VGGBlock(\n",
              "      (block): Sequential(\n",
              "        (0): Conv2d(1, 64, kernel_size=(3, 3), stride=(1, 1), padding=(1, 1))\n",
              "        (1): BatchNorm2d(64, eps=1e-05, momentum=0.1, affine=True, track_running_stats=True)\n",
              "        (2): ReLU(inplace=True)\n",
              "      )\n",
              "    )\n",
              "    (1): VGGBlock(\n",
              "      (block): Sequential(\n",
              "        (0): Conv2d(64, 64, kernel_size=(3, 3), stride=(1, 1), padding=(1, 1))\n",
              "        (1): BatchNorm2d(64, eps=1e-05, momentum=0.1, affine=True, track_running_stats=True)\n",
              "        (2): ReLU(inplace=True)\n",
              "      )\n",
              "    )\n",
              "    (2): MaxPool2d(kernel_size=2, stride=2, padding=0, dilation=1, ceil_mode=False)\n",
              "    (3): VGGBlock(\n",
              "      (block): Sequential(\n",
              "        (0): Conv2d(64, 128, kernel_size=(3, 3), stride=(1, 1), padding=(1, 1))\n",
              "        (1): BatchNorm2d(128, eps=1e-05, momentum=0.1, affine=True, track_running_stats=True)\n",
              "        (2): ReLU(inplace=True)\n",
              "      )\n",
              "    )\n",
              "    (4): VGGBlock(\n",
              "      (block): Sequential(\n",
              "        (0): Conv2d(128, 128, kernel_size=(3, 3), stride=(1, 1), padding=(1, 1))\n",
              "        (1): BatchNorm2d(128, eps=1e-05, momentum=0.1, affine=True, track_running_stats=True)\n",
              "        (2): ReLU(inplace=True)\n",
              "      )\n",
              "    )\n",
              "    (5): MaxPool2d(kernel_size=2, stride=2, padding=0, dilation=1, ceil_mode=False)\n",
              "    (6): VGGBlock(\n",
              "      (block): Sequential(\n",
              "        (0): Conv2d(128, 256, kernel_size=(3, 3), stride=(1, 1), padding=(1, 1))\n",
              "        (1): BatchNorm2d(256, eps=1e-05, momentum=0.1, affine=True, track_running_stats=True)\n",
              "        (2): ReLU(inplace=True)\n",
              "      )\n",
              "    )\n",
              "    (7): VGGBlock(\n",
              "      (block): Sequential(\n",
              "        (0): Conv2d(256, 256, kernel_size=(3, 3), stride=(1, 1), padding=(1, 1))\n",
              "        (1): BatchNorm2d(256, eps=1e-05, momentum=0.1, affine=True, track_running_stats=True)\n",
              "        (2): ReLU(inplace=True)\n",
              "      )\n",
              "    )\n",
              "    (8): VGGBlock(\n",
              "      (block): Sequential(\n",
              "        (0): Conv2d(256, 256, kernel_size=(3, 3), stride=(1, 1), padding=(1, 1))\n",
              "        (1): BatchNorm2d(256, eps=1e-05, momentum=0.1, affine=True, track_running_stats=True)\n",
              "        (2): ReLU(inplace=True)\n",
              "      )\n",
              "    )\n",
              "    (9): MaxPool2d(kernel_size=2, stride=2, padding=0, dilation=1, ceil_mode=False)\n",
              "    (10): VGGBlock(\n",
              "      (block): Sequential(\n",
              "        (0): Conv2d(256, 512, kernel_size=(3, 3), stride=(1, 1), padding=(1, 1))\n",
              "        (1): BatchNorm2d(512, eps=1e-05, momentum=0.1, affine=True, track_running_stats=True)\n",
              "        (2): ReLU(inplace=True)\n",
              "      )\n",
              "    )\n",
              "    (11): VGGBlock(\n",
              "      (block): Sequential(\n",
              "        (0): Conv2d(512, 512, kernel_size=(3, 3), stride=(1, 1), padding=(1, 1))\n",
              "        (1): BatchNorm2d(512, eps=1e-05, momentum=0.1, affine=True, track_running_stats=True)\n",
              "        (2): ReLU(inplace=True)\n",
              "      )\n",
              "    )\n",
              "    (12): VGGBlock(\n",
              "      (block): Sequential(\n",
              "        (0): Conv2d(512, 512, kernel_size=(3, 3), stride=(1, 1), padding=(1, 1))\n",
              "        (1): BatchNorm2d(512, eps=1e-05, momentum=0.1, affine=True, track_running_stats=True)\n",
              "        (2): ReLU(inplace=True)\n",
              "      )\n",
              "    )\n",
              "    (13): MaxPool2d(kernel_size=2, stride=2, padding=0, dilation=1, ceil_mode=False)\n",
              "    (14): VGGBlock(\n",
              "      (block): Sequential(\n",
              "        (0): Conv2d(512, 512, kernel_size=(3, 3), stride=(1, 1), padding=(1, 1))\n",
              "        (1): BatchNorm2d(512, eps=1e-05, momentum=0.1, affine=True, track_running_stats=True)\n",
              "        (2): ReLU(inplace=True)\n",
              "      )\n",
              "    )\n",
              "    (15): VGGBlock(\n",
              "      (block): Sequential(\n",
              "        (0): Conv2d(512, 512, kernel_size=(3, 3), stride=(1, 1), padding=(1, 1))\n",
              "        (1): BatchNorm2d(512, eps=1e-05, momentum=0.1, affine=True, track_running_stats=True)\n",
              "        (2): ReLU(inplace=True)\n",
              "      )\n",
              "    )\n",
              "    (16): VGGBlock(\n",
              "      (block): Sequential(\n",
              "        (0): Conv2d(512, 512, kernel_size=(3, 3), stride=(1, 1), padding=(1, 1))\n",
              "        (1): BatchNorm2d(512, eps=1e-05, momentum=0.1, affine=True, track_running_stats=True)\n",
              "        (2): ReLU(inplace=True)\n",
              "      )\n",
              "    )\n",
              "    (17): MaxPool2d(kernel_size=2, stride=2, padding=0, dilation=1, ceil_mode=False)\n",
              "  )\n",
              "  (classifier): Linear(in_features=512, out_features=10, bias=True)\n",
              ")"
            ]
          },
          "metadata": {
            "tags": []
          },
          "execution_count": 33
        }
      ]
    },
    {
      "cell_type": "code",
      "metadata": {
        "id": "SAjT71Bnh1oE"
      },
      "source": [
        "#initialising adam optimzer with  low learning rate\n",
        "optimizer = optim.Adam(model_2.parameters())"
      ],
      "execution_count": null,
      "outputs": []
    },
    {
      "cell_type": "code",
      "metadata": {
        "id": "mhfXR7cIh1oF"
      },
      "source": [
        "#using cross entropy as loss function\n",
        "criterion = nn.CrossEntropyLoss()"
      ],
      "execution_count": null,
      "outputs": []
    },
    {
      "cell_type": "code",
      "metadata": {
        "id": "SlJVgPx5h1oG"
      },
      "source": [
        "#placing the model and loss function on device\n",
        "model_2 = model_2.to(device)\n",
        "criterion = criterion.to(device)"
      ],
      "execution_count": null,
      "outputs": []
    },
    {
      "cell_type": "code",
      "metadata": {
        "id": "2McFZJsSh1oH"
      },
      "source": [
        "def calculate_accuracy(fx, y):\n",
        "    preds = fx.argmax(1, keepdim=True)\n",
        "    correct = preds.eq(y.view_as(preds)).sum()\n",
        "    acc = correct.float()/preds.shape[0]\n",
        "    return acc"
      ],
      "execution_count": null,
      "outputs": []
    },
    {
      "cell_type": "code",
      "metadata": {
        "id": "xrdH--B_h1oI"
      },
      "source": [
        "def train(model_2, iterator, optimizer, criterion, device):\n",
        "    \n",
        "    epoch_loss = 0\n",
        "    epoch_acc = 0\n",
        "    #training the model\n",
        "    model_2.train()\n",
        "     #x has batch of images\n",
        "      # y has labels for the batch of images\n",
        "    for (x, y) in iterator:\n",
        "        # moving x and y to device\n",
        "        x = x.to(device)\n",
        "        y = y.to(device)\n",
        "        #setting the gradients of all parameters to zero  \n",
        "        optimizer.zero_grad()\n",
        "                \n",
        "        fx = model_2(x)\n",
        "        #caclulating loss\n",
        "        loss = criterion(fx, y)\n",
        "         #accuracy is computed\n",
        "        acc = calculate_accuracy(fx, y)\n",
        "        # back propogating the loss\n",
        "        loss.backward()\n",
        "        #updating the optimizer\n",
        "        optimizer.step()\n",
        "        \n",
        "        epoch_loss += loss.item()\n",
        "        epoch_acc += acc.item()\n",
        "        \n",
        "    return epoch_loss / len(iterator), epoch_acc / len(iterator)"
      ],
      "execution_count": null,
      "outputs": []
    },
    {
      "cell_type": "code",
      "metadata": {
        "id": "EmqODLWXh1oJ"
      },
      "source": [
        "def evaluate(model_2, iterator, criterion, device):\n",
        "    \n",
        "    epoch_loss = 0\n",
        "    epoch_acc = 0\n",
        "    \n",
        "    model_2.eval()\n",
        "    \n",
        "    with torch.no_grad():\n",
        "        for (x, y) in iterator:\n",
        "\n",
        "            x = x.to(device)\n",
        "            y = y.to(device)\n",
        "\n",
        "            fx = model_2(x)\n",
        "\n",
        "            loss = criterion(fx, y)\n",
        "\n",
        "            acc = calculate_accuracy(fx, y)\n",
        "\n",
        "            epoch_loss += loss.item()\n",
        "            epoch_acc += acc.item()\n",
        "        \n",
        "    return epoch_loss / len(iterator), epoch_acc / len(iterator)"
      ],
      "execution_count": null,
      "outputs": []
    },
    {
      "cell_type": "code",
      "metadata": {
        "id": "R-AIdQeIh1oK"
      },
      "source": [
        "def epoch_time(start_time, end_time):\n",
        "    elapsed_time = end_time - start_time\n",
        "    elapsed_mins = int(elapsed_time / 60)\n",
        "    elapsed_secs = int(elapsed_time - (elapsed_mins * 60))\n",
        "    return elapsed_mins, elapsed_secs"
      ],
      "execution_count": null,
      "outputs": []
    },
    {
      "cell_type": "code",
      "metadata": {
        "id": "J0vYksPLNaLN"
      },
      "source": [
        "train_losses2 = []\n",
        "valid_losses2 = []\n",
        "train_accuracy2 = []\n",
        "valid_accuracy2 = []"
      ],
      "execution_count": null,
      "outputs": []
    },
    {
      "cell_type": "code",
      "metadata": {
        "id": "u_i3x1XPozBz",
        "outputId": "835f458a-65d5-4295-9f9e-1629ced79616"
      },
      "source": [
        "EPOCHS = 50\n",
        "\n",
        "best_valid_loss = float('inf')\n",
        "\n",
        "for epoch in range(EPOCHS):\n",
        "    \n",
        "    start_time = time.time()\n",
        "    \n",
        "    train_loss, train_acc = train(model_2, train_iterator, optimizer, criterion, device)\n",
        "    valid_loss, valid_acc = evaluate(model_2, valid_iterator, criterion, device)\n",
        "    \n",
        "    if valid_loss < best_valid_loss:\n",
        "        best_valid_loss = valid_loss\n",
        "        torch.save(model_2.state_dict(), 'tut5-model_2.pt')\n",
        "    \n",
        "    end_time = time.time()\n",
        "    \n",
        "    train_losses2.append(train_loss)\n",
        "    valid_losses2.append(valid_loss)\n",
        "    \n",
        "    train_accuracy2.append(train_acc)\n",
        "    valid_accuracy2.append(valid_acc)\n",
        "\n",
        "    epoch_mins, epoch_secs = epoch_time(start_time, end_time)\n",
        "    \n",
        "    t = time.localtime()\n",
        "\n",
        "    timestamp = time.strftime('%Y-%m-%d %H:%M:%S', t)\n",
        "    print(timestamp)\n",
        "    \n",
        "    print(f'Epoch: {epoch+1:02} | Epoch Time: {epoch_mins}m {epoch_secs}s')\n",
        "    print(f'\\tTrain Loss: {train_loss:.3f} | Train Acc: {train_acc*100:.2f}%')\n",
        "    print(f'\\t Val. Loss: {valid_loss:.3f} |  Val. Acc: {valid_acc*100:.2f}%')"
      ],
      "execution_count": null,
      "outputs": [
        {
          "output_type": "stream",
          "text": [
            "2021-05-15 00:56:56\n",
            "Epoch: 01 | Epoch Time: 0m 46s\n",
            "\tTrain Loss: 0.243 | Train Acc: 91.63%\n",
            "\t Val. Loss: 0.071 |  Val. Acc: 97.94%\n",
            "2021-05-15 00:57:43\n",
            "Epoch: 02 | Epoch Time: 0m 46s\n",
            "\tTrain Loss: 0.059 | Train Acc: 98.17%\n",
            "\t Val. Loss: 0.069 |  Val. Acc: 98.19%\n",
            "2021-05-15 00:58:29\n",
            "Epoch: 03 | Epoch Time: 0m 46s\n",
            "\tTrain Loss: 0.044 | Train Acc: 98.72%\n",
            "\t Val. Loss: 0.053 |  Val. Acc: 98.38%\n",
            "2021-05-15 00:59:16\n",
            "Epoch: 04 | Epoch Time: 0m 46s\n",
            "\tTrain Loss: 0.039 | Train Acc: 98.84%\n",
            "\t Val. Loss: 0.049 |  Val. Acc: 98.52%\n",
            "2021-05-15 01:00:03\n",
            "Epoch: 05 | Epoch Time: 0m 46s\n",
            "\tTrain Loss: 0.034 | Train Acc: 98.97%\n",
            "\t Val. Loss: 0.046 |  Val. Acc: 98.70%\n",
            "2021-05-15 01:00:49\n",
            "Epoch: 06 | Epoch Time: 0m 46s\n",
            "\tTrain Loss: 0.032 | Train Acc: 99.06%\n",
            "\t Val. Loss: 0.035 |  Val. Acc: 98.95%\n",
            "2021-05-15 01:01:35\n",
            "Epoch: 07 | Epoch Time: 0m 45s\n",
            "\tTrain Loss: 0.026 | Train Acc: 99.23%\n",
            "\t Val. Loss: 0.055 |  Val. Acc: 98.70%\n",
            "2021-05-15 01:02:21\n",
            "Epoch: 08 | Epoch Time: 0m 45s\n",
            "\tTrain Loss: 0.027 | Train Acc: 99.19%\n",
            "\t Val. Loss: 0.035 |  Val. Acc: 99.06%\n",
            "2021-05-15 01:03:06\n",
            "Epoch: 09 | Epoch Time: 0m 45s\n",
            "\tTrain Loss: 0.023 | Train Acc: 99.34%\n",
            "\t Val. Loss: 0.046 |  Val. Acc: 98.71%\n",
            "2021-05-15 01:03:53\n",
            "Epoch: 10 | Epoch Time: 0m 46s\n",
            "\tTrain Loss: 0.021 | Train Acc: 99.34%\n",
            "\t Val. Loss: 0.036 |  Val. Acc: 99.03%\n",
            "2021-05-15 01:04:39\n",
            "Epoch: 11 | Epoch Time: 0m 46s\n",
            "\tTrain Loss: 0.019 | Train Acc: 99.43%\n",
            "\t Val. Loss: 0.033 |  Val. Acc: 98.98%\n",
            "2021-05-15 01:05:26\n",
            "Epoch: 12 | Epoch Time: 0m 46s\n",
            "\tTrain Loss: 0.018 | Train Acc: 99.49%\n",
            "\t Val. Loss: 0.032 |  Val. Acc: 99.30%\n",
            "2021-05-15 01:06:13\n",
            "Epoch: 13 | Epoch Time: 0m 47s\n",
            "\tTrain Loss: 0.015 | Train Acc: 99.53%\n",
            "\t Val. Loss: 0.024 |  Val. Acc: 99.40%\n",
            "2021-05-15 01:06:59\n",
            "Epoch: 14 | Epoch Time: 0m 46s\n",
            "\tTrain Loss: 0.014 | Train Acc: 99.57%\n",
            "\t Val. Loss: 0.032 |  Val. Acc: 99.23%\n",
            "2021-05-15 01:07:45\n",
            "Epoch: 15 | Epoch Time: 0m 45s\n",
            "\tTrain Loss: 0.013 | Train Acc: 99.61%\n",
            "\t Val. Loss: 0.030 |  Val. Acc: 99.31%\n",
            "2021-05-15 01:08:32\n",
            "Epoch: 16 | Epoch Time: 0m 46s\n",
            "\tTrain Loss: 0.012 | Train Acc: 99.65%\n",
            "\t Val. Loss: 0.040 |  Val. Acc: 99.09%\n",
            "2021-05-15 01:09:18\n",
            "Epoch: 17 | Epoch Time: 0m 46s\n",
            "\tTrain Loss: 0.009 | Train Acc: 99.74%\n",
            "\t Val. Loss: 0.046 |  Val. Acc: 98.93%\n",
            "2021-05-15 01:10:03\n",
            "Epoch: 18 | Epoch Time: 0m 44s\n",
            "\tTrain Loss: 0.011 | Train Acc: 99.68%\n",
            "\t Val. Loss: 0.044 |  Val. Acc: 98.91%\n",
            "2021-05-15 01:10:50\n",
            "Epoch: 19 | Epoch Time: 0m 47s\n",
            "\tTrain Loss: 0.010 | Train Acc: 99.71%\n",
            "\t Val. Loss: 0.030 |  Val. Acc: 99.26%\n",
            "2021-05-15 01:11:35\n",
            "Epoch: 20 | Epoch Time: 0m 45s\n",
            "\tTrain Loss: 0.008 | Train Acc: 99.76%\n",
            "\t Val. Loss: 0.031 |  Val. Acc: 99.30%\n",
            "2021-05-15 01:12:22\n",
            "Epoch: 21 | Epoch Time: 0m 46s\n",
            "\tTrain Loss: 0.008 | Train Acc: 99.76%\n",
            "\t Val. Loss: 0.024 |  Val. Acc: 99.38%\n",
            "2021-05-15 01:13:07\n",
            "Epoch: 22 | Epoch Time: 0m 44s\n",
            "\tTrain Loss: 0.007 | Train Acc: 99.78%\n",
            "\t Val. Loss: 0.029 |  Val. Acc: 99.20%\n",
            "2021-05-15 01:13:52\n",
            "Epoch: 23 | Epoch Time: 0m 44s\n",
            "\tTrain Loss: 0.005 | Train Acc: 99.84%\n",
            "\t Val. Loss: 0.049 |  Val. Acc: 99.01%\n",
            "2021-05-15 01:14:38\n",
            "Epoch: 24 | Epoch Time: 0m 46s\n",
            "\tTrain Loss: 0.009 | Train Acc: 99.75%\n",
            "\t Val. Loss: 0.030 |  Val. Acc: 99.33%\n",
            "2021-05-15 01:15:24\n",
            "Epoch: 25 | Epoch Time: 0m 45s\n",
            "\tTrain Loss: 0.004 | Train Acc: 99.88%\n",
            "\t Val. Loss: 0.036 |  Val. Acc: 99.34%\n",
            "2021-05-15 01:16:10\n",
            "Epoch: 26 | Epoch Time: 0m 45s\n",
            "\tTrain Loss: 0.005 | Train Acc: 99.88%\n",
            "\t Val. Loss: 0.032 |  Val. Acc: 99.36%\n",
            "2021-05-15 01:16:55\n",
            "Epoch: 27 | Epoch Time: 0m 45s\n",
            "\tTrain Loss: 0.007 | Train Acc: 99.81%\n",
            "\t Val. Loss: 0.043 |  Val. Acc: 99.16%\n",
            "2021-05-15 01:17:40\n",
            "Epoch: 28 | Epoch Time: 0m 44s\n",
            "\tTrain Loss: 0.005 | Train Acc: 99.85%\n",
            "\t Val. Loss: 0.037 |  Val. Acc: 99.32%\n",
            "2021-05-15 01:18:25\n",
            "Epoch: 29 | Epoch Time: 0m 45s\n",
            "\tTrain Loss: 0.005 | Train Acc: 99.84%\n",
            "\t Val. Loss: 0.048 |  Val. Acc: 99.07%\n",
            "2021-05-15 01:19:11\n",
            "Epoch: 30 | Epoch Time: 0m 46s\n",
            "\tTrain Loss: 0.004 | Train Acc: 99.89%\n",
            "\t Val. Loss: 0.038 |  Val. Acc: 99.37%\n",
            "2021-05-15 01:19:56\n",
            "Epoch: 31 | Epoch Time: 0m 44s\n",
            "\tTrain Loss: 0.005 | Train Acc: 99.85%\n",
            "\t Val. Loss: 0.038 |  Val. Acc: 99.30%\n",
            "2021-05-15 01:20:42\n",
            "Epoch: 32 | Epoch Time: 0m 45s\n",
            "\tTrain Loss: 0.003 | Train Acc: 99.89%\n",
            "\t Val. Loss: 0.031 |  Val. Acc: 99.41%\n",
            "2021-05-15 01:21:28\n",
            "Epoch: 33 | Epoch Time: 0m 45s\n",
            "\tTrain Loss: 0.005 | Train Acc: 99.88%\n",
            "\t Val. Loss: 0.043 |  Val. Acc: 99.18%\n",
            "2021-05-15 01:22:13\n",
            "Epoch: 34 | Epoch Time: 0m 45s\n",
            "\tTrain Loss: 0.003 | Train Acc: 99.90%\n",
            "\t Val. Loss: 0.043 |  Val. Acc: 99.25%\n",
            "2021-05-15 01:22:59\n",
            "Epoch: 35 | Epoch Time: 0m 45s\n",
            "\tTrain Loss: 0.004 | Train Acc: 99.90%\n",
            "\t Val. Loss: 0.028 |  Val. Acc: 99.46%\n",
            "2021-05-15 01:23:45\n",
            "Epoch: 36 | Epoch Time: 0m 46s\n",
            "\tTrain Loss: 0.003 | Train Acc: 99.90%\n",
            "\t Val. Loss: 0.055 |  Val. Acc: 99.20%\n",
            "2021-05-15 01:24:31\n",
            "Epoch: 37 | Epoch Time: 0m 45s\n",
            "\tTrain Loss: 0.003 | Train Acc: 99.91%\n",
            "\t Val. Loss: 0.029 |  Val. Acc: 99.45%\n",
            "2021-05-15 01:25:16\n",
            "Epoch: 38 | Epoch Time: 0m 45s\n",
            "\tTrain Loss: 0.002 | Train Acc: 99.94%\n",
            "\t Val. Loss: 0.036 |  Val. Acc: 99.37%\n",
            "2021-05-15 01:26:03\n",
            "Epoch: 39 | Epoch Time: 0m 46s\n",
            "\tTrain Loss: 0.004 | Train Acc: 99.90%\n",
            "\t Val. Loss: 0.039 |  Val. Acc: 99.40%\n",
            "2021-05-15 01:26:48\n",
            "Epoch: 40 | Epoch Time: 0m 45s\n",
            "\tTrain Loss: 0.004 | Train Acc: 99.89%\n",
            "\t Val. Loss: 0.032 |  Val. Acc: 99.40%\n",
            "2021-05-15 01:27:33\n",
            "Epoch: 41 | Epoch Time: 0m 44s\n",
            "\tTrain Loss: 0.002 | Train Acc: 99.93%\n",
            "\t Val. Loss: 0.033 |  Val. Acc: 99.50%\n",
            "2021-05-15 01:28:19\n",
            "Epoch: 42 | Epoch Time: 0m 45s\n",
            "\tTrain Loss: 0.003 | Train Acc: 99.91%\n",
            "\t Val. Loss: 0.031 |  Val. Acc: 99.50%\n",
            "2021-05-15 01:29:06\n",
            "Epoch: 43 | Epoch Time: 0m 46s\n",
            "\tTrain Loss: 0.002 | Train Acc: 99.95%\n",
            "\t Val. Loss: 0.045 |  Val. Acc: 99.25%\n",
            "2021-05-15 01:29:52\n",
            "Epoch: 44 | Epoch Time: 0m 45s\n",
            "\tTrain Loss: 0.003 | Train Acc: 99.91%\n",
            "\t Val. Loss: 0.044 |  Val. Acc: 99.31%\n",
            "2021-05-15 01:30:37\n",
            "Epoch: 45 | Epoch Time: 0m 45s\n",
            "\tTrain Loss: 0.001 | Train Acc: 99.99%\n",
            "\t Val. Loss: 0.038 |  Val. Acc: 99.45%\n",
            "2021-05-15 01:31:22\n",
            "Epoch: 46 | Epoch Time: 0m 44s\n",
            "\tTrain Loss: 0.004 | Train Acc: 99.89%\n",
            "\t Val. Loss: 0.041 |  Val. Acc: 99.18%\n",
            "2021-05-15 01:32:08\n",
            "Epoch: 47 | Epoch Time: 0m 46s\n",
            "\tTrain Loss: 0.004 | Train Acc: 99.91%\n",
            "\t Val. Loss: 0.033 |  Val. Acc: 99.42%\n",
            "2021-05-15 01:32:53\n",
            "Epoch: 48 | Epoch Time: 0m 44s\n",
            "\tTrain Loss: 0.002 | Train Acc: 99.95%\n",
            "\t Val. Loss: 0.037 |  Val. Acc: 99.38%\n",
            "2021-05-15 01:33:38\n",
            "Epoch: 49 | Epoch Time: 0m 45s\n",
            "\tTrain Loss: 0.003 | Train Acc: 99.92%\n",
            "\t Val. Loss: 0.044 |  Val. Acc: 99.26%\n",
            "2021-05-15 01:34:23\n",
            "Epoch: 50 | Epoch Time: 0m 44s\n",
            "\tTrain Loss: 0.003 | Train Acc: 99.94%\n",
            "\t Val. Loss: 0.031 |  Val. Acc: 99.36%\n"
          ],
          "name": "stdout"
        }
      ]
    },
    {
      "cell_type": "code",
      "metadata": {
        "colab": {
          "base_uri": "https://localhost:8080/"
        },
        "id": "CbLb6M_Ph1oM",
        "outputId": "7e90517f-4e87-4b4a-cc67-c6c0826840c9"
      },
      "source": [
        "model_2.load_state_dict(torch.load('tut5-model_2.pt'))\n",
        "\n",
        "test_loss, test_acc = evaluate(model_2, test_iterator, criterion, device)\n",
        "\n",
        "print(f'Test Loss: {test_loss:.3f} | Test Acc: {test_acc*100:.2f}%')"
      ],
      "execution_count": null,
      "outputs": [
        {
          "output_type": "stream",
          "text": [
            "Test Loss: 0.023 | Test Acc: 99.41%\n"
          ],
          "name": "stdout"
        }
      ]
    },
    {
      "cell_type": "code",
      "metadata": {
        "id": "MfKCqtJ3NaLO",
        "outputId": "bc2f36bc-6209-41dd-b473-d1c4e4ac68ca"
      },
      "source": [
        "\n",
        "plt.figure(figsize=(7, 7))\n",
        "plt.plot(train_losses2, color='green', label='train loss')\n",
        "plt.plot(valid_losses2, color='red', label='Test loss')\n",
        "plt.legend()\n",
        "plt.show()"
      ],
      "execution_count": null,
      "outputs": [
        {
          "output_type": "display_data",
          "data": {
            "image/png": "[encoded data removed]",
            "text/plain": [
              "<Figure size 504x504 with 1 Axes>"
            ]
          },
          "metadata": {
            "tags": [],
            "needs_background": "light"
          }
        }
      ]
    },
    {
      "cell_type": "code",
      "metadata": {
        "id": "SBwpGTA6NaLO",
        "outputId": "81555aeb-cf8e-415c-9cbc-b3fc99c836bc"
      },
      "source": [
        "\n",
        "plt.figure(figsize=(7, 7))\n",
        "plt.plot(train_accuracy2, color='green', label='Train Accuracy')\n",
        "plt.plot(valid_accuracy2, color='red', label='Test Accuracy')\n",
        "plt.legend()\n",
        "plt.show()"
      ],
      "execution_count": null,
      "outputs": [
        {
          "output_type": "display_data",
          "data": {
            "image/png": "[encoded data removed]",
            "text/plain": [
              "<Figure size 504x504 with 1 Axes>"
            ]
          },
          "metadata": {
            "tags": [],
            "needs_background": "light"
          }
        }
      ]
    },
    {
      "cell_type": "markdown",
      "metadata": {
        "id": "jYbUqJZNNojS"
      },
      "source": [
        "# VGG 19"
      ]
    },
    {
      "cell_type": "code",
      "metadata": {
        "id": "XA-QKpn2NaLP"
      },
      "source": [
        "model_3 = VGG19(OUTPUT_DIM, VGGBlock, nn.MaxPool2d, BATCH_NORM) "
      ],
      "execution_count": null,
      "outputs": []
    },
    {
      "cell_type": "code",
      "metadata": {
        "id": "sMxPiEiLNaLP",
        "outputId": "5258a0e5-6f3d-4d16-f492-75ff02dc37a3"
      },
      "source": [
        "\n",
        "print(f'VGG19 has {count_parameters(vgg19_model):,} trainable parameters')"
      ],
      "execution_count": null,
      "outputs": [
        {
          "output_type": "stream",
          "text": [
            "VGG19 has 20,039,370 trainable parameters\n"
          ],
          "name": "stdout"
        }
      ]
    },
    {
      "cell_type": "code",
      "metadata": {
        "id": "raPsvQEjozB1",
        "outputId": "c68ddf12-b73a-427e-c1a8-98bba8bb7af9"
      },
      "source": [
        "model_3"
      ],
      "execution_count": null,
      "outputs": [
        {
          "output_type": "execute_result",
          "data": {
            "text/plain": [
              "VGG19(\n",
              "  (features): Sequential(\n",
              "    (0): VGGBlock(\n",
              "      (block): Sequential(\n",
              "        (0): Conv2d(1, 64, kernel_size=(3, 3), stride=(1, 1), padding=(1, 1))\n",
              "        (1): BatchNorm2d(64, eps=1e-05, momentum=0.1, affine=True, track_running_stats=True)\n",
              "        (2): ReLU(inplace=True)\n",
              "      )\n",
              "    )\n",
              "    (1): VGGBlock(\n",
              "      (block): Sequential(\n",
              "        (0): Conv2d(64, 64, kernel_size=(3, 3), stride=(1, 1), padding=(1, 1))\n",
              "        (1): BatchNorm2d(64, eps=1e-05, momentum=0.1, affine=True, track_running_stats=True)\n",
              "        (2): ReLU(inplace=True)\n",
              "      )\n",
              "    )\n",
              "    (2): MaxPool2d(kernel_size=2, stride=2, padding=0, dilation=1, ceil_mode=False)\n",
              "    (3): VGGBlock(\n",
              "      (block): Sequential(\n",
              "        (0): Conv2d(64, 128, kernel_size=(3, 3), stride=(1, 1), padding=(1, 1))\n",
              "        (1): BatchNorm2d(128, eps=1e-05, momentum=0.1, affine=True, track_running_stats=True)\n",
              "        (2): ReLU(inplace=True)\n",
              "      )\n",
              "    )\n",
              "    (4): VGGBlock(\n",
              "      (block): Sequential(\n",
              "        (0): Conv2d(128, 128, kernel_size=(3, 3), stride=(1, 1), padding=(1, 1))\n",
              "        (1): BatchNorm2d(128, eps=1e-05, momentum=0.1, affine=True, track_running_stats=True)\n",
              "        (2): ReLU(inplace=True)\n",
              "      )\n",
              "    )\n",
              "    (5): MaxPool2d(kernel_size=2, stride=2, padding=0, dilation=1, ceil_mode=False)\n",
              "    (6): VGGBlock(\n",
              "      (block): Sequential(\n",
              "        (0): Conv2d(128, 256, kernel_size=(3, 3), stride=(1, 1), padding=(1, 1))\n",
              "        (1): BatchNorm2d(256, eps=1e-05, momentum=0.1, affine=True, track_running_stats=True)\n",
              "        (2): ReLU(inplace=True)\n",
              "      )\n",
              "    )\n",
              "    (7): VGGBlock(\n",
              "      (block): Sequential(\n",
              "        (0): Conv2d(256, 256, kernel_size=(3, 3), stride=(1, 1), padding=(1, 1))\n",
              "        (1): BatchNorm2d(256, eps=1e-05, momentum=0.1, affine=True, track_running_stats=True)\n",
              "        (2): ReLU(inplace=True)\n",
              "      )\n",
              "    )\n",
              "    (8): VGGBlock(\n",
              "      (block): Sequential(\n",
              "        (0): Conv2d(256, 256, kernel_size=(3, 3), stride=(1, 1), padding=(1, 1))\n",
              "        (1): BatchNorm2d(256, eps=1e-05, momentum=0.1, affine=True, track_running_stats=True)\n",
              "        (2): ReLU(inplace=True)\n",
              "      )\n",
              "    )\n",
              "    (9): VGGBlock(\n",
              "      (block): Sequential(\n",
              "        (0): Conv2d(256, 256, kernel_size=(3, 3), stride=(1, 1), padding=(1, 1))\n",
              "        (1): BatchNorm2d(256, eps=1e-05, momentum=0.1, affine=True, track_running_stats=True)\n",
              "        (2): ReLU(inplace=True)\n",
              "      )\n",
              "    )\n",
              "    (10): MaxPool2d(kernel_size=2, stride=2, padding=0, dilation=1, ceil_mode=False)\n",
              "    (11): VGGBlock(\n",
              "      (block): Sequential(\n",
              "        (0): Conv2d(256, 512, kernel_size=(3, 3), stride=(1, 1), padding=(1, 1))\n",
              "        (1): BatchNorm2d(512, eps=1e-05, momentum=0.1, affine=True, track_running_stats=True)\n",
              "        (2): ReLU(inplace=True)\n",
              "      )\n",
              "    )\n",
              "    (12): VGGBlock(\n",
              "      (block): Sequential(\n",
              "        (0): Conv2d(512, 512, kernel_size=(3, 3), stride=(1, 1), padding=(1, 1))\n",
              "        (1): BatchNorm2d(512, eps=1e-05, momentum=0.1, affine=True, track_running_stats=True)\n",
              "        (2): ReLU(inplace=True)\n",
              "      )\n",
              "    )\n",
              "    (13): VGGBlock(\n",
              "      (block): Sequential(\n",
              "        (0): Conv2d(512, 512, kernel_size=(3, 3), stride=(1, 1), padding=(1, 1))\n",
              "        (1): BatchNorm2d(512, eps=1e-05, momentum=0.1, affine=True, track_running_stats=True)\n",
              "        (2): ReLU(inplace=True)\n",
              "      )\n",
              "    )\n",
              "    (14): VGGBlock(\n",
              "      (block): Sequential(\n",
              "        (0): Conv2d(512, 512, kernel_size=(3, 3), stride=(1, 1), padding=(1, 1))\n",
              "        (1): BatchNorm2d(512, eps=1e-05, momentum=0.1, affine=True, track_running_stats=True)\n",
              "        (2): ReLU(inplace=True)\n",
              "      )\n",
              "    )\n",
              "    (15): MaxPool2d(kernel_size=2, stride=2, padding=0, dilation=1, ceil_mode=False)\n",
              "    (16): VGGBlock(\n",
              "      (block): Sequential(\n",
              "        (0): Conv2d(512, 512, kernel_size=(3, 3), stride=(1, 1), padding=(1, 1))\n",
              "        (1): BatchNorm2d(512, eps=1e-05, momentum=0.1, affine=True, track_running_stats=True)\n",
              "        (2): ReLU(inplace=True)\n",
              "      )\n",
              "    )\n",
              "    (17): VGGBlock(\n",
              "      (block): Sequential(\n",
              "        (0): Conv2d(512, 512, kernel_size=(3, 3), stride=(1, 1), padding=(1, 1))\n",
              "        (1): BatchNorm2d(512, eps=1e-05, momentum=0.1, affine=True, track_running_stats=True)\n",
              "        (2): ReLU(inplace=True)\n",
              "      )\n",
              "    )\n",
              "    (18): VGGBlock(\n",
              "      (block): Sequential(\n",
              "        (0): Conv2d(512, 512, kernel_size=(3, 3), stride=(1, 1), padding=(1, 1))\n",
              "        (1): BatchNorm2d(512, eps=1e-05, momentum=0.1, affine=True, track_running_stats=True)\n",
              "        (2): ReLU(inplace=True)\n",
              "      )\n",
              "    )\n",
              "    (19): VGGBlock(\n",
              "      (block): Sequential(\n",
              "        (0): Conv2d(512, 512, kernel_size=(3, 3), stride=(1, 1), padding=(1, 1))\n",
              "        (1): BatchNorm2d(512, eps=1e-05, momentum=0.1, affine=True, track_running_stats=True)\n",
              "        (2): ReLU(inplace=True)\n",
              "      )\n",
              "    )\n",
              "    (20): MaxPool2d(kernel_size=2, stride=2, padding=0, dilation=1, ceil_mode=False)\n",
              "  )\n",
              "  (classifier): Linear(in_features=512, out_features=10, bias=True)\n",
              ")"
            ]
          },
          "metadata": {
            "tags": []
          },
          "execution_count": 72
        }
      ]
    },
    {
      "cell_type": "code",
      "metadata": {
        "id": "lro057mCNaLP"
      },
      "source": [
        "optimizer = optim.Adam(model_3.parameters())"
      ],
      "execution_count": null,
      "outputs": []
    },
    {
      "cell_type": "code",
      "metadata": {
        "id": "UFFHsYuiNaLQ"
      },
      "source": [
        "criterion = nn.CrossEntropyLoss()"
      ],
      "execution_count": null,
      "outputs": []
    },
    {
      "cell_type": "code",
      "metadata": {
        "id": "t7bMebyONaLQ"
      },
      "source": [
        "model_3 = model_3.to(device)\n",
        "criterion = criterion.to(device)"
      ],
      "execution_count": null,
      "outputs": []
    },
    {
      "cell_type": "code",
      "metadata": {
        "id": "P0drpBixNaLQ"
      },
      "source": [
        "def calculate_accuracy(fx, y):\n",
        "    preds = fx.argmax(1, keepdim=True)\n",
        "    correct = preds.eq(y.view_as(preds)).sum()\n",
        "    acc = correct.float()/preds.shape[0]\n",
        "    return acc"
      ],
      "execution_count": null,
      "outputs": []
    },
    {
      "cell_type": "code",
      "metadata": {
        "id": "OmIKRjIhNaLQ"
      },
      "source": [
        "def train(model_3, iterator, optimizer, criterion, device):\n",
        "    \n",
        "    epoch_loss = 0\n",
        "    epoch_acc = 0\n",
        "    \n",
        "    model_3.train()\n",
        "    \n",
        "    for (x, y) in iterator:\n",
        "        \n",
        "        x = x.to(device)\n",
        "        y = y.to(device)\n",
        "        \n",
        "        optimizer.zero_grad()\n",
        "                \n",
        "        fx = model_3(x)\n",
        "        \n",
        "        loss = criterion(fx, y)\n",
        "        \n",
        "        acc = calculate_accuracy(fx, y)\n",
        "        \n",
        "        loss.backward()\n",
        "        \n",
        "        optimizer.step()\n",
        "        \n",
        "        epoch_loss += loss.item()\n",
        "        epoch_acc += acc.item()\n",
        "        \n",
        "    return epoch_loss / len(iterator), epoch_acc / len(iterator)"
      ],
      "execution_count": null,
      "outputs": []
    },
    {
      "cell_type": "code",
      "metadata": {
        "id": "j_6ZA29kNaLR"
      },
      "source": [
        "def train(model_3, iterator, optimizer, criterion, device):\n",
        "    \n",
        "    epoch_loss = 0\n",
        "    epoch_acc = 0\n",
        "    \n",
        "    model_3.train()\n",
        "    \n",
        "    for (x, y) in iterator:\n",
        "        \n",
        "        x = x.to(device)\n",
        "        y = y.to(device)\n",
        "        \n",
        "        optimizer.zero_grad()\n",
        "                \n",
        "        fx = model_3(x)\n",
        "        \n",
        "        loss = criterion(fx, y)\n",
        "        \n",
        "        acc = calculate_accuracy(fx, y)\n",
        "        \n",
        "        loss.backward()\n",
        "        \n",
        "        optimizer.step()\n",
        "        \n",
        "        epoch_loss += loss.item()\n",
        "        epoch_acc += acc.item()\n",
        "        \n",
        "    return epoch_loss / len(iterator), epoch_acc / len(iterator)"
      ],
      "execution_count": null,
      "outputs": []
    },
    {
      "cell_type": "code",
      "metadata": {
        "id": "N9P-xH9ENaLR"
      },
      "source": [
        "def evaluate(model_3, iterator, criterion, device):\n",
        "    \n",
        "    epoch_loss = 0\n",
        "    epoch_acc = 0\n",
        "    \n",
        "    model_3.eval()\n",
        "    \n",
        "    with torch.no_grad():\n",
        "        for (x, y) in iterator:\n",
        "\n",
        "            x = x.to(device)\n",
        "            y = y.to(device)\n",
        "\n",
        "            fx = model_3(x)\n",
        "\n",
        "            loss = criterion(fx, y)\n",
        "\n",
        "            acc = calculate_accuracy(fx, y)\n",
        "\n",
        "            epoch_loss += loss.item()\n",
        "            epoch_acc += acc.item()\n",
        "        \n",
        "    return epoch_loss / len(iterator), epoch_acc / len(iterator)"
      ],
      "execution_count": null,
      "outputs": []
    },
    {
      "cell_type": "code",
      "metadata": {
        "id": "QojufCSTNaLR"
      },
      "source": [
        ""
      ],
      "execution_count": null,
      "outputs": []
    },
    {
      "cell_type": "code",
      "metadata": {
        "id": "4rse-7pQNaLS"
      },
      "source": [
        "def epoch_time(start_time, end_time):\n",
        "    elapsed_time = end_time - start_time\n",
        "    elapsed_mins = int(elapsed_time / 60)\n",
        "    elapsed_secs = int(elapsed_time - (elapsed_mins * 60))\n",
        "    return elapsed_mins, elapsed_secs"
      ],
      "execution_count": null,
      "outputs": []
    },
    {
      "cell_type": "code",
      "metadata": {
        "id": "J5Gbe-6qozB3"
      },
      "source": [
        "\n",
        "train_losses3 = []\n",
        "valid_losses3 = []\n",
        "train_accuracy3 = []\n",
        "valid_accuracy3 = []\n"
      ],
      "execution_count": null,
      "outputs": []
    },
    {
      "cell_type": "code",
      "metadata": {
        "id": "8x86qgSRozB3",
        "outputId": "c0f8c06c-7e60-405e-b394-0c287cc9869e"
      },
      "source": [
        "EPOCHS = 50\n",
        "\n",
        "best_valid_loss = float('inf')\n",
        "\n",
        "for epoch in range(EPOCHS):\n",
        "    \n",
        "    start_time = time.time()\n",
        "    \n",
        "    train_loss, train_acc = train(model_3, train_iterator, optimizer, criterion, device)\n",
        "    valid_loss, valid_acc = evaluate(model_3, valid_iterator, criterion, device)\n",
        "    \n",
        "    \n",
        "    \n",
        "    if valid_loss < best_valid_loss:\n",
        "        best_valid_loss = valid_loss\n",
        "        torch.save(model_3.state_dict(), 'tut5-model_3.pt')\n",
        "    \n",
        "    end_time = time.time()\n",
        "    \n",
        "    train_losses3.append(train_loss)\n",
        "    valid_losses3.append(valid_loss)\n",
        "    \n",
        "    train_accuracy3.append(train_acc)\n",
        "    valid_accuracy3.append(valid_acc)\n",
        "    \n",
        "    epoch_mins, epoch_secs = epoch_time(start_time, end_time)\n",
        "    \n",
        "    t = time.localtime()\n",
        "\n",
        "    timestamp = time.strftime('%Y-%m-%d %H:%M:%S', t)\n",
        "    print(timestamp)\n",
        "    \n",
        "    print(f'Epoch: {epoch+1:02} | Epoch Time: {epoch_mins}m {epoch_secs}s')\n",
        "    print(f'\\tTrain Loss: {train_loss:.3f} | Train Acc: {train_acc*100:.2f}%')\n",
        "    print(f'\\t Val. Loss: {valid_loss:.3f} |  Val. Acc: {valid_acc*100:.2f}%')"
      ],
      "execution_count": null,
      "outputs": [
        {
          "output_type": "stream",
          "text": [
            "2021-05-15 01:35:28\n",
            "Epoch: 01 | Epoch Time: 0m 59s\n",
            "\tTrain Loss: 0.294 | Train Acc: 90.63%\n",
            "\t Val. Loss: 0.073 |  Val. Acc: 98.04%\n",
            "2021-05-15 01:36:26\n",
            "Epoch: 02 | Epoch Time: 0m 57s\n",
            "\tTrain Loss: 0.073 | Train Acc: 97.86%\n",
            "\t Val. Loss: 0.053 |  Val. Acc: 98.73%\n",
            "2021-05-15 01:37:23\n",
            "Epoch: 03 | Epoch Time: 0m 56s\n",
            "\tTrain Loss: 0.051 | Train Acc: 98.49%\n",
            "\t Val. Loss: 0.060 |  Val. Acc: 98.39%\n",
            "2021-05-15 01:38:22\n",
            "Epoch: 04 | Epoch Time: 0m 58s\n",
            "\tTrain Loss: 0.044 | Train Acc: 98.76%\n",
            "\t Val. Loss: 0.046 |  Val. Acc: 98.91%\n",
            "2021-05-15 01:39:19\n",
            "Epoch: 05 | Epoch Time: 0m 57s\n",
            "\tTrain Loss: 0.042 | Train Acc: 98.83%\n",
            "\t Val. Loss: 0.051 |  Val. Acc: 98.41%\n",
            "2021-05-15 01:40:17\n",
            "Epoch: 06 | Epoch Time: 0m 57s\n",
            "\tTrain Loss: 0.036 | Train Acc: 99.01%\n",
            "\t Val. Loss: 0.047 |  Val. Acc: 98.74%\n",
            "2021-05-15 01:41:15\n",
            "Epoch: 07 | Epoch Time: 0m 58s\n",
            "\tTrain Loss: 0.035 | Train Acc: 99.03%\n",
            "\t Val. Loss: 0.042 |  Val. Acc: 98.92%\n",
            "2021-05-15 01:42:11\n",
            "Epoch: 08 | Epoch Time: 0m 55s\n",
            "\tTrain Loss: 0.031 | Train Acc: 99.17%\n",
            "\t Val. Loss: 0.043 |  Val. Acc: 98.98%\n",
            "2021-05-15 01:43:10\n",
            "Epoch: 09 | Epoch Time: 0m 58s\n",
            "\tTrain Loss: 0.029 | Train Acc: 99.18%\n",
            "\t Val. Loss: 0.030 |  Val. Acc: 99.13%\n",
            "2021-05-15 01:44:07\n",
            "Epoch: 10 | Epoch Time: 0m 56s\n",
            "\tTrain Loss: 0.027 | Train Acc: 99.25%\n",
            "\t Val. Loss: 0.044 |  Val. Acc: 99.01%\n",
            "2021-05-15 01:45:03\n",
            "Epoch: 11 | Epoch Time: 0m 56s\n",
            "\tTrain Loss: 0.023 | Train Acc: 99.36%\n",
            "\t Val. Loss: 0.070 |  Val. Acc: 98.23%\n",
            "2021-05-15 01:46:01\n",
            "Epoch: 12 | Epoch Time: 0m 57s\n",
            "\tTrain Loss: 0.023 | Train Acc: 99.35%\n",
            "\t Val. Loss: 0.029 |  Val. Acc: 99.30%\n",
            "2021-05-15 01:46:58\n",
            "Epoch: 13 | Epoch Time: 0m 56s\n",
            "\tTrain Loss: 0.020 | Train Acc: 99.43%\n",
            "\t Val. Loss: 0.045 |  Val. Acc: 99.00%\n",
            "2021-05-15 01:47:54\n",
            "Epoch: 14 | Epoch Time: 0m 56s\n",
            "\tTrain Loss: 0.019 | Train Acc: 99.46%\n",
            "\t Val. Loss: 0.031 |  Val. Acc: 99.17%\n",
            "2021-05-15 01:48:51\n",
            "Epoch: 15 | Epoch Time: 0m 56s\n",
            "\tTrain Loss: 0.015 | Train Acc: 99.56%\n",
            "\t Val. Loss: 0.044 |  Val. Acc: 99.01%\n",
            "2021-05-15 01:49:47\n",
            "Epoch: 16 | Epoch Time: 0m 56s\n",
            "\tTrain Loss: 0.017 | Train Acc: 99.54%\n",
            "\t Val. Loss: 0.039 |  Val. Acc: 99.07%\n",
            "2021-05-15 01:50:44\n",
            "Epoch: 17 | Epoch Time: 0m 56s\n",
            "\tTrain Loss: 0.013 | Train Acc: 99.63%\n",
            "\t Val. Loss: 0.041 |  Val. Acc: 99.07%\n",
            "2021-05-15 01:51:42\n",
            "Epoch: 18 | Epoch Time: 0m 58s\n",
            "\tTrain Loss: 0.013 | Train Acc: 99.61%\n",
            "\t Val. Loss: 0.028 |  Val. Acc: 99.35%\n",
            "2021-05-15 01:52:38\n",
            "Epoch: 19 | Epoch Time: 0m 56s\n",
            "\tTrain Loss: 0.011 | Train Acc: 99.66%\n",
            "\t Val. Loss: 0.032 |  Val. Acc: 99.25%\n",
            "2021-05-15 01:53:34\n",
            "Epoch: 20 | Epoch Time: 0m 55s\n",
            "\tTrain Loss: 0.010 | Train Acc: 99.70%\n",
            "\t Val. Loss: 0.034 |  Val. Acc: 99.28%\n",
            "2021-05-15 01:54:32\n",
            "Epoch: 21 | Epoch Time: 0m 57s\n",
            "\tTrain Loss: 0.010 | Train Acc: 99.69%\n",
            "\t Val. Loss: 0.031 |  Val. Acc: 99.43%\n",
            "2021-05-15 01:55:28\n",
            "Epoch: 22 | Epoch Time: 0m 56s\n",
            "\tTrain Loss: 0.010 | Train Acc: 99.71%\n",
            "\t Val. Loss: 0.029 |  Val. Acc: 99.41%\n",
            "2021-05-15 01:56:26\n",
            "Epoch: 23 | Epoch Time: 0m 57s\n",
            "\tTrain Loss: 0.009 | Train Acc: 99.75%\n",
            "\t Val. Loss: 0.027 |  Val. Acc: 99.45%\n",
            "2021-05-15 01:57:22\n",
            "Epoch: 24 | Epoch Time: 0m 56s\n",
            "\tTrain Loss: 0.008 | Train Acc: 99.78%\n",
            "\t Val. Loss: 0.031 |  Val. Acc: 99.45%\n",
            "2021-05-15 01:58:19\n",
            "Epoch: 25 | Epoch Time: 0m 57s\n",
            "\tTrain Loss: 0.007 | Train Acc: 99.81%\n",
            "\t Val. Loss: 0.033 |  Val. Acc: 99.34%\n",
            "2021-05-15 01:59:17\n",
            "Epoch: 26 | Epoch Time: 0m 57s\n",
            "\tTrain Loss: 0.009 | Train Acc: 99.73%\n",
            "\t Val. Loss: 0.032 |  Val. Acc: 99.35%\n",
            "2021-05-15 02:00:14\n",
            "Epoch: 27 | Epoch Time: 0m 56s\n",
            "\tTrain Loss: 0.007 | Train Acc: 99.82%\n",
            "\t Val. Loss: 0.034 |  Val. Acc: 99.34%\n",
            "2021-05-15 02:01:12\n",
            "Epoch: 28 | Epoch Time: 0m 58s\n",
            "\tTrain Loss: 0.007 | Train Acc: 99.82%\n",
            "\t Val. Loss: 0.032 |  Val. Acc: 99.42%\n",
            "2021-05-15 02:02:08\n",
            "Epoch: 29 | Epoch Time: 0m 56s\n",
            "\tTrain Loss: 0.007 | Train Acc: 99.80%\n",
            "\t Val. Loss: 0.048 |  Val. Acc: 98.98%\n",
            "2021-05-15 02:03:04\n",
            "Epoch: 30 | Epoch Time: 0m 56s\n",
            "\tTrain Loss: 0.006 | Train Acc: 99.85%\n",
            "\t Val. Loss: 0.036 |  Val. Acc: 99.37%\n",
            "2021-05-15 02:04:00\n",
            "Epoch: 31 | Epoch Time: 0m 55s\n",
            "\tTrain Loss: 0.006 | Train Acc: 99.84%\n",
            "\t Val. Loss: 0.035 |  Val. Acc: 99.35%\n",
            "2021-05-15 02:04:58\n",
            "Epoch: 32 | Epoch Time: 0m 57s\n",
            "\tTrain Loss: 0.006 | Train Acc: 99.83%\n",
            "\t Val. Loss: 0.041 |  Val. Acc: 99.30%\n",
            "2021-05-15 02:05:54\n",
            "Epoch: 33 | Epoch Time: 0m 56s\n",
            "\tTrain Loss: 0.005 | Train Acc: 99.86%\n",
            "\t Val. Loss: 0.030 |  Val. Acc: 99.46%\n",
            "2021-05-15 02:06:51\n",
            "Epoch: 34 | Epoch Time: 0m 56s\n",
            "\tTrain Loss: 0.006 | Train Acc: 99.84%\n",
            "\t Val. Loss: 0.029 |  Val. Acc: 99.41%\n",
            "2021-05-15 02:07:47\n",
            "Epoch: 35 | Epoch Time: 0m 56s\n",
            "\tTrain Loss: 0.004 | Train Acc: 99.87%\n",
            "\t Val. Loss: 0.031 |  Val. Acc: 99.41%\n",
            "2021-05-15 02:08:44\n",
            "Epoch: 36 | Epoch Time: 0m 56s\n",
            "\tTrain Loss: 0.005 | Train Acc: 99.84%\n",
            "\t Val. Loss: 0.031 |  Val. Acc: 99.38%\n",
            "2021-05-15 02:09:40\n",
            "Epoch: 37 | Epoch Time: 0m 55s\n",
            "\tTrain Loss: 0.005 | Train Acc: 99.87%\n",
            "\t Val. Loss: 0.040 |  Val. Acc: 99.40%\n",
            "2021-05-15 02:10:36\n",
            "Epoch: 38 | Epoch Time: 0m 56s\n",
            "\tTrain Loss: 0.005 | Train Acc: 99.85%\n",
            "\t Val. Loss: 0.033 |  Val. Acc: 99.35%\n",
            "2021-05-15 02:11:32\n",
            "Epoch: 39 | Epoch Time: 0m 56s\n",
            "\tTrain Loss: 0.004 | Train Acc: 99.89%\n",
            "\t Val. Loss: 0.036 |  Val. Acc: 99.35%\n",
            "2021-05-15 02:12:28\n",
            "Epoch: 40 | Epoch Time: 0m 56s\n",
            "\tTrain Loss: 0.003 | Train Acc: 99.92%\n",
            "\t Val. Loss: 0.038 |  Val. Acc: 99.40%\n",
            "2021-05-15 02:13:25\n",
            "Epoch: 41 | Epoch Time: 0m 56s\n",
            "\tTrain Loss: 0.003 | Train Acc: 99.93%\n",
            "\t Val. Loss: 0.032 |  Val. Acc: 99.33%\n",
            "2021-05-15 02:14:21\n",
            "Epoch: 42 | Epoch Time: 0m 55s\n",
            "\tTrain Loss: 0.005 | Train Acc: 99.85%\n",
            "\t Val. Loss: 0.034 |  Val. Acc: 99.43%\n",
            "2021-05-15 02:15:19\n",
            "Epoch: 43 | Epoch Time: 0m 58s\n",
            "\tTrain Loss: 0.003 | Train Acc: 99.92%\n",
            "\t Val. Loss: 0.044 |  Val. Acc: 99.36%\n",
            "2021-05-15 02:16:16\n",
            "Epoch: 44 | Epoch Time: 0m 56s\n",
            "\tTrain Loss: 0.003 | Train Acc: 99.92%\n",
            "\t Val. Loss: 0.055 |  Val. Acc: 99.25%\n",
            "2021-05-15 02:17:12\n",
            "Epoch: 45 | Epoch Time: 0m 56s\n",
            "\tTrain Loss: 0.005 | Train Acc: 99.88%\n",
            "\t Val. Loss: 0.046 |  Val. Acc: 99.37%\n",
            "2021-05-15 02:18:09\n",
            "Epoch: 46 | Epoch Time: 0m 56s\n",
            "\tTrain Loss: 0.002 | Train Acc: 99.95%\n",
            "\t Val. Loss: 0.081 |  Val. Acc: 98.78%\n",
            "2021-05-15 02:19:06\n",
            "Epoch: 47 | Epoch Time: 0m 57s\n",
            "\tTrain Loss: 0.004 | Train Acc: 99.90%\n",
            "\t Val. Loss: 0.031 |  Val. Acc: 99.56%\n",
            "2021-05-15 02:20:02\n",
            "Epoch: 48 | Epoch Time: 0m 55s\n",
            "\tTrain Loss: 0.005 | Train Acc: 99.87%\n",
            "\t Val. Loss: 0.037 |  Val. Acc: 99.38%\n",
            "2021-05-15 02:21:00\n",
            "Epoch: 49 | Epoch Time: 0m 57s\n",
            "\tTrain Loss: 0.001 | Train Acc: 99.97%\n",
            "\t Val. Loss: 0.080 |  Val. Acc: 99.04%\n",
            "2021-05-15 02:21:56\n",
            "Epoch: 50 | Epoch Time: 0m 56s\n",
            "\tTrain Loss: 0.004 | Train Acc: 99.91%\n",
            "\t Val. Loss: 0.041 |  Val. Acc: 99.38%\n"
          ],
          "name": "stdout"
        }
      ]
    },
    {
      "cell_type": "code",
      "metadata": {
        "id": "pbYei3zpNaLT",
        "outputId": "ac9c87d3-876d-42bd-b432-e6c70c11853d"
      },
      "source": [
        "model_3.load_state_dict(torch.load('tut5-model_3.pt'))\n",
        "\n",
        "test_loss, test_acc = evaluate(model_3, test_iterator, criterion, device)\n",
        "\n",
        "print(f'Test Loss: {test_loss:.3f} | Test Accuracy: {test_acc*100:.2f}%')"
      ],
      "execution_count": null,
      "outputs": [
        {
          "output_type": "stream",
          "text": [
            "Test Loss: 0.022 | Test Accuracy: 99.53%\n"
          ],
          "name": "stdout"
        }
      ]
    },
    {
      "cell_type": "code",
      "metadata": {
        "id": "Su-VC1bXNaLT",
        "outputId": "44ad5c70-d0d1-4d80-c661-11ea920af126"
      },
      "source": [
        "\n",
        "plt.figure(figsize=(7, 7))\n",
        "plt.plot(train_losses3, color='green', label='train loss')\n",
        "plt.plot(valid_losses3, color='red', label='Test loss')\n",
        "plt.legend()\n",
        "plt.show()\n",
        "\n",
        "\n"
      ],
      "execution_count": null,
      "outputs": [
        {
          "output_type": "display_data",
          "data": {
            "image/png": "[encoded data removed]",
            "text/plain": [
              "<Figure size 504x504 with 1 Axes>"
            ]
          },
          "metadata": {
            "tags": [],
            "needs_background": "light"
          }
        }
      ]
    },
    {
      "cell_type": "code",
      "metadata": {
        "id": "-A4t0Se1NaLU",
        "outputId": "dbc14e76-1197-40c5-deb2-84fb7777e213"
      },
      "source": [
        "plt.figure(figsize=(7, 7))\n",
        "plt.plot(train_accuracy3, color='green', label='Train Accuracy')\n",
        "plt.plot(valid_accuracy3, color='red', label='Validataion Accuracy')\n",
        "plt.legend()\n",
        "plt.show()"
      ],
      "execution_count": null,
      "outputs": [
        {
          "output_type": "display_data",
          "data": {
            "image/png": "[encoded data removed]",
            "text/plain": [
              "<Figure size 504x504 with 1 Axes>"
            ]
          },
          "metadata": {
            "tags": [],
            "needs_background": "light"
          }
        }
      ]
    },
    {
      "cell_type": "code",
      "metadata": {
        "id": "OyfRSVRbozB5"
      },
      "source": [
        ""
      ],
      "execution_count": null,
      "outputs": []
    }
  ]
}