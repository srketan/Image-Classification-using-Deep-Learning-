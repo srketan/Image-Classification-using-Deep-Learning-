{
  "nbformat": 4,
  "nbformat_minor": 0,
  "metadata": {
    "accelerator": "GPU",
    "colab": {
      "name": "ResNet_MNIST25.ipynb",
      "provenance": [],
      "collapsed_sections": [],
      "toc_visible": true,
      "machine_shape": "hm"
    },
    "kernelspec": {
      "display_name": "Python 3",
      "language": "python",
      "name": "python3"
    },
    "language_info": {
      "codemirror_mode": {
        "name": "ipython",
        "version": 3
      },
      "file_extension": ".py",
      "mimetype": "text/x-python",
      "name": "python",
      "nbconvert_exporter": "python",
      "pygments_lexer": "ipython3",
      "version": "3.8.6"
    },
    "widgets": {
      "application/vnd.jupyter.widget-state+json": {
        "95441a29de994d31ba3f8d07ee2b74ec": {
          "model_module": "@jupyter-widgets/controls",
          "model_name": "HBoxModel",
          "state": {
            "_dom_classes": [],
            "_model_module": "@jupyter-widgets/controls",
            "_model_module_version": "1.5.0",
            "_model_name": "HBoxModel",
            "_view_count": null,
            "_view_module": "@jupyter-widgets/controls",
            "_view_module_version": "1.5.0",
            "_view_name": "HBoxView",
            "box_style": "",
            "children": [
              "IPY_MODEL_1587a8fcc70c42b2975910d37579fbd5",
              "IPY_MODEL_ea22fca29c154054aca65dd8dbc0b151"
            ],
            "layout": "IPY_MODEL_d189ac7f49434d60a9259a191b3ccb9b"
          }
        },
        "d189ac7f49434d60a9259a191b3ccb9b": {
          "model_module": "@jupyter-widgets/base",
          "model_name": "LayoutModel",
          "state": {
            "_model_module": "@jupyter-widgets/base",
            "_model_module_version": "1.2.0",
            "_model_name": "LayoutModel",
            "_view_count": null,
            "_view_module": "@jupyter-widgets/base",
            "_view_module_version": "1.2.0",
            "_view_name": "LayoutView",
            "align_content": null,
            "align_items": null,
            "align_self": null,
            "border": null,
            "bottom": null,
            "display": null,
            "flex": null,
            "flex_flow": null,
            "grid_area": null,
            "grid_auto_columns": null,
            "grid_auto_flow": null,
            "grid_auto_rows": null,
            "grid_column": null,
            "grid_gap": null,
            "grid_row": null,
            "grid_template_areas": null,
            "grid_template_columns": null,
            "grid_template_rows": null,
            "height": null,
            "justify_content": null,
            "justify_items": null,
            "left": null,
            "margin": null,
            "max_height": null,
            "max_width": null,
            "min_height": null,
            "min_width": null,
            "object_fit": null,
            "object_position": null,
            "order": null,
            "overflow": null,
            "overflow_x": null,
            "overflow_y": null,
            "padding": null,
            "right": null,
            "top": null,
            "visibility": null,
            "width": null
          }
        },
        "1587a8fcc70c42b2975910d37579fbd5": {
          "model_module": "@jupyter-widgets/controls",
          "model_name": "FloatProgressModel",
          "state": {
            "_dom_classes": [],
            "_model_module": "@jupyter-widgets/controls",
            "_model_module_version": "1.5.0",
            "_model_name": "FloatProgressModel",
            "_view_count": null,
            "_view_module": "@jupyter-widgets/controls",
            "_view_module_version": "1.5.0",
            "_view_name": "ProgressView",
            "bar_style": "success",
            "description": "",
            "description_tooltip": null,
            "layout": "IPY_MODEL_9bed3b8a16cb4632b5602d24b8ae7fb7",
            "max": 9912422,
            "min": 0,
            "orientation": "horizontal",
            "style": "IPY_MODEL_6861f87123be4104b6bb11755507dc2d",
            "value": 9912422
          }
        },
        "ea22fca29c154054aca65dd8dbc0b151": {
          "model_module": "@jupyter-widgets/controls",
          "model_name": "HTMLModel",
          "state": {
            "_dom_classes": [],
            "_model_module": "@jupyter-widgets/controls",
            "_model_module_version": "1.5.0",
            "_model_name": "HTMLModel",
            "_view_count": null,
            "_view_module": "@jupyter-widgets/controls",
            "_view_module_version": "1.5.0",
            "_view_name": "HTMLView",
            "description": "",
            "description_tooltip": null,
            "layout": "IPY_MODEL_1beb8091b3fa42f3affcdf969e9d6da2",
            "placeholder": "​",
            "style": "IPY_MODEL_4c2a52513e1c49bc9192132b2c26b4e4",
            "value": " 9913344/? [03:11&lt;00:00, 51758.49it/s]"
          }
        },
        "6861f87123be4104b6bb11755507dc2d": {
          "model_module": "@jupyter-widgets/controls",
          "model_name": "ProgressStyleModel",
          "state": {
            "_model_module": "@jupyter-widgets/controls",
            "_model_module_version": "1.5.0",
            "_model_name": "ProgressStyleModel",
            "_view_count": null,
            "_view_module": "@jupyter-widgets/base",
            "_view_module_version": "1.2.0",
            "_view_name": "StyleView",
            "bar_color": null,
            "description_width": "initial"
          }
        },
        "9bed3b8a16cb4632b5602d24b8ae7fb7": {
          "model_module": "@jupyter-widgets/base",
          "model_name": "LayoutModel",
          "state": {
            "_model_module": "@jupyter-widgets/base",
            "_model_module_version": "1.2.0",
            "_model_name": "LayoutModel",
            "_view_count": null,
            "_view_module": "@jupyter-widgets/base",
            "_view_module_version": "1.2.0",
            "_view_name": "LayoutView",
            "align_content": null,
            "align_items": null,
            "align_self": null,
            "border": null,
            "bottom": null,
            "display": null,
            "flex": null,
            "flex_flow": null,
            "grid_area": null,
            "grid_auto_columns": null,
            "grid_auto_flow": null,
            "grid_auto_rows": null,
            "grid_column": null,
            "grid_gap": null,
            "grid_row": null,
            "grid_template_areas": null,
            "grid_template_columns": null,
            "grid_template_rows": null,
            "height": null,
            "justify_content": null,
            "justify_items": null,
            "left": null,
            "margin": null,
            "max_height": null,
            "max_width": null,
            "min_height": null,
            "min_width": null,
            "object_fit": null,
            "object_position": null,
            "order": null,
            "overflow": null,
            "overflow_x": null,
            "overflow_y": null,
            "padding": null,
            "right": null,
            "top": null,
            "visibility": null,
            "width": null
          }
        },
        "4c2a52513e1c49bc9192132b2c26b4e4": {
          "model_module": "@jupyter-widgets/controls",
          "model_name": "DescriptionStyleModel",
          "state": {
            "_model_module": "@jupyter-widgets/controls",
            "_model_module_version": "1.5.0",
            "_model_name": "DescriptionStyleModel",
            "_view_count": null,
            "_view_module": "@jupyter-widgets/base",
            "_view_module_version": "1.2.0",
            "_view_name": "StyleView",
            "description_width": ""
          }
        },
        "1beb8091b3fa42f3affcdf969e9d6da2": {
          "model_module": "@jupyter-widgets/base",
          "model_name": "LayoutModel",
          "state": {
            "_model_module": "@jupyter-widgets/base",
            "_model_module_version": "1.2.0",
            "_model_name": "LayoutModel",
            "_view_count": null,
            "_view_module": "@jupyter-widgets/base",
            "_view_module_version": "1.2.0",
            "_view_name": "LayoutView",
            "align_content": null,
            "align_items": null,
            "align_self": null,
            "border": null,
            "bottom": null,
            "display": null,
            "flex": null,
            "flex_flow": null,
            "grid_area": null,
            "grid_auto_columns": null,
            "grid_auto_flow": null,
            "grid_auto_rows": null,
            "grid_column": null,
            "grid_gap": null,
            "grid_row": null,
            "grid_template_areas": null,
            "grid_template_columns": null,
            "grid_template_rows": null,
            "height": null,
            "justify_content": null,
            "justify_items": null,
            "left": null,
            "margin": null,
            "max_height": null,
            "max_width": null,
            "min_height": null,
            "min_width": null,
            "object_fit": null,
            "object_position": null,
            "order": null,
            "overflow": null,
            "overflow_x": null,
            "overflow_y": null,
            "padding": null,
            "right": null,
            "top": null,
            "visibility": null,
            "width": null
          }
        },
        "0213b5a9cfc9490ab55cdeb819c26dd3": {
          "model_module": "@jupyter-widgets/controls",
          "model_name": "HBoxModel",
          "state": {
            "_dom_classes": [],
            "_model_module": "@jupyter-widgets/controls",
            "_model_module_version": "1.5.0",
            "_model_name": "HBoxModel",
            "_view_count": null,
            "_view_module": "@jupyter-widgets/controls",
            "_view_module_version": "1.5.0",
            "_view_name": "HBoxView",
            "box_style": "",
            "children": [
              "IPY_MODEL_4f6439fe1c53477a9371dd5495fb1d6c",
              "IPY_MODEL_a0c3e0d0e5384c488a3722bb5c755616"
            ],
            "layout": "IPY_MODEL_f4adb1c8e0f04c3691a6c76ab4469659"
          }
        },
        "f4adb1c8e0f04c3691a6c76ab4469659": {
          "model_module": "@jupyter-widgets/base",
          "model_name": "LayoutModel",
          "state": {
            "_model_module": "@jupyter-widgets/base",
            "_model_module_version": "1.2.0",
            "_model_name": "LayoutModel",
            "_view_count": null,
            "_view_module": "@jupyter-widgets/base",
            "_view_module_version": "1.2.0",
            "_view_name": "LayoutView",
            "align_content": null,
            "align_items": null,
            "align_self": null,
            "border": null,
            "bottom": null,
            "display": null,
            "flex": null,
            "flex_flow": null,
            "grid_area": null,
            "grid_auto_columns": null,
            "grid_auto_flow": null,
            "grid_auto_rows": null,
            "grid_column": null,
            "grid_gap": null,
            "grid_row": null,
            "grid_template_areas": null,
            "grid_template_columns": null,
            "grid_template_rows": null,
            "height": null,
            "justify_content": null,
            "justify_items": null,
            "left": null,
            "margin": null,
            "max_height": null,
            "max_width": null,
            "min_height": null,
            "min_width": null,
            "object_fit": null,
            "object_position": null,
            "order": null,
            "overflow": null,
            "overflow_x": null,
            "overflow_y": null,
            "padding": null,
            "right": null,
            "top": null,
            "visibility": null,
            "width": null
          }
        },
        "4f6439fe1c53477a9371dd5495fb1d6c": {
          "model_module": "@jupyter-widgets/controls",
          "model_name": "FloatProgressModel",
          "state": {
            "_dom_classes": [],
            "_model_module": "@jupyter-widgets/controls",
            "_model_module_version": "1.5.0",
            "_model_name": "FloatProgressModel",
            "_view_count": null,
            "_view_module": "@jupyter-widgets/controls",
            "_view_module_version": "1.5.0",
            "_view_name": "ProgressView",
            "bar_style": "success",
            "description": "",
            "description_tooltip": null,
            "layout": "IPY_MODEL_7ef42311ecf94b379d9e043fd9316ddf",
            "max": 28881,
            "min": 0,
            "orientation": "horizontal",
            "style": "IPY_MODEL_50bbb5ba379a42cb8aaab651016cfb5f",
            "value": 28881
          }
        },
        "a0c3e0d0e5384c488a3722bb5c755616": {
          "model_module": "@jupyter-widgets/controls",
          "model_name": "HTMLModel",
          "state": {
            "_dom_classes": [],
            "_model_module": "@jupyter-widgets/controls",
            "_model_module_version": "1.5.0",
            "_model_name": "HTMLModel",
            "_view_count": null,
            "_view_module": "@jupyter-widgets/controls",
            "_view_module_version": "1.5.0",
            "_view_name": "HTMLView",
            "description": "",
            "description_tooltip": null,
            "layout": "IPY_MODEL_a4a0424ffd464efba2258576c0673d26",
            "placeholder": "​",
            "style": "IPY_MODEL_7a0277385c7f45ebb1f5e2485db347b2",
            "value": " 29696/? [03:10&lt;00:00, 155.59it/s]"
          }
        },
        "50bbb5ba379a42cb8aaab651016cfb5f": {
          "model_module": "@jupyter-widgets/controls",
          "model_name": "ProgressStyleModel",
          "state": {
            "_model_module": "@jupyter-widgets/controls",
            "_model_module_version": "1.5.0",
            "_model_name": "ProgressStyleModel",
            "_view_count": null,
            "_view_module": "@jupyter-widgets/base",
            "_view_module_version": "1.2.0",
            "_view_name": "StyleView",
            "bar_color": null,
            "description_width": "initial"
          }
        },
        "7ef42311ecf94b379d9e043fd9316ddf": {
          "model_module": "@jupyter-widgets/base",
          "model_name": "LayoutModel",
          "state": {
            "_model_module": "@jupyter-widgets/base",
            "_model_module_version": "1.2.0",
            "_model_name": "LayoutModel",
            "_view_count": null,
            "_view_module": "@jupyter-widgets/base",
            "_view_module_version": "1.2.0",
            "_view_name": "LayoutView",
            "align_content": null,
            "align_items": null,
            "align_self": null,
            "border": null,
            "bottom": null,
            "display": null,
            "flex": null,
            "flex_flow": null,
            "grid_area": null,
            "grid_auto_columns": null,
            "grid_auto_flow": null,
            "grid_auto_rows": null,
            "grid_column": null,
            "grid_gap": null,
            "grid_row": null,
            "grid_template_areas": null,
            "grid_template_columns": null,
            "grid_template_rows": null,
            "height": null,
            "justify_content": null,
            "justify_items": null,
            "left": null,
            "margin": null,
            "max_height": null,
            "max_width": null,
            "min_height": null,
            "min_width": null,
            "object_fit": null,
            "object_position": null,
            "order": null,
            "overflow": null,
            "overflow_x": null,
            "overflow_y": null,
            "padding": null,
            "right": null,
            "top": null,
            "visibility": null,
            "width": null
          }
        },
        "7a0277385c7f45ebb1f5e2485db347b2": {
          "model_module": "@jupyter-widgets/controls",
          "model_name": "DescriptionStyleModel",
          "state": {
            "_model_module": "@jupyter-widgets/controls",
            "_model_module_version": "1.5.0",
            "_model_name": "DescriptionStyleModel",
            "_view_count": null,
            "_view_module": "@jupyter-widgets/base",
            "_view_module_version": "1.2.0",
            "_view_name": "StyleView",
            "description_width": ""
          }
        },
        "a4a0424ffd464efba2258576c0673d26": {
          "model_module": "@jupyter-widgets/base",
          "model_name": "LayoutModel",
          "state": {
            "_model_module": "@jupyter-widgets/base",
            "_model_module_version": "1.2.0",
            "_model_name": "LayoutModel",
            "_view_count": null,
            "_view_module": "@jupyter-widgets/base",
            "_view_module_version": "1.2.0",
            "_view_name": "LayoutView",
            "align_content": null,
            "align_items": null,
            "align_self": null,
            "border": null,
            "bottom": null,
            "display": null,
            "flex": null,
            "flex_flow": null,
            "grid_area": null,
            "grid_auto_columns": null,
            "grid_auto_flow": null,
            "grid_auto_rows": null,
            "grid_column": null,
            "grid_gap": null,
            "grid_row": null,
            "grid_template_areas": null,
            "grid_template_columns": null,
            "grid_template_rows": null,
            "height": null,
            "justify_content": null,
            "justify_items": null,
            "left": null,
            "margin": null,
            "max_height": null,
            "max_width": null,
            "min_height": null,
            "min_width": null,
            "object_fit": null,
            "object_position": null,
            "order": null,
            "overflow": null,
            "overflow_x": null,
            "overflow_y": null,
            "padding": null,
            "right": null,
            "top": null,
            "visibility": null,
            "width": null
          }
        },
        "7d34a9b346a74c6db7390361c808f9bd": {
          "model_module": "@jupyter-widgets/controls",
          "model_name": "HBoxModel",
          "state": {
            "_dom_classes": [],
            "_model_module": "@jupyter-widgets/controls",
            "_model_module_version": "1.5.0",
            "_model_name": "HBoxModel",
            "_view_count": null,
            "_view_module": "@jupyter-widgets/controls",
            "_view_module_version": "1.5.0",
            "_view_name": "HBoxView",
            "box_style": "",
            "children": [
              "IPY_MODEL_703e5053d24f4c2fac96af2cd4885e0d",
              "IPY_MODEL_c3d64127aea244af95609af2ef856ab5"
            ],
            "layout": "IPY_MODEL_ed118e2535a648a280ed5611ff295ea5"
          }
        },
        "ed118e2535a648a280ed5611ff295ea5": {
          "model_module": "@jupyter-widgets/base",
          "model_name": "LayoutModel",
          "state": {
            "_model_module": "@jupyter-widgets/base",
            "_model_module_version": "1.2.0",
            "_model_name": "LayoutModel",
            "_view_count": null,
            "_view_module": "@jupyter-widgets/base",
            "_view_module_version": "1.2.0",
            "_view_name": "LayoutView",
            "align_content": null,
            "align_items": null,
            "align_self": null,
            "border": null,
            "bottom": null,
            "display": null,
            "flex": null,
            "flex_flow": null,
            "grid_area": null,
            "grid_auto_columns": null,
            "grid_auto_flow": null,
            "grid_auto_rows": null,
            "grid_column": null,
            "grid_gap": null,
            "grid_row": null,
            "grid_template_areas": null,
            "grid_template_columns": null,
            "grid_template_rows": null,
            "height": null,
            "justify_content": null,
            "justify_items": null,
            "left": null,
            "margin": null,
            "max_height": null,
            "max_width": null,
            "min_height": null,
            "min_width": null,
            "object_fit": null,
            "object_position": null,
            "order": null,
            "overflow": null,
            "overflow_x": null,
            "overflow_y": null,
            "padding": null,
            "right": null,
            "top": null,
            "visibility": null,
            "width": null
          }
        },
        "703e5053d24f4c2fac96af2cd4885e0d": {
          "model_module": "@jupyter-widgets/controls",
          "model_name": "FloatProgressModel",
          "state": {
            "_dom_classes": [],
            "_model_module": "@jupyter-widgets/controls",
            "_model_module_version": "1.5.0",
            "_model_name": "FloatProgressModel",
            "_view_count": null,
            "_view_module": "@jupyter-widgets/controls",
            "_view_module_version": "1.5.0",
            "_view_name": "ProgressView",
            "bar_style": "success",
            "description": "",
            "description_tooltip": null,
            "layout": "IPY_MODEL_c0180bea355644f7a171960407d96ab6",
            "max": 1648877,
            "min": 0,
            "orientation": "horizontal",
            "style": "IPY_MODEL_c7ece951af5c4f36aaec34c4adb6ef46",
            "value": 1648877
          }
        },
        "c3d64127aea244af95609af2ef856ab5": {
          "model_module": "@jupyter-widgets/controls",
          "model_name": "HTMLModel",
          "state": {
            "_dom_classes": [],
            "_model_module": "@jupyter-widgets/controls",
            "_model_module_version": "1.5.0",
            "_model_name": "HTMLModel",
            "_view_count": null,
            "_view_module": "@jupyter-widgets/controls",
            "_view_module_version": "1.5.0",
            "_view_name": "HTMLView",
            "description": "",
            "description_tooltip": null,
            "layout": "IPY_MODEL_e4bdb4f519b74bea8ccdc21a0e350f48",
            "placeholder": "​",
            "style": "IPY_MODEL_020e8ef586af46e1acfcd08b7fc37065",
            "value": " 1649664/? [00:03&lt;00:00, 475498.18it/s]"
          }
        },
        "c7ece951af5c4f36aaec34c4adb6ef46": {
          "model_module": "@jupyter-widgets/controls",
          "model_name": "ProgressStyleModel",
          "state": {
            "_model_module": "@jupyter-widgets/controls",
            "_model_module_version": "1.5.0",
            "_model_name": "ProgressStyleModel",
            "_view_count": null,
            "_view_module": "@jupyter-widgets/base",
            "_view_module_version": "1.2.0",
            "_view_name": "StyleView",
            "bar_color": null,
            "description_width": "initial"
          }
        },
        "c0180bea355644f7a171960407d96ab6": {
          "model_module": "@jupyter-widgets/base",
          "model_name": "LayoutModel",
          "state": {
            "_model_module": "@jupyter-widgets/base",
            "_model_module_version": "1.2.0",
            "_model_name": "LayoutModel",
            "_view_count": null,
            "_view_module": "@jupyter-widgets/base",
            "_view_module_version": "1.2.0",
            "_view_name": "LayoutView",
            "align_content": null,
            "align_items": null,
            "align_self": null,
            "border": null,
            "bottom": null,
            "display": null,
            "flex": null,
            "flex_flow": null,
            "grid_area": null,
            "grid_auto_columns": null,
            "grid_auto_flow": null,
            "grid_auto_rows": null,
            "grid_column": null,
            "grid_gap": null,
            "grid_row": null,
            "grid_template_areas": null,
            "grid_template_columns": null,
            "grid_template_rows": null,
            "height": null,
            "justify_content": null,
            "justify_items": null,
            "left": null,
            "margin": null,
            "max_height": null,
            "max_width": null,
            "min_height": null,
            "min_width": null,
            "object_fit": null,
            "object_position": null,
            "order": null,
            "overflow": null,
            "overflow_x": null,
            "overflow_y": null,
            "padding": null,
            "right": null,
            "top": null,
            "visibility": null,
            "width": null
          }
        },
        "020e8ef586af46e1acfcd08b7fc37065": {
          "model_module": "@jupyter-widgets/controls",
          "model_name": "DescriptionStyleModel",
          "state": {
            "_model_module": "@jupyter-widgets/controls",
            "_model_module_version": "1.5.0",
            "_model_name": "DescriptionStyleModel",
            "_view_count": null,
            "_view_module": "@jupyter-widgets/base",
            "_view_module_version": "1.2.0",
            "_view_name": "StyleView",
            "description_width": ""
          }
        },
        "e4bdb4f519b74bea8ccdc21a0e350f48": {
          "model_module": "@jupyter-widgets/base",
          "model_name": "LayoutModel",
          "state": {
            "_model_module": "@jupyter-widgets/base",
            "_model_module_version": "1.2.0",
            "_model_name": "LayoutModel",
            "_view_count": null,
            "_view_module": "@jupyter-widgets/base",
            "_view_module_version": "1.2.0",
            "_view_name": "LayoutView",
            "align_content": null,
            "align_items": null,
            "align_self": null,
            "border": null,
            "bottom": null,
            "display": null,
            "flex": null,
            "flex_flow": null,
            "grid_area": null,
            "grid_auto_columns": null,
            "grid_auto_flow": null,
            "grid_auto_rows": null,
            "grid_column": null,
            "grid_gap": null,
            "grid_row": null,
            "grid_template_areas": null,
            "grid_template_columns": null,
            "grid_template_rows": null,
            "height": null,
            "justify_content": null,
            "justify_items": null,
            "left": null,
            "margin": null,
            "max_height": null,
            "max_width": null,
            "min_height": null,
            "min_width": null,
            "object_fit": null,
            "object_position": null,
            "order": null,
            "overflow": null,
            "overflow_x": null,
            "overflow_y": null,
            "padding": null,
            "right": null,
            "top": null,
            "visibility": null,
            "width": null
          }
        },
        "c7029591c68c427ebe8ab0574eb397f0": {
          "model_module": "@jupyter-widgets/controls",
          "model_name": "HBoxModel",
          "state": {
            "_dom_classes": [],
            "_model_module": "@jupyter-widgets/controls",
            "_model_module_version": "1.5.0",
            "_model_name": "HBoxModel",
            "_view_count": null,
            "_view_module": "@jupyter-widgets/controls",
            "_view_module_version": "1.5.0",
            "_view_name": "HBoxView",
            "box_style": "",
            "children": [
              "IPY_MODEL_9bd3ddf312664d44bb8ca918705000ec",
              "IPY_MODEL_f0a2f9cd0d8e4d75b80ffdcfdb381217"
            ],
            "layout": "IPY_MODEL_4d31ef808f1d45049ce6be5c846d9719"
          }
        },
        "4d31ef808f1d45049ce6be5c846d9719": {
          "model_module": "@jupyter-widgets/base",
          "model_name": "LayoutModel",
          "state": {
            "_model_module": "@jupyter-widgets/base",
            "_model_module_version": "1.2.0",
            "_model_name": "LayoutModel",
            "_view_count": null,
            "_view_module": "@jupyter-widgets/base",
            "_view_module_version": "1.2.0",
            "_view_name": "LayoutView",
            "align_content": null,
            "align_items": null,
            "align_self": null,
            "border": null,
            "bottom": null,
            "display": null,
            "flex": null,
            "flex_flow": null,
            "grid_area": null,
            "grid_auto_columns": null,
            "grid_auto_flow": null,
            "grid_auto_rows": null,
            "grid_column": null,
            "grid_gap": null,
            "grid_row": null,
            "grid_template_areas": null,
            "grid_template_columns": null,
            "grid_template_rows": null,
            "height": null,
            "justify_content": null,
            "justify_items": null,
            "left": null,
            "margin": null,
            "max_height": null,
            "max_width": null,
            "min_height": null,
            "min_width": null,
            "object_fit": null,
            "object_position": null,
            "order": null,
            "overflow": null,
            "overflow_x": null,
            "overflow_y": null,
            "padding": null,
            "right": null,
            "top": null,
            "visibility": null,
            "width": null
          }
        },
        "9bd3ddf312664d44bb8ca918705000ec": {
          "model_module": "@jupyter-widgets/controls",
          "model_name": "FloatProgressModel",
          "state": {
            "_dom_classes": [],
            "_model_module": "@jupyter-widgets/controls",
            "_model_module_version": "1.5.0",
            "_model_name": "FloatProgressModel",
            "_view_count": null,
            "_view_module": "@jupyter-widgets/controls",
            "_view_module_version": "1.5.0",
            "_view_name": "ProgressView",
            "bar_style": "success",
            "description": "",
            "description_tooltip": null,
            "layout": "IPY_MODEL_f87473b8f32841449bffbf2ce51c0be5",
            "max": 4542,
            "min": 0,
            "orientation": "horizontal",
            "style": "IPY_MODEL_f1d5ff7c846240f393b2b4c2d3a87964",
            "value": 4542
          }
        },
        "f0a2f9cd0d8e4d75b80ffdcfdb381217": {
          "model_module": "@jupyter-widgets/controls",
          "model_name": "HTMLModel",
          "state": {
            "_dom_classes": [],
            "_model_module": "@jupyter-widgets/controls",
            "_model_module_version": "1.5.0",
            "_model_name": "HTMLModel",
            "_view_count": null,
            "_view_module": "@jupyter-widgets/controls",
            "_view_module_version": "1.5.0",
            "_view_name": "HTMLView",
            "description": "",
            "description_tooltip": null,
            "layout": "IPY_MODEL_ac3ac2a4a95643e3add85f50aeefd472",
            "placeholder": "​",
            "style": "IPY_MODEL_7486f25ae0394c4dafa04cfa0c37d1e8",
            "value": " 5120/? [00:03&lt;00:00, 1584.48it/s]"
          }
        },
        "f1d5ff7c846240f393b2b4c2d3a87964": {
          "model_module": "@jupyter-widgets/controls",
          "model_name": "ProgressStyleModel",
          "state": {
            "_model_module": "@jupyter-widgets/controls",
            "_model_module_version": "1.5.0",
            "_model_name": "ProgressStyleModel",
            "_view_count": null,
            "_view_module": "@jupyter-widgets/base",
            "_view_module_version": "1.2.0",
            "_view_name": "StyleView",
            "bar_color": null,
            "description_width": "initial"
          }
        },
        "f87473b8f32841449bffbf2ce51c0be5": {
          "model_module": "@jupyter-widgets/base",
          "model_name": "LayoutModel",
          "state": {
            "_model_module": "@jupyter-widgets/base",
            "_model_module_version": "1.2.0",
            "_model_name": "LayoutModel",
            "_view_count": null,
            "_view_module": "@jupyter-widgets/base",
            "_view_module_version": "1.2.0",
            "_view_name": "LayoutView",
            "align_content": null,
            "align_items": null,
            "align_self": null,
            "border": null,
            "bottom": null,
            "display": null,
            "flex": null,
            "flex_flow": null,
            "grid_area": null,
            "grid_auto_columns": null,
            "grid_auto_flow": null,
            "grid_auto_rows": null,
            "grid_column": null,
            "grid_gap": null,
            "grid_row": null,
            "grid_template_areas": null,
            "grid_template_columns": null,
            "grid_template_rows": null,
            "height": null,
            "justify_content": null,
            "justify_items": null,
            "left": null,
            "margin": null,
            "max_height": null,
            "max_width": null,
            "min_height": null,
            "min_width": null,
            "object_fit": null,
            "object_position": null,
            "order": null,
            "overflow": null,
            "overflow_x": null,
            "overflow_y": null,
            "padding": null,
            "right": null,
            "top": null,
            "visibility": null,
            "width": null
          }
        },
        "7486f25ae0394c4dafa04cfa0c37d1e8": {
          "model_module": "@jupyter-widgets/controls",
          "model_name": "DescriptionStyleModel",
          "state": {
            "_model_module": "@jupyter-widgets/controls",
            "_model_module_version": "1.5.0",
            "_model_name": "DescriptionStyleModel",
            "_view_count": null,
            "_view_module": "@jupyter-widgets/base",
            "_view_module_version": "1.2.0",
            "_view_name": "StyleView",
            "description_width": ""
          }
        },
        "ac3ac2a4a95643e3add85f50aeefd472": {
          "model_module": "@jupyter-widgets/base",
          "model_name": "LayoutModel",
          "state": {
            "_model_module": "@jupyter-widgets/base",
            "_model_module_version": "1.2.0",
            "_model_name": "LayoutModel",
            "_view_count": null,
            "_view_module": "@jupyter-widgets/base",
            "_view_module_version": "1.2.0",
            "_view_name": "LayoutView",
            "align_content": null,
            "align_items": null,
            "align_self": null,
            "border": null,
            "bottom": null,
            "display": null,
            "flex": null,
            "flex_flow": null,
            "grid_area": null,
            "grid_auto_columns": null,
            "grid_auto_flow": null,
            "grid_auto_rows": null,
            "grid_column": null,
            "grid_gap": null,
            "grid_row": null,
            "grid_template_areas": null,
            "grid_template_columns": null,
            "grid_template_rows": null,
            "height": null,
            "justify_content": null,
            "justify_items": null,
            "left": null,
            "margin": null,
            "max_height": null,
            "max_width": null,
            "min_height": null,
            "min_width": null,
            "object_fit": null,
            "object_position": null,
            "order": null,
            "overflow": null,
            "overflow_x": null,
            "overflow_y": null,
            "padding": null,
            "right": null,
            "top": null,
            "visibility": null,
            "width": null
          }
        }
      }
    }
  },
  "cells": [
    {
      "cell_type": "code",
      "metadata": {
        "id": "XYaxtUEgIafG"
      },
      "source": [
        "import torch\n",
        "import torch.nn as nn\n",
        "import torch.nn.functional as F\n",
        "import torch.optim as optim\n",
        "import torch.optim.lr_scheduler as lr_scheduler\n",
        "from torch.optim.lr_scheduler import _LRScheduler\n",
        "import torch.utils.data as data\n",
        "\n",
        "import torchvision.transforms as transforms\n",
        "import torchvision.datasets as datasets\n",
        "\n",
        "from sklearn import decomposition\n",
        "from sklearn import manifold\n",
        "from sklearn.metrics import confusion_matrix\n",
        "from sklearn.metrics import ConfusionMatrixDisplay\n",
        "import matplotlib.pyplot as plt\n",
        "import numpy as np\n",
        "\n",
        "import copy\n",
        "import random\n",
        "import time"
      ],
      "execution_count": null,
      "outputs": []
    },
    {
      "cell_type": "code",
      "metadata": {
        "id": "QfZxvR09IafJ"
      },
      "source": [
        "SEED = 1234\n",
        "\n",
        "random.seed(SEED)\n",
        "np.random.seed(SEED)\n",
        "torch.manual_seed(SEED)\n",
        "torch.cuda.manual_seed(SEED)\n",
        "torch.backends.cudnn.deterministic = True"
      ],
      "execution_count": null,
      "outputs": []
    },
    {
      "cell_type": "code",
      "metadata": {
        "colab": {
          "base_uri": "https://localhost:8080/",
          "height": 879,
          "referenced_widgets": [
            "95441a29de994d31ba3f8d07ee2b74ec",
            "d189ac7f49434d60a9259a191b3ccb9b",
            "1587a8fcc70c42b2975910d37579fbd5",
            "ea22fca29c154054aca65dd8dbc0b151",
            "6861f87123be4104b6bb11755507dc2d",
            "9bed3b8a16cb4632b5602d24b8ae7fb7",
            "4c2a52513e1c49bc9192132b2c26b4e4",
            "1beb8091b3fa42f3affcdf969e9d6da2",
            "0213b5a9cfc9490ab55cdeb819c26dd3",
            "f4adb1c8e0f04c3691a6c76ab4469659",
            "4f6439fe1c53477a9371dd5495fb1d6c",
            "a0c3e0d0e5384c488a3722bb5c755616",
            "50bbb5ba379a42cb8aaab651016cfb5f",
            "7ef42311ecf94b379d9e043fd9316ddf",
            "7a0277385c7f45ebb1f5e2485db347b2",
            "a4a0424ffd464efba2258576c0673d26",
            "7d34a9b346a74c6db7390361c808f9bd",
            "ed118e2535a648a280ed5611ff295ea5",
            "703e5053d24f4c2fac96af2cd4885e0d",
            "c3d64127aea244af95609af2ef856ab5",
            "c7ece951af5c4f36aaec34c4adb6ef46",
            "c0180bea355644f7a171960407d96ab6",
            "020e8ef586af46e1acfcd08b7fc37065",
            "e4bdb4f519b74bea8ccdc21a0e350f48",
            "c7029591c68c427ebe8ab0574eb397f0",
            "4d31ef808f1d45049ce6be5c846d9719",
            "9bd3ddf312664d44bb8ca918705000ec",
            "f0a2f9cd0d8e4d75b80ffdcfdb381217",
            "f1d5ff7c846240f393b2b4c2d3a87964",
            "f87473b8f32841449bffbf2ce51c0be5",
            "7486f25ae0394c4dafa04cfa0c37d1e8",
            "ac3ac2a4a95643e3add85f50aeefd472"
          ]
        },
        "id": "IprUgI0fIafN",
        "outputId": "3c6ebd5a-a02e-4da0-851b-eec2dccaa894"
      },
      "source": [
        "#Downloading the MNIST dataset \n",
        "train_data = datasets.MNIST(root='./data',train=True,  download=True)\n",
        "#Calculating means and standard deviations for train_data\n",
        "means = np.array(train_data.data).mean(axis = (0,1,2)) / 255\n",
        "stds = np.array(train_data.data).std(axis = (0,1,2)) / 255\n",
        "\n",
        "\n",
        "print(f'Calculated means: {means}')\n",
        "print(f'Calculated stds: {stds}')"
      ],
      "execution_count": null,
      "outputs": [
        {
          "output_type": "stream",
          "text": [
            "Calculated means: 0.1306604762738429\n",
            "Calculated stds: 0.30810780385646264\n"
          ],
          "name": "stdout"
        }
      ]
    },
    {
      "cell_type": "code",
      "metadata": {
        "id": "tfzKdrpfIafR"
      },
      "source": [
        "#Using torchvisions.transforms for common image transformations \n",
        "transform = transforms.Compose([transforms.Resize((50)),\n",
        "                                transforms.ToTensor(),\n",
        "                                transforms.Normalize((0.5,),(0.5,))])"
      ],
      "execution_count": null,
      "outputs": []
    },
    {
      "cell_type": "code",
      "metadata": {
        "id": "vqxev2wBIafU"
      },
      "source": [
        "# applying the transformations on train and test data\n",
        "train_data = datasets.MNIST(root='./data',train=True,  download=True, \n",
        "                              transform = transform)\n",
        "\n",
        "test_data = datasets.MNIST(root='./data',train=False,  download=True, \n",
        "                             transform = transform)"
      ],
      "execution_count": null,
      "outputs": []
    },
    {
      "cell_type": "code",
      "metadata": {
        "id": "NyMEMaDUIafX"
      },
      "source": [
        "VALID_RATIO = 0.9\n",
        "#splitting into train and validation data\n",
        "n_train_examples = int(len(train_data) * VALID_RATIO)\n",
        "n_valid_examples = len(train_data) - n_train_examples\n",
        "\n",
        "train_data, valid_data = data.random_split(train_data, \n",
        "                                           [n_train_examples, n_valid_examples])"
      ],
      "execution_count": null,
      "outputs": []
    },
    {
      "cell_type": "code",
      "metadata": {
        "id": "sKvCJ2_EQUgD"
      },
      "source": [
        "valid_data = copy.deepcopy(valid_data)\n",
        "valid_data.dataset.transform = transform"
      ],
      "execution_count": null,
      "outputs": []
    },
    {
      "cell_type": "code",
      "metadata": {
        "colab": {
          "base_uri": "https://localhost:8080/"
        },
        "id": "enX-chu-Iafc",
        "outputId": "010c1453-ab4b-4d78-bd10-44b2b64e3c2a"
      },
      "source": [
        "print(f'Number of training examples: {len(train_data)}')\n",
        "print(f'Number of validation examples: {len(valid_data)}')\n",
        "print(f'Number of testing examples: {len(test_data)}')"
      ],
      "execution_count": null,
      "outputs": [
        {
          "output_type": "stream",
          "text": [
            "Number of training examples: 54000\n",
            "Number of validation examples: 6000\n",
            "Number of testing examples: 10000\n"
          ],
          "name": "stdout"
        }
      ]
    },
    {
      "cell_type": "code",
      "metadata": {
        "id": "A6piM5oUcZIY"
      },
      "source": [
        "N_IMAGES = 25\n",
        "\n",
        "images, labels = zip(*[(image, label) for image, label in [train_data[i] for i in range(N_IMAGES)]])\n",
        "\n",
        "labels = [test_data.classes[i] for i in labels]\n"
      ],
      "execution_count": null,
      "outputs": []
    },
    {
      "cell_type": "code",
      "metadata": {
        "id": "R3xrmRy9h19x"
      },
      "source": [
        "#function for normalising image\n",
        "def normalize_image(image):\n",
        "    image_min = image.min()#takes the minimum pixel value of the image\n",
        "    image_max = image.max()#takes the maximum pixel value of the image\n",
        "    image.clamp_(min = image_min, max = image_max)\n",
        "    image.add_(-image_min).div_(image_max - image_min + 1e-5)\n",
        "    return image"
      ],
      "execution_count": null,
      "outputs": []
    },
    {
      "cell_type": "code",
      "metadata": {
        "id": "o3rhhD0HIaff"
      },
      "source": [
        "BATCH_SIZE = 64\n",
        "\n",
        "#dataloader to access images in the dataset\n",
        "\n",
        "train_iterator = data.DataLoader(train_data, \n",
        "                                 shuffle = True, \n",
        "                                 batch_size = BATCH_SIZE)\n",
        "\n",
        "valid_iterator = data.DataLoader(valid_data, \n",
        "                                 batch_size = BATCH_SIZE)\n",
        "\n",
        "test_iterator = data.DataLoader(test_data, \n",
        "                                batch_size = BATCH_SIZE)"
      ],
      "execution_count": null,
      "outputs": []
    },
    {
      "cell_type": "code",
      "metadata": {
        "id": "sQq-LE22Iafk"
      },
      "source": [
        "#we first create a ResNet block with two convolutional layers \n",
        "#Batch normalisation is performed on output channels\n",
        "class ResNetBlock(nn.Module):\n",
        "    def __init__(self, in_channels, out_channels, stride):\n",
        "        super().__init__()\n",
        "        \n",
        "        self.conv1 = nn.Conv2d(in_channels, out_channels, kernel_size=3, stride=stride, padding=1, bias=False)\n",
        "        self.bn1 = nn.BatchNorm2d(out_channels)\n",
        "        self.conv2 = nn.Conv2d(out_channels, out_channels, kernel_size=3, stride=1, padding=1, bias=False)\n",
        "        self.bn2 = nn.BatchNorm2d(out_channels)\n",
        "        # Initialising the model\n",
        "        self.downsample = nn.Sequential()#model initialise\n",
        "        \n",
        "        if stride != 1 or in_channels != out_channels:\n",
        "            self.downsample = nn.Sequential(\n",
        "                nn.Conv2d(in_channels, out_channels, kernel_size=1, stride=stride, bias=False),\n",
        "                nn.BatchNorm2d(out_channels)\n",
        "            )\n",
        "            #resnet block is initialised    \n",
        "    def forward(self, x):\n",
        "         #take x and pass it as input to convolutional layer 1 and perform 2dbatchnorm\n",
        "        out = F.relu(self.bn1(self.conv1(x)))\n",
        "         #pass output of convolutional layer 1 to second convolutional layer\n",
        "        #perform batchnorm for 2nd layer as well\n",
        "        # int resblock take x and pass it as input to conv1 final output is relu of conv1\n",
        "        out = self.bn2(self.conv2(out))\n",
        "       #add the ouptut of second layer to x\n",
        "        out += self.downsample(x)\n",
        "       #final output obtained is relu of conv1\n",
        "        out = F.relu(out)\n",
        "        return out\n",
        "\n",
        "class ResNetLayer(nn.Module):\n",
        "    def __init__(self, block, n_blocks, in_channels, out_channels, stride):\n",
        "        super().__init__()\n",
        "          #by customising  we define how many blocks should be there in the layer\n",
        "        self.modules = []\n",
        "        #adding the layers\n",
        "        self.modules.append(block(in_channels, out_channels, stride))\n",
        "        \n",
        "        for _ in range(n_blocks-1):\n",
        "            self.modules.append(block(out_channels, out_channels, 1))\n",
        "            \n",
        "        self.blocks = nn.Sequential(*self.modules)\n",
        "    \n",
        "    def forward(self, x):\n",
        "        return self.blocks(x) \n",
        "    \n",
        "class ResNet18(nn.Module):\n",
        "    def __init__(self, layer, block):\n",
        "        super().__init__()\n",
        "        # number of blocks in each layer\n",
        "        n_blocks = [2, 2, 2, 2]\n",
        "        #defining layers\n",
        "        self.conv1 = nn.Conv2d(1, 64, kernel_size=3, stride=1, padding=1, bias=False)\n",
        "        self.bn1 = nn.BatchNorm2d(64)\n",
        "        self.layer1 = layer(block, n_blocks[0], 64, 64, 1)\n",
        "        self.layer2 = layer(block, n_blocks[1], 64, 128, 2)\n",
        "        self.layer3 = layer(block, n_blocks[2], 128, 256, 2)\n",
        "        self.layer4 = layer(block, n_blocks[3], 256, 512, 2)\n",
        "        self.fc = nn.Linear(512, 10)\n",
        "        #connecting layers\n",
        "    def forward(self, x):\n",
        "        out = F.relu(self.bn1(self.conv1(x)))\n",
        "        #first layer has 64 convolutions\n",
        "        out = self.layer1(out)\n",
        "        #then connect 64 to 128 convolutions\n",
        "        #while changing from layer to layer ,we downsample because during skipconnection we should have same no of channels\n",
        "        out = self.layer2(out)\n",
        "        out = self.layer3(out)\n",
        "        out = self.layer4(out)\n",
        "        out = F.avg_pool2d(out, 4)\n",
        "        h = out.view(out.shape[0], -1)\n",
        "        out = self.fc(h)\n",
        "        return out, h\n",
        "    \n",
        "class ResNet34(nn.Module):\n",
        "    def __init__(self, layer, block):\n",
        "        super().__init__()\n",
        "        # number of blocks in each layer\n",
        "        n_blocks = [3, 4, 6, 3]\n",
        "        #defining layers\n",
        "        self.conv1 = nn.Conv2d(1, 64, kernel_size=3, stride=1, padding=1, bias=False)\n",
        "        self.bn1 = nn.BatchNorm2d(64)\n",
        "        self.layer1 = layer(block, n_blocks[0], 64, 64, 1)\n",
        "        self.layer2 = layer(block, n_blocks[1], 64, 128, 2)\n",
        "        self.layer3 = layer(block, n_blocks[2], 128, 256, 2)\n",
        "        self.layer4 = layer(block, n_blocks[3], 256, 512, 2)\n",
        "        self.fc = nn.Linear(512, 10)\n",
        "        # connecting layers\n",
        "    def forward(self, x):\n",
        "        out = F.relu(self.bn1(self.conv1(x)))\n",
        "        #first layer has 64 convolutions\n",
        "        out = self.layer1(out)\n",
        "        #then connect 64 to 128 convolutions\n",
        "        #while changing from layer to layer ,we downsample because during skipconnection we should have same no of channels\n",
        "        out = self.layer2(out)\n",
        "        out = self.layer3(out)\n",
        "        out = self.layer4(out)\n",
        "        out = F.avg_pool2d(out, 4)\n",
        "        h = out.view(out.shape[0], -1)\n",
        "        out = self.fc(h)\n",
        "        return out, h"
      ],
      "execution_count": null,
      "outputs": []
    },
    {
      "cell_type": "markdown",
      "metadata": {
        "id": "txdboI6WQ_u_"
      },
      "source": [
        "## RESNET 18\n"
      ]
    },
    {
      "cell_type": "code",
      "metadata": {
        "id": "y-sDcYnBIafp"
      },
      "source": [
        "#defining the model\n",
        "model = ResNet18(ResNetLayer, ResNetBlock)"
      ],
      "execution_count": null,
      "outputs": []
    },
    {
      "cell_type": "code",
      "metadata": {
        "id": "LFK0Po7__6b_"
      },
      "source": [
        ""
      ],
      "execution_count": null,
      "outputs": []
    },
    {
      "cell_type": "code",
      "metadata": {
        "colab": {
          "base_uri": "https://localhost:8080/"
        },
        "id": "3g-pV7t2Iafs",
        "outputId": "49381eee-ba8b-4025-d6dd-77cb4f000981"
      },
      "source": [
        "def count_parameters(model):\n",
        "    return sum(p.numel() for p in model.parameters() if p.requires_grad)\n",
        "\n",
        "print(f'The model has {count_parameters(model):,} trainable parameters')"
      ],
      "execution_count": null,
      "outputs": [
        {
          "output_type": "stream",
          "text": [
            "The model has 11,172,810 trainable parameters\n"
          ],
          "name": "stdout"
        }
      ]
    },
    {
      "cell_type": "code",
      "metadata": {
        "id": "I4NbFid9Iafw"
      },
      "source": [
        "def initialize_parameters(m):\n",
        "    if isinstance(m, nn.Conv2d):\n",
        "        nn.init.kaiming_normal_(m.weight.data, nonlinearity = 'relu')\n",
        "        if m.bias is not None:\n",
        "            nn.init.constant_(m.bias.data, 0)\n",
        "    if isinstance(m, nn.Linear):\n",
        "        nn.init.xavier_normal_(m.weight.data, gain = nn.init.calculate_gain('relu'))\n",
        "        nn.init.constant_(m.bias.data, 0)"
      ],
      "execution_count": null,
      "outputs": []
    },
    {
      "cell_type": "code",
      "metadata": {
        "colab": {
          "base_uri": "https://localhost:8080/"
        },
        "id": "Bve8IsHsIafz",
        "outputId": "f84bb8a9-cf55-4abe-f1ef-16c04ff28677"
      },
      "source": [
        "model.apply(initialize_parameters)"
      ],
      "execution_count": null,
      "outputs": [
        {
          "output_type": "execute_result",
          "data": {
            "text/plain": [
              "ResNet18(\n",
              "  (conv1): Conv2d(1, 64, kernel_size=(3, 3), stride=(1, 1), padding=(1, 1), bias=False)\n",
              "  (bn1): BatchNorm2d(64, eps=1e-05, momentum=0.1, affine=True, track_running_stats=True)\n",
              "  (layer1): ResNetLayer(\n",
              "    (blocks): Sequential(\n",
              "      (0): ResNetBlock(\n",
              "        (conv1): Conv2d(64, 64, kernel_size=(3, 3), stride=(1, 1), padding=(1, 1), bias=False)\n",
              "        (bn1): BatchNorm2d(64, eps=1e-05, momentum=0.1, affine=True, track_running_stats=True)\n",
              "        (conv2): Conv2d(64, 64, kernel_size=(3, 3), stride=(1, 1), padding=(1, 1), bias=False)\n",
              "        (bn2): BatchNorm2d(64, eps=1e-05, momentum=0.1, affine=True, track_running_stats=True)\n",
              "        (downsample): Sequential()\n",
              "      )\n",
              "      (1): ResNetBlock(\n",
              "        (conv1): Conv2d(64, 64, kernel_size=(3, 3), stride=(1, 1), padding=(1, 1), bias=False)\n",
              "        (bn1): BatchNorm2d(64, eps=1e-05, momentum=0.1, affine=True, track_running_stats=True)\n",
              "        (conv2): Conv2d(64, 64, kernel_size=(3, 3), stride=(1, 1), padding=(1, 1), bias=False)\n",
              "        (bn2): BatchNorm2d(64, eps=1e-05, momentum=0.1, affine=True, track_running_stats=True)\n",
              "        (downsample): Sequential()\n",
              "      )\n",
              "    )\n",
              "  )\n",
              "  (layer2): ResNetLayer(\n",
              "    (blocks): Sequential(\n",
              "      (0): ResNetBlock(\n",
              "        (conv1): Conv2d(64, 128, kernel_size=(3, 3), stride=(2, 2), padding=(1, 1), bias=False)\n",
              "        (bn1): BatchNorm2d(128, eps=1e-05, momentum=0.1, affine=True, track_running_stats=True)\n",
              "        (conv2): Conv2d(128, 128, kernel_size=(3, 3), stride=(1, 1), padding=(1, 1), bias=False)\n",
              "        (bn2): BatchNorm2d(128, eps=1e-05, momentum=0.1, affine=True, track_running_stats=True)\n",
              "        (downsample): Sequential(\n",
              "          (0): Conv2d(64, 128, kernel_size=(1, 1), stride=(2, 2), bias=False)\n",
              "          (1): BatchNorm2d(128, eps=1e-05, momentum=0.1, affine=True, track_running_stats=True)\n",
              "        )\n",
              "      )\n",
              "      (1): ResNetBlock(\n",
              "        (conv1): Conv2d(128, 128, kernel_size=(3, 3), stride=(1, 1), padding=(1, 1), bias=False)\n",
              "        (bn1): BatchNorm2d(128, eps=1e-05, momentum=0.1, affine=True, track_running_stats=True)\n",
              "        (conv2): Conv2d(128, 128, kernel_size=(3, 3), stride=(1, 1), padding=(1, 1), bias=False)\n",
              "        (bn2): BatchNorm2d(128, eps=1e-05, momentum=0.1, affine=True, track_running_stats=True)\n",
              "        (downsample): Sequential()\n",
              "      )\n",
              "    )\n",
              "  )\n",
              "  (layer3): ResNetLayer(\n",
              "    (blocks): Sequential(\n",
              "      (0): ResNetBlock(\n",
              "        (conv1): Conv2d(128, 256, kernel_size=(3, 3), stride=(2, 2), padding=(1, 1), bias=False)\n",
              "        (bn1): BatchNorm2d(256, eps=1e-05, momentum=0.1, affine=True, track_running_stats=True)\n",
              "        (conv2): Conv2d(256, 256, kernel_size=(3, 3), stride=(1, 1), padding=(1, 1), bias=False)\n",
              "        (bn2): BatchNorm2d(256, eps=1e-05, momentum=0.1, affine=True, track_running_stats=True)\n",
              "        (downsample): Sequential(\n",
              "          (0): Conv2d(128, 256, kernel_size=(1, 1), stride=(2, 2), bias=False)\n",
              "          (1): BatchNorm2d(256, eps=1e-05, momentum=0.1, affine=True, track_running_stats=True)\n",
              "        )\n",
              "      )\n",
              "      (1): ResNetBlock(\n",
              "        (conv1): Conv2d(256, 256, kernel_size=(3, 3), stride=(1, 1), padding=(1, 1), bias=False)\n",
              "        (bn1): BatchNorm2d(256, eps=1e-05, momentum=0.1, affine=True, track_running_stats=True)\n",
              "        (conv2): Conv2d(256, 256, kernel_size=(3, 3), stride=(1, 1), padding=(1, 1), bias=False)\n",
              "        (bn2): BatchNorm2d(256, eps=1e-05, momentum=0.1, affine=True, track_running_stats=True)\n",
              "        (downsample): Sequential()\n",
              "      )\n",
              "    )\n",
              "  )\n",
              "  (layer4): ResNetLayer(\n",
              "    (blocks): Sequential(\n",
              "      (0): ResNetBlock(\n",
              "        (conv1): Conv2d(256, 512, kernel_size=(3, 3), stride=(2, 2), padding=(1, 1), bias=False)\n",
              "        (bn1): BatchNorm2d(512, eps=1e-05, momentum=0.1, affine=True, track_running_stats=True)\n",
              "        (conv2): Conv2d(512, 512, kernel_size=(3, 3), stride=(1, 1), padding=(1, 1), bias=False)\n",
              "        (bn2): BatchNorm2d(512, eps=1e-05, momentum=0.1, affine=True, track_running_stats=True)\n",
              "        (downsample): Sequential(\n",
              "          (0): Conv2d(256, 512, kernel_size=(1, 1), stride=(2, 2), bias=False)\n",
              "          (1): BatchNorm2d(512, eps=1e-05, momentum=0.1, affine=True, track_running_stats=True)\n",
              "        )\n",
              "      )\n",
              "      (1): ResNetBlock(\n",
              "        (conv1): Conv2d(512, 512, kernel_size=(3, 3), stride=(1, 1), padding=(1, 1), bias=False)\n",
              "        (bn1): BatchNorm2d(512, eps=1e-05, momentum=0.1, affine=True, track_running_stats=True)\n",
              "        (conv2): Conv2d(512, 512, kernel_size=(3, 3), stride=(1, 1), padding=(1, 1), bias=False)\n",
              "        (bn2): BatchNorm2d(512, eps=1e-05, momentum=0.1, affine=True, track_running_stats=True)\n",
              "        (downsample): Sequential()\n",
              "      )\n",
              "    )\n",
              "  )\n",
              "  (fc): Linear(in_features=512, out_features=10, bias=True)\n",
              ")"
            ]
          },
          "metadata": {
            "tags": []
          },
          "execution_count": 18
        }
      ]
    },
    {
      "cell_type": "code",
      "metadata": {
        "id": "EgMWsKUcABhT"
      },
      "source": [
        ""
      ],
      "execution_count": null,
      "outputs": []
    },
    {
      "cell_type": "code",
      "metadata": {
        "id": "HO-LYudEIaf2"
      },
      "source": [
        "#using learning rate finder\n",
        "class LRFinder(object):\n",
        "    def __init__(self, model, optimizer, criterion, device):\n",
        "        self.optimizer = optimizer\n",
        "        self.model = model\n",
        "        self.criterion = criterion\n",
        "        self.device = device\n",
        "        \n",
        "        self.model_params = copy.deepcopy(model.state_dict())\n",
        "        self.optim_params = copy.deepcopy(optimizer.state_dict())\n",
        "\n",
        "    def reset(self):\n",
        "        self.model.load_state_dict(self.model_params)\n",
        "        self.optimizer.load_state_dict(self.optim_params)\n",
        "\n",
        "    def range_test(self, iterator, end_lr = 10, num_iter = 100, smooth_f = 0.1, diverge_th = 5):\n",
        "        \n",
        "        lrs = []\n",
        "        losses = []\n",
        "        best_loss = float('inf')\n",
        "\n",
        "        lr_scheduler = ExponentialLR(self.optimizer, end_lr, num_iter)\n",
        "        \n",
        "        iterator = IteratorWrapper(iterator)\n",
        "        \n",
        "        for iteration in range(num_iter):\n",
        "\n",
        "            loss = self._train_batch(iterator)\n",
        "\n",
        "            lr_scheduler.step()\n",
        "            \n",
        "            lrs.append(lr_scheduler.get_lr()[0])\n",
        "\n",
        "            if iteration > 0:\n",
        "                loss = smooth_f * loss + (1 - smooth_f) * losses[-1]\n",
        "                \n",
        "            if loss < best_loss:\n",
        "                best_loss = loss\n",
        "\n",
        "            losses.append(loss)\n",
        "            \n",
        "            if loss > diverge_th * best_loss:\n",
        "                print(\"Stopping early, the loss has diverged\")\n",
        "                break\n",
        "                        \n",
        "        return lrs, losses\n",
        "\n",
        "    def _train_batch(self, iterator):\n",
        "        \n",
        "        self.model.train()\n",
        "        #setting the gradients of all parameters to zero\n",
        "        self.optimizer.zero_grad()\n",
        "        \n",
        "        x, y = iterator.get_batch()\n",
        "        #passing x and y to device\n",
        "        x = x.to(self.device)\n",
        "        y = y.to(self.device)\n",
        "        \n",
        "        y_pred, _ = self.model(x)\n",
        "                \n",
        "        loss = self.criterion(y_pred, y)\n",
        "        \n",
        "        loss.backward()\n",
        "        \n",
        "        self.optimizer.step()\n",
        "        \n",
        "        return loss.item()\n",
        "\n",
        "\n",
        "class ExponentialLR(_LRScheduler):\n",
        "    \n",
        "    def __init__(self, optimizer, end_lr, num_iter, last_epoch=-1):\n",
        "        self.end_lr = end_lr\n",
        "        self.num_iter = num_iter\n",
        "        super(ExponentialLR, self).__init__(optimizer, last_epoch)\n",
        "\n",
        "    def get_lr(self):\n",
        "        curr_iter = self.last_epoch + 1\n",
        "        r = curr_iter / self.num_iter\n",
        "        return [base_lr * (self.end_lr / base_lr) ** r for base_lr in self.base_lrs]\n",
        "\n",
        "class IteratorWrapper:\n",
        "    \n",
        "    def __init__(self, iterator):\n",
        "        self.iterator = iterator\n",
        "        self._iterator = iter(iterator)\n",
        "\n",
        "    def __next__(self):\n",
        "        try:\n",
        "            inputs, labels = next(self._iterator)\n",
        "        except StopIteration:\n",
        "            self._iterator = iter(self.iterator)\n",
        "            inputs, labels, *_ = next(self._iterator)\n",
        "\n",
        "        return inputs, labels\n",
        "\n",
        "    def get_batch(self):\n",
        "        return next(self)"
      ],
      "execution_count": null,
      "outputs": []
    },
    {
      "cell_type": "code",
      "metadata": {
        "id": "5583ybdqIaf4"
      },
      "source": [
        "#initilaise optimizer with low learning rate\n",
        "START_LR = 1e-5\n",
        "\n",
        "device = torch.device('cuda' if torch.cuda.is_available() else 'cpu')\n",
        "#using cross entropy as loss function\n",
        "criterion = nn.CrossEntropyLoss()\n",
        "#initialising adam optimzer with  low learning rate\n",
        "optimizer = optim.Adam(model.parameters(), lr = START_LR)\n",
        "#placing the model and loss function on device \n",
        "model = model.to(device)\n",
        "criterion = criterion.to(device)"
      ],
      "execution_count": null,
      "outputs": []
    },
    {
      "cell_type": "code",
      "metadata": {
        "colab": {
          "base_uri": "https://localhost:8080/"
        },
        "id": "BcA3kgLHIaf6",
        "outputId": "7244b8e4-62db-495b-d27d-b06894d83e55"
      },
      "source": [
        "#Resnet18\n",
        "END_LR = 10\n",
        "NUM_ITER = 100\n",
        "#using learning rate finder to find out best learning rate\n",
        "lr_finder = LRFinder(model, optimizer, criterion, device)\n",
        "lrs, losses = lr_finder.range_test(train_iterator, END_LR, NUM_ITER)\n",
        "lr_finder.reset() "
      ],
      "execution_count": null,
      "outputs": [
        {
          "output_type": "stream",
          "text": [
            "Stopping early, the loss has diverged\n"
          ],
          "name": "stdout"
        }
      ]
    },
    {
      "cell_type": "code",
      "metadata": {
        "id": "6pP7Q-v0ATpN"
      },
      "source": [
        ""
      ],
      "execution_count": null,
      "outputs": []
    },
    {
      "cell_type": "code",
      "metadata": {
        "id": "4h0DrKqrIaf9"
      },
      "source": [
        "#function for plotting learning rate\n",
        "def plot_lr_finder(lrs, losses, skip_start=10, skip_end=5):\n",
        "    \n",
        "    if skip_end == 0:\n",
        "        lrs = lrs[skip_start:]\n",
        "        losses = losses[skip_start:]\n",
        "        \n",
        "    else:\n",
        "        lrs = lrs[skip_start:-skip_end]\n",
        "        losses = losses[skip_start:-skip_end]\n",
        "    \n",
        "    fig = plt.figure(figsize=(16,8))\n",
        "    ax = fig.add_subplot(1,1,1)\n",
        "    ax.plot(lrs, losses)\n",
        "    ax.set_xscale('log')\n",
        "    ax.set_xlabel(\"Learning rate\")\n",
        "    ax.set_ylabel(\"Loss\")\n",
        "    ax.grid(True, 'both', 'x')\n",
        "    plt.show()\n"
      ],
      "execution_count": null,
      "outputs": []
    },
    {
      "cell_type": "code",
      "metadata": {
        "colab": {
          "base_uri": "https://localhost:8080/",
          "height": 501
        },
        "id": "WiivDPU3IagA",
        "outputId": "16f3d4a9-719a-4c4e-9aed-e302a4050042"
      },
      "source": [
        "plot_lr_finder(lrs, losses)"
      ],
      "execution_count": null,
      "outputs": [
        {
          "output_type": "display_data",
          "data": {
            "image/png": "[encoded data removed]",
            "text/plain": [
              "<Figure size 1152x576 with 1 Axes>"
            ]
          },
          "metadata": {
            "tags": [],
            "needs_background": "light"
          }
        }
      ]
    },
    {
      "cell_type": "code",
      "metadata": {
        "id": "P6hTusQNIagD"
      },
      "source": [
        "#best learning rate is found from the plot\n",
        "FOUND_LR = 1e-3\n",
        "\n",
        "optimizer = optim.Adam(model.parameters(), lr = FOUND_LR)"
      ],
      "execution_count": null,
      "outputs": []
    },
    {
      "cell_type": "code",
      "metadata": {
        "id": "24a_MDrmAdH9"
      },
      "source": [
        ""
      ],
      "execution_count": null,
      "outputs": []
    },
    {
      "cell_type": "code",
      "metadata": {
        "id": "YZzmz6pcIagG"
      },
      "source": [
        "#ReduceLROnPlateau scheduler to adjust the learning rate\n",
        "scheduler = lr_scheduler.ReduceLROnPlateau(optimizer, factor = 0.1, patience = 1_000, verbose = True)"
      ],
      "execution_count": null,
      "outputs": []
    },
    {
      "cell_type": "code",
      "metadata": {
        "id": "TJj9fQ5WIagI"
      },
      "source": [
        "# calculating accuracy\n",
        "def calculate_accuracy(y_pred, y):\n",
        "    top_pred = y_pred.argmax(1, keepdim = True)\n",
        "    correct = top_pred.eq(y.view_as(top_pred)).sum()\n",
        "    acc = correct.float() / y.shape[0]\n",
        "    return acc"
      ],
      "execution_count": null,
      "outputs": []
    },
    {
      "cell_type": "code",
      "metadata": {
        "id": "e65mN1cGIagK"
      },
      "source": [
        "def train(model, iterator, optimizer, criterion, device):\n",
        "    \n",
        "    epoch_loss = 0\n",
        "    epoch_acc = 0\n",
        "    \n",
        "    model.train()\n",
        "    #training the model\n",
        "    for (x, y) in iterator:\n",
        "        #x has batch of images\n",
        "      # y has labels for the batch of images\n",
        "        # moving x and y to device\n",
        "        x = x.to(device)\n",
        "        y = y.to(device)\n",
        "        #setting the gradients of all parameters to zero\n",
        "\n",
        "        optimizer.zero_grad()\n",
        "                \n",
        "        y_pred, _ = model(x)\n",
        "        #caclulating loss\n",
        "        loss = criterion(y_pred, y)\n",
        "        #accuracy is computed\n",
        "        acc = calculate_accuracy(y_pred, y)\n",
        "         # back propogating the loss\n",
        "        loss.backward()\n",
        "        #updating the optimizer\n",
        "        optimizer.step()\n",
        "        \n",
        "        epoch_loss += loss.item()\n",
        "        epoch_acc += acc.item()\n",
        "        \n",
        "    return epoch_loss / len(iterator), epoch_acc / len(iterator)"
      ],
      "execution_count": null,
      "outputs": []
    },
    {
      "cell_type": "code",
      "metadata": {
        "id": "gnUhGD9MIagM"
      },
      "source": [
        "def evaluate(model, iterator, criterion, device):\n",
        "    \n",
        "    epoch_loss = 0\n",
        "    epoch_acc = 0\n",
        "    \n",
        "    model.eval()\n",
        "    \n",
        "    with torch.no_grad():\n",
        "         #x has batch of images\n",
        "      # y has labels for the batch of images\n",
        "        # moving x and y to device\n",
        "        for (x, y) in iterator:\n",
        "\n",
        "            x = x.to(device)\n",
        "            y = y.to(device)\n",
        "\n",
        "            y_pred, _ = model(x)\n",
        "             #caclulating loss\n",
        "            loss = criterion(y_pred, y)\n",
        "             #accuracy is computed\n",
        "            acc = calculate_accuracy(y_pred, y)\n",
        "\n",
        "            epoch_loss += loss.item()\n",
        "            epoch_acc += acc.item()\n",
        "        \n",
        "    return epoch_loss / len(iterator), epoch_acc / len(iterator)"
      ],
      "execution_count": null,
      "outputs": []
    },
    {
      "cell_type": "code",
      "metadata": {
        "id": "RX-Mwze-IagO"
      },
      "source": [
        "\n",
        "def epoch_time(start_time, end_time):\n",
        "    elapsed_time = end_time - start_time\n",
        "    elapsed_mins = int(elapsed_time / 60)\n",
        "    elapsed_secs = int(elapsed_time - (elapsed_mins * 60))\n",
        "    return elapsed_mins, elapsed_secs"
      ],
      "execution_count": null,
      "outputs": []
    },
    {
      "cell_type": "code",
      "metadata": {
        "id": "K2a6-1N45uzU"
      },
      "source": [
        "#creating empty lists for storing loss and accuracy values while training\n",
        "train_losses = []\n",
        "valid_losses = []\n",
        "train_accuracy = []\n",
        "valid_accuracy = []"
      ],
      "execution_count": null,
      "outputs": []
    },
    {
      "cell_type": "code",
      "metadata": {
        "id": "YfbryObhpcZg",
        "outputId": "c1068392-2793-4ff6-e5c1-00760bb2cc89"
      },
      "source": [
        "EPOCHS = 25\n",
        "\n",
        "\n",
        "\n",
        "best_valid_loss = float('inf')\n",
        "\n",
        "for epoch in range(EPOCHS):\n",
        "    \n",
        "    start_time = time.time()\n",
        "    \n",
        "    train_loss, train_acc = train(model, train_iterator, optimizer, criterion, device)\n",
        "    valid_loss, valid_acc = evaluate(model, valid_iterator, criterion, device)\n",
        "    \n",
        "    scheduler.step(valid_loss)\n",
        "    \n",
        "    if valid_loss < best_valid_loss:\n",
        "        best_valid_loss = valid_loss\n",
        "        torch.save(model.state_dict(), 'tut3-model.pt')\n",
        "\n",
        "    end_time = time.time()\n",
        "        # storing the loss for each epoch\n",
        "    train_losses.append(train_loss)\n",
        "    valid_losses.append(valid_loss)\n",
        "    #storing the accuarcy for each epoch\n",
        "    train_accuracy.append(train_acc)\n",
        "    valid_accuracy.append(valid_acc)\n",
        "\n",
        "    epoch_mins, epoch_secs = epoch_time(start_time, end_time)\n",
        "    \n",
        "    t = time.localtime()\n",
        "    time_stamp = time.strftime('%Y-%m-%d %H:%M:%S', t)\n",
        "\n",
        "    print(time_stamp)\n",
        "    print(f'Epoch: {epoch+1:02} | Epoch Time: {epoch_mins}m {epoch_secs}s')\n",
        "    print(f'\\tTrain Loss: {train_loss:.3f} | Train Acc: {train_acc*100:.2f}%')\n",
        "    print(f'\\t Val. Loss: {valid_loss:.3f} |  Val. Acc: {valid_acc*100:.2f}%')"
      ],
      "execution_count": null,
      "outputs": [
        {
          "output_type": "stream",
          "text": [
            "2021-05-15 19:04:02\n",
            "Epoch: 01 | Epoch Time: 1m 28s\n",
            "\tTrain Loss: 0.035 | Train Acc: 98.92%\n",
            "\t Val. Loss: 0.051 |  Val. Acc: 98.50%\n",
            "2021-05-15 19:05:30\n",
            "Epoch: 02 | Epoch Time: 1m 28s\n",
            "\tTrain Loss: 0.029 | Train Acc: 99.13%\n",
            "\t Val. Loss: 0.036 |  Val. Acc: 98.87%\n",
            "2021-05-15 19:06:58\n",
            "Epoch: 03 | Epoch Time: 1m 27s\n",
            "\tTrain Loss: 0.024 | Train Acc: 99.26%\n",
            "\t Val. Loss: 0.038 |  Val. Acc: 98.79%\n",
            "2021-05-15 19:08:27\n",
            "Epoch: 04 | Epoch Time: 1m 28s\n",
            "\tTrain Loss: 0.021 | Train Acc: 99.36%\n",
            "\t Val. Loss: 0.034 |  Val. Acc: 99.05%\n",
            "2021-05-15 19:09:54\n",
            "Epoch: 05 | Epoch Time: 1m 27s\n",
            "\tTrain Loss: 0.019 | Train Acc: 99.42%\n",
            "\t Val. Loss: 0.037 |  Val. Acc: 98.89%\n",
            "2021-05-15 19:11:23\n",
            "Epoch: 06 | Epoch Time: 1m 28s\n",
            "\tTrain Loss: 0.016 | Train Acc: 99.50%\n",
            "\t Val. Loss: 0.025 |  Val. Acc: 99.34%\n",
            "2021-05-15 19:12:51\n",
            "Epoch: 07 | Epoch Time: 1m 27s\n",
            "\tTrain Loss: 0.015 | Train Acc: 99.52%\n",
            "\t Val. Loss: 0.029 |  Val. Acc: 99.18%\n",
            "2021-05-15 19:14:18\n",
            "Epoch: 08 | Epoch Time: 1m 27s\n",
            "\tTrain Loss: 0.013 | Train Acc: 99.59%\n",
            "\t Val. Loss: 0.031 |  Val. Acc: 99.20%\n",
            "2021-05-15 19:15:46\n",
            "Epoch: 09 | Epoch Time: 1m 27s\n",
            "\tTrain Loss: 0.010 | Train Acc: 99.69%\n",
            "\t Val. Loss: 0.036 |  Val. Acc: 99.21%\n",
            "2021-05-15 19:17:13\n",
            "Epoch: 10 | Epoch Time: 1m 27s\n",
            "\tTrain Loss: 0.009 | Train Acc: 99.73%\n",
            "\t Val. Loss: 0.038 |  Val. Acc: 99.15%\n",
            "2021-05-15 19:18:41\n",
            "Epoch: 11 | Epoch Time: 1m 27s\n",
            "\tTrain Loss: 0.008 | Train Acc: 99.75%\n",
            "\t Val. Loss: 0.031 |  Val. Acc: 99.14%\n",
            "2021-05-15 19:20:09\n",
            "Epoch: 12 | Epoch Time: 1m 27s\n",
            "\tTrain Loss: 0.008 | Train Acc: 99.77%\n",
            "\t Val. Loss: 0.029 |  Val. Acc: 99.37%\n",
            "2021-05-15 19:21:37\n",
            "Epoch: 13 | Epoch Time: 1m 28s\n",
            "\tTrain Loss: 0.007 | Train Acc: 99.78%\n",
            "\t Val. Loss: 0.024 |  Val. Acc: 99.57%\n",
            "2021-05-15 19:23:05\n",
            "Epoch: 14 | Epoch Time: 1m 27s\n",
            "\tTrain Loss: 0.006 | Train Acc: 99.81%\n",
            "\t Val. Loss: 0.033 |  Val. Acc: 99.23%\n",
            "2021-05-15 19:24:32\n",
            "Epoch: 15 | Epoch Time: 1m 27s\n",
            "\tTrain Loss: 0.005 | Train Acc: 99.82%\n",
            "\t Val. Loss: 0.029 |  Val. Acc: 99.43%\n",
            "2021-05-15 19:26:00\n",
            "Epoch: 16 | Epoch Time: 1m 27s\n",
            "\tTrain Loss: 0.005 | Train Acc: 99.85%\n",
            "\t Val. Loss: 0.028 |  Val. Acc: 99.34%\n",
            "2021-05-15 19:27:28\n",
            "Epoch: 17 | Epoch Time: 1m 27s\n",
            "\tTrain Loss: 0.004 | Train Acc: 99.90%\n",
            "\t Val. Loss: 0.044 |  Val. Acc: 99.05%\n",
            "2021-05-15 19:28:55\n",
            "Epoch: 18 | Epoch Time: 1m 27s\n",
            "\tTrain Loss: 0.005 | Train Acc: 99.85%\n",
            "\t Val. Loss: 0.026 |  Val. Acc: 99.43%\n",
            "2021-05-15 19:30:23\n",
            "Epoch: 19 | Epoch Time: 1m 27s\n",
            "\tTrain Loss: 0.003 | Train Acc: 99.90%\n",
            "\t Val. Loss: 0.034 |  Val. Acc: 99.22%\n",
            "2021-05-15 19:31:50\n",
            "Epoch: 20 | Epoch Time: 1m 27s\n",
            "\tTrain Loss: 0.005 | Train Acc: 99.85%\n",
            "\t Val. Loss: 0.033 |  Val. Acc: 99.36%\n",
            "2021-05-15 19:33:18\n",
            "Epoch: 21 | Epoch Time: 1m 27s\n",
            "\tTrain Loss: 0.001 | Train Acc: 99.97%\n",
            "\t Val. Loss: 0.030 |  Val. Acc: 99.46%\n",
            "2021-05-15 19:34:45\n",
            "Epoch: 22 | Epoch Time: 1m 27s\n",
            "\tTrain Loss: 0.004 | Train Acc: 99.87%\n",
            "\t Val. Loss: 0.031 |  Val. Acc: 99.40%\n",
            "2021-05-15 19:36:13\n",
            "Epoch: 23 | Epoch Time: 1m 27s\n",
            "\tTrain Loss: 0.002 | Train Acc: 99.96%\n",
            "\t Val. Loss: 0.031 |  Val. Acc: 99.40%\n",
            "2021-05-15 19:37:40\n",
            "Epoch: 24 | Epoch Time: 1m 27s\n",
            "\tTrain Loss: 0.004 | Train Acc: 99.88%\n",
            "\t Val. Loss: 0.034 |  Val. Acc: 99.47%\n",
            "2021-05-15 19:39:08\n",
            "Epoch: 25 | Epoch Time: 1m 27s\n",
            "\tTrain Loss: 0.002 | Train Acc: 99.92%\n",
            "\t Val. Loss: 0.036 |  Val. Acc: 99.38%\n"
          ],
          "name": "stdout"
        }
      ]
    },
    {
      "cell_type": "code",
      "metadata": {
        "id": "69sPn8GApcZh",
        "outputId": "c184f821-b4e1-4eaa-c268-bac14c1b2a2e"
      },
      "source": [
        "model.load_state_dict(torch.load('tut3-model.pt'))\n",
        "\n",
        "test_loss, test_acc = evaluate(model, test_iterator, criterion, device)\n",
        "\n",
        "print(f'Test Loss: {test_loss:.3f} | Test Acc: {test_acc*100:.2f}%')"
      ],
      "execution_count": null,
      "outputs": [
        {
          "output_type": "stream",
          "text": [
            "Test Loss: 0.017 | Test Acc: 99.50%\n"
          ],
          "name": "stdout"
        }
      ]
    },
    {
      "cell_type": "code",
      "metadata": {
        "colab": {
          "base_uri": "https://localhost:8080/",
          "height": 428
        },
        "id": "_2mhh49JC4Yh",
        "outputId": "a1cc95d6-0443-4c00-d4a6-f7c4e610b76d"
      },
      "source": [
        "#plotting the loss\n",
        "plt.figure(figsize=(7, 7))\n",
        "plt.plot(train_losses, color='green', label='train loss')\n",
        "plt.plot(valid_losses, color='red', label='validataion loss')\n",
        "plt.legend()\n",
        "plt.show()\n",
        "\n",
        "\n"
      ],
      "execution_count": null,
      "outputs": [
        {
          "output_type": "display_data",
          "data": {
            "image/png": "[encoded data removed]",
            "text/plain": [
              "<Figure size 504x504 with 1 Axes>"
            ]
          },
          "metadata": {
            "tags": [],
            "needs_background": "light"
          }
        }
      ]
    },
    {
      "cell_type": "code",
      "metadata": {
        "colab": {
          "base_uri": "https://localhost:8080/",
          "height": 428
        },
        "id": "J8q7EIQ4C9JE",
        "outputId": "90b59688-c193-46d4-e1e3-5f3aed3e185b"
      },
      "source": [
        "#plotting the accuracy\n",
        "plt.figure(figsize=(7, 7))\n",
        "plt.plot(train_accuracy, color='green', label='Train Accuracy')\n",
        "plt.plot(valid_accuracy, color='red', label='Validataion Accuracy')\n",
        "plt.legend()\n",
        "plt.show()"
      ],
      "execution_count": null,
      "outputs": [
        {
          "output_type": "display_data",
          "data": {
            "image/png": "[encoded data removed]",
            "text/plain": [
              "<Figure size 504x504 with 1 Axes>"
            ]
          },
          "metadata": {
            "tags": [],
            "needs_background": "light"
          }
        }
      ]
    },
    {
      "cell_type": "code",
      "metadata": {
        "id": "G6DndUWO1j9v"
      },
      "source": [
        "# getting the predictions for each image in the dataset\n",
        "def get_predictions(model, iterator):\n",
        "\n",
        "    model.eval()\n",
        "\n",
        "    images = []\n",
        "    labels = []\n",
        "    probs = []\n",
        "\n",
        "    with torch.no_grad():\n",
        "\n",
        "        for (x, y) in iterator:\n",
        "\n",
        "            x = x.to(device)\n",
        "\n",
        "            y_pred, _ = model(x)\n",
        "\n",
        "            y_prob = F.softmax(y_pred, dim = -1)\n",
        "            top_pred = y_prob.argmax(1, keepdim = True)\n",
        "\n",
        "            images.append(x.cpu())\n",
        "            labels.append(y.cpu())\n",
        "            probs.append(y_prob.cpu())\n",
        "\n",
        "    images = torch.cat(images, dim = 0)\n",
        "    labels = torch.cat(labels, dim = 0)\n",
        "    probs = torch.cat(probs, dim = 0)\n",
        "\n",
        "    return images, labels, probs"
      ],
      "execution_count": null,
      "outputs": []
    },
    {
      "cell_type": "code",
      "metadata": {
        "id": "d56f4YuM1mtn"
      },
      "source": [
        "images, labels, probs = get_predictions(model, test_iterator)"
      ],
      "execution_count": null,
      "outputs": []
    },
    {
      "cell_type": "code",
      "metadata": {
        "id": "D4MwRTwk1n89"
      },
      "source": [
        "pred_labels = torch.argmax(probs, 1)"
      ],
      "execution_count": null,
      "outputs": []
    },
    {
      "cell_type": "code",
      "metadata": {
        "id": "LDMamip01p0Z"
      },
      "source": [
        "#plotting confusion matrix\n",
        "def plot_confusion_matrix(labels, pred_labels, classes):\n",
        "    \n",
        "    fig = plt.figure(figsize = (10, 10));\n",
        "    ax = fig.add_subplot(1, 1, 1);\n",
        "    cm = confusion_matrix(labels, pred_labels);\n",
        "    cm = ConfusionMatrixDisplay(cm, classes);\n",
        "    cm.plot(values_format = 'd', cmap = 'Blues', ax = ax)\n",
        "    plt.xticks(rotation=20)"
      ],
      "execution_count": null,
      "outputs": []
    },
    {
      "cell_type": "code",
      "metadata": {
        "colab": {
          "base_uri": "https://localhost:8080/",
          "height": 580
        },
        "id": "bZsIeG2V1wBP",
        "outputId": "bf737dc4-1581-4497-c99c-bd336f5223a1"
      },
      "source": [
        "classes = test_data.classes\n",
        "\n",
        "plot_confusion_matrix(labels, pred_labels, classes) "
      ],
      "execution_count": null,
      "outputs": [
        {
          "output_type": "stream",
          "text": [
            "/opt/conda/lib/python3.8/site-packages/sklearn/utils/validation.py:70: FutureWarning: Pass display_labels=['0 - zero', '1 - one', '2 - two', '3 - three', '4 - four', '5 - five', '6 - six', '7 - seven', '8 - eight', '9 - nine'] as keyword args. From version 1.0 (renaming of 0.25) passing these as positional arguments will result in an error\n",
            "  warnings.warn(f\"Pass {args_msg} as keyword args. From version \"\n"
          ],
          "name": "stderr"
        },
        {
          "output_type": "display_data",
          "data": {
            "image/png": "[encoded data removed]",
            "text/plain": [
              "<Figure size 720x720 with 2 Axes>"
            ]
          },
          "metadata": {
            "tags": [],
            "needs_background": "light"
          }
        }
      ]
    },
    {
      "cell_type": "code",
      "metadata": {
        "id": "JFO3xH-_bA0-"
      },
      "source": [
        "# after getting the predictions we filter them out and sort all incorrect preidcitons \n",
        "corrects = torch.eq(labels, pred_labels)"
      ],
      "execution_count": null,
      "outputs": []
    },
    {
      "cell_type": "code",
      "metadata": {
        "id": "kG7CqITKbA0-"
      },
      "source": [
        "correct_examples = []\n",
        "\n",
        "for image, label, prob, correct in zip(images, labels, probs, corrects):\n",
        "    if  correct:\n",
        "        correct_examples.append((image, label, prob))\n",
        "\n",
        "correct_examples.sort(reverse = True, key = lambda x: torch.max(x[2], dim = 0).values)"
      ],
      "execution_count": null,
      "outputs": []
    },
    {
      "cell_type": "code",
      "metadata": {
        "id": "HMGoYPi5bA0_"
      },
      "source": [
        "# plotting most correctly predicted images along with the predicted class and actual class\n",
        "def plot_most_correct(correct, classes, n_images, normalize = True):\n",
        "\n",
        "    rows = int(np.sqrt(n_images))\n",
        "    cols = int(np.sqrt(n_images))\n",
        "\n",
        "    fig = plt.figure(figsize = (7, 7))\n",
        "\n",
        "    for i in range(rows*cols):\n",
        "\n",
        "        ax = fig.add_subplot(rows, cols, i+1)\n",
        "        \n",
        "        image, true_label, probs = correct[i]\n",
        "        image = image.permute(1, 2, 0)\n",
        "        true_prob = probs[true_label]\n",
        "        correct_prob, correct_label = torch.max(probs, dim = 0)\n",
        "        true_class = classes[true_label]\n",
        "        correct_class = classes[correct_label]\n",
        "\n",
        "        if normalize:\n",
        "            image = normalize_image(image)\n",
        "\n",
        "        ax.imshow(image.cpu().numpy())\n",
        "        ax.set_title(f'true label: {true_class} ({true_prob:.2f})\\n' \\\n",
        "                     f'pred label: {correct_class} ({correct_prob:.2f})')\n",
        "        ax.axis('off')\n",
        "        \n",
        "    fig.subplots_adjust(hspace=0.5)"
      ],
      "execution_count": null,
      "outputs": []
    },
    {
      "cell_type": "code",
      "metadata": {
        "id": "RvmPljS4bA0_",
        "outputId": "c050efb4-4a2d-41cc-ae35-21c1ae3a072a"
      },
      "source": [
        "#plotting the corretly predicted images\n",
        "N_IMAGES = 5\n",
        "\n",
        "plot_most_correct(correct_examples, classes, N_IMAGES)"
      ],
      "execution_count": null,
      "outputs": [
        {
          "output_type": "display_data",
          "data": {
            "image/png": "[encoded data removed]",
            "text/plain": [
              "<Figure size 504x504 with 4 Axes>"
            ]
          },
          "metadata": {
            "tags": [],
            "needs_background": "light"
          }
        }
      ]
    },
    {
      "cell_type": "code",
      "metadata": {
        "id": "6mnbBRzWbA0-"
      },
      "source": [
        "incorrect_examples = []\n",
        "\n",
        "for image, label, prob, correct in zip(images, labels, probs, corrects):\n",
        "    if not correct:\n",
        "        incorrect_examples.append((image, label, prob))\n",
        "\n",
        "incorrect_examples.sort(reverse = True, key = lambda x: torch.max(x[2], dim = 0).values)"
      ],
      "execution_count": null,
      "outputs": []
    },
    {
      "cell_type": "code",
      "metadata": {
        "id": "DvTdnDQ6bA0-"
      },
      "source": [
        "# plotting most correctly predicted images along with the predicted class and actual class\n",
        "def plot_most_incorrect(incorrect, classes, n_images, normalize = True):\n",
        "\n",
        "    rows = int(np.sqrt(n_images))\n",
        "    cols = int(np.sqrt(n_images))\n",
        "\n",
        "    fig = plt.figure(figsize = (7, 7))\n",
        "\n",
        "    for i in range(rows*cols):\n",
        "\n",
        "        ax = fig.add_subplot(rows, cols, i+1)\n",
        "        \n",
        "        image, true_label, probs = incorrect[i]\n",
        "        image = image.permute(1, 2, 0)\n",
        "        true_prob = probs[true_label]\n",
        "        incorrect_prob, incorrect_label = torch.max(probs, dim = 0)\n",
        "        true_class = classes[true_label]\n",
        "        incorrect_class = classes[incorrect_label]\n",
        "\n",
        "        if normalize:\n",
        "            image = normalize_image(image)\n",
        "\n",
        "        ax.imshow(image.cpu().numpy())\n",
        "        ax.set_title(f'true label: {true_class} ({true_prob:.2f})\\n' \\\n",
        "                     f'pred label: {incorrect_class} ({incorrect_prob:.2f})')\n",
        "        ax.axis('off')\n",
        "        \n",
        "    fig.subplots_adjust(hspace=0.5)"
      ],
      "execution_count": null,
      "outputs": []
    },
    {
      "cell_type": "code",
      "metadata": {
        "id": "jaYrh-UIbA0_",
        "outputId": "d6634557-3a14-47a6-8d32-cc8b12a3520d"
      },
      "source": [
        "#plotting the incorretly predicted images\n",
        "N_IMAGES = 5\n",
        "\n",
        "plot_most_incorrect(incorrect_examples, classes, N_IMAGES)"
      ],
      "execution_count": null,
      "outputs": [
        {
          "output_type": "display_data",
          "data": {
            "image/png": "[encoded data removed]",
            "text/plain": [
              "<Figure size 504x504 with 4 Axes>"
            ]
          },
          "metadata": {
            "tags": [],
            "needs_background": "light"
          }
        }
      ]
    },
    {
      "cell_type": "markdown",
      "metadata": {
        "id": "S7uknK1jMByM"
      },
      "source": [
        "## RESNET 34"
      ]
    },
    {
      "cell_type": "code",
      "metadata": {
        "id": "leFi5SDzRKVt"
      },
      "source": [
        "  #defining the model\n",
        "model_2 = ResNet34(ResNetLayer, ResNetBlock)"
      ],
      "execution_count": null,
      "outputs": []
    },
    {
      "cell_type": "code",
      "metadata": {
        "colab": {
          "base_uri": "https://localhost:8080/"
        },
        "id": "m9V4ywU4RjUz",
        "outputId": "fcf7e21d-e1b9-4811-9ada-39a3ffdb4336"
      },
      "source": [
        "\n",
        "print(f'The model has {count_parameters(model_2):,} trainable parameters')"
      ],
      "execution_count": null,
      "outputs": [
        {
          "output_type": "stream",
          "text": [
            "The model has 21,280,970 trainable parameters\n"
          ],
          "name": "stdout"
        }
      ]
    },
    {
      "cell_type": "code",
      "metadata": {
        "colab": {
          "base_uri": "https://localhost:8080/"
        },
        "id": "nD16nqqZMEl4",
        "outputId": "c8634407-8c10-4dc2-84a5-e40cbf214788"
      },
      "source": [
        "model_2.apply(initialize_parameters)\n",
        "\n"
      ],
      "execution_count": null,
      "outputs": [
        {
          "output_type": "execute_result",
          "data": {
            "text/plain": [
              "ResNet34(\n",
              "  (conv1): Conv2d(1, 64, kernel_size=(3, 3), stride=(1, 1), padding=(1, 1), bias=False)\n",
              "  (bn1): BatchNorm2d(64, eps=1e-05, momentum=0.1, affine=True, track_running_stats=True)\n",
              "  (layer1): ResNetLayer(\n",
              "    (blocks): Sequential(\n",
              "      (0): ResNetBlock(\n",
              "        (conv1): Conv2d(64, 64, kernel_size=(3, 3), stride=(1, 1), padding=(1, 1), bias=False)\n",
              "        (bn1): BatchNorm2d(64, eps=1e-05, momentum=0.1, affine=True, track_running_stats=True)\n",
              "        (conv2): Conv2d(64, 64, kernel_size=(3, 3), stride=(1, 1), padding=(1, 1), bias=False)\n",
              "        (bn2): BatchNorm2d(64, eps=1e-05, momentum=0.1, affine=True, track_running_stats=True)\n",
              "        (downsample): Sequential()\n",
              "      )\n",
              "      (1): ResNetBlock(\n",
              "        (conv1): Conv2d(64, 64, kernel_size=(3, 3), stride=(1, 1), padding=(1, 1), bias=False)\n",
              "        (bn1): BatchNorm2d(64, eps=1e-05, momentum=0.1, affine=True, track_running_stats=True)\n",
              "        (conv2): Conv2d(64, 64, kernel_size=(3, 3), stride=(1, 1), padding=(1, 1), bias=False)\n",
              "        (bn2): BatchNorm2d(64, eps=1e-05, momentum=0.1, affine=True, track_running_stats=True)\n",
              "        (downsample): Sequential()\n",
              "      )\n",
              "      (2): ResNetBlock(\n",
              "        (conv1): Conv2d(64, 64, kernel_size=(3, 3), stride=(1, 1), padding=(1, 1), bias=False)\n",
              "        (bn1): BatchNorm2d(64, eps=1e-05, momentum=0.1, affine=True, track_running_stats=True)\n",
              "        (conv2): Conv2d(64, 64, kernel_size=(3, 3), stride=(1, 1), padding=(1, 1), bias=False)\n",
              "        (bn2): BatchNorm2d(64, eps=1e-05, momentum=0.1, affine=True, track_running_stats=True)\n",
              "        (downsample): Sequential()\n",
              "      )\n",
              "    )\n",
              "  )\n",
              "  (layer2): ResNetLayer(\n",
              "    (blocks): Sequential(\n",
              "      (0): ResNetBlock(\n",
              "        (conv1): Conv2d(64, 128, kernel_size=(3, 3), stride=(2, 2), padding=(1, 1), bias=False)\n",
              "        (bn1): BatchNorm2d(128, eps=1e-05, momentum=0.1, affine=True, track_running_stats=True)\n",
              "        (conv2): Conv2d(128, 128, kernel_size=(3, 3), stride=(1, 1), padding=(1, 1), bias=False)\n",
              "        (bn2): BatchNorm2d(128, eps=1e-05, momentum=0.1, affine=True, track_running_stats=True)\n",
              "        (downsample): Sequential(\n",
              "          (0): Conv2d(64, 128, kernel_size=(1, 1), stride=(2, 2), bias=False)\n",
              "          (1): BatchNorm2d(128, eps=1e-05, momentum=0.1, affine=True, track_running_stats=True)\n",
              "        )\n",
              "      )\n",
              "      (1): ResNetBlock(\n",
              "        (conv1): Conv2d(128, 128, kernel_size=(3, 3), stride=(1, 1), padding=(1, 1), bias=False)\n",
              "        (bn1): BatchNorm2d(128, eps=1e-05, momentum=0.1, affine=True, track_running_stats=True)\n",
              "        (conv2): Conv2d(128, 128, kernel_size=(3, 3), stride=(1, 1), padding=(1, 1), bias=False)\n",
              "        (bn2): BatchNorm2d(128, eps=1e-05, momentum=0.1, affine=True, track_running_stats=True)\n",
              "        (downsample): Sequential()\n",
              "      )\n",
              "      (2): ResNetBlock(\n",
              "        (conv1): Conv2d(128, 128, kernel_size=(3, 3), stride=(1, 1), padding=(1, 1), bias=False)\n",
              "        (bn1): BatchNorm2d(128, eps=1e-05, momentum=0.1, affine=True, track_running_stats=True)\n",
              "        (conv2): Conv2d(128, 128, kernel_size=(3, 3), stride=(1, 1), padding=(1, 1), bias=False)\n",
              "        (bn2): BatchNorm2d(128, eps=1e-05, momentum=0.1, affine=True, track_running_stats=True)\n",
              "        (downsample): Sequential()\n",
              "      )\n",
              "      (3): ResNetBlock(\n",
              "        (conv1): Conv2d(128, 128, kernel_size=(3, 3), stride=(1, 1), padding=(1, 1), bias=False)\n",
              "        (bn1): BatchNorm2d(128, eps=1e-05, momentum=0.1, affine=True, track_running_stats=True)\n",
              "        (conv2): Conv2d(128, 128, kernel_size=(3, 3), stride=(1, 1), padding=(1, 1), bias=False)\n",
              "        (bn2): BatchNorm2d(128, eps=1e-05, momentum=0.1, affine=True, track_running_stats=True)\n",
              "        (downsample): Sequential()\n",
              "      )\n",
              "    )\n",
              "  )\n",
              "  (layer3): ResNetLayer(\n",
              "    (blocks): Sequential(\n",
              "      (0): ResNetBlock(\n",
              "        (conv1): Conv2d(128, 256, kernel_size=(3, 3), stride=(2, 2), padding=(1, 1), bias=False)\n",
              "        (bn1): BatchNorm2d(256, eps=1e-05, momentum=0.1, affine=True, track_running_stats=True)\n",
              "        (conv2): Conv2d(256, 256, kernel_size=(3, 3), stride=(1, 1), padding=(1, 1), bias=False)\n",
              "        (bn2): BatchNorm2d(256, eps=1e-05, momentum=0.1, affine=True, track_running_stats=True)\n",
              "        (downsample): Sequential(\n",
              "          (0): Conv2d(128, 256, kernel_size=(1, 1), stride=(2, 2), bias=False)\n",
              "          (1): BatchNorm2d(256, eps=1e-05, momentum=0.1, affine=True, track_running_stats=True)\n",
              "        )\n",
              "      )\n",
              "      (1): ResNetBlock(\n",
              "        (conv1): Conv2d(256, 256, kernel_size=(3, 3), stride=(1, 1), padding=(1, 1), bias=False)\n",
              "        (bn1): BatchNorm2d(256, eps=1e-05, momentum=0.1, affine=True, track_running_stats=True)\n",
              "        (conv2): Conv2d(256, 256, kernel_size=(3, 3), stride=(1, 1), padding=(1, 1), bias=False)\n",
              "        (bn2): BatchNorm2d(256, eps=1e-05, momentum=0.1, affine=True, track_running_stats=True)\n",
              "        (downsample): Sequential()\n",
              "      )\n",
              "      (2): ResNetBlock(\n",
              "        (conv1): Conv2d(256, 256, kernel_size=(3, 3), stride=(1, 1), padding=(1, 1), bias=False)\n",
              "        (bn1): BatchNorm2d(256, eps=1e-05, momentum=0.1, affine=True, track_running_stats=True)\n",
              "        (conv2): Conv2d(256, 256, kernel_size=(3, 3), stride=(1, 1), padding=(1, 1), bias=False)\n",
              "        (bn2): BatchNorm2d(256, eps=1e-05, momentum=0.1, affine=True, track_running_stats=True)\n",
              "        (downsample): Sequential()\n",
              "      )\n",
              "      (3): ResNetBlock(\n",
              "        (conv1): Conv2d(256, 256, kernel_size=(3, 3), stride=(1, 1), padding=(1, 1), bias=False)\n",
              "        (bn1): BatchNorm2d(256, eps=1e-05, momentum=0.1, affine=True, track_running_stats=True)\n",
              "        (conv2): Conv2d(256, 256, kernel_size=(3, 3), stride=(1, 1), padding=(1, 1), bias=False)\n",
              "        (bn2): BatchNorm2d(256, eps=1e-05, momentum=0.1, affine=True, track_running_stats=True)\n",
              "        (downsample): Sequential()\n",
              "      )\n",
              "      (4): ResNetBlock(\n",
              "        (conv1): Conv2d(256, 256, kernel_size=(3, 3), stride=(1, 1), padding=(1, 1), bias=False)\n",
              "        (bn1): BatchNorm2d(256, eps=1e-05, momentum=0.1, affine=True, track_running_stats=True)\n",
              "        (conv2): Conv2d(256, 256, kernel_size=(3, 3), stride=(1, 1), padding=(1, 1), bias=False)\n",
              "        (bn2): BatchNorm2d(256, eps=1e-05, momentum=0.1, affine=True, track_running_stats=True)\n",
              "        (downsample): Sequential()\n",
              "      )\n",
              "      (5): ResNetBlock(\n",
              "        (conv1): Conv2d(256, 256, kernel_size=(3, 3), stride=(1, 1), padding=(1, 1), bias=False)\n",
              "        (bn1): BatchNorm2d(256, eps=1e-05, momentum=0.1, affine=True, track_running_stats=True)\n",
              "        (conv2): Conv2d(256, 256, kernel_size=(3, 3), stride=(1, 1), padding=(1, 1), bias=False)\n",
              "        (bn2): BatchNorm2d(256, eps=1e-05, momentum=0.1, affine=True, track_running_stats=True)\n",
              "        (downsample): Sequential()\n",
              "      )\n",
              "    )\n",
              "  )\n",
              "  (layer4): ResNetLayer(\n",
              "    (blocks): Sequential(\n",
              "      (0): ResNetBlock(\n",
              "        (conv1): Conv2d(256, 512, kernel_size=(3, 3), stride=(2, 2), padding=(1, 1), bias=False)\n",
              "        (bn1): BatchNorm2d(512, eps=1e-05, momentum=0.1, affine=True, track_running_stats=True)\n",
              "        (conv2): Conv2d(512, 512, kernel_size=(3, 3), stride=(1, 1), padding=(1, 1), bias=False)\n",
              "        (bn2): BatchNorm2d(512, eps=1e-05, momentum=0.1, affine=True, track_running_stats=True)\n",
              "        (downsample): Sequential(\n",
              "          (0): Conv2d(256, 512, kernel_size=(1, 1), stride=(2, 2), bias=False)\n",
              "          (1): BatchNorm2d(512, eps=1e-05, momentum=0.1, affine=True, track_running_stats=True)\n",
              "        )\n",
              "      )\n",
              "      (1): ResNetBlock(\n",
              "        (conv1): Conv2d(512, 512, kernel_size=(3, 3), stride=(1, 1), padding=(1, 1), bias=False)\n",
              "        (bn1): BatchNorm2d(512, eps=1e-05, momentum=0.1, affine=True, track_running_stats=True)\n",
              "        (conv2): Conv2d(512, 512, kernel_size=(3, 3), stride=(1, 1), padding=(1, 1), bias=False)\n",
              "        (bn2): BatchNorm2d(512, eps=1e-05, momentum=0.1, affine=True, track_running_stats=True)\n",
              "        (downsample): Sequential()\n",
              "      )\n",
              "      (2): ResNetBlock(\n",
              "        (conv1): Conv2d(512, 512, kernel_size=(3, 3), stride=(1, 1), padding=(1, 1), bias=False)\n",
              "        (bn1): BatchNorm2d(512, eps=1e-05, momentum=0.1, affine=True, track_running_stats=True)\n",
              "        (conv2): Conv2d(512, 512, kernel_size=(3, 3), stride=(1, 1), padding=(1, 1), bias=False)\n",
              "        (bn2): BatchNorm2d(512, eps=1e-05, momentum=0.1, affine=True, track_running_stats=True)\n",
              "        (downsample): Sequential()\n",
              "      )\n",
              "    )\n",
              "  )\n",
              "  (fc): Linear(in_features=512, out_features=10, bias=True)\n",
              ")"
            ]
          },
          "metadata": {
            "tags": []
          },
          "execution_count": 75
        }
      ]
    },
    {
      "cell_type": "code",
      "metadata": {
        "id": "_PhJBtcRRcnK"
      },
      "source": [
        "#using learning rate finder\n",
        "class LRFinder(object):\n",
        "    def __init__(self, model_2, optimizer, criterion, device):\n",
        "        self.optimizer = optimizer\n",
        "        self.model_2 = model_2\n",
        "        self.criterion = criterion\n",
        "        self.device = device\n",
        "        \n",
        "        self.model_params = copy.deepcopy(model_2.state_dict())\n",
        "        self.optim_params = copy.deepcopy(optimizer.state_dict())\n",
        "\n",
        "    def reset(self):\n",
        "        self.model_2.load_state_dict(self.model_params)\n",
        "        self.optimizer.load_state_dict(self.optim_params)\n",
        "\n",
        "    def range_test(self, iterator, end_lr = 10, num_iter = 100, smooth_f = 0.1, diverge_th = 5):\n",
        "        \n",
        "        lrs = []\n",
        "        losses = []\n",
        "        best_loss = float('inf')\n",
        "\n",
        "        lr_scheduler = ExponentialLR(self.optimizer, end_lr, num_iter)\n",
        "        \n",
        "        iterator = IteratorWrapper(iterator)\n",
        "        \n",
        "        for iteration in range(num_iter):\n",
        "\n",
        "            loss = self._train_batch(iterator)\n",
        "\n",
        "            lr_scheduler.step()\n",
        "            \n",
        "            lrs.append(lr_scheduler.get_lr()[0])\n",
        "\n",
        "            if iteration > 0:\n",
        "                loss = smooth_f * loss + (1 - smooth_f) * losses[-1]\n",
        "                \n",
        "            if loss < best_loss:\n",
        "                best_loss = loss\n",
        "\n",
        "            losses.append(loss)\n",
        "            \n",
        "            if loss > diverge_th * best_loss:\n",
        "                print(\"Stopping early, the loss has diverged\")\n",
        "                break\n",
        "                        \n",
        "        return lrs, losses\n",
        "\n",
        "    def _train_batch(self, iterator):\n",
        "        \n",
        "        self.model_2.train()\n",
        "     #setting the gradients of all parameters to zero\n",
        "        self.optimizer.zero_grad()\n",
        "        \n",
        "        x, y = iterator.get_batch()\n",
        "        #passing x and y to device\n",
        "        x = x.to(self.device)\n",
        "        y = y.to(self.device)\n",
        "        \n",
        "        y_pred, _ = self.model_2(x)\n",
        "                \n",
        "        loss = self.criterion(y_pred, y)\n",
        "        \n",
        "        loss.backward()\n",
        "        \n",
        "        self.optimizer.step()\n",
        "        \n",
        "        return loss.item()\n",
        "\n",
        "\n",
        "class ExponentialLR(_LRScheduler):\n",
        "    \n",
        "    def __init__(self, optimizer, end_lr, num_iter, last_epoch=-1):\n",
        "        self.end_lr = end_lr\n",
        "        self.num_iter = num_iter\n",
        "        super(ExponentialLR, self).__init__(optimizer, last_epoch)\n",
        "\n",
        "    def get_lr(self):\n",
        "        curr_iter = self.last_epoch + 1\n",
        "        r = curr_iter / self.num_iter\n",
        "        return [base_lr * (self.end_lr / base_lr) ** r for base_lr in self.base_lrs]\n",
        "\n",
        "class IteratorWrapper:\n",
        "    \n",
        "    def __init__(self, iterator):\n",
        "        self.iterator = iterator\n",
        "        self._iterator = iter(iterator)\n",
        "\n",
        "    def __next__(self):\n",
        "        try:\n",
        "            inputs, labels = next(self._iterator)\n",
        "        except StopIteration:\n",
        "            self._iterator = iter(self.iterator)\n",
        "            inputs, labels, *_ = next(self._iterator)\n",
        "\n",
        "        return inputs, labels\n",
        "\n",
        "    def get_batch(self):\n",
        "        return next(self)"
      ],
      "execution_count": null,
      "outputs": []
    },
    {
      "cell_type": "code",
      "metadata": {
        "id": "snMgi36KQs8E"
      },
      "source": [
        ""
      ],
      "execution_count": null,
      "outputs": []
    },
    {
      "cell_type": "code",
      "metadata": {
        "id": "bmLxxoBPMFvn"
      },
      "source": [
        "#initilaise optimizer with low learning rate\n",
        "START_LR = 1e-7\n",
        "\n",
        "device = torch.device('cuda' if torch.cuda.is_available() else 'cpu')\n",
        "#using cross entropy as loss function\n",
        "criterion = nn.CrossEntropyLoss()\n",
        "#initialising adam optimzer with  low learning rate\n",
        "\n",
        "optimizer = optim.Adam(model_2.parameters(), lr = START_LR)\n",
        "#placing the model and loss function on device \n",
        "model_2 = model_2.to(device)\n",
        "criterion = criterion.to(device)"
      ],
      "execution_count": null,
      "outputs": []
    },
    {
      "cell_type": "code",
      "metadata": {
        "colab": {
          "base_uri": "https://localhost:8080/"
        },
        "id": "FBEi6FJrMFxd",
        "outputId": "46c28688-a8ab-4863-e6d5-315ebb9402cb"
      },
      "source": [
        "END_LR = 10\n",
        "NUM_ITER = 100\n",
        "#using learning rate finder to find out best learning rate\n",
        "\n",
        "lr_finder = LRFinder(model_2, optimizer, criterion, device)\n",
        "lrs, losses = lr_finder.range_test(train_iterator, END_LR, NUM_ITER)\n",
        "lr_finder.reset()"
      ],
      "execution_count": null,
      "outputs": [
        {
          "output_type": "stream",
          "text": [
            "Stopping early, the loss has diverged\n"
          ],
          "name": "stdout"
        }
      ]
    },
    {
      "cell_type": "code",
      "metadata": {
        "id": "9k9-RrnaOOi5"
      },
      "source": [
        "#function for plotting learning rate\n",
        "def plot_lr_finder(lrs, losses, skip_start=10, skip_end=5):\n",
        "    \n",
        "    if skip_end == 0:\n",
        "        lrs = lrs[skip_start:]\n",
        "        losses = losses[skip_start:]\n",
        "        \n",
        "    else:\n",
        "        lrs = lrs[skip_start:-skip_end]\n",
        "        losses = losses[skip_start:-skip_end]\n",
        "    \n",
        "    fig = plt.figure(figsize=(16,8))\n",
        "    ax = fig.add_subplot(1,1,1)\n",
        "    ax.plot(lrs, losses)\n",
        "    ax.set_xscale('log')\n",
        "    ax.set_xlabel(\"Learning rate\")\n",
        "    ax.set_ylabel(\"Loss\")\n",
        "    ax.grid(True, 'both', 'x')\n",
        "    plt.show()\n"
      ],
      "execution_count": null,
      "outputs": []
    },
    {
      "cell_type": "code",
      "metadata": {
        "colab": {
          "base_uri": "https://localhost:8080/",
          "height": 501
        },
        "id": "At7ZJxiKOOkw",
        "outputId": "2199c72e-3980-47bb-9ef5-c72abc60ce83"
      },
      "source": [
        "plot_lr_finder(lrs, losses)    "
      ],
      "execution_count": null,
      "outputs": [
        {
          "output_type": "display_data",
          "data": {
            "image/png": "[encoded data removed]",
            "text/plain": [
              "<Figure size 1152x576 with 1 Axes>"
            ]
          },
          "metadata": {
            "tags": [],
            "needs_background": "light"
          }
        }
      ]
    },
    {
      "cell_type": "code",
      "metadata": {
        "id": "FPhhBhdFMF1Z"
      },
      "source": [
        " \n",
        "#best learning rate is found from the plot\n",
        "FOUND_LR = 1e-3\n",
        "\n",
        "optimizer = optim.Adam(model_2.parameters(), lr = FOUND_LR)"
      ],
      "execution_count": null,
      "outputs": []
    },
    {
      "cell_type": "code",
      "metadata": {
        "id": "hOXMfHW4OOoU"
      },
      "source": [
        "#ReduceLROnPlateau scheduler to adjust the learning rate\n",
        "scheduler = lr_scheduler.ReduceLROnPlateau(optimizer, factor = 0.1, patience = 1_000, verbose = True)\n"
      ],
      "execution_count": null,
      "outputs": []
    },
    {
      "cell_type": "code",
      "metadata": {
        "id": "03dT6BY1Obdd"
      },
      "source": [
        "# calculating accuracy  \n",
        "def calculate_accuracy(y_pred, y):\n",
        "    top_pred = y_pred.argmax(1, keepdim = True)\n",
        "    correct = top_pred.eq(y.view_as(top_pred)).sum()\n",
        "    acc = correct.float() / y.shape[0]\n",
        "    return acc"
      ],
      "execution_count": null,
      "outputs": []
    },
    {
      "cell_type": "code",
      "metadata": {
        "id": "6e1Ea6PSObg3"
      },
      "source": [
        "def train(model_2, iterator, optimizer, criterion, device):\n",
        "    \n",
        "    epoch_loss = 0\n",
        "    epoch_acc = 0\n",
        "    #training the model\n",
        "    model_2.train()\n",
        "      #x has batch of images\n",
        "      # y has labels for the batch of images\n",
        "        \n",
        "    for (x, y) in iterator:\n",
        "       \n",
        "     # moving x and y to device\n",
        "        x = x.to(device)\n",
        "        y = y.to(device)\n",
        "       #setting the gradients of all parameters to zero  \n",
        "        optimizer.zero_grad()\n",
        "                \n",
        "        y_pred, _ = model_2(x)\n",
        "        #caclulating loss\n",
        "        loss = criterion(y_pred, y)\n",
        "        #accuracy is computed\n",
        "        acc = calculate_accuracy(y_pred, y)\n",
        "        # back propogating the loss\n",
        "        loss.backward()\n",
        "        #updating the optimizer\n",
        "        optimizer.step()\n",
        "        \n",
        "        epoch_loss += loss.item()\n",
        "        epoch_acc += acc.item()\n",
        "        \n",
        "    return epoch_loss / len(iterator), epoch_acc / len(iterator)    "
      ],
      "execution_count": null,
      "outputs": []
    },
    {
      "cell_type": "code",
      "metadata": {
        "id": "RQTXitpBOy5r"
      },
      "source": [
        "def evaluate(model_2, iterator, criterion, device):\n",
        "    \n",
        "    epoch_loss = 0\n",
        "    epoch_acc = 0\n",
        "    \n",
        "    model_2.eval()\n",
        "    \n",
        "    with torch.no_grad():\n",
        "         #x has batch of images\n",
        "      # y has labels for the batch of images\n",
        "        for (x, y) in iterator:\n",
        "          # moving x and y to device\n",
        "            x = x.to(device)\n",
        "            y = y.to(device)\n",
        "\n",
        "            y_pred, _ = model_2(x)\n",
        "             #caclulating loss\n",
        "            loss = criterion(y_pred, y)\n",
        "            #accuracy is computed\n",
        "            acc = calculate_accuracy(y_pred, y)\n",
        "\n",
        "            epoch_loss += loss.item()\n",
        "            epoch_acc += acc.item()\n",
        "        \n",
        "    return epoch_loss / len(iterator), epoch_acc / len(iterator)\n",
        "  "
      ],
      "execution_count": null,
      "outputs": []
    },
    {
      "cell_type": "code",
      "metadata": {
        "id": "r_lDzi2tOy9F"
      },
      "source": [
        "def epoch_time(start_time, end_time):\n",
        "    elapsed_time = end_time - start_time\n",
        "    elapsed_mins = int(elapsed_time / 60)\n",
        "    elapsed_secs = int(elapsed_time - (elapsed_mins * 60))\n",
        "    return elapsed_mins, elapsed_secs  "
      ],
      "execution_count": null,
      "outputs": []
    },
    {
      "cell_type": "code",
      "metadata": {
        "id": "-7SKipHfP9Zd"
      },
      "source": [
        "#creating empty lists for storing loss and accuracy values while training\n",
        "\n",
        "train_losses2 = []\n",
        "valid_losses2 = []\n",
        "train_accuracy2 = []\n",
        "valid_accuracy2 = []"
      ],
      "execution_count": null,
      "outputs": []
    },
    {
      "cell_type": "code",
      "metadata": {
        "colab": {
          "base_uri": "https://localhost:8080/"
        },
        "id": "x_UZr6nyO6ZQ",
        "outputId": "8c2adf7b-f3c6-448e-d2b5-a0105cf9288a"
      },
      "source": [
        "EPOCHS = 25\n",
        "\n",
        "best_valid_loss = float('inf')\n",
        "\n",
        "for epoch in range(EPOCHS):\n",
        "    \n",
        "    start_time = time.time()\n",
        "    \n",
        "    train_loss, train_acc = train(model_2, train_iterator, optimizer, criterion, device)\n",
        "    valid_loss, valid_acc = evaluate(model_2, valid_iterator, criterion, device)\n",
        "    \n",
        "    scheduler.step(valid_loss)\n",
        "    \n",
        "    if valid_loss < best_valid_loss:\n",
        "        best_valid_loss = valid_loss\n",
        "        torch.save(model_2.state_dict(), 'tut3-model_2.pt')\n",
        "\n",
        "    end_time = time.time()\n",
        "    # storing the loss for each epoch\n",
        "    train_losses2.append(train_loss)\n",
        "    valid_losses2.append(valid_loss)\n",
        "    # storing the accuracy for each epoch\n",
        "    train_accuracy2.append(train_acc)\n",
        "    valid_accuracy2.append(valid_acc)\n",
        "\n",
        "    epoch_mins, epoch_secs = epoch_time(start_time, end_time)\n",
        "    \n",
        "    print(f'Epoch: {epoch+1:02} | Epoch Time: {epoch_mins}m {epoch_secs}s')\n",
        "    print(f'\\tTrain Loss: {train_loss:.3f} | Train Acc: {train_acc*100:.2f}%')\n",
        "    print(f'\\t Val. Loss: {valid_loss:.3f} |  Val. Acc: {valid_acc*100:.2f}%')"
      ],
      "execution_count": null,
      "outputs": [
        {
          "output_type": "stream",
          "text": [
            "Epoch: 01 | Epoch Time: 2m 22s\n",
            "\tTrain Loss: 0.166 | Train Acc: 94.87%\n",
            "\t Val. Loss: 0.690 |  Val. Acc: 76.04%\n",
            "Epoch: 02 | Epoch Time: 2m 21s\n",
            "\tTrain Loss: 0.090 | Train Acc: 97.29%\n",
            "\t Val. Loss: 0.668 |  Val. Acc: 75.79%\n",
            "Epoch: 03 | Epoch Time: 2m 21s\n",
            "\tTrain Loss: 0.070 | Train Acc: 97.88%\n",
            "\t Val. Loss: 0.568 |  Val. Acc: 81.66%\n",
            "Epoch: 04 | Epoch Time: 2m 21s\n",
            "\tTrain Loss: 0.061 | Train Acc: 98.12%\n",
            "\t Val. Loss: 0.521 |  Val. Acc: 81.96%\n",
            "Epoch: 05 | Epoch Time: 2m 21s\n",
            "\tTrain Loss: 0.057 | Train Acc: 98.26%\n",
            "\t Val. Loss: 0.769 |  Val. Acc: 76.24%\n",
            "Epoch: 06 | Epoch Time: 2m 21s\n",
            "\tTrain Loss: 0.049 | Train Acc: 98.48%\n",
            "\t Val. Loss: 0.425 |  Val. Acc: 86.20%\n",
            "Epoch: 07 | Epoch Time: 2m 21s\n",
            "\tTrain Loss: 0.047 | Train Acc: 98.53%\n",
            "\t Val. Loss: 0.426 |  Val. Acc: 85.51%\n",
            "Epoch: 08 | Epoch Time: 2m 21s\n",
            "\tTrain Loss: 0.041 | Train Acc: 98.72%\n",
            "\t Val. Loss: 0.398 |  Val. Acc: 85.79%\n",
            "Epoch: 09 | Epoch Time: 2m 20s\n",
            "\tTrain Loss: 0.038 | Train Acc: 98.84%\n",
            "\t Val. Loss: 0.452 |  Val. Acc: 84.55%\n",
            "Epoch: 10 | Epoch Time: 2m 21s\n",
            "\tTrain Loss: 0.034 | Train Acc: 98.87%\n",
            "\t Val. Loss: 0.476 |  Val. Acc: 83.77%\n",
            "Epoch: 11 | Epoch Time: 2m 21s\n",
            "\tTrain Loss: 0.031 | Train Acc: 99.00%\n",
            "\t Val. Loss: 0.418 |  Val. Acc: 85.87%\n",
            "Epoch: 12 | Epoch Time: 2m 21s\n",
            "\tTrain Loss: 0.028 | Train Acc: 99.07%\n",
            "\t Val. Loss: 0.462 |  Val. Acc: 84.87%\n",
            "Epoch: 13 | Epoch Time: 2m 20s\n",
            "\tTrain Loss: 0.027 | Train Acc: 99.11%\n",
            "\t Val. Loss: 0.493 |  Val. Acc: 83.46%\n",
            "Epoch: 14 | Epoch Time: 2m 20s\n",
            "\tTrain Loss: 0.026 | Train Acc: 99.16%\n",
            "\t Val. Loss: 0.468 |  Val. Acc: 83.29%\n",
            "Epoch: 15 | Epoch Time: 2m 20s\n",
            "\tTrain Loss: 0.020 | Train Acc: 99.34%\n",
            "\t Val. Loss: 0.659 |  Val. Acc: 80.67%\n",
            "Epoch: 16 | Epoch Time: 2m 20s\n",
            "\tTrain Loss: 0.024 | Train Acc: 99.22%\n",
            "\t Val. Loss: 0.420 |  Val. Acc: 84.64%\n",
            "Epoch: 17 | Epoch Time: 2m 20s\n",
            "\tTrain Loss: 0.020 | Train Acc: 99.41%\n",
            "\t Val. Loss: 0.428 |  Val. Acc: 86.52%\n",
            "Epoch: 18 | Epoch Time: 2m 20s\n",
            "\tTrain Loss: 0.020 | Train Acc: 99.32%\n",
            "\t Val. Loss: 0.483 |  Val. Acc: 86.05%\n",
            "Epoch: 19 | Epoch Time: 2m 21s\n",
            "\tTrain Loss: 0.016 | Train Acc: 99.49%\n",
            "\t Val. Loss: 0.370 |  Val. Acc: 88.55%\n",
            "Epoch: 20 | Epoch Time: 2m 21s\n",
            "\tTrain Loss: 0.016 | Train Acc: 99.45%\n",
            "\t Val. Loss: 0.582 |  Val. Acc: 82.20%\n",
            "Epoch: 21 | Epoch Time: 2m 21s\n",
            "\tTrain Loss: 0.013 | Train Acc: 99.59%\n",
            "\t Val. Loss: 0.313 |  Val. Acc: 90.26%\n",
            "Epoch: 22 | Epoch Time: 2m 21s\n",
            "\tTrain Loss: 0.013 | Train Acc: 99.58%\n",
            "\t Val. Loss: 0.367 |  Val. Acc: 88.53%\n",
            "Epoch: 23 | Epoch Time: 2m 21s\n",
            "\tTrain Loss: 0.012 | Train Acc: 99.60%\n",
            "\t Val. Loss: 0.434 |  Val. Acc: 87.38%\n",
            "Epoch: 24 | Epoch Time: 2m 21s\n",
            "\tTrain Loss: 0.012 | Train Acc: 99.60%\n",
            "\t Val. Loss: 0.448 |  Val. Acc: 86.76%\n",
            "Epoch: 25 | Epoch Time: 2m 21s\n",
            "\tTrain Loss: 0.010 | Train Acc: 99.67%\n",
            "\t Val. Loss: 0.397 |  Val. Acc: 88.65%\n"
          ],
          "name": "stdout"
        }
      ]
    },
    {
      "cell_type": "code",
      "metadata": {
        "colab": {
          "base_uri": "https://localhost:8080/"
        },
        "id": "KPRcBYrSO6cy",
        "outputId": "19451fcd-312a-462c-83a8-2c80528f26c7"
      },
      "source": [
        "model_2.load_state_dict(torch.load('tut3-model_2.pt'))\n",
        "\n",
        "test_loss, test_acc = evaluate(model_2, test_iterator, criterion, device)\n",
        "\n",
        "print(f'Test Loss: {test_loss:.3f} | Test Acc: {test_acc*100:.2f}%')\n"
      ],
      "execution_count": null,
      "outputs": [
        {
          "output_type": "stream",
          "text": [
            "Test Loss: 0.327 | Test Acc: 89.69%\n"
          ],
          "name": "stdout"
        }
      ]
    },
    {
      "cell_type": "code",
      "metadata": {
        "colab": {
          "base_uri": "https://localhost:8080/",
          "height": 429
        },
        "id": "0dP3frv_RV4B",
        "outputId": "c12f9753-40fa-48a9-b719-5f8072297127"
      },
      "source": [
        "#plotting the loss\n",
        "plt.figure(figsize=(7, 7))\n",
        "plt.plot(train_losses2, color='green', label='train loss')\n",
        "plt.plot(valid_losses2, color='red', label='validataion loss')\n",
        "plt.legend()\n",
        "plt.show()\n"
      ],
      "execution_count": null,
      "outputs": [
        {
          "output_type": "display_data",
          "data": {
            "image/png": "[encoded data removed]",
            "text/plain": [
              "<Figure size 504x504 with 1 Axes>"
            ]
          },
          "metadata": {
            "tags": [],
            "needs_background": "light"
          }
        }
      ]
    },
    {
      "cell_type": "code",
      "metadata": {
        "colab": {
          "base_uri": "https://localhost:8080/",
          "height": 428
        },
        "id": "GSqiwCzdkXch",
        "outputId": "1ffb7744-bdb4-4287-cee6-37523a62fcb9"
      },
      "source": [
        "#plotting the accuracy\n",
        "plt.figure(figsize=(7, 7))\n",
        "plt.plot(train_accuracy2, color='green', label='Train Accuracy')\n",
        "plt.plot(valid_accuracy2, color='red', label='Validataion Accuracy')\n",
        "plt.legend()\n",
        "plt.show()"
      ],
      "execution_count": null,
      "outputs": [
        {
          "output_type": "display_data",
          "data": {
            "image/png": "[encoded data removed]",
            "text/plain": [
              "<Figure size 504x504 with 1 Axes>"
            ]
          },
          "metadata": {
            "tags": [],
            "needs_background": "light"
          }
        }
      ]
    },
    {
      "cell_type": "code",
      "metadata": {
        "id": "FMHE0qqFO6tD"
      },
      "source": [
        "# getting the predictions for each image in the dataset\n",
        "def get_predictions(model_2, iterator):\n",
        "\n",
        "    model_2.eval()\n",
        "\n",
        "    images = []\n",
        "    labels = []\n",
        "    probs = []\n",
        "\n",
        "    with torch.no_grad():\n",
        "\n",
        "        for (x, y) in iterator:\n",
        "\n",
        "            x = x.to(device)\n",
        "\n",
        "            y_pred, _ = model_2(x)\n",
        "\n",
        "            y_prob = F.softmax(y_pred, dim = -1)\n",
        "            top_pred = y_prob.argmax(1, keepdim = True)\n",
        "\n",
        "            images.append(x.cpu())\n",
        "            labels.append(y.cpu())\n",
        "            probs.append(y_prob.cpu())\n",
        "\n",
        "    images = torch.cat(images, dim = 0)\n",
        "    labels = torch.cat(labels, dim = 0)\n",
        "    probs = torch.cat(probs, dim = 0)\n",
        "\n",
        "    return images, labels, probs"
      ],
      "execution_count": null,
      "outputs": []
    },
    {
      "cell_type": "code",
      "metadata": {
        "id": "p9A9JPWXO6vG"
      },
      "source": [
        "images, labels, probs = get_predictions(model_2, test_iterator)\n",
        "\n",
        "\n",
        "  "
      ],
      "execution_count": null,
      "outputs": []
    },
    {
      "cell_type": "code",
      "metadata": {
        "id": "HxRK91-uO6xf"
      },
      "source": [
        "pred_labels = torch.argmax(probs, 1)"
      ],
      "execution_count": null,
      "outputs": []
    },
    {
      "cell_type": "code",
      "metadata": {
        "id": "NKg0x7_PO60_"
      },
      "source": [
        "#plotting confusion matrix\n",
        "def plot_confusion_matrix(labels, pred_labels, classes):\n",
        "    \n",
        "    fig = plt.figure(figsize = (10, 10));\n",
        "    ax = fig.add_subplot(1, 1, 1);\n",
        "    cm = confusion_matrix(labels, pred_labels);\n",
        "    cm = ConfusionMatrixDisplay(cm, classes);\n",
        "    cm.plot(values_format = 'd', cmap = 'Blues', ax = ax)\n",
        "    plt.xticks(rotation=20)\n"
      ],
      "execution_count": null,
      "outputs": []
    },
    {
      "cell_type": "code",
      "metadata": {
        "id": "1VW2Jx0wsZ4q"
      },
      "source": [
        "classes = test_data.classes"
      ],
      "execution_count": null,
      "outputs": []
    },
    {
      "cell_type": "code",
      "metadata": {
        "colab": {
          "base_uri": "https://localhost:8080/",
          "height": 580
        },
        "id": "ygGImGmePbzy",
        "outputId": "159ba1f4-7431-4acb-9754-e4b69bbaad6b"
      },
      "source": [
        "\n",
        "plot_confusion_matrix(labels, pred_labels, classes)   "
      ],
      "execution_count": null,
      "outputs": [
        {
          "output_type": "display_data",
          "data": {
            "image/png": "[encoded data removed]",
            "text/plain": [
              "<Figure size 720x720 with 2 Axes>"
            ]
          },
          "metadata": {
            "tags": [],
            "needs_background": "light"
          }
        }
      ]
    },
    {
      "cell_type": "code",
      "metadata": {
        "id": "X-3V3At9RVS9"
      },
      "source": [
        ""
      ],
      "execution_count": null,
      "outputs": []
    },
    {
      "cell_type": "code",
      "metadata": {
        "id": "V92Lk0Qryxmo"
      },
      "source": [
        ""
      ],
      "execution_count": null,
      "outputs": []
    }
  ]
}