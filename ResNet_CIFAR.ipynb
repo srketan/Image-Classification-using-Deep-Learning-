{
  "nbformat": 4,
  "nbformat_minor": 0,
  "metadata": {
    "accelerator": "GPU",
    "colab": {
      "name": "ResNet_CIFAR.ipynb",
      "provenance": [],
      "collapsed_sections": [],
      "toc_visible": true,
      "machine_shape": "hm"
    },
    "kernelspec": {
      "display_name": "Python 3",
      "language": "python",
      "name": "python3"
    },
    "language_info": {
      "codemirror_mode": {
        "name": "ipython",
        "version": 3
      },
      "file_extension": ".py",
      "mimetype": "text/x-python",
      "name": "python",
      "nbconvert_exporter": "python",
      "pygments_lexer": "ipython3",
      "version": "3.8.6"
    },
    "widgets": {
      "application/vnd.jupyter.widget-state+json": {
        "bf2201b22a61404faf5fd68a76c599c0": {
          "model_module": "@jupyter-widgets/controls",
          "model_name": "HBoxModel",
          "state": {
            "_view_name": "HBoxView",
            "_dom_classes": [],
            "_model_name": "HBoxModel",
            "_view_module": "@jupyter-widgets/controls",
            "_model_module_version": "1.5.0",
            "_view_count": null,
            "_view_module_version": "1.5.0",
            "box_style": "",
            "layout": "IPY_MODEL_99a72ac299bf47f5be82ef6081042802",
            "_model_module": "@jupyter-widgets/controls",
            "children": [
              "IPY_MODEL_4ddc283619024064bae003e665d4ff27",
              "IPY_MODEL_02c17441c7564be6b818df0dcd0d03a1"
            ]
          }
        },
        "99a72ac299bf47f5be82ef6081042802": {
          "model_module": "@jupyter-widgets/base",
          "model_name": "LayoutModel",
          "state": {
            "_view_name": "LayoutView",
            "grid_template_rows": null,
            "right": null,
            "justify_content": null,
            "_view_module": "@jupyter-widgets/base",
            "overflow": null,
            "_model_module_version": "1.2.0",
            "_view_count": null,
            "flex_flow": null,
            "width": null,
            "min_width": null,
            "border": null,
            "align_items": null,
            "bottom": null,
            "_model_module": "@jupyter-widgets/base",
            "top": null,
            "grid_column": null,
            "overflow_y": null,
            "overflow_x": null,
            "grid_auto_flow": null,
            "grid_area": null,
            "grid_template_columns": null,
            "flex": null,
            "_model_name": "LayoutModel",
            "justify_items": null,
            "grid_row": null,
            "max_height": null,
            "align_content": null,
            "visibility": null,
            "align_self": null,
            "height": null,
            "min_height": null,
            "padding": null,
            "grid_auto_rows": null,
            "grid_gap": null,
            "max_width": null,
            "order": null,
            "_view_module_version": "1.2.0",
            "grid_template_areas": null,
            "object_position": null,
            "object_fit": null,
            "grid_auto_columns": null,
            "margin": null,
            "display": null,
            "left": null
          }
        },
        "4ddc283619024064bae003e665d4ff27": {
          "model_module": "@jupyter-widgets/controls",
          "model_name": "FloatProgressModel",
          "state": {
            "_view_name": "ProgressView",
            "style": "IPY_MODEL_d15c05da28fb4bb29833d3ed827c00c7",
            "_dom_classes": [],
            "description": "",
            "_model_name": "FloatProgressModel",
            "bar_style": "success",
            "max": 170498071,
            "_view_module": "@jupyter-widgets/controls",
            "_model_module_version": "1.5.0",
            "value": 170498071,
            "_view_count": null,
            "_view_module_version": "1.5.0",
            "orientation": "horizontal",
            "min": 0,
            "description_tooltip": null,
            "_model_module": "@jupyter-widgets/controls",
            "layout": "IPY_MODEL_6257942e981949f49a977ea97b327ddc"
          }
        },
        "02c17441c7564be6b818df0dcd0d03a1": {
          "model_module": "@jupyter-widgets/controls",
          "model_name": "HTMLModel",
          "state": {
            "_view_name": "HTMLView",
            "style": "IPY_MODEL_21d741dac11c44889dcf4a934155807e",
            "_dom_classes": [],
            "description": "",
            "_model_name": "HTMLModel",
            "placeholder": "​",
            "_view_module": "@jupyter-widgets/controls",
            "_model_module_version": "1.5.0",
            "value": " 170499072/? [00:04&lt;00:00, 42483556.37it/s]",
            "_view_count": null,
            "_view_module_version": "1.5.0",
            "description_tooltip": null,
            "_model_module": "@jupyter-widgets/controls",
            "layout": "IPY_MODEL_3bc3714027ca488ca04e0eef8267fdd9"
          }
        },
        "d15c05da28fb4bb29833d3ed827c00c7": {
          "model_module": "@jupyter-widgets/controls",
          "model_name": "ProgressStyleModel",
          "state": {
            "_view_name": "StyleView",
            "_model_name": "ProgressStyleModel",
            "description_width": "initial",
            "_view_module": "@jupyter-widgets/base",
            "_model_module_version": "1.5.0",
            "_view_count": null,
            "_view_module_version": "1.2.0",
            "bar_color": null,
            "_model_module": "@jupyter-widgets/controls"
          }
        },
        "6257942e981949f49a977ea97b327ddc": {
          "model_module": "@jupyter-widgets/base",
          "model_name": "LayoutModel",
          "state": {
            "_view_name": "LayoutView",
            "grid_template_rows": null,
            "right": null,
            "justify_content": null,
            "_view_module": "@jupyter-widgets/base",
            "overflow": null,
            "_model_module_version": "1.2.0",
            "_view_count": null,
            "flex_flow": null,
            "width": null,
            "min_width": null,
            "border": null,
            "align_items": null,
            "bottom": null,
            "_model_module": "@jupyter-widgets/base",
            "top": null,
            "grid_column": null,
            "overflow_y": null,
            "overflow_x": null,
            "grid_auto_flow": null,
            "grid_area": null,
            "grid_template_columns": null,
            "flex": null,
            "_model_name": "LayoutModel",
            "justify_items": null,
            "grid_row": null,
            "max_height": null,
            "align_content": null,
            "visibility": null,
            "align_self": null,
            "height": null,
            "min_height": null,
            "padding": null,
            "grid_auto_rows": null,
            "grid_gap": null,
            "max_width": null,
            "order": null,
            "_view_module_version": "1.2.0",
            "grid_template_areas": null,
            "object_position": null,
            "object_fit": null,
            "grid_auto_columns": null,
            "margin": null,
            "display": null,
            "left": null
          }
        },
        "21d741dac11c44889dcf4a934155807e": {
          "model_module": "@jupyter-widgets/controls",
          "model_name": "DescriptionStyleModel",
          "state": {
            "_view_name": "StyleView",
            "_model_name": "DescriptionStyleModel",
            "description_width": "",
            "_view_module": "@jupyter-widgets/base",
            "_model_module_version": "1.5.0",
            "_view_count": null,
            "_view_module_version": "1.2.0",
            "_model_module": "@jupyter-widgets/controls"
          }
        },
        "3bc3714027ca488ca04e0eef8267fdd9": {
          "model_module": "@jupyter-widgets/base",
          "model_name": "LayoutModel",
          "state": {
            "_view_name": "LayoutView",
            "grid_template_rows": null,
            "right": null,
            "justify_content": null,
            "_view_module": "@jupyter-widgets/base",
            "overflow": null,
            "_model_module_version": "1.2.0",
            "_view_count": null,
            "flex_flow": null,
            "width": null,
            "min_width": null,
            "border": null,
            "align_items": null,
            "bottom": null,
            "_model_module": "@jupyter-widgets/base",
            "top": null,
            "grid_column": null,
            "overflow_y": null,
            "overflow_x": null,
            "grid_auto_flow": null,
            "grid_area": null,
            "grid_template_columns": null,
            "flex": null,
            "_model_name": "LayoutModel",
            "justify_items": null,
            "grid_row": null,
            "max_height": null,
            "align_content": null,
            "visibility": null,
            "align_self": null,
            "height": null,
            "min_height": null,
            "padding": null,
            "grid_auto_rows": null,
            "grid_gap": null,
            "max_width": null,
            "order": null,
            "_view_module_version": "1.2.0",
            "grid_template_areas": null,
            "object_position": null,
            "object_fit": null,
            "grid_auto_columns": null,
            "margin": null,
            "display": null,
            "left": null
          }
        }
      }
    }
  },
  "cells": [
    {
      "cell_type": "code",
      "metadata": {
        "id": "XYaxtUEgIafG"
      },
      "source": [
        "import torch\n",
        "import torch.nn as nn\n",
        "import torch.nn.functional as F\n",
        "import torch.optim as optim\n",
        "import torch.optim.lr_scheduler as lr_scheduler\n",
        "from torch.optim.lr_scheduler import _LRScheduler\n",
        "import torch.utils.data as data\n",
        "\n",
        "import torchvision.transforms as transforms\n",
        "import torchvision.datasets as datasets\n",
        "\n",
        "from sklearn import decomposition\n",
        "from sklearn import manifold\n",
        "from sklearn.metrics import confusion_matrix\n",
        "from sklearn.metrics import ConfusionMatrixDisplay\n",
        "import matplotlib.pyplot as plt\n",
        "import numpy as np\n",
        "\n",
        "import copy\n",
        "import random\n",
        "import time"
      ],
      "execution_count": null,
      "outputs": []
    },
    {
      "cell_type": "code",
      "metadata": {
        "id": "QfZxvR09IafJ"
      },
      "source": [
        "SEED = 1234\n",
        "\n",
        "random.seed(SEED)\n",
        "np.random.seed(SEED)\n",
        "torch.manual_seed(SEED)\n",
        "torch.cuda.manual_seed(SEED)\n",
        "torch.backends.cudnn.deterministic = True"
      ],
      "execution_count": null,
      "outputs": []
    },
    {
      "cell_type": "code",
      "metadata": {
        "colab": {
          "base_uri": "https://localhost:8080/",
          "height": 134,
          "referenced_widgets": [
            "bf2201b22a61404faf5fd68a76c599c0",
            "99a72ac299bf47f5be82ef6081042802",
            "4ddc283619024064bae003e665d4ff27",
            "02c17441c7564be6b818df0dcd0d03a1",
            "d15c05da28fb4bb29833d3ed827c00c7",
            "6257942e981949f49a977ea97b327ddc",
            "21d741dac11c44889dcf4a934155807e",
            "3bc3714027ca488ca04e0eef8267fdd9"
          ]
        },
        "id": "IprUgI0fIafN",
        "outputId": "7824b4d9-7b14-44e5-9507-c5964f568b34"
      },
      "source": [
        "\n",
        "ROOT = '.data'\n",
        "#Downloading the CIFAR10 dataset \n",
        "train_data = datasets.CIFAR10(root = ROOT, \n",
        "                              train = True, \n",
        "                              download = True)\n",
        "#Calculating means and standard deviations for train_data\n",
        "means = train_data.data.mean(axis = (0,1,2)) / 255\n",
        "stds = train_data.data.std(axis = (0,1,2)) / 255\n",
        "\n",
        "print(f'Calculated means: {means}')\n",
        "print(f'Calculated stds: {stds}')"
      ],
      "execution_count": null,
      "outputs": [
        {
          "output_type": "stream",
          "text": [
            "Downloading https://www.cs.toronto.edu/~kriz/cifar-10-python.tar.gz to .data/cifar-10-python.tar.gz\n"
          ],
          "name": "stdout"
        },
        {
          "output_type": "display_data",
          "data": {
            "application/vnd.jupyter.widget-view+json": {
              "model_id": "bf2201b22a61404faf5fd68a76c599c0",
              "version_minor": 0,
              "version_major": 2
            },
            "text/plain": [
              "HBox(children=(FloatProgress(value=0.0, max=170498071.0), HTML(value='')))"
            ]
          },
          "metadata": {
            "tags": []
          }
        },
        {
          "output_type": "stream",
          "text": [
            "\n",
            "Extracting .data/cifar-10-python.tar.gz to .data\n",
            "Calculated means: [0.49139968 0.48215841 0.44653091]\n",
            "Calculated stds: [0.24703223 0.24348513 0.26158784]\n"
          ],
          "name": "stdout"
        }
      ]
    },
    {
      "cell_type": "code",
      "metadata": {
        "id": "tfzKdrpfIafR"
      },
      "source": [
        "#Using torchvisions.transforms for common image transformations \n",
        "train_transforms = transforms.Compose([\n",
        "                           transforms.RandomRotation(5),\n",
        "                           transforms.RandomHorizontalFlip(0.5),\n",
        "                           transforms.RandomCrop(32, padding = 2),\n",
        "                           transforms.ToTensor(),\n",
        "                           transforms.Normalize(mean = means, \n",
        "                                                std = stds)\n",
        "                       ])\n",
        "\n",
        "test_transforms = transforms.Compose([\n",
        "                           transforms.ToTensor(),\n",
        "                           transforms.Normalize(mean = means, \n",
        "                                                std = stds)\n",
        "                       ])"
      ],
      "execution_count": null,
      "outputs": []
    },
    {
      "cell_type": "code",
      "metadata": {
        "colab": {
          "base_uri": "https://localhost:8080/"
        },
        "id": "vqxev2wBIafU",
        "outputId": "2a2e2d25-6002-4c35-b2f1-d50e7415809f"
      },
      "source": [
        "# applying the transformations on train and test data\n",
        "train_data = datasets.CIFAR10(ROOT, \n",
        "                              train = True, \n",
        "                              download = True, \n",
        "                              transform = train_transforms)\n",
        "\n",
        "test_data = datasets.CIFAR10(ROOT, \n",
        "                             train = False, \n",
        "                             download = True, \n",
        "                             transform = test_transforms)"
      ],
      "execution_count": null,
      "outputs": [
        {
          "output_type": "stream",
          "text": [
            "Files already downloaded and verified\n",
            "Files already downloaded and verified\n"
          ],
          "name": "stdout"
        }
      ]
    },
    {
      "cell_type": "code",
      "metadata": {
        "id": "NyMEMaDUIafX"
      },
      "source": [
        "VALID_RATIO = 0.9\n",
        "#splitting into train and validation data\n",
        "n_train_examples = int(len(train_data) * VALID_RATIO)\n",
        "n_valid_examples = len(train_data) - n_train_examples\n",
        "\n",
        "train_data, valid_data = data.random_split(train_data, \n",
        "                                           [n_train_examples, n_valid_examples])"
      ],
      "execution_count": null,
      "outputs": []
    },
    {
      "cell_type": "code",
      "metadata": {
        "id": "sKvCJ2_EQUgD"
      },
      "source": [
        "valid_data = copy.deepcopy(valid_data)\n",
        "valid_data.dataset.transform = test_transforms"
      ],
      "execution_count": null,
      "outputs": []
    },
    {
      "cell_type": "code",
      "metadata": {
        "colab": {
          "base_uri": "https://localhost:8080/"
        },
        "id": "enX-chu-Iafc",
        "outputId": "9ba0b537-5b1c-49ef-c246-f03958f270d5"
      },
      "source": [
        "print(f'Number of training examples: {len(train_data)}')\n",
        "print(f'Number of validation examples: {len(valid_data)}')\n",
        "print(f'Number of testing examples: {len(test_data)}')"
      ],
      "execution_count": null,
      "outputs": [
        {
          "output_type": "stream",
          "text": [
            "Number of training examples: 45000\n",
            "Number of validation examples: 5000\n",
            "Number of testing examples: 10000\n"
          ],
          "name": "stdout"
        }
      ]
    },
    {
      "cell_type": "code",
      "metadata": {
        "id": "A6piM5oUcZIY"
      },
      "source": [
        "N_IMAGES = 25\n",
        "\n",
        "images, labels = zip(*[(image, label) for image, label in [train_data[i] for i in range(N_IMAGES)]])\n",
        "\n",
        "labels = [test_data.classes[i] for i in labels]\n"
      ],
      "execution_count": null,
      "outputs": []
    },
    {
      "cell_type": "code",
      "metadata": {
        "id": "gVDM7PTCswBx"
      },
      "source": [
        "#function for normalising image\n",
        "def normalize_image(image):\n",
        "    image_min = image.min()#takes the minimum pixel value of the image\n",
        "    image_max = image.max()#takes the maximum pixel value of the image\n",
        "    image.clamp_(min = image_min, max = image_max)\n",
        "    image.add_(-image_min).div_(image_max - image_min + 1e-5)\n",
        "    return image"
      ],
      "execution_count": null,
      "outputs": []
    },
    {
      "cell_type": "code",
      "metadata": {
        "id": "o3rhhD0HIaff"
      },
      "source": [
        "BATCH_SIZE = 256\n",
        "\n",
        "#dataloader to access images in the dataset\n",
        "train_iterator = data.DataLoader(train_data, \n",
        "                                 shuffle = True, \n",
        "                                 batch_size = BATCH_SIZE)\n",
        "\n",
        "valid_iterator = data.DataLoader(valid_data, \n",
        "                                 batch_size = BATCH_SIZE)\n",
        "\n",
        "test_iterator = data.DataLoader(test_data, \n",
        "                                batch_size = BATCH_SIZE)"
      ],
      "execution_count": null,
      "outputs": []
    },
    {
      "cell_type": "code",
      "metadata": {
        "id": "sQq-LE22Iafk"
      },
      "source": [
        "#we first create a ResNet block with two convolutional layers \n",
        "#Batch normalisation is performed on output channels\n",
        "\n",
        "class ResNetBlock(nn.Module):\n",
        "    def __init__(self, in_channels, out_channels, stride):\n",
        "        super().__init__()\n",
        "        \n",
        "\n",
        "        self.conv1 = nn.Conv2d(in_channels, out_channels, kernel_size=3, stride=stride, padding=1, bias=False)\n",
        "        self.bn1 = nn.BatchNorm2d(out_channels)\n",
        "        self.conv2 = nn.Conv2d(out_channels, out_channels, kernel_size=3, stride=1, padding=1, bias=False)\n",
        "        self.bn2 = nn.BatchNorm2d(out_channels)\n",
        "        \n",
        "        # Initialising the model\n",
        "        self.downsample = nn.Sequential()\n",
        "        \n",
        "        if stride != 1 or in_channels != out_channels:\n",
        "            self.downsample = nn.Sequential(\n",
        "                nn.Conv2d(in_channels, out_channels, kernel_size=1, stride=stride, bias=False),\n",
        "                nn.BatchNorm2d(out_channels)\n",
        "            )\n",
        "            \n",
        "        #resnet block is initialised    \n",
        "    def forward(self, x):\n",
        "        #take x and pass it as input to convolutional layer 1 and perform 2dbatchnorm\n",
        "        out = F.relu(self.bn1(self.conv1(x)))\n",
        "        #pass output of convolutional layer 1 to second convolutional layer\n",
        "        #perform batchnorm for 2nd layer as well\n",
        "        # int resblock take x and pass it as input to conv1 final output is relu of conv1\n",
        "        out = self.bn2(self.conv2(out))\n",
        "        #add the ouptut of second layer to x\n",
        "        out += self.downsample(x)\n",
        "        #final output obtained is relu of conv1\n",
        "        out = F.relu(out)\n",
        "        return out\n",
        "\n",
        "class ResNetLayer(nn.Module):\n",
        "    def __init__(self, block, n_blocks, in_channels, out_channels, stride):\n",
        "        super().__init__()\n",
        "        \n",
        "        #by customising  we define how many blocks should be there in the layer \n",
        "        self.modules = []\n",
        "        #adding the layers\n",
        "        self.modules.append(block(in_channels, out_channels, stride))\n",
        "        \n",
        "        for _ in range(n_blocks-1):\n",
        "            self.modules.append(block(out_channels, out_channels, 1))\n",
        "            \n",
        "        self.blocks = nn.Sequential(*self.modules)\n",
        "    \n",
        "    def forward(self, x):\n",
        "        return self.blocks(x) \n",
        "    \n",
        "class ResNet18(nn.Module):\n",
        "    def __init__(self, layer, block):\n",
        "        super().__init__()\n",
        "        # number of blocks in each layer\n",
        "        n_blocks = [2, 2, 2, 2]\n",
        "        #defining layers\n",
        "        self.conv1 = nn.Conv2d(3, 64, kernel_size=3, stride=1, padding=1, bias=False)\n",
        "        self.bn1 = nn.BatchNorm2d(64)\n",
        "        self.layer1 = layer(block, n_blocks[0], 64, 64, 1)\n",
        "        self.layer2 = layer(block, n_blocks[1], 64, 128, 2)\n",
        "        self.layer3 = layer(block, n_blocks[2], 128, 256, 2)\n",
        "        self.layer4 = layer(block, n_blocks[3], 256, 512, 2)\n",
        "        self.fc = nn.Linear(512, 10)\n",
        "        \n",
        "        #connecting layers\n",
        "        \n",
        "    def forward(self, x):\n",
        "        out = F.relu(self.bn1(self.conv1(x)))\n",
        "        #first layer has 64 convolutions\n",
        "        out = self.layer1(out)\n",
        "        #then connect 64 to 128 convolutions\n",
        "        #while changing from layer to layer ,we downsample because during skipconnection we should have same no of channels\n",
        "        out = self.layer2(out)\n",
        "        out = self.layer3(out)\n",
        "        out = self.layer4(out)\n",
        "        out = F.avg_pool2d(out, 4)\n",
        "        h = out.view(out.shape[0], -1)\n",
        "        out = self.fc(h)\n",
        "        return out, h\n",
        "    \n",
        "class ResNet34(nn.Module):\n",
        "    def __init__(self, layer, block):\n",
        "        super().__init__()\n",
        "         # number of blocks in each layer\n",
        "        n_blocks = [3, 4, 6, 3]\n",
        "        #defining layers\n",
        "        self.conv1 = nn.Conv2d(3, 64, kernel_size=3, stride=1, padding=1, bias=False)\n",
        "        self.bn1 = nn.BatchNorm2d(64)\n",
        "        self.layer1 = layer(block, n_blocks[0], 64, 64, 1)\n",
        "        self.layer2 = layer(block, n_blocks[1], 64, 128, 2)\n",
        "        self.layer3 = layer(block, n_blocks[2], 128, 256, 2)\n",
        "        self.layer4 = layer(block, n_blocks[3], 256, 512, 2)\n",
        "        self.fc = nn.Linear(512, 10)\n",
        "        # connecting layers\n",
        "    def forward(self, x):\n",
        "        out = F.relu(self.bn1(self.conv1(x)))\n",
        "        #first layer has 64 convolutions\n",
        "        out = self.layer1(out)\n",
        "        #then connect 64 to 128 convolutions\n",
        "        #while changing from layer to layer ,we downsample because during skipconnection we should have same no of channels\n",
        "        out = self.layer2(out)\n",
        "        out = self.layer3(out)\n",
        "        out = self.layer4(out)\n",
        "        out = F.avg_pool2d(out, 4)\n",
        "        h = out.view(out.shape[0], -1)\n",
        "        out = self.fc(h)\n",
        "        return out, h"
      ],
      "execution_count": null,
      "outputs": []
    },
    {
      "cell_type": "markdown",
      "metadata": {
        "id": "txdboI6WQ_u_"
      },
      "source": [
        "## RESNET 18\n"
      ]
    },
    {
      "cell_type": "code",
      "metadata": {
        "id": "y-sDcYnBIafp"
      },
      "source": [
        "#defining the model\n",
        "model = ResNet18(ResNetLayer, ResNetBlock)"
      ],
      "execution_count": null,
      "outputs": []
    },
    {
      "cell_type": "code",
      "metadata": {
        "colab": {
          "base_uri": "https://localhost:8080/"
        },
        "id": "3g-pV7t2Iafs",
        "outputId": "73ec0345-a0c1-414e-ee41-70666d30b55e"
      },
      "source": [
        "def count_parameters(model):\n",
        "    return sum(p.numel() for p in model.parameters() if p.requires_grad)\n",
        "\n",
        "print(f'The ResNet18 model has {count_parameters(model):,} trainable parameters')"
      ],
      "execution_count": null,
      "outputs": [
        {
          "output_type": "stream",
          "text": [
            "The ResNet18 model has 11,173,962 trainable parameters\n"
          ],
          "name": "stdout"
        }
      ]
    },
    {
      "cell_type": "code",
      "metadata": {
        "id": "I4NbFid9Iafw"
      },
      "source": [
        "def initialize_parameters(m):\n",
        "    if isinstance(m, nn.Conv2d):\n",
        "        nn.init.kaiming_normal_(m.weight.data, nonlinearity = 'relu')\n",
        "        if m.bias is not None:\n",
        "            nn.init.constant_(m.bias.data, 0)\n",
        "    if isinstance(m, nn.Linear):\n",
        "        nn.init.xavier_normal_(m.weight.data, gain = nn.init.calculate_gain('relu'))\n",
        "        nn.init.constant_(m.bias.data, 0)"
      ],
      "execution_count": null,
      "outputs": []
    },
    {
      "cell_type": "code",
      "metadata": {
        "colab": {
          "base_uri": "https://localhost:8080/"
        },
        "id": "Bve8IsHsIafz",
        "outputId": "8ddcd35d-b523-40fa-dbcd-4261f0ba5ec8"
      },
      "source": [
        "model.apply(initialize_parameters)"
      ],
      "execution_count": null,
      "outputs": [
        {
          "output_type": "execute_result",
          "data": {
            "text/plain": [
              "ResNet18(\n",
              "  (conv1): Conv2d(3, 64, kernel_size=(3, 3), stride=(1, 1), padding=(1, 1), bias=False)\n",
              "  (bn1): BatchNorm2d(64, eps=1e-05, momentum=0.1, affine=True, track_running_stats=True)\n",
              "  (layer1): ResNetLayer(\n",
              "    (blocks): Sequential(\n",
              "      (0): ResNetBlock(\n",
              "        (conv1): Conv2d(64, 64, kernel_size=(3, 3), stride=(1, 1), padding=(1, 1), bias=False)\n",
              "        (bn1): BatchNorm2d(64, eps=1e-05, momentum=0.1, affine=True, track_running_stats=True)\n",
              "        (conv2): Conv2d(64, 64, kernel_size=(3, 3), stride=(1, 1), padding=(1, 1), bias=False)\n",
              "        (bn2): BatchNorm2d(64, eps=1e-05, momentum=0.1, affine=True, track_running_stats=True)\n",
              "        (downsample): Sequential()\n",
              "      )\n",
              "      (1): ResNetBlock(\n",
              "        (conv1): Conv2d(64, 64, kernel_size=(3, 3), stride=(1, 1), padding=(1, 1), bias=False)\n",
              "        (bn1): BatchNorm2d(64, eps=1e-05, momentum=0.1, affine=True, track_running_stats=True)\n",
              "        (conv2): Conv2d(64, 64, kernel_size=(3, 3), stride=(1, 1), padding=(1, 1), bias=False)\n",
              "        (bn2): BatchNorm2d(64, eps=1e-05, momentum=0.1, affine=True, track_running_stats=True)\n",
              "        (downsample): Sequential()\n",
              "      )\n",
              "    )\n",
              "  )\n",
              "  (layer2): ResNetLayer(\n",
              "    (blocks): Sequential(\n",
              "      (0): ResNetBlock(\n",
              "        (conv1): Conv2d(64, 128, kernel_size=(3, 3), stride=(2, 2), padding=(1, 1), bias=False)\n",
              "        (bn1): BatchNorm2d(128, eps=1e-05, momentum=0.1, affine=True, track_running_stats=True)\n",
              "        (conv2): Conv2d(128, 128, kernel_size=(3, 3), stride=(1, 1), padding=(1, 1), bias=False)\n",
              "        (bn2): BatchNorm2d(128, eps=1e-05, momentum=0.1, affine=True, track_running_stats=True)\n",
              "        (downsample): Sequential(\n",
              "          (0): Conv2d(64, 128, kernel_size=(1, 1), stride=(2, 2), bias=False)\n",
              "          (1): BatchNorm2d(128, eps=1e-05, momentum=0.1, affine=True, track_running_stats=True)\n",
              "        )\n",
              "      )\n",
              "      (1): ResNetBlock(\n",
              "        (conv1): Conv2d(128, 128, kernel_size=(3, 3), stride=(1, 1), padding=(1, 1), bias=False)\n",
              "        (bn1): BatchNorm2d(128, eps=1e-05, momentum=0.1, affine=True, track_running_stats=True)\n",
              "        (conv2): Conv2d(128, 128, kernel_size=(3, 3), stride=(1, 1), padding=(1, 1), bias=False)\n",
              "        (bn2): BatchNorm2d(128, eps=1e-05, momentum=0.1, affine=True, track_running_stats=True)\n",
              "        (downsample): Sequential()\n",
              "      )\n",
              "    )\n",
              "  )\n",
              "  (layer3): ResNetLayer(\n",
              "    (blocks): Sequential(\n",
              "      (0): ResNetBlock(\n",
              "        (conv1): Conv2d(128, 256, kernel_size=(3, 3), stride=(2, 2), padding=(1, 1), bias=False)\n",
              "        (bn1): BatchNorm2d(256, eps=1e-05, momentum=0.1, affine=True, track_running_stats=True)\n",
              "        (conv2): Conv2d(256, 256, kernel_size=(3, 3), stride=(1, 1), padding=(1, 1), bias=False)\n",
              "        (bn2): BatchNorm2d(256, eps=1e-05, momentum=0.1, affine=True, track_running_stats=True)\n",
              "        (downsample): Sequential(\n",
              "          (0): Conv2d(128, 256, kernel_size=(1, 1), stride=(2, 2), bias=False)\n",
              "          (1): BatchNorm2d(256, eps=1e-05, momentum=0.1, affine=True, track_running_stats=True)\n",
              "        )\n",
              "      )\n",
              "      (1): ResNetBlock(\n",
              "        (conv1): Conv2d(256, 256, kernel_size=(3, 3), stride=(1, 1), padding=(1, 1), bias=False)\n",
              "        (bn1): BatchNorm2d(256, eps=1e-05, momentum=0.1, affine=True, track_running_stats=True)\n",
              "        (conv2): Conv2d(256, 256, kernel_size=(3, 3), stride=(1, 1), padding=(1, 1), bias=False)\n",
              "        (bn2): BatchNorm2d(256, eps=1e-05, momentum=0.1, affine=True, track_running_stats=True)\n",
              "        (downsample): Sequential()\n",
              "      )\n",
              "    )\n",
              "  )\n",
              "  (layer4): ResNetLayer(\n",
              "    (blocks): Sequential(\n",
              "      (0): ResNetBlock(\n",
              "        (conv1): Conv2d(256, 512, kernel_size=(3, 3), stride=(2, 2), padding=(1, 1), bias=False)\n",
              "        (bn1): BatchNorm2d(512, eps=1e-05, momentum=0.1, affine=True, track_running_stats=True)\n",
              "        (conv2): Conv2d(512, 512, kernel_size=(3, 3), stride=(1, 1), padding=(1, 1), bias=False)\n",
              "        (bn2): BatchNorm2d(512, eps=1e-05, momentum=0.1, affine=True, track_running_stats=True)\n",
              "        (downsample): Sequential(\n",
              "          (0): Conv2d(256, 512, kernel_size=(1, 1), stride=(2, 2), bias=False)\n",
              "          (1): BatchNorm2d(512, eps=1e-05, momentum=0.1, affine=True, track_running_stats=True)\n",
              "        )\n",
              "      )\n",
              "      (1): ResNetBlock(\n",
              "        (conv1): Conv2d(512, 512, kernel_size=(3, 3), stride=(1, 1), padding=(1, 1), bias=False)\n",
              "        (bn1): BatchNorm2d(512, eps=1e-05, momentum=0.1, affine=True, track_running_stats=True)\n",
              "        (conv2): Conv2d(512, 512, kernel_size=(3, 3), stride=(1, 1), padding=(1, 1), bias=False)\n",
              "        (bn2): BatchNorm2d(512, eps=1e-05, momentum=0.1, affine=True, track_running_stats=True)\n",
              "        (downsample): Sequential()\n",
              "      )\n",
              "    )\n",
              "  )\n",
              "  (fc): Linear(in_features=512, out_features=10, bias=True)\n",
              ")"
            ]
          },
          "metadata": {
            "tags": []
          },
          "execution_count": 18
        }
      ]
    },
    {
      "cell_type": "code",
      "metadata": {
        "id": "HO-LYudEIaf2"
      },
      "source": [
        "#using learning rate finder\n",
        "class LRFinder(object):\n",
        "    def __init__(self, model, optimizer, criterion, device):\n",
        "        self.optimizer = optimizer\n",
        "        self.model = model\n",
        "        self.criterion = criterion\n",
        "        self.device = device\n",
        "        \n",
        "        self.model_params = copy.deepcopy(model.state_dict())\n",
        "        self.optim_params = copy.deepcopy(optimizer.state_dict())\n",
        "\n",
        "    def reset(self):\n",
        "        self.model.load_state_dict(self.model_params)\n",
        "        self.optimizer.load_state_dict(self.optim_params)\n",
        "\n",
        "    def range_test(self, iterator, end_lr = 10, num_iter = 100, smooth_f = 0.1, diverge_th = 5):\n",
        "        \n",
        "        lrs = []\n",
        "        losses = []\n",
        "        best_loss = float('inf')\n",
        "\n",
        "        lr_scheduler = ExponentialLR(self.optimizer, end_lr, num_iter)\n",
        "        \n",
        "        iterator = IteratorWrapper(iterator)\n",
        "        \n",
        "        for iteration in range(num_iter):\n",
        "\n",
        "            loss = self._train_batch(iterator)\n",
        "\n",
        "            lr_scheduler.step()\n",
        "            \n",
        "            lrs.append(lr_scheduler.get_lr()[0])\n",
        "\n",
        "            if iteration > 0:\n",
        "                loss = smooth_f * loss + (1 - smooth_f) * losses[-1]\n",
        "                \n",
        "            if loss < best_loss:\n",
        "                best_loss = loss\n",
        "\n",
        "            losses.append(loss)\n",
        "            \n",
        "            if loss > diverge_th * best_loss:\n",
        "                print(\"Stopping early, the loss has diverged\")\n",
        "                break\n",
        "                        \n",
        "        return lrs, losses\n",
        "\n",
        "    def _train_batch(self, iterator):\n",
        "        \n",
        "        self.model.train()\n",
        "        #setting the gradients of all parameters to zero\n",
        "        self.optimizer.zero_grad()\n",
        "        \n",
        "        x, y = iterator.get_batch()\n",
        "        #passing x and y to device\n",
        "        x = x.to(self.device)\n",
        "        y = y.to(self.device)\n",
        "        \n",
        "        y_pred, _ = self.model(x)\n",
        "                \n",
        "        loss = self.criterion(y_pred, y)\n",
        "        \n",
        "        loss.backward()\n",
        "        \n",
        "        self.optimizer.step()\n",
        "        \n",
        "        return loss.item()\n",
        "\n",
        "\n",
        "class ExponentialLR(_LRScheduler):\n",
        "    \n",
        "    def __init__(self, optimizer, end_lr, num_iter, last_epoch=-1):\n",
        "        self.end_lr = end_lr\n",
        "        self.num_iter = num_iter\n",
        "        super(ExponentialLR, self).__init__(optimizer, last_epoch)\n",
        "\n",
        "    def get_lr(self):\n",
        "        curr_iter = self.last_epoch + 1\n",
        "        r = curr_iter / self.num_iter\n",
        "        return [base_lr * (self.end_lr / base_lr) ** r for base_lr in self.base_lrs]\n",
        "\n",
        "class IteratorWrapper:\n",
        "    \n",
        "    def __init__(self, iterator):\n",
        "        self.iterator = iterator\n",
        "        self._iterator = iter(iterator)\n",
        "\n",
        "    def __next__(self):\n",
        "        try:\n",
        "            inputs, labels = next(self._iterator)\n",
        "        except StopIteration:\n",
        "            self._iterator = iter(self.iterator)\n",
        "            inputs, labels, *_ = next(self._iterator)\n",
        "\n",
        "        return inputs, labels\n",
        "\n",
        "    def get_batch(self):\n",
        "        return next(self)"
      ],
      "execution_count": null,
      "outputs": []
    },
    {
      "cell_type": "code",
      "metadata": {
        "id": "5583ybdqIaf4"
      },
      "source": [
        "#initilaise optimizer with low learning rate\n",
        "START_LR = 1e-5\n",
        "\n",
        "device = torch.device('cuda' if torch.cuda.is_available() else 'cpu')\n",
        "#using cross entropy as loss function\n",
        "criterion = nn.CrossEntropyLoss()\n",
        "#initialising adam optimzer with  low learning rate\n",
        "optimizer = optim.Adam(model.parameters(), lr = START_LR)\n",
        "#placing the model and loss function on device \n",
        "model = model.to(device)\n",
        "criterion = criterion.to(device)"
      ],
      "execution_count": null,
      "outputs": []
    },
    {
      "cell_type": "code",
      "metadata": {
        "id": "BcA3kgLHIaf6"
      },
      "source": [
        "#Resnet18\n",
        "END_LR = 10\n",
        "NUM_ITER = 100\n",
        "#using learning rate finder to find out best learning rate\n",
        "lr_finder = LRFinder(model, optimizer, criterion, device)\n",
        "lrs, losses = lr_finder.range_test(train_iterator, END_LR, NUM_ITER)\n",
        "lr_finder.reset() "
      ],
      "execution_count": null,
      "outputs": []
    },
    {
      "cell_type": "code",
      "metadata": {
        "id": "4h0DrKqrIaf9"
      },
      "source": [
        "#function for plotting learning rate\n",
        "def plot_lr_finder(lrs, losses, skip_start=10, skip_end=5):\n",
        "    \n",
        "    if skip_end == 0:\n",
        "        lrs = lrs[skip_start:]\n",
        "        losses = losses[skip_start:]\n",
        "        \n",
        "    else:\n",
        "        lrs = lrs[skip_start:-skip_end]\n",
        "        losses = losses[skip_start:-skip_end]\n",
        "    \n",
        "    fig = plt.figure(figsize=(16,8))\n",
        "    ax = fig.add_subplot(1,1,1)\n",
        "    ax.plot(lrs, losses)\n",
        "    ax.set_xscale('log')\n",
        "    ax.set_xlabel(\"Learning rate\")\n",
        "    ax.set_ylabel(\"Loss\")\n",
        "    ax.grid(True, 'both', 'x')\n",
        "    plt.show()\n"
      ],
      "execution_count": null,
      "outputs": []
    },
    {
      "cell_type": "code",
      "metadata": {
        "colab": {
          "base_uri": "https://localhost:8080/",
          "height": 501
        },
        "id": "WiivDPU3IagA",
        "outputId": "52771521-dab6-4edc-eaf2-fa60c4da8884"
      },
      "source": [
        "plot_lr_finder(lrs, losses)"
      ],
      "execution_count": null,
      "outputs": [
        {
          "output_type": "display_data",
          "data": {
            "image/png": "[encoded data removed]",
            "text/plain": [
              "<Figure size 1152x576 with 1 Axes>"
            ]
          },
          "metadata": {
            "tags": [],
            "needs_background": "light"
          }
        }
      ]
    },
    {
      "cell_type": "markdown",
      "metadata": {
        "id": "g1Io-1IOYoxB"
      },
      "source": [
        "We can then set the learning rates of our model using discriminative fine-tuning - a technique used in transfer learning where later layers in a model have higher learning rates than earlier ones."
      ]
    },
    {
      "cell_type": "code",
      "metadata": {
        "id": "P6hTusQNIagD"
      },
      "source": [
        "#best learning rate is found from the plot\n",
        "FOUND_LR = 1e-4\n",
        "\n",
        "optimizer = optim.Adam(model.parameters(), lr = FOUND_LR)"
      ],
      "execution_count": null,
      "outputs": []
    },
    {
      "cell_type": "code",
      "metadata": {
        "id": "24a_MDrmAdH9"
      },
      "source": [
        ""
      ],
      "execution_count": null,
      "outputs": []
    },
    {
      "cell_type": "code",
      "metadata": {
        "id": "YZzmz6pcIagG"
      },
      "source": [
        "#ReduceLROnPlateau scheduler to adjust the learning rate\n",
        "scheduler = lr_scheduler.ReduceLROnPlateau(optimizer, factor = 0.1, patience = 1_000, verbose = True)"
      ],
      "execution_count": null,
      "outputs": []
    },
    {
      "cell_type": "code",
      "metadata": {
        "id": "TJj9fQ5WIagI"
      },
      "source": [
        "# calculating accuracy\n",
        "def calculate_accuracy(y_pred, y):\n",
        "    top_pred = y_pred.argmax(1, keepdim = True)\n",
        "    correct = top_pred.eq(y.view_as(top_pred)).sum()\n",
        "    acc = correct.float() / y.shape[0]\n",
        "    return acc"
      ],
      "execution_count": null,
      "outputs": []
    },
    {
      "cell_type": "code",
      "metadata": {
        "id": "e65mN1cGIagK"
      },
      "source": [
        "def train(model, iterator, optimizer, criterion, device):\n",
        "    \n",
        "    epoch_loss = 0\n",
        "    epoch_acc = 0\n",
        "    #training the model\n",
        "    model.train()\n",
        "    \n",
        "    for (x, y) in iterator:\n",
        "      #x has batch of images\n",
        "      # y has labels for the batch of images\n",
        "        # moving x and y to device\n",
        "        x = x.to(device)\n",
        "        y = y.to(device)\n",
        "         #setting the gradients of all parameters to zero\n",
        "        optimizer.zero_grad()\n",
        "                \n",
        "        y_pred, _ = model(x)\n",
        "        #caclulating loss\n",
        "        loss = criterion(y_pred, y)\n",
        "        #accuracy is computed\n",
        "        acc = calculate_accuracy(y_pred, y)\n",
        "        # back propogating the loss\n",
        "        loss.backward()\n",
        "        #updating the optimizer\n",
        "        optimizer.step()\n",
        "        \n",
        "        epoch_loss += loss.item()\n",
        "        epoch_acc += acc.item()\n",
        "        \n",
        "    return epoch_loss / len(iterator), epoch_acc / len(iterator)"
      ],
      "execution_count": null,
      "outputs": []
    },
    {
      "cell_type": "code",
      "metadata": {
        "id": "gnUhGD9MIagM"
      },
      "source": [
        "def evaluate(model, iterator, criterion, device):\n",
        "    \n",
        "    epoch_loss = 0\n",
        "    epoch_acc = 0\n",
        "    \n",
        "    model.eval()\n",
        "    \n",
        "    with torch.no_grad():\n",
        "      #x has batch of images\n",
        "      # y has labels for the batch of images\n",
        "        # moving x and y to device\n",
        "        for (x, y) in iterator:\n",
        "\n",
        "            x = x.to(device)\n",
        "            y = y.to(device)\n",
        "         \n",
        "            y_pred, _ = model(x)\n",
        "            #caclulating loss\n",
        "            loss = criterion(y_pred, y)\n",
        "             #accuracy is computed\n",
        "            acc = calculate_accuracy(y_pred, y)\n",
        "\n",
        "            epoch_loss += loss.item()\n",
        "            epoch_acc += acc.item()\n",
        "        \n",
        "    return epoch_loss / len(iterator), epoch_acc / len(iterator)"
      ],
      "execution_count": null,
      "outputs": []
    },
    {
      "cell_type": "code",
      "metadata": {
        "id": "RX-Mwze-IagO"
      },
      "source": [
        "def epoch_time(start_time, end_time):\n",
        "    elapsed_time = end_time - start_time\n",
        "    elapsed_mins = int(elapsed_time / 60)\n",
        "    elapsed_secs = int(elapsed_time - (elapsed_mins * 60))\n",
        "    return elapsed_mins, elapsed_secs"
      ],
      "execution_count": null,
      "outputs": []
    },
    {
      "cell_type": "code",
      "metadata": {
        "id": "2Zw5Y7hcx8GG"
      },
      "source": [
        "#creating empty lists for storing loss and accuracy values while training\n",
        "train_losses = []\n",
        "valid_losses = []\n",
        "train_accuracy = []\n",
        "valid_accuracy = []"
      ],
      "execution_count": null,
      "outputs": []
    },
    {
      "cell_type": "code",
      "metadata": {
        "colab": {
          "base_uri": "https://localhost:8080/"
        },
        "id": "mN02GOocIagR",
        "outputId": "aa5a4c35-ddbf-4bb0-feff-0d67932951b6"
      },
      "source": [
        "EPOCHS = 25\n",
        "\n",
        "best_valid_loss = float('inf')\n",
        "\n",
        "for epoch in range(EPOCHS):\n",
        "    \n",
        "    start_time = time.time()\n",
        "    \n",
        "    train_loss, train_acc = train(model, train_iterator, optimizer, criterion, device)\n",
        "    valid_loss, valid_acc = evaluate(model, valid_iterator, criterion, device)\n",
        "    \n",
        "    scheduler.step(valid_loss)\n",
        "    \n",
        "    if valid_loss < best_valid_loss:\n",
        "        best_valid_loss = valid_loss\n",
        "        torch.save(model.state_dict(), 'tut3-model.pt')\n",
        " \n",
        "    end_time = time.time()\n",
        "    # storing the loss for each epoch\n",
        "    train_losses.append(train_loss)\n",
        "    valid_losses.append(valid_loss)\n",
        "    #storing the accuarcy for each epoch\n",
        "    train_accuracy.append(train_acc)\n",
        "    valid_accuracy.append(valid_acc)\n",
        "\n",
        "    t = time.localtime()\n",
        "    time_stamp = time.strftime('%Y-%m-%d %H:%M:%S', t)\n",
        "\n",
        "    epoch_mins, epoch_secs = epoch_time(start_time, end_time)\n",
        "\n",
        "    print(time_stamp)\n",
        "    print(f'Epoch: {epoch+1:02} | Epoch Time: {epoch_mins}m {epoch_secs}s')\n",
        "    print(f'\\tTrain Loss: {train_loss:.3f} | Train Acc: {train_acc*100:.2f}%')\n",
        "    print(f'\\t Val. Loss: {valid_loss:.3f} |  Val. Acc: {valid_acc*100:.2f}%')"
      ],
      "execution_count": null,
      "outputs": [
        {
          "output_type": "stream",
          "text": [
            "2021-05-08 18:54:26\n",
            "Epoch: 01 | Epoch Time: 1m 8s\n",
            "\tTrain Loss: 0.369 | Train Acc: 87.08%\n",
            "\t Val. Loss: 0.674 |  Val. Acc: 78.76%\n",
            "2021-05-08 18:55:36\n",
            "Epoch: 02 | Epoch Time: 1m 9s\n",
            "\tTrain Loss: 0.348 | Train Acc: 87.63%\n",
            "\t Val. Loss: 0.602 |  Val. Acc: 80.66%\n",
            "2021-05-08 18:56:45\n",
            "Epoch: 03 | Epoch Time: 1m 9s\n",
            "\tTrain Loss: 0.330 | Train Acc: 88.42%\n",
            "\t Val. Loss: 0.637 |  Val. Acc: 80.38%\n",
            "2021-05-08 18:57:54\n",
            "Epoch: 04 | Epoch Time: 1m 9s\n",
            "\tTrain Loss: 0.304 | Train Acc: 89.35%\n",
            "\t Val. Loss: 0.693 |  Val. Acc: 79.38%\n",
            "2021-05-08 18:59:03\n",
            "Epoch: 05 | Epoch Time: 1m 9s\n",
            "\tTrain Loss: 0.291 | Train Acc: 89.67%\n",
            "\t Val. Loss: 0.607 |  Val. Acc: 81.34%\n",
            "2021-05-08 19:00:12\n",
            "Epoch: 06 | Epoch Time: 1m 9s\n",
            "\tTrain Loss: 0.273 | Train Acc: 90.55%\n",
            "\t Val. Loss: 0.626 |  Val. Acc: 81.10%\n",
            "2021-05-08 19:01:21\n",
            "Epoch: 07 | Epoch Time: 1m 9s\n",
            "\tTrain Loss: 0.257 | Train Acc: 90.90%\n",
            "\t Val. Loss: 0.629 |  Val. Acc: 81.52%\n",
            "2021-05-08 19:02:30\n",
            "Epoch: 08 | Epoch Time: 1m 8s\n",
            "\tTrain Loss: 0.248 | Train Acc: 91.36%\n",
            "\t Val. Loss: 0.620 |  Val. Acc: 81.23%\n",
            "2021-05-08 19:03:39\n",
            "Epoch: 09 | Epoch Time: 1m 8s\n",
            "\tTrain Loss: 0.228 | Train Acc: 91.99%\n",
            "\t Val. Loss: 0.597 |  Val. Acc: 82.07%\n",
            "2021-05-08 19:04:48\n",
            "Epoch: 10 | Epoch Time: 1m 8s\n",
            "\tTrain Loss: 0.216 | Train Acc: 92.33%\n",
            "\t Val. Loss: 0.628 |  Val. Acc: 81.93%\n",
            "2021-05-08 19:05:57\n",
            "Epoch: 11 | Epoch Time: 1m 8s\n",
            "\tTrain Loss: 0.206 | Train Acc: 92.81%\n",
            "\t Val. Loss: 0.617 |  Val. Acc: 82.22%\n",
            "2021-05-08 19:07:06\n",
            "Epoch: 12 | Epoch Time: 1m 8s\n",
            "\tTrain Loss: 0.191 | Train Acc: 93.39%\n",
            "\t Val. Loss: 0.655 |  Val. Acc: 81.44%\n",
            "2021-05-08 19:08:14\n",
            "Epoch: 13 | Epoch Time: 1m 8s\n",
            "\tTrain Loss: 0.183 | Train Acc: 93.56%\n",
            "\t Val. Loss: 0.637 |  Val. Acc: 82.03%\n",
            "2021-05-08 19:09:23\n",
            "Epoch: 14 | Epoch Time: 1m 8s\n",
            "\tTrain Loss: 0.172 | Train Acc: 93.98%\n",
            "\t Val. Loss: 0.659 |  Val. Acc: 81.76%\n",
            "2021-05-08 19:10:32\n",
            "Epoch: 15 | Epoch Time: 1m 8s\n",
            "\tTrain Loss: 0.163 | Train Acc: 94.29%\n",
            "\t Val. Loss: 0.647 |  Val. Acc: 82.22%\n",
            "2021-05-08 19:11:40\n",
            "Epoch: 16 | Epoch Time: 1m 8s\n",
            "\tTrain Loss: 0.156 | Train Acc: 94.57%\n",
            "\t Val. Loss: 0.658 |  Val. Acc: 81.92%\n",
            "2021-05-08 19:12:49\n",
            "Epoch: 17 | Epoch Time: 1m 8s\n",
            "\tTrain Loss: 0.147 | Train Acc: 94.88%\n",
            "\t Val. Loss: 0.665 |  Val. Acc: 83.01%\n",
            "2021-05-08 19:13:58\n",
            "Epoch: 18 | Epoch Time: 1m 8s\n",
            "\tTrain Loss: 0.144 | Train Acc: 94.95%\n",
            "\t Val. Loss: 0.660 |  Val. Acc: 82.02%\n",
            "2021-05-08 19:15:06\n",
            "Epoch: 19 | Epoch Time: 1m 8s\n",
            "\tTrain Loss: 0.134 | Train Acc: 95.28%\n",
            "\t Val. Loss: 0.614 |  Val. Acc: 82.80%\n",
            "2021-05-08 19:16:15\n",
            "Epoch: 20 | Epoch Time: 1m 8s\n",
            "\tTrain Loss: 0.126 | Train Acc: 95.60%\n",
            "\t Val. Loss: 0.662 |  Val. Acc: 82.85%\n",
            "2021-05-08 19:17:24\n",
            "Epoch: 21 | Epoch Time: 1m 8s\n",
            "\tTrain Loss: 0.120 | Train Acc: 95.79%\n",
            "\t Val. Loss: 0.744 |  Val. Acc: 80.87%\n",
            "2021-05-08 19:18:32\n",
            "Epoch: 22 | Epoch Time: 1m 8s\n",
            "\tTrain Loss: 0.125 | Train Acc: 95.57%\n",
            "\t Val. Loss: 0.675 |  Val. Acc: 82.63%\n",
            "2021-05-08 19:19:41\n",
            "Epoch: 23 | Epoch Time: 1m 8s\n",
            "\tTrain Loss: 0.116 | Train Acc: 96.02%\n",
            "\t Val. Loss: 0.620 |  Val. Acc: 83.82%\n",
            "2021-05-08 19:20:49\n",
            "Epoch: 24 | Epoch Time: 1m 8s\n",
            "\tTrain Loss: 0.107 | Train Acc: 96.15%\n",
            "\t Val. Loss: 0.679 |  Val. Acc: 82.85%\n",
            "2021-05-08 19:21:58\n",
            "Epoch: 25 | Epoch Time: 1m 8s\n",
            "\tTrain Loss: 0.097 | Train Acc: 96.70%\n",
            "\t Val. Loss: 0.688 |  Val. Acc: 83.37%\n"
          ],
          "name": "stdout"
        }
      ]
    },
    {
      "cell_type": "code",
      "metadata": {
        "colab": {
          "base_uri": "https://localhost:8080/"
        },
        "id": "S4Z3pxPwIagX",
        "outputId": "e30696c3-6b8a-4cf6-d3e7-0573417893c4"
      },
      "source": [
        "model.load_state_dict(torch.load('tut3-model.pt'))\n",
        "\n",
        "test_loss, test_acc = evaluate(model, test_iterator, criterion, device)\n",
        "\n",
        "print(f'Test Loss: {test_loss:.3f} | Test Acc: {test_acc*100:.2f}%')"
      ],
      "execution_count": null,
      "outputs": [
        {
          "output_type": "stream",
          "text": [
            "Test Loss: 0.613 | Test Acc: 81.95%\n"
          ],
          "name": "stdout"
        }
      ]
    },
    {
      "cell_type": "code",
      "metadata": {
        "colab": {
          "base_uri": "https://localhost:8080/",
          "height": 428
        },
        "id": "d3iBnt8Wx8GJ",
        "outputId": "848524e0-e7ac-400b-ad87-12fd03579cec"
      },
      "source": [
        "#plotting the loss\n",
        "plt.figure(figsize=(10, 7))\n",
        "plt.plot(train_losses, color='green', label='train loss')\n",
        "plt.plot(valid_losses, color='red', label='validataion loss')\n",
        "plt.legend()\n",
        "plt.show()\n",
        "\n",
        "\n"
      ],
      "execution_count": null,
      "outputs": [
        {
          "output_type": "display_data",
          "data": {
            "image/png": "[encoded data removed]",
            "text/plain": [
              "<Figure size 720x504 with 1 Axes>"
            ]
          },
          "metadata": {
            "tags": [],
            "needs_background": "light"
          }
        }
      ]
    },
    {
      "cell_type": "code",
      "metadata": {
        "colab": {
          "base_uri": "https://localhost:8080/",
          "height": 428
        },
        "id": "mVDJnZQcx8GL",
        "outputId": "56ea2d14-55dc-4e7b-8343-f828217076fb"
      },
      "source": [
        "#Plotting the accuracy\n",
        "plt.figure(figsize=(10, 7))\n",
        "plt.plot(train_accuracy, color='green', label='Train Accuracy')\n",
        "plt.plot(valid_accuracy, color='red', label='Validataion Accuracy')\n",
        "plt.legend()\n",
        "plt.show()"
      ],
      "execution_count": null,
      "outputs": [
        {
          "output_type": "display_data",
          "data": {
            "image/png": "[encoded data removed]",
            "text/plain": [
              "<Figure size 720x504 with 1 Axes>"
            ]
          },
          "metadata": {
            "tags": [],
            "needs_background": "light"
          }
        }
      ]
    },
    {
      "cell_type": "code",
      "metadata": {
        "id": "G6DndUWO1j9v"
      },
      "source": [
        "# getting the predictions for each image in the dataset\n",
        "def get_predictions(model, iterator):\n",
        "\n",
        "    model.eval()\n",
        "\n",
        "    images = []\n",
        "    labels = []\n",
        "    probs = []\n",
        "\n",
        "    with torch.no_grad():\n",
        "\n",
        "        for (x, y) in iterator:\n",
        "\n",
        "            x = x.to(device)\n",
        "\n",
        "            y_pred, _ = model(x)\n",
        "\n",
        "            y_prob = F.softmax(y_pred, dim = -1)\n",
        "            top_pred = y_prob.argmax(1, keepdim = True)\n",
        "\n",
        "            images.append(x.cpu())\n",
        "            labels.append(y.cpu())\n",
        "            probs.append(y_prob.cpu())\n",
        "\n",
        "    images = torch.cat(images, dim = 0)\n",
        "    labels = torch.cat(labels, dim = 0)\n",
        "    probs = torch.cat(probs, dim = 0)\n",
        "\n",
        "    return images, labels, probs"
      ],
      "execution_count": null,
      "outputs": []
    },
    {
      "cell_type": "code",
      "metadata": {
        "id": "d56f4YuM1mtn"
      },
      "source": [
        "\n",
        "images, labels, probs = get_predictions(model, test_iterator)"
      ],
      "execution_count": null,
      "outputs": []
    },
    {
      "cell_type": "code",
      "metadata": {
        "id": "D4MwRTwk1n89"
      },
      "source": [
        "pred_labels = torch.argmax(probs, 1)"
      ],
      "execution_count": null,
      "outputs": []
    },
    {
      "cell_type": "code",
      "metadata": {
        "id": "LDMamip01p0Z"
      },
      "source": [
        "#plotting confusion matrix\n",
        "def plot_confusion_matrix(labels, pred_labels, classes):\n",
        "    \n",
        "    fig = plt.figure(figsize = (10, 10));\n",
        "    ax = fig.add_subplot(1, 1, 1);\n",
        "    cm = confusion_matrix(labels, pred_labels);\n",
        "    cm = ConfusionMatrixDisplay(cm, classes);\n",
        "    cm.plot(values_format = 'd', cmap = 'Blues', ax = ax)\n",
        "    plt.xticks(rotation=20)"
      ],
      "execution_count": null,
      "outputs": []
    },
    {
      "cell_type": "code",
      "metadata": {
        "colab": {
          "base_uri": "https://localhost:8080/",
          "height": 580
        },
        "id": "bZsIeG2V1wBP",
        "outputId": "ee10a9a4-bd01-4a4b-fb11-db8ddf54b176"
      },
      "source": [
        "classes = test_data.classes\n",
        "\n",
        "plot_confusion_matrix(labels, pred_labels, classes) "
      ],
      "execution_count": null,
      "outputs": [
        {
          "output_type": "display_data",
          "data": {
            "image/png": "[encoded data removed]",
            "text/plain": [
              "<Figure size 720x720 with 2 Axes>"
            ]
          },
          "metadata": {
            "tags": [],
            "needs_background": "light"
          }
        }
      ]
    },
    {
      "cell_type": "code",
      "metadata": {
        "id": "3fBeLZgDx8GP"
      },
      "source": [
        ""
      ],
      "execution_count": null,
      "outputs": []
    },
    {
      "cell_type": "markdown",
      "metadata": {
        "id": "S7uknK1jMByM"
      },
      "source": [
        "## RESNET 34"
      ]
    },
    {
      "cell_type": "code",
      "metadata": {
        "id": "leFi5SDzRKVt"
      },
      "source": [
        "#defining the model\n",
        "model_2 = ResNet34(ResNetLayer, ResNetBlock)"
      ],
      "execution_count": null,
      "outputs": []
    },
    {
      "cell_type": "code",
      "metadata": {
        "colab": {
          "base_uri": "https://localhost:8080/"
        },
        "id": "m9V4ywU4RjUz",
        "outputId": "52823d4f-1208-459a-951a-4822527e4723"
      },
      "source": [
        "\n",
        "print(f'The ResNet 34 model has {count_parameters(model_2):,} trainable parameters')"
      ],
      "execution_count": null,
      "outputs": [
        {
          "output_type": "stream",
          "text": [
            "The ResNet 34 model has 21,282,122 trainable parameters\n"
          ],
          "name": "stdout"
        }
      ]
    },
    {
      "cell_type": "code",
      "metadata": {
        "colab": {
          "base_uri": "https://localhost:8080/"
        },
        "id": "nD16nqqZMEl4",
        "outputId": "203de5c7-e756-47c1-d983-f3eebbff6196"
      },
      "source": [
        "model_2.apply(initialize_parameters)\n",
        "\n"
      ],
      "execution_count": null,
      "outputs": [
        {
          "output_type": "execute_result",
          "data": {
            "text/plain": [
              "ResNet34(\n",
              "  (conv1): Conv2d(3, 64, kernel_size=(3, 3), stride=(1, 1), padding=(1, 1), bias=False)\n",
              "  (bn1): BatchNorm2d(64, eps=1e-05, momentum=0.1, affine=True, track_running_stats=True)\n",
              "  (layer1): ResNetLayer(\n",
              "    (blocks): Sequential(\n",
              "      (0): ResNetBlock(\n",
              "        (conv1): Conv2d(64, 64, kernel_size=(3, 3), stride=(1, 1), padding=(1, 1), bias=False)\n",
              "        (bn1): BatchNorm2d(64, eps=1e-05, momentum=0.1, affine=True, track_running_stats=True)\n",
              "        (conv2): Conv2d(64, 64, kernel_size=(3, 3), stride=(1, 1), padding=(1, 1), bias=False)\n",
              "        (bn2): BatchNorm2d(64, eps=1e-05, momentum=0.1, affine=True, track_running_stats=True)\n",
              "        (downsample): Sequential()\n",
              "      )\n",
              "      (1): ResNetBlock(\n",
              "        (conv1): Conv2d(64, 64, kernel_size=(3, 3), stride=(1, 1), padding=(1, 1), bias=False)\n",
              "        (bn1): BatchNorm2d(64, eps=1e-05, momentum=0.1, affine=True, track_running_stats=True)\n",
              "        (conv2): Conv2d(64, 64, kernel_size=(3, 3), stride=(1, 1), padding=(1, 1), bias=False)\n",
              "        (bn2): BatchNorm2d(64, eps=1e-05, momentum=0.1, affine=True, track_running_stats=True)\n",
              "        (downsample): Sequential()\n",
              "      )\n",
              "      (2): ResNetBlock(\n",
              "        (conv1): Conv2d(64, 64, kernel_size=(3, 3), stride=(1, 1), padding=(1, 1), bias=False)\n",
              "        (bn1): BatchNorm2d(64, eps=1e-05, momentum=0.1, affine=True, track_running_stats=True)\n",
              "        (conv2): Conv2d(64, 64, kernel_size=(3, 3), stride=(1, 1), padding=(1, 1), bias=False)\n",
              "        (bn2): BatchNorm2d(64, eps=1e-05, momentum=0.1, affine=True, track_running_stats=True)\n",
              "        (downsample): Sequential()\n",
              "      )\n",
              "    )\n",
              "  )\n",
              "  (layer2): ResNetLayer(\n",
              "    (blocks): Sequential(\n",
              "      (0): ResNetBlock(\n",
              "        (conv1): Conv2d(64, 128, kernel_size=(3, 3), stride=(2, 2), padding=(1, 1), bias=False)\n",
              "        (bn1): BatchNorm2d(128, eps=1e-05, momentum=0.1, affine=True, track_running_stats=True)\n",
              "        (conv2): Conv2d(128, 128, kernel_size=(3, 3), stride=(1, 1), padding=(1, 1), bias=False)\n",
              "        (bn2): BatchNorm2d(128, eps=1e-05, momentum=0.1, affine=True, track_running_stats=True)\n",
              "        (downsample): Sequential(\n",
              "          (0): Conv2d(64, 128, kernel_size=(1, 1), stride=(2, 2), bias=False)\n",
              "          (1): BatchNorm2d(128, eps=1e-05, momentum=0.1, affine=True, track_running_stats=True)\n",
              "        )\n",
              "      )\n",
              "      (1): ResNetBlock(\n",
              "        (conv1): Conv2d(128, 128, kernel_size=(3, 3), stride=(1, 1), padding=(1, 1), bias=False)\n",
              "        (bn1): BatchNorm2d(128, eps=1e-05, momentum=0.1, affine=True, track_running_stats=True)\n",
              "        (conv2): Conv2d(128, 128, kernel_size=(3, 3), stride=(1, 1), padding=(1, 1), bias=False)\n",
              "        (bn2): BatchNorm2d(128, eps=1e-05, momentum=0.1, affine=True, track_running_stats=True)\n",
              "        (downsample): Sequential()\n",
              "      )\n",
              "      (2): ResNetBlock(\n",
              "        (conv1): Conv2d(128, 128, kernel_size=(3, 3), stride=(1, 1), padding=(1, 1), bias=False)\n",
              "        (bn1): BatchNorm2d(128, eps=1e-05, momentum=0.1, affine=True, track_running_stats=True)\n",
              "        (conv2): Conv2d(128, 128, kernel_size=(3, 3), stride=(1, 1), padding=(1, 1), bias=False)\n",
              "        (bn2): BatchNorm2d(128, eps=1e-05, momentum=0.1, affine=True, track_running_stats=True)\n",
              "        (downsample): Sequential()\n",
              "      )\n",
              "      (3): ResNetBlock(\n",
              "        (conv1): Conv2d(128, 128, kernel_size=(3, 3), stride=(1, 1), padding=(1, 1), bias=False)\n",
              "        (bn1): BatchNorm2d(128, eps=1e-05, momentum=0.1, affine=True, track_running_stats=True)\n",
              "        (conv2): Conv2d(128, 128, kernel_size=(3, 3), stride=(1, 1), padding=(1, 1), bias=False)\n",
              "        (bn2): BatchNorm2d(128, eps=1e-05, momentum=0.1, affine=True, track_running_stats=True)\n",
              "        (downsample): Sequential()\n",
              "      )\n",
              "    )\n",
              "  )\n",
              "  (layer3): ResNetLayer(\n",
              "    (blocks): Sequential(\n",
              "      (0): ResNetBlock(\n",
              "        (conv1): Conv2d(128, 256, kernel_size=(3, 3), stride=(2, 2), padding=(1, 1), bias=False)\n",
              "        (bn1): BatchNorm2d(256, eps=1e-05, momentum=0.1, affine=True, track_running_stats=True)\n",
              "        (conv2): Conv2d(256, 256, kernel_size=(3, 3), stride=(1, 1), padding=(1, 1), bias=False)\n",
              "        (bn2): BatchNorm2d(256, eps=1e-05, momentum=0.1, affine=True, track_running_stats=True)\n",
              "        (downsample): Sequential(\n",
              "          (0): Conv2d(128, 256, kernel_size=(1, 1), stride=(2, 2), bias=False)\n",
              "          (1): BatchNorm2d(256, eps=1e-05, momentum=0.1, affine=True, track_running_stats=True)\n",
              "        )\n",
              "      )\n",
              "      (1): ResNetBlock(\n",
              "        (conv1): Conv2d(256, 256, kernel_size=(3, 3), stride=(1, 1), padding=(1, 1), bias=False)\n",
              "        (bn1): BatchNorm2d(256, eps=1e-05, momentum=0.1, affine=True, track_running_stats=True)\n",
              "        (conv2): Conv2d(256, 256, kernel_size=(3, 3), stride=(1, 1), padding=(1, 1), bias=False)\n",
              "        (bn2): BatchNorm2d(256, eps=1e-05, momentum=0.1, affine=True, track_running_stats=True)\n",
              "        (downsample): Sequential()\n",
              "      )\n",
              "      (2): ResNetBlock(\n",
              "        (conv1): Conv2d(256, 256, kernel_size=(3, 3), stride=(1, 1), padding=(1, 1), bias=False)\n",
              "        (bn1): BatchNorm2d(256, eps=1e-05, momentum=0.1, affine=True, track_running_stats=True)\n",
              "        (conv2): Conv2d(256, 256, kernel_size=(3, 3), stride=(1, 1), padding=(1, 1), bias=False)\n",
              "        (bn2): BatchNorm2d(256, eps=1e-05, momentum=0.1, affine=True, track_running_stats=True)\n",
              "        (downsample): Sequential()\n",
              "      )\n",
              "      (3): ResNetBlock(\n",
              "        (conv1): Conv2d(256, 256, kernel_size=(3, 3), stride=(1, 1), padding=(1, 1), bias=False)\n",
              "        (bn1): BatchNorm2d(256, eps=1e-05, momentum=0.1, affine=True, track_running_stats=True)\n",
              "        (conv2): Conv2d(256, 256, kernel_size=(3, 3), stride=(1, 1), padding=(1, 1), bias=False)\n",
              "        (bn2): BatchNorm2d(256, eps=1e-05, momentum=0.1, affine=True, track_running_stats=True)\n",
              "        (downsample): Sequential()\n",
              "      )\n",
              "      (4): ResNetBlock(\n",
              "        (conv1): Conv2d(256, 256, kernel_size=(3, 3), stride=(1, 1), padding=(1, 1), bias=False)\n",
              "        (bn1): BatchNorm2d(256, eps=1e-05, momentum=0.1, affine=True, track_running_stats=True)\n",
              "        (conv2): Conv2d(256, 256, kernel_size=(3, 3), stride=(1, 1), padding=(1, 1), bias=False)\n",
              "        (bn2): BatchNorm2d(256, eps=1e-05, momentum=0.1, affine=True, track_running_stats=True)\n",
              "        (downsample): Sequential()\n",
              "      )\n",
              "      (5): ResNetBlock(\n",
              "        (conv1): Conv2d(256, 256, kernel_size=(3, 3), stride=(1, 1), padding=(1, 1), bias=False)\n",
              "        (bn1): BatchNorm2d(256, eps=1e-05, momentum=0.1, affine=True, track_running_stats=True)\n",
              "        (conv2): Conv2d(256, 256, kernel_size=(3, 3), stride=(1, 1), padding=(1, 1), bias=False)\n",
              "        (bn2): BatchNorm2d(256, eps=1e-05, momentum=0.1, affine=True, track_running_stats=True)\n",
              "        (downsample): Sequential()\n",
              "      )\n",
              "    )\n",
              "  )\n",
              "  (layer4): ResNetLayer(\n",
              "    (blocks): Sequential(\n",
              "      (0): ResNetBlock(\n",
              "        (conv1): Conv2d(256, 512, kernel_size=(3, 3), stride=(2, 2), padding=(1, 1), bias=False)\n",
              "        (bn1): BatchNorm2d(512, eps=1e-05, momentum=0.1, affine=True, track_running_stats=True)\n",
              "        (conv2): Conv2d(512, 512, kernel_size=(3, 3), stride=(1, 1), padding=(1, 1), bias=False)\n",
              "        (bn2): BatchNorm2d(512, eps=1e-05, momentum=0.1, affine=True, track_running_stats=True)\n",
              "        (downsample): Sequential(\n",
              "          (0): Conv2d(256, 512, kernel_size=(1, 1), stride=(2, 2), bias=False)\n",
              "          (1): BatchNorm2d(512, eps=1e-05, momentum=0.1, affine=True, track_running_stats=True)\n",
              "        )\n",
              "      )\n",
              "      (1): ResNetBlock(\n",
              "        (conv1): Conv2d(512, 512, kernel_size=(3, 3), stride=(1, 1), padding=(1, 1), bias=False)\n",
              "        (bn1): BatchNorm2d(512, eps=1e-05, momentum=0.1, affine=True, track_running_stats=True)\n",
              "        (conv2): Conv2d(512, 512, kernel_size=(3, 3), stride=(1, 1), padding=(1, 1), bias=False)\n",
              "        (bn2): BatchNorm2d(512, eps=1e-05, momentum=0.1, affine=True, track_running_stats=True)\n",
              "        (downsample): Sequential()\n",
              "      )\n",
              "      (2): ResNetBlock(\n",
              "        (conv1): Conv2d(512, 512, kernel_size=(3, 3), stride=(1, 1), padding=(1, 1), bias=False)\n",
              "        (bn1): BatchNorm2d(512, eps=1e-05, momentum=0.1, affine=True, track_running_stats=True)\n",
              "        (conv2): Conv2d(512, 512, kernel_size=(3, 3), stride=(1, 1), padding=(1, 1), bias=False)\n",
              "        (bn2): BatchNorm2d(512, eps=1e-05, momentum=0.1, affine=True, track_running_stats=True)\n",
              "        (downsample): Sequential()\n",
              "      )\n",
              "    )\n",
              "  )\n",
              "  (fc): Linear(in_features=512, out_features=10, bias=True)\n",
              ")"
            ]
          },
          "metadata": {
            "tags": []
          },
          "execution_count": 62
        }
      ]
    },
    {
      "cell_type": "code",
      "metadata": {
        "id": "_PhJBtcRRcnK"
      },
      "source": [
        "#using learning rate finder\n",
        "class LRFinder(object):\n",
        "    def __init__(self, model_2, optimizer, criterion, device):\n",
        "        self.optimizer = optimizer\n",
        "        self.model_2 = model_2\n",
        "        self.criterion = criterion\n",
        "        self.device = device\n",
        "        \n",
        "        self.model_params = copy.deepcopy(model_2.state_dict())\n",
        "        self.optim_params = copy.deepcopy(optimizer.state_dict())\n",
        "\n",
        "    def reset(self):\n",
        "        self.model_2.load_state_dict(self.model_params)\n",
        "        self.optimizer.load_state_dict(self.optim_params)\n",
        "\n",
        "    def range_test(self, iterator, end_lr = 10, num_iter = 100, smooth_f = 0.1, diverge_th = 5):\n",
        "        \n",
        "        lrs = []\n",
        "        losses = []\n",
        "        best_loss = float('inf')\n",
        "\n",
        "        lr_scheduler = ExponentialLR(self.optimizer, end_lr, num_iter)\n",
        "        \n",
        "        iterator = IteratorWrapper(iterator)\n",
        "        \n",
        "        for iteration in range(num_iter):\n",
        "\n",
        "            loss = self._train_batch(iterator)\n",
        "\n",
        "            lr_scheduler.step()\n",
        "            \n",
        "            lrs.append(lr_scheduler.get_lr()[0])\n",
        "\n",
        "            if iteration > 0:\n",
        "                loss = smooth_f * loss + (1 - smooth_f) * losses[-1]\n",
        "                \n",
        "            if loss < best_loss:\n",
        "                best_loss = loss\n",
        "\n",
        "            losses.append(loss)\n",
        "            \n",
        "            if loss > diverge_th * best_loss:\n",
        "                print(\"Stopping early, the loss has diverged\")\n",
        "                break\n",
        "                        \n",
        "        return lrs, losses\n",
        "\n",
        "    def _train_batch(self, iterator):\n",
        "        \n",
        "        self.model_2.train()\n",
        "        #setting the gradients of all parameters to zero\n",
        "        \n",
        "        self.optimizer.zero_grad()\n",
        "        \n",
        "        x, y = iterator.get_batch()\n",
        "        #passing x and y to device\n",
        "        x = x.to(self.device)\n",
        "        y = y.to(self.device)\n",
        "        \n",
        "        y_pred, _ = self.model_2(x)\n",
        "                \n",
        "        loss = self.criterion(y_pred, y)\n",
        "        \n",
        "        loss.backward()\n",
        "        \n",
        "        self.optimizer.step()\n",
        "        \n",
        "        return loss.item()\n",
        "\n",
        "\n",
        "class ExponentialLR(_LRScheduler):\n",
        "    \n",
        "    def __init__(self, optimizer, end_lr, num_iter, last_epoch=-1):\n",
        "        self.end_lr = end_lr\n",
        "        self.num_iter = num_iter\n",
        "        super(ExponentialLR, self).__init__(optimizer, last_epoch)\n",
        "\n",
        "    def get_lr(self):\n",
        "        curr_iter = self.last_epoch + 1\n",
        "        r = curr_iter / self.num_iter\n",
        "        return [base_lr * (self.end_lr / base_lr) ** r for base_lr in self.base_lrs]\n",
        "\n",
        "class IteratorWrapper:\n",
        "    \n",
        "    def __init__(self, iterator):\n",
        "        self.iterator = iterator\n",
        "        self._iterator = iter(iterator)\n",
        "\n",
        "    def __next__(self):\n",
        "        try:\n",
        "            inputs, labels = next(self._iterator)\n",
        "        except StopIteration:\n",
        "            self._iterator = iter(self.iterator)\n",
        "            inputs, labels, *_ = next(self._iterator)\n",
        "\n",
        "        return inputs, labels\n",
        "\n",
        "    def get_batch(self):\n",
        "        return next(self)"
      ],
      "execution_count": null,
      "outputs": []
    },
    {
      "cell_type": "code",
      "metadata": {
        "id": "snMgi36KQs8E"
      },
      "source": [
        ""
      ],
      "execution_count": null,
      "outputs": []
    },
    {
      "cell_type": "code",
      "metadata": {
        "id": "bmLxxoBPMFvn"
      },
      "source": [
        "#initilaise optimizer with low learning rate\n",
        "START_LR = 1e-7\n",
        "\n",
        "device = torch.device('cuda' if torch.cuda.is_available() else 'cpu')\n",
        "#using cross entropy as loss function\n",
        "criterion = nn.CrossEntropyLoss()\n",
        "#initialising adam optimzer with  low learning rate\n",
        "\n",
        "optimizer = optim.Adam(model_2.parameters(), lr = START_LR)\n",
        "#placing the model and loss function on device\n",
        "model_2 = model_2.to(device)\n",
        "criterion = criterion.to(device)"
      ],
      "execution_count": null,
      "outputs": []
    },
    {
      "cell_type": "code",
      "metadata": {
        "id": "FBEi6FJrMFxd",
        "colab": {
          "base_uri": "https://localhost:8080/"
        },
        "outputId": "ecd2d0ca-1f35-4b59-c965-a0b8b810f75b"
      },
      "source": [
        "\n",
        "END_LR = 10\n",
        "NUM_ITER = 100\n",
        "\n",
        "\n",
        "lr_finder = LRFinder(model_2, optimizer, criterion, device)\n",
        "lrs, losses = lr_finder.range_test(train_iterator, END_LR, NUM_ITER)\n",
        "lr_finder.reset()"
      ],
      "execution_count": null,
      "outputs": [
        {
          "output_type": "stream",
          "text": [
            "Stopping early, the loss has diverged\n"
          ],
          "name": "stdout"
        }
      ]
    },
    {
      "cell_type": "code",
      "metadata": {
        "id": "9k9-RrnaOOi5"
      },
      "source": [
        "#function for plotting learning rate\n",
        "def plot_lr_finder(lrs, losses, skip_start=10, skip_end=5):\n",
        "    \n",
        "    if skip_end == 0:\n",
        "        lrs = lrs[skip_start:]\n",
        "        losses = losses[skip_start:]\n",
        "        \n",
        "    else:\n",
        "        lrs = lrs[skip_start:-skip_end]\n",
        "        losses = losses[skip_start:-skip_end]\n",
        "    \n",
        "    fig = plt.figure(figsize=(16,8))\n",
        "    ax = fig.add_subplot(1,1,1)\n",
        "    ax.plot(lrs, losses)\n",
        "    ax.set_xscale('log')\n",
        "    ax.set_xlabel(\"Learning rate\")\n",
        "    ax.set_ylabel(\"Loss\")\n",
        "    ax.grid(True, 'both', 'x')\n",
        "    plt.show()\n"
      ],
      "execution_count": null,
      "outputs": []
    },
    {
      "cell_type": "code",
      "metadata": {
        "colab": {
          "base_uri": "https://localhost:8080/",
          "height": 501
        },
        "id": "At7ZJxiKOOkw",
        "outputId": "f2cb2deb-7e7d-4160-eb8b-11a03c52a649"
      },
      "source": [
        "plot_lr_finder(lrs, losses)    "
      ],
      "execution_count": null,
      "outputs": [
        {
          "output_type": "display_data",
          "data": {
            "image/png": "[encoded data removed]",
            "text/plain": [
              "<Figure size 1152x576 with 1 Axes>"
            ]
          },
          "metadata": {
            "tags": [],
            "needs_background": "light"
          }
        }
      ]
    },
    {
      "cell_type": "code",
      "metadata": {
        "id": "FPhhBhdFMF1Z"
      },
      "source": [
        "#best learning rate is found from the plot\n",
        "FOUND_LR = 1e-3\n",
        "\n",
        "optimizer = optim.Adam(model_2.parameters(), lr = FOUND_LR)"
      ],
      "execution_count": null,
      "outputs": []
    },
    {
      "cell_type": "code",
      "metadata": {
        "id": "hOXMfHW4OOoU"
      },
      "source": [
        "#ReduceLROnPlateau scheduler to adjust the learning rate\n",
        "scheduler = lr_scheduler.ReduceLROnPlateau(optimizer, factor = 0.1, patience = 1_000, verbose = True)\n"
      ],
      "execution_count": null,
      "outputs": []
    },
    {
      "cell_type": "code",
      "metadata": {
        "id": "03dT6BY1Obdd"
      },
      "source": [
        "# calculating accuracy \n",
        "def calculate_accuracy(y_pred, y):\n",
        "    top_pred = y_pred.argmax(1, keepdim = True)\n",
        "    correct = top_pred.eq(y.view_as(top_pred)).sum()\n",
        "    acc = correct.float() / y.shape[0]\n",
        "    return acc"
      ],
      "execution_count": null,
      "outputs": []
    },
    {
      "cell_type": "code",
      "metadata": {
        "id": "6e1Ea6PSObg3"
      },
      "source": [
        "def train(model_2, iterator, optimizer, criterion, device):\n",
        "    \n",
        "    epoch_loss = 0\n",
        "    epoch_acc = 0\n",
        "    #training the model\n",
        "    model_2.train()\n",
        "     #x has batch of images\n",
        "      # y has labels for the batch of images\n",
        "    \n",
        "    for (x, y) in iterator:\n",
        "        # moving x and y to device\n",
        "        x = x.to(device)\n",
        "        y = y.to(device)\n",
        "         #setting the gradients of all parameters to zero  \n",
        "        optimizer.zero_grad()\n",
        "                \n",
        "        y_pred, _ = model_2(x)\n",
        "        #caclulating loss\n",
        "        loss = criterion(y_pred, y)\n",
        "        #accuracy is computed\n",
        "        acc = calculate_accuracy(y_pred, y)\n",
        "        # back propogating the loss\n",
        "        loss.backward()\n",
        "         #updating the optimizer\n",
        "        optimizer.step()\n",
        "        \n",
        "        epoch_loss += loss.item()\n",
        "        epoch_acc += acc.item()\n",
        "        \n",
        "    return epoch_loss / len(iterator), epoch_acc / len(iterator)    "
      ],
      "execution_count": null,
      "outputs": []
    },
    {
      "cell_type": "code",
      "metadata": {
        "id": "RQTXitpBOy5r"
      },
      "source": [
        "def evaluate(model_2, iterator, criterion, device):\n",
        "    \n",
        "    epoch_loss = 0\n",
        "    epoch_acc = 0\n",
        "    \n",
        "    model_2.eval()\n",
        "    \n",
        "    with torch.no_grad():\n",
        "        #x has batch of images\n",
        "      # y has labels for the batch of images\n",
        "        for (x, y) in iterator:\n",
        "            # moving x and y to device\n",
        "            x = x.to(device)\n",
        "            y = y.to(device)\n",
        "\n",
        "            y_pred, _ = model_2(x)\n",
        "             #caclulating loss\n",
        "            loss = criterion(y_pred, y)\n",
        "            #accuracy is computed\n",
        "            acc = calculate_accuracy(y_pred, y)\n",
        "\n",
        "            epoch_loss += loss.item()\n",
        "            epoch_acc += acc.item()\n",
        "        \n",
        "    return epoch_loss / len(iterator), epoch_acc / len(iterator)\n",
        "  "
      ],
      "execution_count": null,
      "outputs": []
    },
    {
      "cell_type": "code",
      "metadata": {
        "id": "aiJKw2Zix8GZ"
      },
      "source": [
        "#creating empty lists for storing loss and accuracy values while training\n",
        "\n",
        "train_losses2 = []\n",
        "valid_losses2 = []\n",
        "train_accuracy2 = []\n",
        "valid_accuracy2 = []"
      ],
      "execution_count": null,
      "outputs": []
    },
    {
      "cell_type": "code",
      "metadata": {
        "colab": {
          "base_uri": "https://localhost:8080/"
        },
        "id": "x_UZr6nyO6ZQ",
        "outputId": "a3204799-afb5-4b4a-8b34-f342fa3dd3ec"
      },
      "source": [
        "EPOCHS = 25\n",
        "\n",
        "\n",
        "\n",
        "best_valid_loss = float('inf')\n",
        "\n",
        "for epoch in range(EPOCHS):\n",
        "    \n",
        "    start_time = time.time()\n",
        "    \n",
        "    train_loss, train_acc = train(model_2, train_iterator, optimizer, criterion, device)\n",
        "    valid_loss, valid_acc = evaluate(model_2, valid_iterator, criterion, device)\n",
        "    \n",
        "    scheduler.step(valid_loss)\n",
        "    \n",
        "    if valid_loss < best_valid_loss:\n",
        "        best_valid_loss = valid_loss\n",
        "        torch.save(model_2.state_dict(), 'tut3-model_2.pt')\n",
        "\n",
        "    end_time = time.time()\n",
        "       # storing the loss for each epoch\n",
        "    train_losses2.append(train_loss)\n",
        "    valid_losses2.append(valid_loss)\n",
        "    # storing the accuracy for each epoch\n",
        "    train_accuracy2.append(train_acc)\n",
        "    valid_accuracy2.append(valid_acc)\n",
        "\n",
        "    epoch_mins, epoch_secs = epoch_time(start_time, end_time)\n",
        "    \n",
        "    t = time.localtime()\n",
        "    time_stamp = time.strftime('%Y-%m-%d %H:%M:%S', t)\n",
        " \n",
        "    print(time_stamp)\n",
        "    print(f'Epoch: {epoch+1:02} | Epoch Time: {epoch_mins}m {epoch_secs}s')\n",
        "    print(f'\\tTrain Loss: {train_loss:.3f} | Train Acc: {train_acc*100:.2f}%')\n",
        "    print(f'\\t Val. Loss: {valid_loss:.3f} |  Val. Acc: {valid_acc*100:.2f}%')"
      ],
      "execution_count": null,
      "outputs": [
        {
          "output_type": "stream",
          "text": [
            "2021-05-08 20:22:08\n",
            "Epoch: 01 | Epoch Time: 1m 53s\n",
            "\tTrain Loss: 1.326 | Train Acc: 52.74%\n",
            "\t Val. Loss: 2.009 |  Val. Acc: 58.00%\n",
            "2021-05-08 20:24:01\n",
            "Epoch: 02 | Epoch Time: 1m 53s\n",
            "\tTrain Loss: 1.000 | Train Acc: 64.64%\n",
            "\t Val. Loss: 0.970 |  Val. Acc: 68.01%\n",
            "2021-05-08 20:25:55\n",
            "Epoch: 03 | Epoch Time: 1m 53s\n",
            "\tTrain Loss: 0.785 | Train Acc: 72.52%\n",
            "\t Val. Loss: 0.701 |  Val. Acc: 75.78%\n",
            "2021-05-08 20:27:48\n",
            "Epoch: 04 | Epoch Time: 1m 52s\n",
            "\tTrain Loss: 0.644 | Train Acc: 77.48%\n",
            "\t Val. Loss: 0.762 |  Val. Acc: 73.54%\n",
            "2021-05-08 20:29:41\n",
            "Epoch: 05 | Epoch Time: 1m 53s\n",
            "\tTrain Loss: 0.561 | Train Acc: 80.46%\n",
            "\t Val. Loss: 0.647 |  Val. Acc: 78.65%\n",
            "2021-05-08 20:31:34\n",
            "Epoch: 06 | Epoch Time: 1m 53s\n",
            "\tTrain Loss: 0.503 | Train Acc: 82.44%\n",
            "\t Val. Loss: 0.597 |  Val. Acc: 80.01%\n",
            "2021-05-08 20:33:27\n",
            "Epoch: 07 | Epoch Time: 1m 53s\n",
            "\tTrain Loss: 0.458 | Train Acc: 83.94%\n",
            "\t Val. Loss: 0.555 |  Val. Acc: 81.08%\n",
            "2021-05-08 20:35:20\n",
            "Epoch: 08 | Epoch Time: 1m 53s\n",
            "\tTrain Loss: 0.411 | Train Acc: 85.72%\n",
            "\t Val. Loss: 0.490 |  Val. Acc: 83.35%\n",
            "2021-05-08 20:37:13\n",
            "Epoch: 09 | Epoch Time: 1m 52s\n",
            "\tTrain Loss: 0.379 | Train Acc: 86.77%\n",
            "\t Val. Loss: 0.493 |  Val. Acc: 82.69%\n",
            "2021-05-08 20:39:06\n",
            "Epoch: 10 | Epoch Time: 1m 52s\n",
            "\tTrain Loss: 0.356 | Train Acc: 87.64%\n",
            "\t Val. Loss: 0.496 |  Val. Acc: 83.84%\n",
            "2021-05-08 20:40:59\n",
            "Epoch: 11 | Epoch Time: 1m 52s\n",
            "\tTrain Loss: 0.327 | Train Acc: 88.49%\n",
            "\t Val. Loss: 0.445 |  Val. Acc: 84.93%\n",
            "2021-05-08 20:42:52\n",
            "Epoch: 12 | Epoch Time: 1m 53s\n",
            "\tTrain Loss: 0.302 | Train Acc: 89.48%\n",
            "\t Val. Loss: 0.435 |  Val. Acc: 85.73%\n",
            "2021-05-08 20:44:45\n",
            "Epoch: 13 | Epoch Time: 1m 52s\n",
            "\tTrain Loss: 0.289 | Train Acc: 89.87%\n",
            "\t Val. Loss: 0.442 |  Val. Acc: 85.90%\n",
            "2021-05-08 20:46:38\n",
            "Epoch: 14 | Epoch Time: 1m 53s\n",
            "\tTrain Loss: 0.270 | Train Acc: 90.42%\n",
            "\t Val. Loss: 0.395 |  Val. Acc: 87.08%\n",
            "2021-05-08 20:48:31\n",
            "Epoch: 15 | Epoch Time: 1m 52s\n",
            "\tTrain Loss: 0.258 | Train Acc: 90.95%\n",
            "\t Val. Loss: 0.409 |  Val. Acc: 86.68%\n",
            "2021-05-08 20:50:23\n",
            "Epoch: 16 | Epoch Time: 1m 52s\n",
            "\tTrain Loss: 0.233 | Train Acc: 91.82%\n",
            "\t Val. Loss: 0.386 |  Val. Acc: 87.58%\n",
            "2021-05-08 20:52:16\n",
            "Epoch: 17 | Epoch Time: 1m 52s\n",
            "\tTrain Loss: 0.221 | Train Acc: 92.32%\n",
            "\t Val. Loss: 0.351 |  Val. Acc: 88.15%\n",
            "2021-05-08 20:54:08\n",
            "Epoch: 18 | Epoch Time: 1m 52s\n",
            "\tTrain Loss: 0.216 | Train Acc: 92.30%\n",
            "\t Val. Loss: 0.434 |  Val. Acc: 86.35%\n",
            "2021-05-08 20:56:01\n",
            "Epoch: 19 | Epoch Time: 1m 52s\n",
            "\tTrain Loss: 0.192 | Train Acc: 93.38%\n",
            "\t Val. Loss: 0.371 |  Val. Acc: 89.06%\n",
            "2021-05-08 20:57:53\n",
            "Epoch: 20 | Epoch Time: 1m 52s\n",
            "\tTrain Loss: 0.189 | Train Acc: 93.31%\n",
            "\t Val. Loss: 0.344 |  Val. Acc: 89.05%\n",
            "2021-05-08 20:59:46\n",
            "Epoch: 21 | Epoch Time: 1m 52s\n",
            "\tTrain Loss: 0.175 | Train Acc: 93.79%\n",
            "\t Val. Loss: 0.361 |  Val. Acc: 88.82%\n",
            "2021-05-08 21:01:38\n",
            "Epoch: 22 | Epoch Time: 1m 52s\n",
            "\tTrain Loss: 0.174 | Train Acc: 93.79%\n",
            "\t Val. Loss: 0.390 |  Val. Acc: 87.83%\n",
            "2021-05-08 21:03:30\n",
            "Epoch: 23 | Epoch Time: 1m 52s\n",
            "\tTrain Loss: 0.160 | Train Acc: 94.39%\n",
            "\t Val. Loss: 0.358 |  Val. Acc: 88.66%\n",
            "2021-05-08 21:05:23\n",
            "Epoch: 24 | Epoch Time: 1m 52s\n",
            "\tTrain Loss: 0.147 | Train Acc: 94.81%\n",
            "\t Val. Loss: 0.428 |  Val. Acc: 87.39%\n",
            "2021-05-08 21:07:15\n",
            "Epoch: 25 | Epoch Time: 1m 52s\n",
            "\tTrain Loss: 0.139 | Train Acc: 95.09%\n",
            "\t Val. Loss: 0.350 |  Val. Acc: 89.12%\n"
          ],
          "name": "stdout"
        }
      ]
    },
    {
      "cell_type": "code",
      "metadata": {
        "colab": {
          "base_uri": "https://localhost:8080/"
        },
        "id": "KPRcBYrSO6cy",
        "outputId": "986b946f-3813-4654-a041-863c6cca717b"
      },
      "source": [
        "model_2.load_state_dict(torch.load('tut3-model_2.pt'))\n",
        "\n",
        "test_loss, test_acc = evaluate(model_2, test_iterator, criterion, device)\n",
        "\n",
        "print(f'Test Loss: {test_loss:.3f} | Test Acc: {test_acc*100:.2f}%')\n"
      ],
      "execution_count": null,
      "outputs": [
        {
          "output_type": "stream",
          "text": [
            "Test Loss: 0.356 | Test Acc: 89.18%\n"
          ],
          "name": "stdout"
        }
      ]
    },
    {
      "cell_type": "code",
      "metadata": {
        "colab": {
          "base_uri": "https://localhost:8080/",
          "height": 428
        },
        "id": "8oaPYOLmx8Gb",
        "outputId": "38862ca7-2163-4364-8168-69cf6590fec7"
      },
      "source": [
        "#plotting the loss\n",
        "plt.figure(figsize=(7, 7))\n",
        "plt.plot(train_losses2, color='green', label='train loss')\n",
        "plt.plot(valid_losses2, color='red', label='validataion loss')\n",
        "plt.legend()\n",
        "plt.show()"
      ],
      "execution_count": null,
      "outputs": [
        {
          "output_type": "display_data",
          "data": {
            "image/png": "[encoded data removed]",
            "text/plain": [
              "<Figure size 504x504 with 1 Axes>"
            ]
          },
          "metadata": {
            "tags": [],
            "needs_background": "light"
          }
        }
      ]
    },
    {
      "cell_type": "code",
      "metadata": {
        "colab": {
          "base_uri": "https://localhost:8080/",
          "height": 428
        },
        "id": "y79P2hvnx8Gb",
        "outputId": "05789840-c0da-4024-99f7-e3c80a687054"
      },
      "source": [
        "#plotting the accuracy\n",
        "plt.figure(figsize=(7, 7))\n",
        "plt.plot(train_accuracy2, color='green', label='Train Accuracy')\n",
        "plt.plot(valid_accuracy2, color='red', label='Validataion Accuracy')\n",
        "plt.legend()\n",
        "plt.show()"
      ],
      "execution_count": null,
      "outputs": [
        {
          "output_type": "display_data",
          "data": {
            "image/png": "[encoded data removed]",
            "text/plain": [
              "<Figure size 504x504 with 1 Axes>"
            ]
          },
          "metadata": {
            "tags": [],
            "needs_background": "light"
          }
        }
      ]
    },
    {
      "cell_type": "code",
      "metadata": {
        "id": "FMHE0qqFO6tD"
      },
      "source": [
        "# getting the predictions for each image in the dataset\n",
        "def get_predictions(model_2, iterator):\n",
        "\n",
        "    model_2.eval()\n",
        "\n",
        "    images = []\n",
        "    labels = []\n",
        "    probs = []\n",
        "\n",
        "    with torch.no_grad():\n",
        "\n",
        "        for (x, y) in iterator:\n",
        "\n",
        "            x = x.to(device)\n",
        "\n",
        "            y_pred, _ = model_2(x)\n",
        "\n",
        "            y_prob = F.softmax(y_pred, dim = -1)\n",
        "            top_pred = y_prob.argmax(1, keepdim = True)\n",
        "\n",
        "            images.append(x.cpu())\n",
        "            labels.append(y.cpu())\n",
        "            probs.append(y_prob.cpu())\n",
        "\n",
        "    images = torch.cat(images, dim = 0)\n",
        "    labels = torch.cat(labels, dim = 0)\n",
        "    probs = torch.cat(probs, dim = 0)\n",
        "\n",
        "    return images, labels, probs"
      ],
      "execution_count": null,
      "outputs": []
    },
    {
      "cell_type": "code",
      "metadata": {
        "id": "p9A9JPWXO6vG"
      },
      "source": [
        "images, labels, probs = get_predictions(model_2, test_iterator)\n",
        "\n",
        "\n",
        "  "
      ],
      "execution_count": null,
      "outputs": []
    },
    {
      "cell_type": "code",
      "metadata": {
        "id": "HxRK91-uO6xf"
      },
      "source": [
        "pred_labels = torch.argmax(probs, 1)"
      ],
      "execution_count": null,
      "outputs": []
    },
    {
      "cell_type": "code",
      "metadata": {
        "id": "NKg0x7_PO60_"
      },
      "source": [
        "#plotting confusion matrix\n",
        "def plot_confusion_matrix(labels, pred_labels, classes):\n",
        "    \n",
        "    fig = plt.figure(figsize = (10, 10));\n",
        "    ax = fig.add_subplot(1, 1, 1);\n",
        "    cm = confusion_matrix(labels, pred_labels);\n",
        "    cm = ConfusionMatrixDisplay(cm, classes);\n",
        "    cm.plot(values_format = 'd', cmap = 'Blues', ax = ax)\n",
        "    plt.xticks(rotation=20)\n"
      ],
      "execution_count": null,
      "outputs": []
    },
    {
      "cell_type": "code",
      "metadata": {
        "id": "1VW2Jx0wsZ4q"
      },
      "source": [
        "classes = test_data.classes"
      ],
      "execution_count": null,
      "outputs": []
    },
    {
      "cell_type": "code",
      "metadata": {
        "id": "ygGImGmePbzy",
        "colab": {
          "base_uri": "https://localhost:8080/",
          "height": 580
        },
        "outputId": "fa0d7389-99ed-4314-a894-c7e1ea89fca0"
      },
      "source": [
        "\n",
        "plot_confusion_matrix(labels, pred_labels, classes)   "
      ],
      "execution_count": null,
      "outputs": [
        {
          "output_type": "display_data",
          "data": {
            "image/png": "[encoded data removed]",
            "text/plain": [
              "<Figure size 720x720 with 2 Axes>"
            ]
          },
          "metadata": {
            "tags": [],
            "needs_background": "light"
          }
        }
      ]
    },
    {
      "cell_type": "code",
      "metadata": {
        "id": "ui1Oq6ySx8Go"
      },
      "source": [
        ""
      ],
      "execution_count": null,
      "outputs": []
    }
  ]
}